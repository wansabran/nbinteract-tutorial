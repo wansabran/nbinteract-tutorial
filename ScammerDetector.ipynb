{
 "cells": [
  {
   "cell_type": "code",
   "execution_count": 79,
   "metadata": {},
   "outputs": [],
   "source": [
    "#nbi:hide_in\n",
    "from IPython.display import display, Markdown, clear_output\n",
    "from ipywidgets import interact, ButtonStyle\n",
    "import ipywidgets as widgets"
   ]
  },
  {
   "cell_type": "code",
   "execution_count": 126,
   "metadata": {},
   "outputs": [],
   "source": [
    "#nbi:hide_in\n",
    "file = open(\"C:\\\\Users\\\\LENOVO\\\\Documents\\\\fyp fathiah\\\\UI\\\\logo\\\\mudah.png\", \"rb\")\n",
    "#file = open(\"C:\\\\Users\\\\LENOVO\\\\Documents\\\\fyp fathiah\\\\UI\\\\logo\\\\highway car.jpg\", \"rb\")\n",
    "image = file.read()\n",
    "logo_mudah = widgets.Image(\n",
    "    value=image,\n",
    "    format='png',\n",
    "    width=100,\n",
    "    height=100,\n",
    ")\n",
    "#logo_mudah"
   ]
  },
  {
   "cell_type": "code",
   "execution_count": 120,
   "metadata": {},
   "outputs": [],
   "source": [
    "#nbi:hide_in\n",
    "helpbtn = widgets.Button(\n",
    "    style=ButtonStyle(button_color='lightblue'),\n",
    "    description='Help',\n",
    "    disabled=False,\n",
    "    button_style='', # 'success', 'info', 'warning', 'danger' or ''\n",
    ")\n",
    "#helpbtn"
   ]
  },
  {
   "cell_type": "code",
   "execution_count": 121,
   "metadata": {},
   "outputs": [],
   "source": [
    "#nbi:hide_in\n",
    "aboutbtn = widgets.Button(\n",
    "    style=ButtonStyle(button_color='lightblue'),\n",
    "    description='About Us',\n",
    "    disabled=False,\n",
    "    button_style='', # 'success', 'info', 'warning', 'danger' or ''\n",
    ")\n",
    "#aboutbtn"
   ]
  },
  {
   "cell_type": "code",
   "execution_count": 83,
   "metadata": {},
   "outputs": [],
   "source": [
    "#nbi:hide_in\n",
    "str_header1 = widgets.HTML(\n",
    "    value=\"Beware of <b>SCAMMER</b>, buy from the <b>TRUSTED<b> one\",\n",
    "    placeholder='',\n",
    "    description='',\n",
    "\n",
    ")\n",
    "#str_header1"
   ]
  },
  {
   "cell_type": "code",
   "execution_count": 84,
   "metadata": {},
   "outputs": [],
   "source": [
    "#nbi:hide_in\n",
    "str_scammer = widgets.HTML(\n",
    "    value=\"<b>Scammer Detector<b>\",\n",
    "    placeholder='',\n",
    "    description='',\n",
    "\n",
    ")"
   ]
  },
  {
   "cell_type": "code",
   "execution_count": 123,
   "metadata": {},
   "outputs": [],
   "source": [
    "#nbi:hide_in\n",
    "#header = widgets.VBox([widgets.HBox([logo_mudah, str_scammer, helpbtn, aboutbtn]), str_header1])\n",
    "header = widgets.VBox([widgets.HBox([helpbtn, aboutbtn]), str_header1])\n",
    "#header"
   ]
  },
  {
   "cell_type": "code",
   "execution_count": 86,
   "metadata": {},
   "outputs": [],
   "source": [
    "#nbi:hide_in\n",
    "meurl=widgets.Text(value= '', placeholder='Paste your mudah.my link here', description='Link:', disabled=False)\n",
    "#meurl"
   ]
  },
  {
   "cell_type": "code",
   "execution_count": 87,
   "metadata": {},
   "outputs": [],
   "source": [
    "#nbi:hide_in\n",
    "fpath = widgets.Text(\n",
    "    value='',\n",
    "    placeholder='Save Scraped Dataset',\n",
    "    description='Folder Path:',\n",
    "    disabled=False\n",
    ")\n",
    "#fpath"
   ]
  },
  {
   "cell_type": "code",
   "execution_count": 88,
   "metadata": {},
   "outputs": [],
   "source": [
    "#nbi:hide_in\n",
    "fname = widgets.Text(\n",
    "    value='',\n",
    "    placeholder='Name your scrap csv file',\n",
    "    description='CSV file:',\n",
    "    disabled=False\n",
    ")\n",
    "#fname"
   ]
  },
  {
   "cell_type": "code",
   "execution_count": 89,
   "metadata": {},
   "outputs": [],
   "source": [
    "#nbi:hide_in\n",
    "lpath = widgets.Text(\n",
    "    value='',\n",
    "    placeholder='Upload cleaned dataset',\n",
    "    description='Folder Path:',\n",
    "    disabled=False\n",
    ")\n",
    "#lpath"
   ]
  },
  {
   "cell_type": "code",
   "execution_count": 90,
   "metadata": {},
   "outputs": [],
   "source": [
    "#nbi:hide_in\n",
    "lname = widgets.Text(\n",
    "    value='',\n",
    "    placeholder='Name of cleaned csv file',\n",
    "    description='CSV file:',\n",
    "    disabled=False\n",
    ")\n",
    "#lname"
   ]
  },
  {
   "cell_type": "code",
   "execution_count": 91,
   "metadata": {},
   "outputs": [],
   "source": [
    "#nbi:hide_in\n",
    "str_link= widgets.HTML(\n",
    "    value=\"<i><b>https://www.mudah.my/malaysia/cars-for-sale?o=1&q=&th=1</b><i>\",\n",
    "    placeholder='',\n",
    "    description='Sample Link:',\n",
    ")\n",
    "#str_link"
   ]
  },
  {
   "cell_type": "code",
   "execution_count": 92,
   "metadata": {},
   "outputs": [],
   "source": [
    "#nbi:hide_in\n",
    "str_folder= widgets.HTML(\n",
    "    value=\"<i><b>C:\\\\Users\\\\LENOVO\\\\Documents</b><i>\",\n",
    "    placeholder='',\n",
    "    description='Sample Path:',\n",
    ")\n",
    "#str_folder"
   ]
  },
  {
   "cell_type": "code",
   "execution_count": 93,
   "metadata": {},
   "outputs": [],
   "source": [
    "#nbi:hide_in\n",
    "str_csv= widgets.HTML(\n",
    "    value=\"<i><b>kereta</b><i>\",\n",
    "    placeholder='',\n",
    "    description='Sample CSV:',\n",
    ")\n",
    "#str_csv"
   ]
  },
  {
   "cell_type": "code",
   "execution_count": 94,
   "metadata": {},
   "outputs": [],
   "source": [
    "#nbi:hide_in\n",
    "str_view= widgets.HTML(\n",
    "    value=\"<b>Choose how to view your data</b>\",\n",
    "    placeholder='',\n",
    "    description='',\n",
    ")\n",
    "#str_view"
   ]
  },
  {
   "cell_type": "code",
   "execution_count": 95,
   "metadata": {},
   "outputs": [],
   "source": [
    "#nbi:hide_in\n",
    "viewlist = ['-', '5', '6', '7', '8', '9', '10']\n",
    "view_head = widgets.Dropdown(\n",
    "    options=viewlist,\n",
    "    value= viewlist[0],\n",
    "    description='Head:',\n",
    "    disabled=False,\n",
    ")\n",
    "#view_head"
   ]
  },
  {
   "cell_type": "code",
   "execution_count": 96,
   "metadata": {},
   "outputs": [],
   "source": [
    "#nbi:hide_in\n",
    "view_rand = widgets.Dropdown(\n",
    "    options=viewlist,\n",
    "    value= viewlist[0],\n",
    "    description='Random:',\n",
    "    disabled=False,\n",
    ")\n",
    "#view_rand"
   ]
  },
  {
   "cell_type": "code",
   "execution_count": 97,
   "metadata": {},
   "outputs": [],
   "source": [
    "#nbi:hide_in\n",
    "view_tail = widgets.Dropdown(\n",
    "    options=viewlist,\n",
    "    value= viewlist[0],\n",
    "    description='Tail:',\n",
    "    disabled=False,\n",
    ")\n",
    "#view_tail"
   ]
  },
  {
   "cell_type": "code",
   "execution_count": 98,
   "metadata": {},
   "outputs": [],
   "source": [
    "#nbi:hide_in\n",
    "str_pca= widgets.HTML(\n",
    "    value=\"Apply <b>Data Mining<b> Method!!\",\n",
    "    placeholder='',\n",
    "    description='',\n",
    ")\n",
    "#str_pca"
   ]
  },
  {
   "cell_type": "code",
   "execution_count": 99,
   "metadata": {},
   "outputs": [],
   "source": [
    "#nbi:hide_in\n",
    "str_box= widgets.HTML(\n",
    "    value=\"<b>Choose to view and compare by attributes<b>\",\n",
    "    placeholder='',\n",
    "    description='',\n",
    ")\n",
    "#str_box"
   ]
  },
  {
   "cell_type": "code",
   "execution_count": 100,
   "metadata": {},
   "outputs": [],
   "source": [
    "#nbi:hide_in\n",
    "str_result= widgets.HTML(\n",
    "    value=\"<b>Click to view Potential Scammers!!<b>\",\n",
    "    placeholder='',\n",
    "    description='',\n",
    ")\n",
    "#str_result"
   ]
  },
  {
   "cell_type": "code",
   "execution_count": 101,
   "metadata": {},
   "outputs": [],
   "source": [
    "#nbi:hide_in\n",
    "pcabtn = widgets.Button(\n",
    "    style=ButtonStyle(button_color='orange'),\n",
    "    description='PCA!',\n",
    "    disabled=False,\n",
    "    button_style='', # 'success', 'info', 'warning', 'danger' or ''\n",
    "    tooltip='Click me',\n",
    "    icon='check'\n",
    ")\n",
    "#pcabtn\n",
    "#bscrap = widgets.Button(description='Scrap Me')"
   ]
  },
  {
   "cell_type": "code",
   "execution_count": 102,
   "metadata": {},
   "outputs": [],
   "source": [
    "#nbi:hide_in\n",
    "boxplotbtn = widgets.Button(\n",
    "    style=ButtonStyle(button_color='orange'),\n",
    "    description='Boxplot',\n",
    "    disabled=False,\n",
    "    button_style='', # 'success', 'info', 'warning', 'danger' or ''\n",
    "    tooltip='Click me',\n",
    "    icon='check'\n",
    ")\n",
    "#boxplotbtn"
   ]
  },
  {
   "cell_type": "code",
   "execution_count": 103,
   "metadata": {},
   "outputs": [],
   "source": [
    "#nbi:hide_in\n",
    "\n",
    "boxplot_filter = widgets.SelectMultiple(\n",
    "    options=['Price', 'Year', 'Mileage'],\n",
    "    value=['Price'],\n",
    "    rows=3,\n",
    "    description='Filter by',\n",
    "    disabled=False\n",
    ")\n"
   ]
  },
  {
   "cell_type": "code",
   "execution_count": 104,
   "metadata": {},
   "outputs": [],
   "source": [
    "#nbi:hide_in\n",
    "scambtn = widgets.Button(\n",
    "    style=ButtonStyle(button_color='red'),\n",
    "    description='Click Me',\n",
    "    disabled=False,\n",
    "    button_style='', # 'success', 'info', 'warning', 'danger' or ''\n",
    "    tooltip='Click me',\n",
    "    icon='check'\n",
    ")\n",
    "#scambtn"
   ]
  },
  {
   "cell_type": "code",
   "execution_count": 105,
   "metadata": {},
   "outputs": [],
   "source": [
    "#nbi:hide_in\n",
    "#filepath=fpath.value + \"\\\\\" + fname.value + \".csv\"\n",
    "#filepath"
   ]
  },
  {
   "cell_type": "code",
   "execution_count": 106,
   "metadata": {},
   "outputs": [],
   "source": [
    "#nbi:hide_in\n",
    "#accordion.children[0].value"
   ]
  },
  {
   "cell_type": "code",
   "execution_count": 107,
   "metadata": {},
   "outputs": [],
   "source": [
    "#nbi:hide_in\n",
    "#import dataframe\n",
    "import pandas as pd\n",
    "import requests as req\n",
    "#calling package URL lib\n",
    "from urllib.request import urlopen as uReq\n",
    "#pase HTML text\n",
    "from bs4 import BeautifulSoup as soup\n",
    "\n",
    "\n",
    "#filename = \"df_mulpages.csv\"\n",
    "#filename = filepath\n",
    "def scrapme(meurl):\n",
    "    def subs (Mileage):\n",
    "            if Mileage == \"0 - 4 999\":\n",
    "                return Mileage.replace(\"0 - 4 999\", \"2500\", 1)\n",
    "            elif Mileage == \"5 000 - 9 999\":\n",
    "                return Mileage.replace(\"5 000 - 9 999\", \"52500\", 1)\n",
    "            elif Mileage == \"10 000 - 14 999\":\n",
    "                return Mileage.replace(\"10 000 - 14 999\", \"12500\", 1)\n",
    "            elif Mileage == \"15 000 - 19 999\":\n",
    "                return Mileage.replace(\"15 000 - 19 999\", \"17500\", 1)\n",
    "            elif Mileage == \"20 000 - 24 999\":\n",
    "                return Mileage.replace(\"20 000 - 24 999\", \"22500\", 1)\n",
    "            elif Mileage == \"25 000 - 29 999\":\n",
    "                return Mileage.replace(\"25 000 - 29 999\", \"27500\", 1)\n",
    "            elif Mileage == \"30 000 - 34 999\":\n",
    "                return Mileage.replace(\"30 000 - 34 999\", \"32500\", 1)\n",
    "            elif Mileage == \"35 000 - 39 999\":\n",
    "                return Mileage.replace(\"35 000 - 39 999\", \"37500\", 1)\n",
    "            elif Mileage == \"40 000 - 44 999\":\n",
    "                return Mileage.replace(\"40 000 - 44 999\", \"42500\", 1)\n",
    "            elif Mileage == \"45 000 - 49 999\":\n",
    "                return Mileage.replace(\"45 000 - 49 999\", \"47500\", 1)\n",
    "            elif Mileage == \"50 000 - 54 999\":\n",
    "                return Mileage.replace(\"50 000 - 54 999\", \"52500\", 1)\n",
    "            elif Mileage == \"55 000 - 59 999\":\n",
    "                return Mileage.replace(\"55 000 - 59 999\", \"57500\", 1)\n",
    "            elif Mileage == \"60 000 - 64 999\":\n",
    "                return Mileage.replace(\"60 000 - 64 999\", \"62500\", 1)\n",
    "            elif Mileage == \"65 000 - 69 999\":\n",
    "                return Mileage.replace(\"65 000 - 69 999\", \"67500\", 1)\n",
    "            elif Mileage == \"70 000 - 74 999\":\n",
    "                return Mileage.replace(\"70 000 - 74 999\", \"72500\", 1)\n",
    "            elif Mileage == \"75 000 - 79 999\":\n",
    "                return Mileage.replace(\"75 000 - 79 999\", \"77500\", 1)\n",
    "            elif Mileage == \"80 000 - 84 999\":\n",
    "                return Mileage.replace(\"80 000 - 84 999\", \"82500\", 1)\n",
    "            elif Mileage == \"85 000 - 89 999\":\n",
    "                return Mileage.replace(\"85 000 - 89 999\", \"87500\", 1)\n",
    "            elif Mileage == \"90 000 - 94 999\":\n",
    "                return Mileage.replace(\"90 000 - 94 999\", \"92500\", 1)\n",
    "            elif Mileage == \"95 000 - 99 999\":\n",
    "                return Mileage.replace(\"95 000 - 99 999\", \"97500\", 1)\n",
    "            elif Mileage == \"100 000 - 109 999\":\n",
    "                return Mileage.replace(\"100 000 - 109 999\", \"105000\", 1)\n",
    "            elif Mileage == \"110 000 - 119 999\":\n",
    "                return Mileage.replace(\"110 000 - 119 999\", \"115000\", 1)\n",
    "            elif Mileage == \"120 000 - 129 999\":\n",
    "                return Mileage.replace(\"120 000 - 129 999\", \"125000\", 1)\n",
    "            elif Mileage == \"130 000 - 139 999\":\n",
    "                return Mileage.replace(\"130 000 - 139 999\", \"135000\", 1)\n",
    "            elif Mileage == \"140 000 - 149 999\":\n",
    "                return Mileage.replace(\"140 000 - 149 999\", \"145000\", 1)\n",
    "            elif Mileage == \"150 000 - 159 999\":\n",
    "                return Mileage.replace(\"150 000 - 159 999\", \"155000\", 1)\n",
    "            elif Mileage == \"160 000 - 169 999\":\n",
    "                return Mileage.replace(\"160 000 - 169 999\", \"165000\", 1)\n",
    "            elif Mileage == \"170 000 - 179 999\":\n",
    "                return Mileage.replace(\"170 000 - 179 999\", \"175000\", 1)\n",
    "            elif Mileage == \"180 000 - 189 999\":\n",
    "                return Mileage.replace(\"180 000 - 189 999\", \"185000\", 1)\n",
    "            elif Mileage == \"190 000 - 199 999\":\n",
    "                return Mileage.replace(\"190 000 - 199 999\", \"195000\", 1)\n",
    "            elif Mileage == \"200 000 - 249 999\":\n",
    "                return Mileage.replace(\"200 000 - 249 999\", \"225000\", 1)\n",
    "            elif Mileage == \"250 000 - 299 999\":\n",
    "                return Mileage.replace(\"250 000 - 299 999\", \"275000\", 1)\n",
    "            elif Mileage == \"300 000 - 349 999\":\n",
    "                return Mileage.replace(\"300 000 - 349 999\", \"325000\", 1)\n",
    "            elif Mileage == \"350 000 - 399 999\":\n",
    "                return Mileage.replace(\"350 000 - 399 999\", \"375000\", 1)\n",
    "            elif Mileage == \"400 000 - 449 999\":\n",
    "                return Mileage.replace(\"400 000 - 449 999\", \"425000\", 1)\n",
    "            elif Mileage == \"450 000 - 499 999\":\n",
    "                return Mileage.replace(\"450 000 - 499 999\", \"475000\", 1)\n",
    "            else:\n",
    "                return Mileage\n",
    "\n",
    "\n",
    "    #df = pd.DataFrame(data, columns=['Name', 'Price', 'Manufactured Year', 'Mileage', 'NewMil', 'CC', 'Condition', 'Link'])\n",
    "\n",
    "\n",
    "    def dprice (a):\n",
    "        if (' ' in a) == True:\n",
    "            return ''.join(a.split())\n",
    "        else:\n",
    "            return a\n",
    "    container = []\n",
    "    pages = []\n",
    "\n",
    "    for i in range(1,4):\n",
    "        my_url = 'https://www.mudah.my/malaysia/cars-for-sale?o=' + str(i) + '1&q=&th=1'\n",
    "        pages.append(my_url)\n",
    "\n",
    "    for item in pages:\n",
    "        page = req.get(item)\n",
    "        page_soup = soup(page.text, \"html.parser\")\n",
    "        containers = page_soup.findAll(\"div\", {\"class\":\"listing_params_container\"})\n",
    "\n",
    "\n",
    "        for fathiah in containers:\n",
    "\n",
    "            clink = fathiah.div.div.a[\"href\"]\n",
    "            name = fathiah.div.div.a[\"title\"].strip()\n",
    "            price = fathiah.findAll(\"div\", {\"class\":\"ads_price\"})\n",
    "            Price = price[0].text.strip()\n",
    "            year = fathiah.findAll(\"font\", {\"class\":\"icon_label\"})\n",
    "            Year = year[1].text.strip()\n",
    "            Mileage = year[2].text.strip()\n",
    "            CC = year[3].text.strip()\n",
    "            Condition = year[0].text.strip()\n",
    "\n",
    "            newMil = subs(Mileage).strip()\n",
    "            Price1 = Price.replace(\"RM\", \"\", 1)\n",
    "            nPrice = dprice(Price1)\n",
    "            container.append((name, nPrice, Year, Mileage, newMil, CC, Condition, clink))\n",
    "\n",
    "\n",
    "\n",
    "    df = pd.DataFrame(container, columns = ['Name', 'Price', 'Manufactured Year', 'Mileage', 'NewMil', 'CC', 'Condition', 'Link'])\n",
    "    #df.to_csv(filename, index=False, encoding='utf-8')"
   ]
  },
  {
   "cell_type": "code",
   "execution_count": 108,
   "metadata": {},
   "outputs": [],
   "source": [
    "#nbi:hide_in\n",
    "\n",
    "bscrap = widgets.Button(style=ButtonStyle(button_color='orange'), description='Scrap Me')\n",
    "oscrap = widgets.Output()\n",
    "def on_button_clicked(_):\n",
    "      # \"linking function with output\"\n",
    "      with oscrap:\n",
    "          # what happens when we press the button\n",
    "          clear_output()\n",
    "          #scrapme(meurl.value, filepath)\n",
    "          #plt.plot(X, y)\n",
    "          print('Me Scrapped!')\n",
    "# linking button and function together using a button's method\n",
    "bscrap.on_click(on_button_clicked)\n",
    "# displaying button and its output together\n",
    "#widgets.VBox([bscrap,oscrap])"
   ]
  },
  {
   "cell_type": "markdown",
   "metadata": {},
   "source": [
    "# Scammer Detector"
   ]
  },
  {
   "cell_type": "code",
   "execution_count": 127,
   "metadata": {},
   "outputs": [
    {
     "data": {
      "application/vnd.jupyter.widget-view+json": {
       "model_id": "3d458279e9a94ae58178b9fb074cbb65",
       "version_major": 2,
       "version_minor": 0
      },
      "text/html": [
       "<p>Failed to display Jupyter Widget of type <code>VBox</code>.</p>\n",
       "<p>\n",
       "  If you're reading this message in the Jupyter Notebook or JupyterLab Notebook, it may mean\n",
       "  that the widgets JavaScript is still loading. If this message persists, it\n",
       "  likely means that the widgets JavaScript library is either not installed or\n",
       "  not enabled. See the <a href=\"https://ipywidgets.readthedocs.io/en/stable/user_install.html\">Jupyter\n",
       "  Widgets Documentation</a> for setup instructions.\n",
       "</p>\n",
       "<p>\n",
       "  If you're reading this message in another frontend (for example, a static\n",
       "  rendering on GitHub or <a href=\"https://nbviewer.jupyter.org/\">NBViewer</a>),\n",
       "  it may mean that your frontend doesn't currently support widgets.\n",
       "</p>\n"
      ],
      "text/plain": [
       "VBox(children=(HBox(children=(Button(description='Help', style=ButtonStyle(button_color='lightblue')), Button(description='About Us', style=ButtonStyle(button_color='lightblue')))), HTML(value='Beware of <b>SCAMMER</b>, buy from the <b>TRUSTED<b> one', placeholder='')))"
      ]
     },
     "metadata": {},
     "output_type": "display_data"
    }
   ],
   "source": [
    "#nbi:hide_in\n",
    "#print(\"This is header\")\n",
    "header"
   ]
  },
  {
   "cell_type": "code",
   "execution_count": 110,
   "metadata": {},
   "outputs": [
    {
     "data": {
      "application/vnd.jupyter.widget-view+json": {
       "model_id": "3457b6ca085f466488aa51be1b678d2a",
       "version_major": 2,
       "version_minor": 0
      },
      "text/html": [
       "<p>Failed to display Jupyter Widget of type <code>Accordion</code>.</p>\n",
       "<p>\n",
       "  If you're reading this message in the Jupyter Notebook or JupyterLab Notebook, it may mean\n",
       "  that the widgets JavaScript is still loading. If this message persists, it\n",
       "  likely means that the widgets JavaScript library is either not installed or\n",
       "  not enabled. See the <a href=\"https://ipywidgets.readthedocs.io/en/stable/user_install.html\">Jupyter\n",
       "  Widgets Documentation</a> for setup instructions.\n",
       "</p>\n",
       "<p>\n",
       "  If you're reading this message in another frontend (for example, a static\n",
       "  rendering on GitHub or <a href=\"https://nbviewer.jupyter.org/\">NBViewer</a>),\n",
       "  it may mean that your frontend doesn't currently support widgets.\n",
       "</p>\n"
      ],
      "text/plain": [
       "Accordion(children=(VBox(children=(HTML(value='<i><b>https://www.mudah.my/malaysia/cars-for-sale?o=1&q=&th=1</b><i>', description='Sample Link:', placeholder=''), Text(value='', description='Link:', placeholder='Paste your mudah.my link here'))), VBox(children=(HTML(value='<i><b>C:\\\\Users\\\\LENOVO\\\\Documents</b><i>', description='Sample Path:', placeholder=''), Text(value='', description='Folder Path:', placeholder='Save Scraped Dataset'), HTML(value='<i><b>kereta</b><i>', description='Sample CSV:', placeholder=''), Text(value='', description='CSV file:', placeholder='Name your scrap csv file'))), VBox(children=(Button(description='Scrap Me', style=ButtonStyle(button_color='orange')), Output()))), _titles={'0': 'Source', '1': 'Save', '2': 'Scrap'})"
      ]
     },
     "metadata": {},
     "output_type": "display_data"
    }
   ],
   "source": [
    "#nbi:hide_in\n",
    "accordion1 = widgets.Accordion(children=[widgets.VBox([str_link, meurl]), widgets.VBox([str_folder, fpath, str_csv, fname]), widgets.VBox([bscrap,oscrap])])\n",
    "accordion1.set_title(0, 'Source')\n",
    "accordion1.set_title(1, 'Save')\n",
    "accordion1.set_title(2, 'Scrap')\n",
    "accordion1"
   ]
  },
  {
   "cell_type": "code",
   "execution_count": 111,
   "metadata": {},
   "outputs": [],
   "source": [
    "#nbi:hide_in\n",
    "viewbtn = widgets.HBox([view_head, view_rand, view_tail])\n",
    "#viewbtn"
   ]
  },
  {
   "cell_type": "code",
   "execution_count": 112,
   "metadata": {},
   "outputs": [],
   "source": [
    "#nbi:hide_in\n",
    "analysisbtn = widgets.HBox([boxplotbtn, boxplot_filter])\n",
    "#analysisbtn"
   ]
  },
  {
   "cell_type": "code",
   "execution_count": 113,
   "metadata": {},
   "outputs": [
    {
     "data": {
      "application/vnd.jupyter.widget-view+json": {
       "model_id": "28241c07c4b349b8aa330990766b359f",
       "version_major": 2,
       "version_minor": 0
      },
      "text/html": [
       "<p>Failed to display Jupyter Widget of type <code>Accordion</code>.</p>\n",
       "<p>\n",
       "  If you're reading this message in the Jupyter Notebook or JupyterLab Notebook, it may mean\n",
       "  that the widgets JavaScript is still loading. If this message persists, it\n",
       "  likely means that the widgets JavaScript library is either not installed or\n",
       "  not enabled. See the <a href=\"https://ipywidgets.readthedocs.io/en/stable/user_install.html\">Jupyter\n",
       "  Widgets Documentation</a> for setup instructions.\n",
       "</p>\n",
       "<p>\n",
       "  If you're reading this message in another frontend (for example, a static\n",
       "  rendering on GitHub or <a href=\"https://nbviewer.jupyter.org/\">NBViewer</a>),\n",
       "  it may mean that your frontend doesn't currently support widgets.\n",
       "</p>\n"
      ],
      "text/plain": [
       "Accordion(children=(VBox(children=(HTML(value='<i><b>C:\\\\Users\\\\LENOVO\\\\Documents</b><i>', description='Sample Path:', placeholder=''), Text(value='', description='Folder Path:', placeholder='Upload cleaned dataset'), HTML(value='<i><b>kereta</b><i>', description='Sample CSV:', placeholder=''), Text(value='', description='CSV file:', placeholder='Name of cleaned csv file'))), VBox(children=(HTML(value='<b>Choose how to view your data</b>', placeholder=''), HBox(children=(Dropdown(description='Head:', options=('-', '5', '6', '7', '8', '9', '10'), value='-'), Dropdown(description='Random:', options=('-', '5', '6', '7', '8', '9', '10'), value='-'), Dropdown(description='Tail:', options=('-', '5', '6', '7', '8', '9', '10'), value='-')))))), _titles={'0': 'Upload', '1': 'View'})"
      ]
     },
     "metadata": {},
     "output_type": "display_data"
    }
   ],
   "source": [
    "#nbi:hide_in\n",
    "accordion2 = widgets.Accordion(children=[widgets.VBox([str_folder,lpath, str_csv, lname]), widgets.VBox([str_view, viewbtn])])\n",
    "accordion2.set_title(0, 'Upload')\n",
    "accordion2.set_title(1, 'View')\n",
    "accordion2"
   ]
  },
  {
   "cell_type": "code",
   "execution_count": 114,
   "metadata": {},
   "outputs": [
    {
     "data": {
      "application/vnd.jupyter.widget-view+json": {
       "model_id": "3be67767fb4e43e1b579af0795defe74",
       "version_major": 2,
       "version_minor": 0
      },
      "text/html": [
       "<p>Failed to display Jupyter Widget of type <code>Accordion</code>.</p>\n",
       "<p>\n",
       "  If you're reading this message in the Jupyter Notebook or JupyterLab Notebook, it may mean\n",
       "  that the widgets JavaScript is still loading. If this message persists, it\n",
       "  likely means that the widgets JavaScript library is either not installed or\n",
       "  not enabled. See the <a href=\"https://ipywidgets.readthedocs.io/en/stable/user_install.html\">Jupyter\n",
       "  Widgets Documentation</a> for setup instructions.\n",
       "</p>\n",
       "<p>\n",
       "  If you're reading this message in another frontend (for example, a static\n",
       "  rendering on GitHub or <a href=\"https://nbviewer.jupyter.org/\">NBViewer</a>),\n",
       "  it may mean that your frontend doesn't currently support widgets.\n",
       "</p>\n"
      ],
      "text/plain": [
       "Accordion(children=(VBox(children=(HTML(value='Apply <b>Data Mining<b> Method!!', placeholder=''), Button(description='PCA!', icon='check', style=ButtonStyle(button_color='orange'), tooltip='Click me'))), VBox(children=(HTML(value='<b>Choose to view and compare by attributes<b>', placeholder=''), HBox(children=(Button(description='Boxplot', icon='check', style=ButtonStyle(button_color='orange'), tooltip='Click me'), SelectMultiple(description='Filter by', index=(0,), options=('Price', 'Year', 'Mileage'), rows=3, value=('Price',)))))), VBox(children=(HTML(value='<b>Click to view Potential Scammers!!<b>', placeholder=''), Button(description='Click Me', icon='check', style=ButtonStyle(button_color='red'), tooltip='Click me')))), _titles={'0': 'Method', '1': 'Analysis', '2': 'Result'})"
      ]
     },
     "metadata": {},
     "output_type": "display_data"
    }
   ],
   "source": [
    "#nbi:hide_in\n",
    "accordion3 = widgets.Accordion(children=[widgets.VBox([str_pca,pcabtn]), widgets.VBox([str_box, analysisbtn]), widgets.VBox([str_result, scambtn])])\n",
    "accordion3.set_title(0, 'Method')\n",
    "accordion3.set_title(1, 'Analysis')\n",
    "accordion3.set_title(2, 'Result')\n",
    "accordion3"
   ]
  },
  {
   "cell_type": "code",
   "execution_count": 116,
   "metadata": {},
   "outputs": [
    {
     "name": "stdout",
     "output_type": "stream",
     "text": [
      "Tab Nest\n"
     ]
    },
    {
     "data": {
      "application/vnd.jupyter.widget-view+json": {
       "model_id": "be63eb08f15347659136c964fa73ff50",
       "version_major": 2,
       "version_minor": 0
      },
      "text/html": [
       "<p>Failed to display Jupyter Widget of type <code>Tab</code>.</p>\n",
       "<p>\n",
       "  If you're reading this message in the Jupyter Notebook or JupyterLab Notebook, it may mean\n",
       "  that the widgets JavaScript is still loading. If this message persists, it\n",
       "  likely means that the widgets JavaScript library is either not installed or\n",
       "  not enabled. See the <a href=\"https://ipywidgets.readthedocs.io/en/stable/user_install.html\">Jupyter\n",
       "  Widgets Documentation</a> for setup instructions.\n",
       "</p>\n",
       "<p>\n",
       "  If you're reading this message in another frontend (for example, a static\n",
       "  rendering on GitHub or <a href=\"https://nbviewer.jupyter.org/\">NBViewer</a>),\n",
       "  it may mean that your frontend doesn't currently support widgets.\n",
       "</p>\n"
      ],
      "text/plain": [
       "Tab(children=(Accordion(children=(VBox(children=(HTML(value='<i><b>https://www.mudah.my/malaysia/cars-for-sale?o=1&q=&th=1</b><i>', description='Sample Link:', placeholder=''), Text(value='', description='Link:', placeholder='Paste your mudah.my link here'))), VBox(children=(HTML(value='<i><b>C:\\\\Users\\\\LENOVO\\\\Documents</b><i>', description='Sample Path:', placeholder=''), Text(value='', description='Folder Path:', placeholder='Save Scraped Dataset'), HTML(value='<i><b>kereta</b><i>', description='Sample CSV:', placeholder=''), Text(value='', description='CSV file:', placeholder='Name your scrap csv file'))), VBox(children=(Button(description='Scrap Me', style=ButtonStyle(button_color='orange')), Output()))), _titles={'0': 'Source', '1': 'Save', '2': 'Scrap'}), Accordion(children=(VBox(children=(HTML(value='<i><b>C:\\\\Users\\\\LENOVO\\\\Documents</b><i>', description='Sample Path:', placeholder=''), Text(value='', description='Folder Path:', placeholder='Upload cleaned dataset'), HTML(value='<i><b>kereta</b><i>', description='Sample CSV:', placeholder=''), Text(value='', description='CSV file:', placeholder='Name of cleaned csv file'))), VBox(children=(HTML(value='<b>Choose how to view your data</b>', placeholder=''), HBox(children=(Dropdown(description='Head:', options=('-', '5', '6', '7', '8', '9', '10'), value='-'), Dropdown(description='Random:', options=('-', '5', '6', '7', '8', '9', '10'), value='-'), Dropdown(description='Tail:', options=('-', '5', '6', '7', '8', '9', '10'), value='-')))))), _titles={'0': 'Upload', '1': 'View'}), Accordion(children=(VBox(children=(HTML(value='Apply <b>Data Mining<b> Method!!', placeholder=''), Button(description='PCA!', icon='check', style=ButtonStyle(button_color='orange'), tooltip='Click me'))), VBox(children=(HTML(value='<b>Choose to view and compare by attributes<b>', placeholder=''), HBox(children=(Button(description='Boxplot', icon='check', style=ButtonStyle(button_color='orange'), tooltip='Click me'), SelectMultiple(description='Filter by', index=(0,), options=('Price', 'Year', 'Mileage'), rows=3, value=('Price',)))))), VBox(children=(HTML(value='<b>Click to view Potential Scammers!!<b>', placeholder=''), Button(description='Click Me', icon='check', style=ButtonStyle(button_color='red'), tooltip='Click me')))), _titles={'0': 'Method', '1': 'Analysis', '2': 'Result'})), _titles={'0': '1. Extaction', '1': '2. Data', '2': '3. Evaluation'})"
      ]
     },
     "metadata": {},
     "output_type": "display_data"
    }
   ],
   "source": [
    "#nbi:hide_in\n",
    "tab_nest = widgets.Tab()\n",
    "tab_nest.children = [accordion1, accordion2, accordion3]\n",
    "tab_nest.set_title(0, '1. Extaction')\n",
    "tab_nest.set_title(1, '2. Data')\n",
    "tab_nest.set_title(2, '3. Evaluation')\n",
    "print('Tab Nest')\n",
    "display(tab_nest)"
   ]
  }
 ],
 "metadata": {
  "kernelspec": {
   "display_name": "Python 3",
   "language": "python",
   "name": "python3"
  },
  "language_info": {
   "codemirror_mode": {
    "name": "ipython",
    "version": 3
   },
   "file_extension": ".py",
   "mimetype": "text/x-python",
   "name": "python",
   "nbconvert_exporter": "python",
   "pygments_lexer": "ipython3",
   "version": "3.6.4"
  },
  "widgets": {
   "application/vnd.jupyter.widget-state+json": {
    "state": {
     "0079a07bf6d44e02a238381380df57d7": {
      "model_module": "@jupyter-widgets/controls",
      "model_module_version": "1.1.0",
      "model_name": "VBoxModel",
      "state": {
       "children": [
        "IPY_MODEL_a19472d2bf1c4ed781871ef76a20a01f",
        "IPY_MODEL_823f006e17cc4828af49aaf5b365f0d9"
       ],
       "layout": "IPY_MODEL_93265decb7bb43a5adc40f735ebfad41"
      }
     },
     "00980b790be14a779fdb10c6f5b62c87": {
      "model_module": "@jupyter-widgets/base",
      "model_module_version": "1.0.0",
      "model_name": "LayoutModel",
      "state": {}
     },
     "00ab286a59f446f19fa4481933da0ff5": {
      "model_module": "@jupyter-widgets/base",
      "model_module_version": "1.0.0",
      "model_name": "LayoutModel",
      "state": {}
     },
     "0104fa15dd3149938d9269f4302d0cd3": {
      "model_module": "@jupyter-widgets/controls",
      "model_module_version": "1.1.0",
      "model_name": "ButtonStyleModel",
      "state": {}
     },
     "01386a38a26d44919782b3e983af8a0a": {
      "model_module": "@jupyter-widgets/controls",
      "model_module_version": "1.1.0",
      "model_name": "VBoxModel",
      "state": {
       "children": [
        "IPY_MODEL_f0e7f876d6de48c887e28e12aca33e72",
        "IPY_MODEL_9e6b2fb55acd4f4684c4f41d150fda76"
       ],
       "layout": "IPY_MODEL_7e26c7c6da9a4967bdeb04442e120ae4"
      }
     },
     "014a2d97dcdd4a0786b71f52bdcc4eb8": {
      "model_module": "@jupyter-widgets/base",
      "model_module_version": "1.0.0",
      "model_name": "LayoutModel",
      "state": {}
     },
     "01848beee0d3434ba0d707ccf9a341e3": {
      "model_module": "@jupyter-widgets/base",
      "model_module_version": "1.0.0",
      "model_name": "LayoutModel",
      "state": {}
     },
     "01909ee818e84da5a552ceeead9185fc": {
      "model_module": "@jupyter-widgets/controls",
      "model_module_version": "1.1.0",
      "model_name": "ButtonModel",
      "state": {
       "description": "Click Me",
       "icon": "check",
       "layout": "IPY_MODEL_20644df8c54249aca0924641f235a5ca",
       "style": "IPY_MODEL_1b74b351c80e49daacdc6820fff363ed",
       "tooltip": "Click me"
      }
     },
     "01c7234912d04f13869c5d206c7136ce": {
      "model_module": "@jupyter-widgets/controls",
      "model_module_version": "1.1.0",
      "model_name": "ButtonStyleModel",
      "state": {
       "button_color": "orange"
      }
     },
     "01d01a33604946fca81d745df750b065": {
      "model_module": "@jupyter-widgets/base",
      "model_module_version": "1.0.0",
      "model_name": "LayoutModel",
      "state": {}
     },
     "01f274df68344a0f91c62ab86f8466b7": {
      "model_module": "@jupyter-widgets/base",
      "model_module_version": "1.0.0",
      "model_name": "LayoutModel",
      "state": {}
     },
     "01fb11737a1446eabe0322cf981c8fd6": {
      "model_module": "@jupyter-widgets/controls",
      "model_module_version": "1.1.0",
      "model_name": "DescriptionStyleModel",
      "state": {
       "description_width": ""
      }
     },
     "0203a499e723434abf3fa0d3cea12734": {
      "model_module": "@jupyter-widgets/controls",
      "model_module_version": "1.1.0",
      "model_name": "VBoxModel",
      "state": {
       "children": [
        "IPY_MODEL_0649be5c7c0d4446893b9db9a2e4bc2b",
        "IPY_MODEL_5590b798076948a48da706492a584057"
       ],
       "layout": "IPY_MODEL_149ffc84bec8472486c44ce917ce3581"
      }
     },
     "021ec9e7001843229a4de182c2abd93e": {
      "model_module": "@jupyter-widgets/base",
      "model_module_version": "1.0.0",
      "model_name": "LayoutModel",
      "state": {}
     },
     "0245f5f2038e49efa091402ae2f3804b": {
      "model_module": "@jupyter-widgets/base",
      "model_module_version": "1.0.0",
      "model_name": "LayoutModel",
      "state": {}
     },
     "026bf585b05d4860b3cc1f2e1263570b": {
      "model_module": "@jupyter-widgets/base",
      "model_module_version": "1.0.0",
      "model_name": "LayoutModel",
      "state": {}
     },
     "028d948112d747f3a14d645e21afc162": {
      "model_module": "@jupyter-widgets/base",
      "model_module_version": "1.0.0",
      "model_name": "LayoutModel",
      "state": {}
     },
     "02e5b10a5ff5461a9253736c1ecf2e49": {
      "model_module": "@jupyter-widgets/base",
      "model_module_version": "1.0.0",
      "model_name": "LayoutModel",
      "state": {}
     },
     "02ea4ed28071428b8a497e1e2247aca4": {
      "model_module": "@jupyter-widgets/controls",
      "model_module_version": "1.1.0",
      "model_name": "DescriptionStyleModel",
      "state": {
       "description_width": ""
      }
     },
     "0337c8406c1546f0a65780f937e892c0": {
      "model_module": "@jupyter-widgets/controls",
      "model_module_version": "1.1.0",
      "model_name": "ButtonModel",
      "state": {
       "description": "About Us",
       "layout": "IPY_MODEL_14b6d3703ab6449586e3e23ff340a40e",
       "style": "IPY_MODEL_2b1a9d4746514f239b5150f612a273b5"
      }
     },
     "03500f75bbdd4cf98e44e60fed431dba": {
      "model_module": "@jupyter-widgets/controls",
      "model_module_version": "1.1.0",
      "model_name": "DescriptionStyleModel",
      "state": {
       "description_width": ""
      }
     },
     "035b153fceaa4a2695a615bf0d1aa5a8": {
      "model_module": "@jupyter-widgets/controls",
      "model_module_version": "1.1.0",
      "model_name": "ButtonModel",
      "state": {
       "description": "PCA!",
       "icon": "check",
       "layout": "IPY_MODEL_402869b0b93f422bbb71c9f53535354d",
       "style": "IPY_MODEL_2f7d9156a265496eb4245bf38b7d9b5a",
       "tooltip": "Click me"
      }
     },
     "0383e3f187d94edf8e75f8877b541079": {
      "model_module": "@jupyter-widgets/base",
      "model_module_version": "1.0.0",
      "model_name": "LayoutModel",
      "state": {}
     },
     "03a21665b38741db96365e7b1e454f3e": {
      "model_module": "@jupyter-widgets/controls",
      "model_module_version": "1.1.0",
      "model_name": "ButtonModel",
      "state": {
       "description": "Click Me",
       "icon": "check",
       "layout": "IPY_MODEL_9120bf53b8964b9c9f069cd8226fe906",
       "style": "IPY_MODEL_3458d1494d9445ba94fd7771826ea627",
       "tooltip": "Click me"
      }
     },
     "03b9fb887c924cc0a360235b61087dd1": {
      "model_module": "@jupyter-widgets/controls",
      "model_module_version": "1.1.0",
      "model_name": "VBoxModel",
      "state": {
       "children": [
        "IPY_MODEL_bc07d51c7bd049b6b214422ef3b7ce70",
        "IPY_MODEL_a56078b5fb524adba1559811a4f8be64"
       ],
       "layout": "IPY_MODEL_93ec4b32d0154c138a5d15ceed30c7e3"
      }
     },
     "03be5191062d44cd9615b56cf37b4336": {
      "model_module": "@jupyter-widgets/base",
      "model_module_version": "1.0.0",
      "model_name": "LayoutModel",
      "state": {}
     },
     "03d21083838a4bb0a1470090404918e9": {
      "model_module": "@jupyter-widgets/controls",
      "model_module_version": "1.1.0",
      "model_name": "ButtonStyleModel",
      "state": {
       "button_color": "orange"
      }
     },
     "03eb1abcacac4787b340b84fcfac04b8": {
      "model_module": "@jupyter-widgets/controls",
      "model_module_version": "1.1.0",
      "model_name": "ButtonStyleModel",
      "state": {}
     },
     "0411d54901064f058b59b5d9a6fc53a0": {
      "model_module": "@jupyter-widgets/controls",
      "model_module_version": "1.1.0",
      "model_name": "AccordionModel",
      "state": {
       "_titles": {
        "0": "Method",
        "1": "Analysis",
        "2": "Result"
       },
       "children": [
        "IPY_MODEL_05ecf3f03bf441a39d7731f52c58e17b",
        "IPY_MODEL_930955ec3a224052a7f4e63d9d3050b6",
        "IPY_MODEL_c0244e8a0f954e4da22a1ba05ccce602"
       ],
       "layout": "IPY_MODEL_dcb0e02e6f524a6d8328af186842efa8"
      }
     },
     "04343ceff87a4c1aa3c83b022e2acb13": {
      "model_module": "@jupyter-widgets/base",
      "model_module_version": "1.0.0",
      "model_name": "LayoutModel",
      "state": {}
     },
     "044d507ed4b748c9a867c97318c2d488": {
      "model_module": "@jupyter-widgets/controls",
      "model_module_version": "1.1.0",
      "model_name": "TextModel",
      "state": {
       "description": "Folder Path:",
       "layout": "IPY_MODEL_a634274da0334a0d87ab802683a12600",
       "placeholder": "Upload cleaned dataset",
       "style": "IPY_MODEL_b428307947034561bd030fe2d96a4db1"
      }
     },
     "049cff9418fc418bb98d4f9e34f84749": {
      "model_module": "@jupyter-widgets/base",
      "model_module_version": "1.0.0",
      "model_name": "LayoutModel",
      "state": {}
     },
     "04c5589af6474b179bea8b55a163c4eb": {
      "model_module": "@jupyter-widgets/controls",
      "model_module_version": "1.1.0",
      "model_name": "AccordionModel",
      "state": {
       "_titles": {
        "0": "Source",
        "1": "Save",
        "2": "Scrap"
       },
       "children": [
        "IPY_MODEL_6603af41f93c4a98b1e0cc4b1c1344d9",
        "IPY_MODEL_061f491c6952446083d5b5701d31f421",
        "IPY_MODEL_f69fc1bec7174f8682e85036660d089b"
       ],
       "layout": "IPY_MODEL_c810005370e040f5b6e3c815b100f4b2"
      }
     },
     "04ca4c1fd30d4de3a0b37ef7bc46f927": {
      "model_module": "@jupyter-widgets/controls",
      "model_module_version": "1.1.0",
      "model_name": "VBoxModel",
      "state": {
       "children": [
        "IPY_MODEL_58eb655c7ab54f58ac16a38bc53c0eb0",
        "IPY_MODEL_6038877d90844ec3b5798b790de5bb49"
       ],
       "layout": "IPY_MODEL_44a623515aaa4187b177176b36863b61"
      }
     },
     "04d18861326d44acad17ffbffb576c24": {
      "model_module": "@jupyter-widgets/output",
      "model_module_version": "1.0.0",
      "model_name": "OutputModel",
      "state": {
       "layout": "IPY_MODEL_04dc42e8e3194d069377e10b2a460981"
      }
     },
     "04dc42e8e3194d069377e10b2a460981": {
      "model_module": "@jupyter-widgets/base",
      "model_module_version": "1.0.0",
      "model_name": "LayoutModel",
      "state": {}
     },
     "04dc6a1e6c754fd1b3323c60146d421c": {
      "model_module": "@jupyter-widgets/base",
      "model_module_version": "1.0.0",
      "model_name": "LayoutModel",
      "state": {}
     },
     "04e0046d6f5045f0b9b1951d2b11c41a": {
      "model_module": "@jupyter-widgets/base",
      "model_module_version": "1.0.0",
      "model_name": "LayoutModel",
      "state": {}
     },
     "04e1da4747b4457d98324b0fea38ee43": {
      "model_module": "@jupyter-widgets/controls",
      "model_module_version": "1.1.0",
      "model_name": "HBoxModel",
      "state": {
       "children": [
        "IPY_MODEL_febe6096e404405e8f1141184df62a65",
        "IPY_MODEL_c6793d93f2944aff915b0fe34f3d5845",
        "IPY_MODEL_7c507864938d44e9b13093d0eb5a4f95",
        "IPY_MODEL_4dc752f676364676b623331efb9d917a"
       ],
       "layout": "IPY_MODEL_7e3bf9c7586b496e83cabb6986378a53"
      }
     },
     "0512ace8250443078ec4833e07a35e2c": {
      "model_module": "@jupyter-widgets/controls",
      "model_module_version": "1.1.0",
      "model_name": "VBoxModel",
      "state": {
       "children": [
        "IPY_MODEL_9db576467d3e4c9fb6cf3fb158a77457",
        "IPY_MODEL_7b94e4107c9b484aacabf7440b0f18cb",
        "IPY_MODEL_bf654ff5548e49ecada934627a1ac8b4",
        "IPY_MODEL_a675cc51a4c64c3d928059fda6646405"
       ],
       "layout": "IPY_MODEL_067042723e844efb898edc82888d8470"
      }
     },
     "053e0fef7ec9413291f47b992ee80437": {
      "model_module": "@jupyter-widgets/controls",
      "model_module_version": "1.1.0",
      "model_name": "DropdownModel",
      "state": {
       "_options_labels": [
        "5",
        "6",
        "7",
        "8",
        "9",
        "10"
       ],
       "description": "Head:",
       "index": 0,
       "layout": "IPY_MODEL_0f3eb072c63d441eab83de3f72f3734e",
       "style": "IPY_MODEL_6e2426c5b1054c08afa78505c4d64f89"
      }
     },
     "05586a907a3e4937a3bdb6d8edcc7c2c": {
      "model_module": "@jupyter-widgets/controls",
      "model_module_version": "1.1.0",
      "model_name": "DescriptionStyleModel",
      "state": {
       "description_width": ""
      }
     },
     "05b456de2c8341a6b2139b0b101f1389": {
      "model_module": "@jupyter-widgets/controls",
      "model_module_version": "1.1.0",
      "model_name": "VBoxModel",
      "state": {
       "children": [
        "IPY_MODEL_94ba13e8d8d8448c9be65fecf75d522a",
        "IPY_MODEL_f7b58be567d94c78867287dea4d99cd9"
       ],
       "layout": "IPY_MODEL_8fefb0b52ddb4d0c98dbd051e19e6d11"
      }
     },
     "05e64599de61464197c776e254148a84": {
      "model_module": "@jupyter-widgets/controls",
      "model_module_version": "1.1.0",
      "model_name": "VBoxModel",
      "state": {
       "children": [
        "IPY_MODEL_b4f5d419989446eba4da349d74e907f1",
        "IPY_MODEL_4e2b59ccd0c947d584c70e03f8f02771"
       ],
       "layout": "IPY_MODEL_677e7f78593f456c852da8874c91857d"
      }
     },
     "05ecf3f03bf441a39d7731f52c58e17b": {
      "model_module": "@jupyter-widgets/controls",
      "model_module_version": "1.1.0",
      "model_name": "VBoxModel",
      "state": {
       "children": [
        "IPY_MODEL_a0a0c0a5cc8849e9825d954020026527",
        "IPY_MODEL_78c7396bbbd0412392421dbce1d3534b"
       ],
       "layout": "IPY_MODEL_22ab7a3e9f374283873321cb65ce4b92"
      }
     },
     "06041eb9085d46ab81192dec43eeb9f1": {
      "model_module": "@jupyter-widgets/base",
      "model_module_version": "1.0.0",
      "model_name": "LayoutModel",
      "state": {}
     },
     "061f491c6952446083d5b5701d31f421": {
      "model_module": "@jupyter-widgets/controls",
      "model_module_version": "1.1.0",
      "model_name": "VBoxModel",
      "state": {
       "children": [
        "IPY_MODEL_58fa814d45094986b4d98277953bf429",
        "IPY_MODEL_ede6491b817848d0894cc26f13b37447",
        "IPY_MODEL_8ef98b75a7874334bc3bdebc91130739",
        "IPY_MODEL_74f9ff6d90cd40998cb82130f03d99c0"
       ],
       "layout": "IPY_MODEL_115626fbc20e4df69828eaa950e367b8"
      }
     },
     "0649be5c7c0d4446893b9db9a2e4bc2b": {
      "model_module": "@jupyter-widgets/controls",
      "model_module_version": "1.1.0",
      "model_name": "HTMLModel",
      "state": {
       "description": "Sample Link:",
       "layout": "IPY_MODEL_58340310749c404b90375692335e87cb",
       "placeholder": "",
       "style": "IPY_MODEL_3b58d5054a8a41298d85fa5ae61c90fc",
       "value": "<i><b>https://www.mudah.my/malaysia/cars-for-sale?o=1&q=&th=1</b><i>"
      }
     },
     "067042723e844efb898edc82888d8470": {
      "model_module": "@jupyter-widgets/base",
      "model_module_version": "1.0.0",
      "model_name": "LayoutModel",
      "state": {}
     },
     "06764c74d0fc4d9bb74f6786e6297cb6": {
      "model_module": "@jupyter-widgets/controls",
      "model_module_version": "1.1.0",
      "model_name": "HBoxModel",
      "state": {
       "children": [
        "IPY_MODEL_07717c1f06b94ff39eea0fbc73feb1fb",
        "IPY_MODEL_c771f12830f74f9f85a866bbdbb55053",
        "IPY_MODEL_a0c870f0ea714abdb025835f7b747993"
       ],
       "layout": "IPY_MODEL_c732092bb8bf442fb5c05f7db3c3760f"
      }
     },
     "06959940d6944b708ad96424920f87ca": {
      "model_module": "@jupyter-widgets/controls",
      "model_module_version": "1.1.0",
      "model_name": "VBoxModel",
      "state": {
       "children": [
        "IPY_MODEL_bff8addeabaf452cacb333c7148e6700",
        "IPY_MODEL_9dc84f313ee841b4b8fdee74784b3172",
        "IPY_MODEL_a86e40daeb0e40b7928dc081be52729e",
        "IPY_MODEL_c4b77d06a74944a79cbe9d6318d31824"
       ],
       "layout": "IPY_MODEL_dc7b34f552c6403b985f9e60036448a9"
      }
     },
     "071ee458b94a45c59a12b475eaf57b5d": {
      "model_module": "@jupyter-widgets/controls",
      "model_module_version": "1.1.0",
      "model_name": "AccordionModel",
      "state": {
       "_titles": {
        "0": "Upload",
        "1": "View"
       },
       "children": [
        "IPY_MODEL_bac399e866224423b040048575cafdef",
        "IPY_MODEL_99abf23ec7d7426f93c979a7453ab50b"
       ],
       "layout": "IPY_MODEL_a198a9f425ae4f16945fb857a4c84484"
      }
     },
     "072535dc361c4ff484567a11c87fb1ee": {
      "model_module": "@jupyter-widgets/base",
      "model_module_version": "1.0.0",
      "model_name": "LayoutModel",
      "state": {}
     },
     "073c56d14c50478bb893e9577f119b60": {
      "model_module": "@jupyter-widgets/controls",
      "model_module_version": "1.1.0",
      "model_name": "DescriptionStyleModel",
      "state": {
       "description_width": ""
      }
     },
     "0765a01b743142d79cbcae96c66d28d0": {
      "model_module": "@jupyter-widgets/base",
      "model_module_version": "1.0.0",
      "model_name": "LayoutModel",
      "state": {}
     },
     "07717c1f06b94ff39eea0fbc73feb1fb": {
      "model_module": "@jupyter-widgets/controls",
      "model_module_version": "1.1.0",
      "model_name": "DropdownModel",
      "state": {
       "_options_labels": [
        "-",
        "5",
        "6",
        "7",
        "8",
        "9",
        "10"
       ],
       "description": "Head:",
       "index": 0,
       "layout": "IPY_MODEL_31b6d1595c4249fb9ef9725985bba2c0",
       "style": "IPY_MODEL_88bcc3471da64cdd92aa007e74a0bf70"
      }
     },
     "079cc03eed4e480c9240f1879769ae5d": {
      "model_module": "@jupyter-widgets/controls",
      "model_module_version": "1.1.0",
      "model_name": "HBoxModel",
      "state": {
       "children": [
        "IPY_MODEL_4f26e4991c104abdbcf2c6e65e5a35d7",
        "IPY_MODEL_33bf7bfe19ff4ebbb33092514b14f666",
        "IPY_MODEL_dc9904bcbad4484caa39bb78884843c6",
        "IPY_MODEL_0337c8406c1546f0a65780f937e892c0"
       ],
       "layout": "IPY_MODEL_71d6405bf533474991f14309641079a5"
      }
     },
     "07e57dc4f1af48dbb446ac07143d1c89": {
      "model_module": "@jupyter-widgets/controls",
      "model_module_version": "1.1.0",
      "model_name": "VBoxModel",
      "state": {
       "children": [
        "IPY_MODEL_34d9c9d70a1c466e8163e265eb384a5c",
        "IPY_MODEL_06764c74d0fc4d9bb74f6786e6297cb6"
       ],
       "layout": "IPY_MODEL_e9f7551bd7d94ebd8b522cfe39dd75dd"
      }
     },
     "07eb8fd7bb2441f58ce99f6761a63285": {
      "model_module": "@jupyter-widgets/base",
      "model_module_version": "1.0.0",
      "model_name": "LayoutModel",
      "state": {}
     },
     "07f25f1c37914dbaa486b0ec9848873d": {
      "model_module": "@jupyter-widgets/base",
      "model_module_version": "1.0.0",
      "model_name": "LayoutModel",
      "state": {}
     },
     "080019426bc140f7ac24b7b86145bde6": {
      "model_module": "@jupyter-widgets/controls",
      "model_module_version": "1.1.0",
      "model_name": "DescriptionStyleModel",
      "state": {
       "description_width": ""
      }
     },
     "082275945579472bbb03a19d68a6063e": {
      "model_module": "@jupyter-widgets/controls",
      "model_module_version": "1.1.0",
      "model_name": "ButtonStyleModel",
      "state": {
       "button_color": "lightgreen"
      }
     },
     "0833c0aa4ded48b3a6db349c065383b5": {
      "model_module": "@jupyter-widgets/base",
      "model_module_version": "1.0.0",
      "model_name": "LayoutModel",
      "state": {}
     },
     "0864fe29720e483bbd5c9ab254de660c": {
      "model_module": "@jupyter-widgets/controls",
      "model_module_version": "1.1.0",
      "model_name": "DescriptionStyleModel",
      "state": {
       "description_width": ""
      }
     },
     "087c69145a954d22b6c79df1000690bd": {
      "model_module": "@jupyter-widgets/controls",
      "model_module_version": "1.1.0",
      "model_name": "DescriptionStyleModel",
      "state": {
       "description_width": ""
      }
     },
     "0889f636671f457e94e6c538c7147e1b": {
      "model_module": "@jupyter-widgets/base",
      "model_module_version": "1.0.0",
      "model_name": "LayoutModel",
      "state": {}
     },
     "088b51fff9f24f658e5e69b27686ceae": {
      "model_module": "@jupyter-widgets/base",
      "model_module_version": "1.0.0",
      "model_name": "LayoutModel",
      "state": {}
     },
     "091c601f952e49b5991630689229aeca": {
      "model_module": "@jupyter-widgets/controls",
      "model_module_version": "1.1.0",
      "model_name": "TextModel",
      "state": {
       "description": "Folder Path:",
       "layout": "IPY_MODEL_ff72073238884fe1ba3668f3d23433b0",
       "placeholder": "Save Scraped Dataset",
       "style": "IPY_MODEL_77f109fae6c74eaebc4da2dda5b356fe"
      }
     },
     "09bcf65a9e8f4ca687f659e2971335dd": {
      "model_module": "@jupyter-widgets/base",
      "model_module_version": "1.0.0",
      "model_name": "LayoutModel",
      "state": {}
     },
     "09c1aef034ff4767b98a14c473d001c4": {
      "model_module": "@jupyter-widgets/base",
      "model_module_version": "1.0.0",
      "model_name": "LayoutModel",
      "state": {}
     },
     "09d0b74b264640e086c322e61cb5ed6a": {
      "model_module": "@jupyter-widgets/base",
      "model_module_version": "1.0.0",
      "model_name": "LayoutModel",
      "state": {}
     },
     "09f465edb6214800b95fd051688dad09": {
      "model_module": "@jupyter-widgets/base",
      "model_module_version": "1.0.0",
      "model_name": "LayoutModel",
      "state": {}
     },
     "0a2dbd6458f8459dabb1c3e865a41085": {
      "model_module": "@jupyter-widgets/controls",
      "model_module_version": "1.1.0",
      "model_name": "HTMLModel",
      "state": {
       "layout": "IPY_MODEL_7b9afc68dd36423f924ff112fa55a2c2",
       "placeholder": "",
       "style": "IPY_MODEL_7788e5416a0545da8a84acd6e3cbf5af",
       "value": "<b>Click to view Potential Scammers!!<b>"
      }
     },
     "0a6c567344ea480ba364f853d3bdc0e1": {
      "model_module": "@jupyter-widgets/controls",
      "model_module_version": "1.1.0",
      "model_name": "HTMLModel",
      "state": {
       "layout": "IPY_MODEL_47a77f04379e4d29badd9c43f7254062",
       "placeholder": "",
       "style": "IPY_MODEL_33639d6665d34ed79b330a5287b06cff",
       "value": "<b>Click to view Potential Scammers!!<b>"
      }
     },
     "0a73fdefe039400a9879e73ab12b04b3": {
      "model_module": "@jupyter-widgets/base",
      "model_module_version": "1.0.0",
      "model_name": "LayoutModel",
      "state": {}
     },
     "0aa43c740d0c47089b00f390ad6c1bde": {
      "model_module": "@jupyter-widgets/base",
      "model_module_version": "1.0.0",
      "model_name": "LayoutModel",
      "state": {}
     },
     "0ab356d8b034422899911e56eca4d15c": {
      "model_module": "@jupyter-widgets/controls",
      "model_module_version": "1.1.0",
      "model_name": "DescriptionStyleModel",
      "state": {
       "description_width": ""
      }
     },
     "0aca249653804947b95b3ce784c20483": {
      "model_module": "@jupyter-widgets/base",
      "model_module_version": "1.0.0",
      "model_name": "LayoutModel",
      "state": {}
     },
     "0acaaf886cfd4ae1b8eff481f0974182": {
      "model_module": "@jupyter-widgets/controls",
      "model_module_version": "1.1.0",
      "model_name": "ImageModel",
      "state": {
       "height": "300",
       "layout": "IPY_MODEL_367de8aec2354e2a843b24e57f6b3ed0",
       "value": {},
       "width": "200"
      }
     },
     "0accce7460734a4cb704126bd5e9335e": {
      "model_module": "@jupyter-widgets/base",
      "model_module_version": "1.0.0",
      "model_name": "LayoutModel",
      "state": {}
     },
     "0ae7224d02a94a9ca0661ede24497fb2": {
      "model_module": "@jupyter-widgets/controls",
      "model_module_version": "1.1.0",
      "model_name": "DescriptionStyleModel",
      "state": {
       "description_width": ""
      }
     },
     "0afa2f7fc84e4c5c8855cbd0d12d6088": {
      "model_module": "@jupyter-widgets/controls",
      "model_module_version": "1.1.0",
      "model_name": "VBoxModel",
      "state": {
       "children": [
        "IPY_MODEL_431bd9b95daa47708b2f291ad343942b",
        "IPY_MODEL_b38353b32753462aad0a98d0d2bf3f3a"
       ],
       "layout": "IPY_MODEL_60e4b0e600134003b21ceb68ae110b3c"
      }
     },
     "0afd9f363bc140209fc14087de407a33": {
      "model_module": "@jupyter-widgets/base",
      "model_module_version": "1.0.0",
      "model_name": "LayoutModel",
      "state": {}
     },
     "0b0bae642e534db8a9ef6004f7064fb8": {
      "model_module": "@jupyter-widgets/controls",
      "model_module_version": "1.1.0",
      "model_name": "DescriptionStyleModel",
      "state": {
       "description_width": ""
      }
     },
     "0b402432bc1a4f75bc6e033ab7a89969": {
      "model_module": "@jupyter-widgets/base",
      "model_module_version": "1.0.0",
      "model_name": "LayoutModel",
      "state": {}
     },
     "0b4477e16c8e453696a6409cbc235ab7": {
      "model_module": "@jupyter-widgets/controls",
      "model_module_version": "1.1.0",
      "model_name": "ButtonStyleModel",
      "state": {
       "button_color": "red"
      }
     },
     "0b4ea0de1d77420ab7af7351546f3196": {
      "model_module": "@jupyter-widgets/controls",
      "model_module_version": "1.1.0",
      "model_name": "VBoxModel",
      "state": {
       "children": [
        "IPY_MODEL_5907fa94ae0e45eab7448bd1affccb61",
        "IPY_MODEL_47c25cb410d24e67a6e68576ff3ea78b"
       ],
       "layout": "IPY_MODEL_4b0ce00db52b49d0991d72173efb39c6"
      }
     },
     "0b72464e419b43038cab09dbc73286ec": {
      "model_module": "@jupyter-widgets/base",
      "model_module_version": "1.0.0",
      "model_name": "LayoutModel",
      "state": {}
     },
     "0bb1a6005afc49619675a1f9ed43defa": {
      "model_module": "@jupyter-widgets/controls",
      "model_module_version": "1.1.0",
      "model_name": "HBoxModel",
      "state": {
       "children": [
        "IPY_MODEL_2987314da340424299784fb895562c03",
        "IPY_MODEL_43d46f8dbb9a4a7ab3132b6a2a4965ca",
        "IPY_MODEL_aa647998c0a54793a264628bf7f7d2d3"
       ],
       "layout": "IPY_MODEL_254dc1cfb8484a10a01d9f3edfacafb5"
      }
     },
     "0bdcfe497c3d4798935d890edba00ee0": {
      "model_module": "@jupyter-widgets/controls",
      "model_module_version": "1.1.0",
      "model_name": "ImageModel",
      "state": {
       "height": "150",
       "layout": "IPY_MODEL_89c374a37af34424bc95d90cb592eec9",
       "value": {},
       "width": "150"
      }
     },
     "0beaeb640000438d9eec95360993d5e8": {
      "model_module": "@jupyter-widgets/base",
      "model_module_version": "1.0.0",
      "model_name": "LayoutModel",
      "state": {}
     },
     "0c03e9cbbaa74a3ab012e982c23720e0": {
      "model_module": "@jupyter-widgets/base",
      "model_module_version": "1.0.0",
      "model_name": "LayoutModel",
      "state": {}
     },
     "0c09a7cab52e407480a32f729264fef2": {
      "model_module": "@jupyter-widgets/controls",
      "model_module_version": "1.1.0",
      "model_name": "HTMLModel",
      "state": {
       "layout": "IPY_MODEL_fcbc15c9df1641d49974f44e67371bc2",
       "placeholder": "",
       "style": "IPY_MODEL_2dd3711b907f4f94be8db64a2e598b7b",
       "value": "<b>Scammer Detector<b>"
      }
     },
     "0c285aa3c5df4426a4ad975b55a5a19c": {
      "model_module": "@jupyter-widgets/controls",
      "model_module_version": "1.1.0",
      "model_name": "TabModel",
      "state": {
       "_titles": {
        "0": "1. Extaction",
        "1": "2. Data",
        "2": "3. Evaluation"
       },
       "children": [
        "IPY_MODEL_c1aed1dbd974447390e3105e74d28fa1",
        "IPY_MODEL_d582e61083084dedbad12beaf8ce0014",
        "IPY_MODEL_fc1e7c997c12448d936f0dacc5166473"
       ],
       "layout": "IPY_MODEL_4e58478fd9224ac7a08eb40792ef8e41",
       "selected_index": 1
      }
     },
     "0c5d48a7def14c0abf59a7bec580776a": {
      "model_module": "@jupyter-widgets/base",
      "model_module_version": "1.0.0",
      "model_name": "LayoutModel",
      "state": {}
     },
     "0c9b0256f18c482fb5e52e212cb4202d": {
      "model_module": "@jupyter-widgets/controls",
      "model_module_version": "1.1.0",
      "model_name": "TabModel",
      "state": {
       "_titles": {
        "0": "1. Extaction",
        "1": "2. Data",
        "2": "3. Evaluation"
       },
       "children": [
        "IPY_MODEL_8166a0bbb056476ea8a2d24d3afe6bb9",
        "IPY_MODEL_0da6203bdffb48909955e4dd9446a8ee",
        "IPY_MODEL_e5f1528be6c744159b0409ee54bb5b1d"
       ],
       "layout": "IPY_MODEL_f93445bd74fe4ab1a9da77052a9d96ff"
      }
     },
     "0ca5a9a5fff84a6585d2e98f795f0912": {
      "model_module": "@jupyter-widgets/base",
      "model_module_version": "1.0.0",
      "model_name": "LayoutModel",
      "state": {}
     },
     "0cada8e23c074ee3a974cf0cc7bc4d02": {
      "model_module": "@jupyter-widgets/base",
      "model_module_version": "1.0.0",
      "model_name": "LayoutModel",
      "state": {}
     },
     "0cb57cf548c84c32abd30fe2419f5d92": {
      "model_module": "@jupyter-widgets/controls",
      "model_module_version": "1.1.0",
      "model_name": "ToggleButtonsStyleModel",
      "state": {
       "button_width": "",
       "description_width": ""
      }
     },
     "0cecb1064de74340926cda6134d998c1": {
      "model_module": "@jupyter-widgets/controls",
      "model_module_version": "1.1.0",
      "model_name": "HTMLModel",
      "state": {
       "layout": "IPY_MODEL_aa3da67bd2e04cc99e0c18734bc4abc8",
       "placeholder": "",
       "style": "IPY_MODEL_8c2cd2d0e88140c79cdf501cd0a94222",
       "value": "Apply <b>Data Mining<b> Method!!"
      }
     },
     "0d0c6dd078d64e3c96506a0baaf66b26": {
      "model_module": "@jupyter-widgets/controls",
      "model_module_version": "1.1.0",
      "model_name": "DescriptionStyleModel",
      "state": {
       "description_width": ""
      }
     },
     "0d10681c89e447abbaeb755f219986ba": {
      "model_module": "@jupyter-widgets/base",
      "model_module_version": "1.0.0",
      "model_name": "LayoutModel",
      "state": {}
     },
     "0d1ba5a8a8cf4d12b7bb810bc176b8a0": {
      "model_module": "@jupyter-widgets/controls",
      "model_module_version": "1.1.0",
      "model_name": "DescriptionStyleModel",
      "state": {
       "description_width": ""
      }
     },
     "0d2661185cab4e6dba64dd14fbc6aa4e": {
      "model_module": "@jupyter-widgets/controls",
      "model_module_version": "1.1.0",
      "model_name": "HTMLModel",
      "state": {
       "layout": "IPY_MODEL_0accce7460734a4cb704126bd5e9335e",
       "placeholder": "",
       "style": "IPY_MODEL_6a684ba1b11e4b8e8330c1cf3ad8b5dd",
       "value": "<b>Click to view Potential Scammers!!<b>"
      }
     },
     "0d61514b756449f3a3f9d0f603e1b8f8": {
      "model_module": "@jupyter-widgets/base",
      "model_module_version": "1.0.0",
      "model_name": "LayoutModel",
      "state": {}
     },
     "0d6890c0b47c40d198e6b7b8e2b912d3": {
      "model_module": "@jupyter-widgets/controls",
      "model_module_version": "1.1.0",
      "model_name": "DescriptionStyleModel",
      "state": {
       "description_width": ""
      }
     },
     "0d9e19a2362f4f16a98a5d9b08c98995": {
      "model_module": "@jupyter-widgets/base",
      "model_module_version": "1.0.0",
      "model_name": "LayoutModel",
      "state": {}
     },
     "0da6203bdffb48909955e4dd9446a8ee": {
      "model_module": "@jupyter-widgets/controls",
      "model_module_version": "1.1.0",
      "model_name": "AccordionModel",
      "state": {
       "_titles": {
        "0": "Upload",
        "1": "View"
       },
       "children": [
        "IPY_MODEL_be6445ad7cf64a24a024977ba301d259",
        "IPY_MODEL_904cafcf6f09400d9d425edd165411a0"
       ],
       "layout": "IPY_MODEL_f1d81af51c544a7b82d65ed69ea80c96",
       "selected_index": 1
      }
     },
     "0de3ca36dc7c49ada6ee189403c02e02": {
      "model_module": "@jupyter-widgets/base",
      "model_module_version": "1.0.0",
      "model_name": "LayoutModel",
      "state": {}
     },
     "0e26bed75d0c418eb910d7df7b9b35a2": {
      "model_module": "@jupyter-widgets/controls",
      "model_module_version": "1.1.0",
      "model_name": "VBoxModel",
      "state": {
       "children": [
        "IPY_MODEL_3db03be525d946e6b94134adf035c076",
        "IPY_MODEL_7500865d96ca4f1dbbe71bbe3f3ec2a7",
        "IPY_MODEL_cd93df0abb2045b1b0b942da07048171"
       ],
       "layout": "IPY_MODEL_b1d3d0d2523446528ab5532399978e55"
      }
     },
     "0e41ab2c9f2d4bd5a35b91ed30d842eb": {
      "model_module": "@jupyter-widgets/output",
      "model_module_version": "1.0.0",
      "model_name": "OutputModel",
      "state": {
       "layout": "IPY_MODEL_fb325d29d305405aadb15c9c620194dc"
      }
     },
     "0e6c7338f70e44378882604da0561cc2": {
      "model_module": "@jupyter-widgets/controls",
      "model_module_version": "1.1.0",
      "model_name": "DescriptionStyleModel",
      "state": {
       "description_width": ""
      }
     },
     "0e82abddfa434d85ad96523c059852c0": {
      "model_module": "@jupyter-widgets/controls",
      "model_module_version": "1.1.0",
      "model_name": "HTMLModel",
      "state": {
       "layout": "IPY_MODEL_b9dafbf2d0b84bf0976d86be0339e1ca",
       "placeholder": "",
       "style": "IPY_MODEL_d2514ee995ae4e4f92e13c5a6fd4aaf1",
       "value": "<b>Choose how to view your data</b>"
      }
     },
     "0e852fdfa7ee435298197d7a6513f634": {
      "model_module": "@jupyter-widgets/controls",
      "model_module_version": "1.1.0",
      "model_name": "TextModel",
      "state": {
       "description": "Folder Path:",
       "layout": "IPY_MODEL_09d0b74b264640e086c322e61cb5ed6a",
       "placeholder": "Upload cleaned dataset",
       "style": "IPY_MODEL_a93bf36ce87a4ef88bd807d0dc87f2fc"
      }
     },
     "0e966ef4552842b2af53069ad3f5c90c": {
      "model_module": "@jupyter-widgets/base",
      "model_module_version": "1.0.0",
      "model_name": "LayoutModel",
      "state": {}
     },
     "0e9f6db161314796b5663cbeb80372f4": {
      "model_module": "@jupyter-widgets/base",
      "model_module_version": "1.0.0",
      "model_name": "LayoutModel",
      "state": {}
     },
     "0ead69faa92b4d93a38084e0a870e3eb": {
      "model_module": "@jupyter-widgets/base",
      "model_module_version": "1.0.0",
      "model_name": "LayoutModel",
      "state": {}
     },
     "0ecedffc4b17409ebca97d6ed2cecc0d": {
      "model_module": "@jupyter-widgets/controls",
      "model_module_version": "1.1.0",
      "model_name": "VBoxModel",
      "state": {
       "children": [
        "IPY_MODEL_bff8addeabaf452cacb333c7148e6700",
        "IPY_MODEL_9dc84f313ee841b4b8fdee74784b3172",
        "IPY_MODEL_a86e40daeb0e40b7928dc081be52729e",
        "IPY_MODEL_c4b77d06a74944a79cbe9d6318d31824"
       ],
       "layout": "IPY_MODEL_4f4241063b6549e5a282ea5611fe7286"
      }
     },
     "0ed9d45d482d4f1fb6b6f5e225e67044": {
      "model_module": "@jupyter-widgets/base",
      "model_module_version": "1.0.0",
      "model_name": "LayoutModel",
      "state": {}
     },
     "0ee66fb90a3a4103aefc427258f019bd": {
      "model_module": "@jupyter-widgets/output",
      "model_module_version": "1.0.0",
      "model_name": "OutputModel",
      "state": {
       "layout": "IPY_MODEL_1466b13dd54f46bf8931ea9e154a9025"
      }
     },
     "0ef955872a1b4332b069f8411f1151ad": {
      "model_module": "@jupyter-widgets/controls",
      "model_module_version": "1.1.0",
      "model_name": "DescriptionStyleModel",
      "state": {
       "description_width": ""
      }
     },
     "0f021d21ca454fd99bb2b2d63abc038e": {
      "model_module": "@jupyter-widgets/controls",
      "model_module_version": "1.1.0",
      "model_name": "VBoxModel",
      "state": {
       "children": [
        "IPY_MODEL_c297b392fccb4b6ba8e4ca8d1a720669",
        "IPY_MODEL_37f30a6ed303442184b60986c314973f"
       ],
       "layout": "IPY_MODEL_01f274df68344a0f91c62ab86f8466b7"
      }
     },
     "0f1738d3e4dd427eb8a4b09c863aa80c": {
      "model_module": "@jupyter-widgets/base",
      "model_module_version": "1.0.0",
      "model_name": "LayoutModel",
      "state": {}
     },
     "0f224e7e093e4b9195eba72124171cb3": {
      "model_module": "@jupyter-widgets/controls",
      "model_module_version": "1.1.0",
      "model_name": "ButtonModel",
      "state": {
       "description": "PCA!",
       "icon": "check",
       "layout": "IPY_MODEL_fe52ab5aaaeb43eb8c06857075740661",
       "style": "IPY_MODEL_5b24b9f66d9f44b0ae79a3761a848815",
       "tooltip": "Click me"
      }
     },
     "0f3eb072c63d441eab83de3f72f3734e": {
      "model_module": "@jupyter-widgets/base",
      "model_module_version": "1.0.0",
      "model_name": "LayoutModel",
      "state": {}
     },
     "0f590219f3c945278d28c5419ee543f4": {
      "model_module": "@jupyter-widgets/controls",
      "model_module_version": "1.1.0",
      "model_name": "ButtonStyleModel",
      "state": {
       "button_color": "orange"
      }
     },
     "0f5a079158ba41d8b973ee01c7b3aec7": {
      "model_module": "@jupyter-widgets/base",
      "model_module_version": "1.0.0",
      "model_name": "LayoutModel",
      "state": {}
     },
     "0f5c9e88fa0d4f10b0015b6b7a5db8cf": {
      "model_module": "@jupyter-widgets/controls",
      "model_module_version": "1.1.0",
      "model_name": "TextModel",
      "state": {
       "description": "Link:",
       "layout": "IPY_MODEL_00980b790be14a779fdb10c6f5b62c87",
       "placeholder": "Paste your mudah.my link here",
       "style": "IPY_MODEL_6a440a4335c547d5870008065aeb87e3"
      }
     },
     "0f701863a884402daea29dbd6699bc29": {
      "model_module": "@jupyter-widgets/base",
      "model_module_version": "1.0.0",
      "model_name": "LayoutModel",
      "state": {}
     },
     "0f81273f9e45416288602c2e1201d91a": {
      "model_module": "@jupyter-widgets/controls",
      "model_module_version": "1.1.0",
      "model_name": "HBoxModel",
      "state": {
       "children": [
        "IPY_MODEL_59bc8770932541a8ad9fcb4d4b5827a2",
        "IPY_MODEL_3b63c7f89bb14e45a62d572659915d37"
       ],
       "layout": "IPY_MODEL_2165021605ff4b1da4abebd3034e966d"
      }
     },
     "0fd6762b073a48d69e635d5e5d7a3cec": {
      "model_module": "@jupyter-widgets/controls",
      "model_module_version": "1.1.0",
      "model_name": "DescriptionStyleModel",
      "state": {
       "description_width": ""
      }
     },
     "10729cc84d1a47df8817ede357b06230": {
      "model_module": "@jupyter-widgets/base",
      "model_module_version": "1.0.0",
      "model_name": "LayoutModel",
      "state": {}
     },
     "108cd0dae4c84f85aeafd2db974ad1e4": {
      "model_module": "@jupyter-widgets/controls",
      "model_module_version": "1.1.0",
      "model_name": "ButtonModel",
      "state": {
       "description": "PCA!",
       "icon": "check",
       "layout": "IPY_MODEL_8cdcb2499d314a0394d54ca4717cb95a",
       "style": "IPY_MODEL_4cc81a74877e406687a4324f1fb4d132",
       "tooltip": "Click me"
      }
     },
     "109764530f2b4328b571557b9cc38a55": {
      "model_module": "@jupyter-widgets/base",
      "model_module_version": "1.0.0",
      "model_name": "LayoutModel",
      "state": {}
     },
     "110369f562b646629cb8f984ec91038b": {
      "model_module": "@jupyter-widgets/base",
      "model_module_version": "1.0.0",
      "model_name": "LayoutModel",
      "state": {}
     },
     "11362fb8a6ea40e8aaac8008915e6187": {
      "model_module": "@jupyter-widgets/controls",
      "model_module_version": "1.1.0",
      "model_name": "DescriptionStyleModel",
      "state": {
       "description_width": ""
      }
     },
     "115192f37c294e198b796f8f08801ef9": {
      "model_module": "@jupyter-widgets/controls",
      "model_module_version": "1.1.0",
      "model_name": "TextModel",
      "state": {
       "description": "Link:",
       "layout": "IPY_MODEL_0f701863a884402daea29dbd6699bc29",
       "placeholder": "Paste your mudah.my link here",
       "style": "IPY_MODEL_54afc9a9d20b4a788e4d7f23e77e4f96"
      }
     },
     "115626fbc20e4df69828eaa950e367b8": {
      "model_module": "@jupyter-widgets/base",
      "model_module_version": "1.0.0",
      "model_name": "LayoutModel",
      "state": {}
     },
     "11593cadfa794d62ac07bbf6b52448f2": {
      "model_module": "@jupyter-widgets/controls",
      "model_module_version": "1.1.0",
      "model_name": "VBoxModel",
      "state": {
       "children": [
        "IPY_MODEL_bc07d51c7bd049b6b214422ef3b7ce70",
        "IPY_MODEL_a56078b5fb524adba1559811a4f8be64"
       ],
       "layout": "IPY_MODEL_a1293ed91b9d460c9055ce84eff1e8f9"
      }
     },
     "11695508161f4a99aeb5947e96b7354b": {
      "model_module": "@jupyter-widgets/base",
      "model_module_version": "1.0.0",
      "model_name": "LayoutModel",
      "state": {}
     },
     "11bcadffff144e24811ea3d15f6bb148": {
      "model_module": "@jupyter-widgets/controls",
      "model_module_version": "1.1.0",
      "model_name": "HTMLModel",
      "state": {
       "layout": "IPY_MODEL_146659d43d204f628343625a74aeacc6",
       "placeholder": "",
       "style": "IPY_MODEL_f260f990f4c14374ae65ccfc5373b324",
       "value": "<b>Choose how to view your data</b>"
      }
     },
     "11c298e780544dffb330a352f6fc5bef": {
      "model_module": "@jupyter-widgets/controls",
      "model_module_version": "1.1.0",
      "model_name": "DescriptionStyleModel",
      "state": {
       "description_width": ""
      }
     },
     "11d12137f9ed48daa7ceaa63de9a68cc": {
      "model_module": "@jupyter-widgets/base",
      "model_module_version": "1.0.0",
      "model_name": "LayoutModel",
      "state": {}
     },
     "11ed0b0dddf248689e60289d0852fb7d": {
      "model_module": "@jupyter-widgets/base",
      "model_module_version": "1.0.0",
      "model_name": "LayoutModel",
      "state": {}
     },
     "11f9eb95f2de44558861dd58023cfa1a": {
      "model_module": "@jupyter-widgets/controls",
      "model_module_version": "1.1.0",
      "model_name": "DescriptionStyleModel",
      "state": {
       "description_width": ""
      }
     },
     "124207c878ba4b65a9153d69ac290a5c": {
      "model_module": "@jupyter-widgets/base",
      "model_module_version": "1.0.0",
      "model_name": "LayoutModel",
      "state": {}
     },
     "1254efcc32ca484dadb555c803692b12": {
      "model_module": "@jupyter-widgets/controls",
      "model_module_version": "1.1.0",
      "model_name": "TextModel",
      "state": {
       "description": "Link:",
       "layout": "IPY_MODEL_6489bb46d2ac46e19c51c149d5c1dddc",
       "placeholder": "Paste your mudah.my link here",
       "style": "IPY_MODEL_af64b0b612c9454b8d33cf19e4771eaa"
      }
     },
     "128937c17586498f9048167ff1e94050": {
      "model_module": "@jupyter-widgets/base",
      "model_module_version": "1.0.0",
      "model_name": "LayoutModel",
      "state": {}
     },
     "12abd5ec8c8b4a0594b56dd1df735c5c": {
      "model_module": "@jupyter-widgets/base",
      "model_module_version": "1.0.0",
      "model_name": "LayoutModel",
      "state": {}
     },
     "12ad6e989f4e4bf48482c2953c046a4a": {
      "model_module": "@jupyter-widgets/base",
      "model_module_version": "1.0.0",
      "model_name": "LayoutModel",
      "state": {}
     },
     "12c17c0d71544449a64891cf9c570ce1": {
      "model_module": "@jupyter-widgets/controls",
      "model_module_version": "1.1.0",
      "model_name": "ButtonModel",
      "state": {
       "description": "PCA!",
       "icon": "check",
       "layout": "IPY_MODEL_2c4af7c005c94c53a91b90e9a9841181",
       "style": "IPY_MODEL_0104fa15dd3149938d9269f4302d0cd3",
       "tooltip": "Click me"
      }
     },
     "12d064893be64184a01b7590ab70b5c7": {
      "model_module": "@jupyter-widgets/base",
      "model_module_version": "1.0.0",
      "model_name": "LayoutModel",
      "state": {}
     },
     "131508a6cdfd4bd2b955ced9d9647fae": {
      "model_module": "@jupyter-widgets/controls",
      "model_module_version": "1.1.0",
      "model_name": "DescriptionStyleModel",
      "state": {
       "description_width": ""
      }
     },
     "131e5d2a3ccb4b169e8118fa73f4bc69": {
      "model_module": "@jupyter-widgets/base",
      "model_module_version": "1.0.0",
      "model_name": "LayoutModel",
      "state": {}
     },
     "135b4b17a81f4c5c87334ebca201bf1a": {
      "model_module": "@jupyter-widgets/base",
      "model_module_version": "1.0.0",
      "model_name": "LayoutModel",
      "state": {}
     },
     "141bd62bf973486fac9191f110b67e88": {
      "model_module": "@jupyter-widgets/base",
      "model_module_version": "1.0.0",
      "model_name": "LayoutModel",
      "state": {}
     },
     "142bba1411d04fc9adc1fe76ba5e2c20": {
      "model_module": "@jupyter-widgets/controls",
      "model_module_version": "1.1.0",
      "model_name": "HTMLModel",
      "state": {
       "description": "Sample Path:",
       "layout": "IPY_MODEL_930002fd3a5c43c2be36f4617f87e93f",
       "placeholder": "",
       "style": "IPY_MODEL_fc7d973d232f4b4b873d7fd8daab6412",
       "value": "<i><b>C:\\Users\\LENOVO\\Documents</b><i>"
      }
     },
     "1434001ed198435db47980dc0df40c2b": {
      "model_module": "@jupyter-widgets/controls",
      "model_module_version": "1.1.0",
      "model_name": "DropdownModel",
      "state": {
       "_options_labels": [
        "-",
        "5",
        "6",
        "7",
        "8",
        "9",
        "10"
       ],
       "description": "Random:",
       "index": 0,
       "layout": "IPY_MODEL_04dc6a1e6c754fd1b3323c60146d421c",
       "style": "IPY_MODEL_01fb11737a1446eabe0322cf981c8fd6"
      }
     },
     "14374f0eed064d1598736c5d70d38f93": {
      "model_module": "@jupyter-widgets/controls",
      "model_module_version": "1.1.0",
      "model_name": "TextModel",
      "state": {
       "description": "CSV file:",
       "layout": "IPY_MODEL_5434d4543b86435aae632c475d1fc08c",
       "placeholder": "Name of cleaned csv file",
       "style": "IPY_MODEL_7bd5d2a5dc34449db5bf20d8048b98e7"
      }
     },
     "145b9b41a51148ad8e13b7f6de7640de": {
      "model_module": "@jupyter-widgets/controls",
      "model_module_version": "1.1.0",
      "model_name": "HTMLModel",
      "state": {
       "description": "Sample Link:",
       "layout": "IPY_MODEL_5eb33036e88c4ee6a665ea968b6781ce",
       "placeholder": "",
       "style": "IPY_MODEL_f0cd74729d1446a7af8427af52f68c10",
       "value": "<i><b>https://www.mudah.my/malaysia/cars-for-sale?o=1&q=&th=1</b><i>"
      }
     },
     "1463349a223449aea52e7071e94c9f1d": {
      "model_module": "@jupyter-widgets/controls",
      "model_module_version": "1.1.0",
      "model_name": "ButtonStyleModel",
      "state": {}
     },
     "146659d43d204f628343625a74aeacc6": {
      "model_module": "@jupyter-widgets/base",
      "model_module_version": "1.0.0",
      "model_name": "LayoutModel",
      "state": {}
     },
     "1466b13dd54f46bf8931ea9e154a9025": {
      "model_module": "@jupyter-widgets/base",
      "model_module_version": "1.0.0",
      "model_name": "LayoutModel",
      "state": {}
     },
     "148c2922c118466b9e2f9ca739f27494": {
      "model_module": "@jupyter-widgets/controls",
      "model_module_version": "1.1.0",
      "model_name": "DescriptionStyleModel",
      "state": {
       "description_width": ""
      }
     },
     "149ffc84bec8472486c44ce917ce3581": {
      "model_module": "@jupyter-widgets/base",
      "model_module_version": "1.0.0",
      "model_name": "LayoutModel",
      "state": {}
     },
     "14b6d3703ab6449586e3e23ff340a40e": {
      "model_module": "@jupyter-widgets/base",
      "model_module_version": "1.0.0",
      "model_name": "LayoutModel",
      "state": {}
     },
     "14bfde8a205e4cbaadd4cb475c87a09d": {
      "model_module": "@jupyter-widgets/base",
      "model_module_version": "1.0.0",
      "model_name": "LayoutModel",
      "state": {}
     },
     "15018f634b314f41b507afa04581f544": {
      "model_module": "@jupyter-widgets/base",
      "model_module_version": "1.0.0",
      "model_name": "LayoutModel",
      "state": {}
     },
     "151e18ab47864636a1a5c1dc430ea8be": {
      "model_module": "@jupyter-widgets/controls",
      "model_module_version": "1.1.0",
      "model_name": "VBoxModel",
      "state": {
       "children": [
        "IPY_MODEL_f0f4d30339af4f93a09f88b384b602ad",
        "IPY_MODEL_ec1d211044904184acf39bd535b44d54"
       ],
       "layout": "IPY_MODEL_80bb5004f56e42ebbb274eb2041c69a4"
      }
     },
     "151f99f0dc5b4882a330a461c5bb6ce0": {
      "model_module": "@jupyter-widgets/base",
      "model_module_version": "1.0.0",
      "model_name": "LayoutModel",
      "state": {}
     },
     "152bcf21d4db4de4920d2573be7359bd": {
      "model_module": "@jupyter-widgets/controls",
      "model_module_version": "1.1.0",
      "model_name": "DescriptionStyleModel",
      "state": {
       "description_width": ""
      }
     },
     "155d4b78586244cfbc5f768518545b9a": {
      "model_module": "@jupyter-widgets/controls",
      "model_module_version": "1.1.0",
      "model_name": "SelectMultipleModel",
      "state": {
       "_options_labels": [
        "Price",
        "Year",
        "Mileage"
       ],
       "description": "Filter by",
       "index": [
        0
       ],
       "layout": "IPY_MODEL_819ca6e3e8ac47d6ae1a041540f59e6b",
       "rows": 3,
       "style": "IPY_MODEL_2e84df838ab64374a5685cbebf7eb0c3"
      }
     },
     "15f27c0f57b146b9bf5a25c47a7491fc": {
      "model_module": "@jupyter-widgets/controls",
      "model_module_version": "1.1.0",
      "model_name": "SelectMultipleModel",
      "state": {
       "_options_labels": [
        "Apples",
        "Oranges",
        "Pears"
       ],
       "description": "Fruits",
       "index": [
        2
       ],
       "layout": "IPY_MODEL_52098c833c5141b1a63541f2aac51231",
       "rows": 5,
       "style": "IPY_MODEL_0fd6762b073a48d69e635d5e5d7a3cec"
      }
     },
     "16627c7a464546539073d30ac61eaf00": {
      "model_module": "@jupyter-widgets/controls",
      "model_module_version": "1.1.0",
      "model_name": "DescriptionStyleModel",
      "state": {
       "description_width": ""
      }
     },
     "16d09be3098848478be9002d125a237b": {
      "model_module": "@jupyter-widgets/controls",
      "model_module_version": "1.1.0",
      "model_name": "ButtonModel",
      "state": {
       "description": "Help",
       "layout": "IPY_MODEL_39b5926c3c7442949ca3d2f0170d1d8b",
       "style": "IPY_MODEL_d12eb7e6c4be42b08457deb9f2162c86"
      }
     },
     "16ff9efbefd247d08a504d274ea066f6": {
      "model_module": "@jupyter-widgets/controls",
      "model_module_version": "1.1.0",
      "model_name": "ImageModel",
      "state": {
       "height": "200",
       "layout": "IPY_MODEL_a5c82542541f49a79982f14fddfd5eca",
       "value": {},
       "width": "100"
      }
     },
     "171fb08161ce4952bf973ab192c9c7db": {
      "model_module": "@jupyter-widgets/controls",
      "model_module_version": "1.1.0",
      "model_name": "DescriptionStyleModel",
      "state": {
       "description_width": ""
      }
     },
     "1754555ca48f44b68eac6d647c93d8c2": {
      "model_module": "@jupyter-widgets/controls",
      "model_module_version": "1.1.0",
      "model_name": "HTMLModel",
      "state": {
       "description": "Sample Path:",
       "layout": "IPY_MODEL_f4c07a8cd81849bab95235e8d9cf6312",
       "placeholder": "",
       "style": "IPY_MODEL_25822193b1cf443899134bd9b5c86dd2",
       "value": "<i><b>C:\\Users\\LENOVO\\Documents</b><i>"
      }
     },
     "177e5e3b0bf04b79a1b614e32c65513d": {
      "model_module": "@jupyter-widgets/controls",
      "model_module_version": "1.1.0",
      "model_name": "DescriptionStyleModel",
      "state": {
       "description_width": ""
      }
     },
     "17846b2ed1304a25b3e1fe1ef7ed8c91": {
      "model_module": "@jupyter-widgets/base",
      "model_module_version": "1.0.0",
      "model_name": "LayoutModel",
      "state": {}
     },
     "17addc9cad744fbf8d70a0a157b09b09": {
      "model_module": "@jupyter-widgets/base",
      "model_module_version": "1.0.0",
      "model_name": "LayoutModel",
      "state": {}
     },
     "17cb28b44aca474f8b49243527ed1be9": {
      "model_module": "@jupyter-widgets/controls",
      "model_module_version": "1.1.0",
      "model_name": "ButtonModel",
      "state": {
       "description": "PCA!",
       "icon": "check",
       "layout": "IPY_MODEL_50b580d0de6b47c386f6db96cff7ffea",
       "style": "IPY_MODEL_03eb1abcacac4787b340b84fcfac04b8",
       "tooltip": "Click me"
      }
     },
     "17fdde1f1dfa423ca06b64029b644703": {
      "model_module": "@jupyter-widgets/controls",
      "model_module_version": "1.1.0",
      "model_name": "HBoxModel",
      "state": {
       "children": [
        "IPY_MODEL_cd06c66d18f44c7e8a8cc80f0159bedf",
        "IPY_MODEL_693938af70604e9bb1f309cb919ebe66",
        "IPY_MODEL_ad71414090af44fe895e4752933f2369"
       ],
       "layout": "IPY_MODEL_cda1a9a9ac744f3b842fc66a7760db74"
      }
     },
     "1813cf967ca84c8d9dd9b3ea10b475e1": {
      "model_module": "@jupyter-widgets/controls",
      "model_module_version": "1.1.0",
      "model_name": "TabModel",
      "state": {
       "_titles": {
        "0": "1. Extaction",
        "1": "2. Data",
        "2": "3. Evaluation"
       },
       "children": [
        "IPY_MODEL_c1aed1dbd974447390e3105e74d28fa1",
        "IPY_MODEL_39a38648b25245beb3b94a9a187da42c",
        "IPY_MODEL_4068c4dc90874ad380723c093b3e743a"
       ],
       "layout": "IPY_MODEL_eaf02c94cddf43488b97d9121db4753f",
       "selected_index": 2
      }
     },
     "182af986d08e4c4499ecec46fe356e46": {
      "model_module": "@jupyter-widgets/controls",
      "model_module_version": "1.1.0",
      "model_name": "ButtonModel",
      "state": {
       "description": "PCA!",
       "icon": "check",
       "layout": "IPY_MODEL_62dd8514c56645feb9b8157688908837",
       "style": "IPY_MODEL_706b013bcd9348faacda836354920ff4",
       "tooltip": "Click me"
      }
     },
     "18381d9317824eeaa86a0a37f2be14cc": {
      "model_module": "@jupyter-widgets/controls",
      "model_module_version": "1.1.0",
      "model_name": "HTMLModel",
      "state": {
       "layout": "IPY_MODEL_6fbebd75659c47ffaf8a38fc680fe4ae",
       "placeholder": "",
       "style": "IPY_MODEL_0ae7224d02a94a9ca0661ede24497fb2",
       "value": "<b>Scammer Detector</b>"
      }
     },
     "184d405eef4c41a79f41b635fbd8bfa2": {
      "model_module": "@jupyter-widgets/controls",
      "model_module_version": "1.1.0",
      "model_name": "VBoxModel",
      "state": {
       "children": [
        "IPY_MODEL_3aa3a1e89e4345b5b14b92452063cb85",
        "IPY_MODEL_17fdde1f1dfa423ca06b64029b644703"
       ],
       "layout": "IPY_MODEL_9704bbaca84a487b8d126231a119accd"
      }
     },
     "186b6ab3fdfa49a8ba2c0aaf4e927354": {
      "model_module": "@jupyter-widgets/controls",
      "model_module_version": "1.1.0",
      "model_name": "ButtonStyleModel",
      "state": {}
     },
     "189bfc24a3cb42e5a23629439dc99157": {
      "model_module": "@jupyter-widgets/controls",
      "model_module_version": "1.1.0",
      "model_name": "SelectMultipleModel",
      "state": {
       "_options_labels": [
        "Price",
        "Year",
        "Mileage"
       ],
       "description": "Filter by",
       "index": [
        0
       ],
       "layout": "IPY_MODEL_4e39bd0128f140df895ae83a2a3f6924",
       "rows": 3,
       "style": "IPY_MODEL_5212f7deb686456890f50a61a77e5391"
      }
     },
     "18b2dbdd338b4d23bfdff93633479890": {
      "model_module": "@jupyter-widgets/controls",
      "model_module_version": "1.1.0",
      "model_name": "VBoxModel",
      "state": {
       "children": [
        "IPY_MODEL_291438f326054acdaa45f5badf672dc0",
        "IPY_MODEL_74f656a1e974496e86d2af3e71dae701"
       ],
       "layout": "IPY_MODEL_0de3ca36dc7c49ada6ee189403c02e02"
      }
     },
     "18d604ed692d436290d29cd29e066e89": {
      "model_module": "@jupyter-widgets/controls",
      "model_module_version": "1.1.0",
      "model_name": "ButtonStyleModel",
      "state": {
       "button_color": "lightblue"
      }
     },
     "18e315c2bf84412ca96f2daa964e2402": {
      "model_module": "@jupyter-widgets/controls",
      "model_module_version": "1.1.0",
      "model_name": "TextModel",
      "state": {
       "description": "Folder Path:",
       "layout": "IPY_MODEL_7da4c5955b9448e5b04bfd9ce79bdf1e",
       "placeholder": "Upload cleaned dataset",
       "style": "IPY_MODEL_11f9eb95f2de44558861dd58023cfa1a"
      }
     },
     "18fad7d4f94e41869b4f29c3082cd9b5": {
      "model_module": "@jupyter-widgets/controls",
      "model_module_version": "1.1.0",
      "model_name": "DescriptionStyleModel",
      "state": {
       "description_width": ""
      }
     },
     "19bf7d8f36ab405f933da298dd9def5b": {
      "model_module": "@jupyter-widgets/controls",
      "model_module_version": "1.1.0",
      "model_name": "HTMLModel",
      "state": {
       "layout": "IPY_MODEL_2680d592a79c4e7c85179eb33e0ff8bc",
       "placeholder": "",
       "style": "IPY_MODEL_6ab396ffcfaf4ade83637c64f3e66001",
       "value": "<b>Click to view Potential Scammers!!<b>"
      }
     },
     "19c580ec9e364aeb89d22b5f793cd39b": {
      "model_module": "@jupyter-widgets/base",
      "model_module_version": "1.0.0",
      "model_name": "LayoutModel",
      "state": {}
     },
     "19c8f2fcaba64689b092b1fed64c5a9b": {
      "model_module": "@jupyter-widgets/base",
      "model_module_version": "1.0.0",
      "model_name": "LayoutModel",
      "state": {}
     },
     "19d15d9628f543c79d6a608ad3757120": {
      "model_module": "@jupyter-widgets/controls",
      "model_module_version": "1.1.0",
      "model_name": "ButtonModel",
      "state": {
       "description": "PCA!",
       "icon": "check",
       "layout": "IPY_MODEL_128937c17586498f9048167ff1e94050",
       "style": "IPY_MODEL_082275945579472bbb03a19d68a6063e",
       "tooltip": "Click me"
      }
     },
     "19ea8e1d93294535be11c7a5f581648d": {
      "model_module": "@jupyter-widgets/controls",
      "model_module_version": "1.1.0",
      "model_name": "DescriptionStyleModel",
      "state": {
       "description_width": ""
      }
     },
     "1a0cbf84b7a8455d82ebb18859d4f60c": {
      "model_module": "@jupyter-widgets/base",
      "model_module_version": "1.0.0",
      "model_name": "LayoutModel",
      "state": {}
     },
     "1a2447fa27484d5e83ad3e9c7e11fef4": {
      "model_module": "@jupyter-widgets/base",
      "model_module_version": "1.0.0",
      "model_name": "LayoutModel",
      "state": {}
     },
     "1a30954b1cde44f180632b27f3a86c67": {
      "model_module": "@jupyter-widgets/controls",
      "model_module_version": "1.1.0",
      "model_name": "AccordionModel",
      "state": {
       "_titles": {
        "0": "Upload",
        "1": "View"
       },
       "children": [
        "IPY_MODEL_8199381d33aa4f0b9b0b8484f7840b95",
        "IPY_MODEL_f4b16dd260cf4a688580fab0f91b6bbb"
       ],
       "layout": "IPY_MODEL_6eb5fd35fa414f23a9604aaef12aea9b",
       "selected_index": null
      }
     },
     "1a6656e5fb2c4dbb99cbcff85f81aad0": {
      "model_module": "@jupyter-widgets/base",
      "model_module_version": "1.0.0",
      "model_name": "LayoutModel",
      "state": {}
     },
     "1a9728caf05943d39649ced6fdc2b9e2": {
      "model_module": "@jupyter-widgets/controls",
      "model_module_version": "1.1.0",
      "model_name": "DescriptionStyleModel",
      "state": {
       "description_width": ""
      }
     },
     "1b056cc58aae458eb5eab8e8cb712f09": {
      "model_module": "@jupyter-widgets/controls",
      "model_module_version": "1.1.0",
      "model_name": "ButtonStyleModel",
      "state": {
       "button_color": "salmon"
      }
     },
     "1b68f74aa84945db96ae1d1d7c31aa97": {
      "model_module": "@jupyter-widgets/controls",
      "model_module_version": "1.1.0",
      "model_name": "ButtonModel",
      "state": {
       "description": "Potential Scammers!!",
       "icon": "check",
       "layout": "IPY_MODEL_91ccf868e684456aa02edd0c9e3afbed",
       "style": "IPY_MODEL_b1a27e6b3e49444cbf4724649fd72f5b",
       "tooltip": "Click me"
      }
     },
     "1b714a95f166489681d0cd917c0314ab": {
      "model_module": "@jupyter-widgets/controls",
      "model_module_version": "1.1.0",
      "model_name": "TabModel",
      "state": {
       "_titles": {
        "0": "1. Extaction",
        "1": "2. Data",
        "2": "3. Evaluation"
       },
       "children": [
        "IPY_MODEL_c1aed1dbd974447390e3105e74d28fa1",
        "IPY_MODEL_1a30954b1cde44f180632b27f3a86c67",
        "IPY_MODEL_c0c962a955ec492795f4dfb069d38909"
       ],
       "layout": "IPY_MODEL_02e5b10a5ff5461a9253736c1ecf2e49",
       "selected_index": 2
      }
     },
     "1b74b351c80e49daacdc6820fff363ed": {
      "model_module": "@jupyter-widgets/controls",
      "model_module_version": "1.1.0",
      "model_name": "ButtonStyleModel",
      "state": {
       "button_color": "red"
      }
     },
     "1b7f0a1d6a5145499df57781efa59081": {
      "model_module": "@jupyter-widgets/controls",
      "model_module_version": "1.1.0",
      "model_name": "DescriptionStyleModel",
      "state": {
       "description_width": ""
      }
     },
     "1b8a307ce0424be39e655d9a9cf6be93": {
      "model_module": "@jupyter-widgets/base",
      "model_module_version": "1.0.0",
      "model_name": "LayoutModel",
      "state": {}
     },
     "1bd01e0220f14928a4fa87a3675afc60": {
      "model_module": "@jupyter-widgets/controls",
      "model_module_version": "1.1.0",
      "model_name": "ButtonStyleModel",
      "state": {}
     },
     "1be6d14e96244fe7885c724e0226f837": {
      "model_module": "@jupyter-widgets/controls",
      "model_module_version": "1.1.0",
      "model_name": "ButtonModel",
      "state": {
       "description": "PCA!",
       "icon": "check",
       "layout": "IPY_MODEL_513a586bb2f34a8abdd959200753c0c4",
       "style": "IPY_MODEL_243f00114ab0469692334c1e57f8fc59",
       "tooltip": "Click me"
      }
     },
     "1bf65aa3d07e4285892a168723fda513": {
      "model_module": "@jupyter-widgets/controls",
      "model_module_version": "1.1.0",
      "model_name": "TabModel",
      "state": {
       "_titles": {
        "0": "1. Extaction",
        "1": "2. Data",
        "2": "3. Evaluation"
       },
       "children": [
        "IPY_MODEL_d39d4d33c62f463e9421653dfab37d67",
        "IPY_MODEL_8f974d4e31a849b88895209378e6aa5b",
        "IPY_MODEL_c52e5f11f080475597c90a18038791ca"
       ],
       "layout": "IPY_MODEL_a68802321dc845ce9092bb674b54b0bf"
      }
     },
     "1bf8bee75d58464986fa5c1588cd86f4": {
      "model_module": "@jupyter-widgets/controls",
      "model_module_version": "1.1.0",
      "model_name": "ButtonStyleModel",
      "state": {}
     },
     "1bfa506eb0d3425e86cc3101e9db8dac": {
      "model_module": "@jupyter-widgets/controls",
      "model_module_version": "1.1.0",
      "model_name": "TabModel",
      "state": {
       "_titles": {
        "0": "1. Extaction",
        "1": "2. Data",
        "2": "3. Evaluation"
       },
       "children": [
        "IPY_MODEL_8febf1bba490400eb4f2746bc270c4ea",
        "IPY_MODEL_071ee458b94a45c59a12b475eaf57b5d",
        "IPY_MODEL_36730152050c4b7c987213daecf79499"
       ],
       "layout": "IPY_MODEL_eadebdb5911344328504ea327029b529"
      }
     },
     "1c1ed7532e06473caff005e2e65d5d0f": {
      "model_module": "@jupyter-widgets/controls",
      "model_module_version": "1.1.0",
      "model_name": "ButtonStyleModel",
      "state": {
       "button_color": "orange"
      }
     },
     "1c2a3b52faa447c3995a255e2f8a9205": {
      "model_module": "@jupyter-widgets/controls",
      "model_module_version": "1.1.0",
      "model_name": "HTMLModel",
      "state": {
       "description": "Sample CSV:",
       "layout": "IPY_MODEL_abeec1379f4e4df1bc0f7e7d4de9fea6",
       "placeholder": "",
       "style": "IPY_MODEL_406412969890483fa083a148e3a3f9f4",
       "value": "<i><b>kereta</b><i>"
      }
     },
     "1c6293fa79404493b7f60d22ebaca048": {
      "model_module": "@jupyter-widgets/base",
      "model_module_version": "1.0.0",
      "model_name": "LayoutModel",
      "state": {}
     },
     "1ca7b12e576647a1b9480a774619cc92": {
      "model_module": "@jupyter-widgets/base",
      "model_module_version": "1.0.0",
      "model_name": "LayoutModel",
      "state": {}
     },
     "1cae5d95f7c7417a8fc26a7a03f1bf8b": {
      "model_module": "@jupyter-widgets/base",
      "model_module_version": "1.0.0",
      "model_name": "LayoutModel",
      "state": {}
     },
     "1cc473e2c58b4eb588a135dc94c41469": {
      "model_module": "@jupyter-widgets/controls",
      "model_module_version": "1.1.0",
      "model_name": "ButtonStyleModel",
      "state": {
       "button_color": "lightblue"
      }
     },
     "1ce6548ed6c34a5bbd459b47089de0c5": {
      "model_module": "@jupyter-widgets/controls",
      "model_module_version": "1.1.0",
      "model_name": "DescriptionStyleModel",
      "state": {
       "description_width": ""
      }
     },
     "1ced1c919f404392be64e810291c9a1e": {
      "model_module": "@jupyter-widgets/controls",
      "model_module_version": "1.1.0",
      "model_name": "VBoxModel",
      "state": {
       "children": [
        "IPY_MODEL_2a4527789f434a1dbb6f429b8fba6157",
        "IPY_MODEL_0ee66fb90a3a4103aefc427258f019bd"
       ],
       "layout": "IPY_MODEL_911ef437d99b454990b1385146f865fb"
      }
     },
     "1cfccb623c204cd89fd9da8ff24c6f81": {
      "model_module": "@jupyter-widgets/controls",
      "model_module_version": "1.1.0",
      "model_name": "HTMLModel",
      "state": {
       "layout": "IPY_MODEL_38f36785d68a44ec8b6566cf41957bca",
       "placeholder": "",
       "style": "IPY_MODEL_11362fb8a6ea40e8aaac8008915e6187",
       "value": "<b>Scammer Detector<b>"
      }
     },
     "1d127cf807e7476b85d326960f41279b": {
      "model_module": "@jupyter-widgets/base",
      "model_module_version": "1.0.0",
      "model_name": "LayoutModel",
      "state": {}
     },
     "1d243245ceb6468c82dfad0c87a24468": {
      "model_module": "@jupyter-widgets/base",
      "model_module_version": "1.0.0",
      "model_name": "LayoutModel",
      "state": {}
     },
     "1d68ac9ddc0c495a8a65c87302098c17": {
      "model_module": "@jupyter-widgets/controls",
      "model_module_version": "1.1.0",
      "model_name": "DescriptionStyleModel",
      "state": {
       "description_width": ""
      }
     },
     "1dc419c3ed084aab9fbf15949db74cd3": {
      "model_module": "@jupyter-widgets/controls",
      "model_module_version": "1.1.0",
      "model_name": "DropdownModel",
      "state": {
       "_options_labels": [
        "-",
        "5",
        "6",
        "7",
        "8",
        "9",
        "10"
       ],
       "description": "Random:",
       "index": 0,
       "layout": "IPY_MODEL_ad7dcf332328409e8b40f8b97037e810",
       "style": "IPY_MODEL_671f719b5fd34652835203bb29619877"
      }
     },
     "1df7df90be88455980fc5cafe08238fc": {
      "model_module": "@jupyter-widgets/base",
      "model_module_version": "1.0.0",
      "model_name": "LayoutModel",
      "state": {}
     },
     "1e3720f780ac4e5db9025ae5fde078a3": {
      "model_module": "@jupyter-widgets/controls",
      "model_module_version": "1.1.0",
      "model_name": "VBoxModel",
      "state": {
       "children": [
        "IPY_MODEL_f0e7f876d6de48c887e28e12aca33e72",
        "IPY_MODEL_9e6b2fb55acd4f4684c4f41d150fda76"
       ],
       "layout": "IPY_MODEL_b8c2704276a640749b4a833bd7dda28e"
      }
     },
     "1e41d34256194006b6cc8a2d893c7cb7": {
      "model_module": "@jupyter-widgets/controls",
      "model_module_version": "1.1.0",
      "model_name": "DescriptionStyleModel",
      "state": {
       "description_width": ""
      }
     },
     "1e4cee9b5b3f464fac7faea7b09d8789": {
      "model_module": "@jupyter-widgets/controls",
      "model_module_version": "1.1.0",
      "model_name": "TextModel",
      "state": {
       "description": "Folder Path:",
       "layout": "IPY_MODEL_616a55b9bafb40bd9fefaaeb8c40050a",
       "placeholder": "Upload cleaned dataset",
       "style": "IPY_MODEL_b006bdffd82a4a67afcd014ba1b4c982"
      }
     },
     "1e6b6dee8b0a48e28dbf52e27201e709": {
      "model_module": "@jupyter-widgets/controls",
      "model_module_version": "1.1.0",
      "model_name": "ButtonStyleModel",
      "state": {}
     },
     "1e6da07083cb442ba1681bb1bb856e50": {
      "model_module": "@jupyter-widgets/controls",
      "model_module_version": "1.1.0",
      "model_name": "DescriptionStyleModel",
      "state": {
       "description_width": ""
      }
     },
     "1e6f87a2f54d41fba15df37a76808ff1": {
      "model_module": "@jupyter-widgets/controls",
      "model_module_version": "1.1.0",
      "model_name": "HTMLModel",
      "state": {
       "description": "Sample:",
       "layout": "IPY_MODEL_a4480917bef24993b5d962a762fd2a0c",
       "placeholder": "",
       "style": "IPY_MODEL_c65ad905c3e54ce19c2d9cd773de5429",
       "value": "Hello <b>World</b>"
      }
     },
     "1e95daab28ce4d1ba0009edc95d36b16": {
      "model_module": "@jupyter-widgets/controls",
      "model_module_version": "1.1.0",
      "model_name": "ButtonStyleModel",
      "state": {
       "button_color": "orange"
      }
     },
     "1ea55175cd0c4fe79a478408502695cd": {
      "model_module": "@jupyter-widgets/controls",
      "model_module_version": "1.1.0",
      "model_name": "AccordionModel",
      "state": {
       "_titles": {
        "0": "Method",
        "1": "Analysis",
        "2": "Result"
       },
       "children": [
        "IPY_MODEL_7dbe9e34b9584a56b870dcb357e22a82",
        "IPY_MODEL_c86915e5c50d41209d39114a87ca4aff",
        "IPY_MODEL_bc5707130da84f9591aee6ff697cd9cb"
       ],
       "layout": "IPY_MODEL_c48961283361492592bbbccb88b3d3c6",
       "selected_index": null
      }
     },
     "1ee5c6c6332b451d8417a32ea6393c52": {
      "model_module": "@jupyter-widgets/base",
      "model_module_version": "1.0.0",
      "model_name": "LayoutModel",
      "state": {}
     },
     "1ef7d426f6a643b8bfb811433d6b1d19": {
      "model_module": "@jupyter-widgets/base",
      "model_module_version": "1.0.0",
      "model_name": "LayoutModel",
      "state": {}
     },
     "1f59adb5c1814c76b05069848982b4cc": {
      "model_module": "@jupyter-widgets/base",
      "model_module_version": "1.0.0",
      "model_name": "LayoutModel",
      "state": {}
     },
     "1f6bda5a3c154a4b930787e490203d21": {
      "model_module": "@jupyter-widgets/controls",
      "model_module_version": "1.1.0",
      "model_name": "VBoxModel",
      "state": {
       "children": [
        "IPY_MODEL_11bcadffff144e24811ea3d15f6bb148",
        "IPY_MODEL_250c31fe0bf14b2c9644ccc34ace583f"
       ],
       "layout": "IPY_MODEL_766f3f4b481e43239646046b2136a1b1"
      }
     },
     "1f7c46d946ab47d3984debd2fe52ee04": {
      "model_module": "@jupyter-widgets/base",
      "model_module_version": "1.0.0",
      "model_name": "LayoutModel",
      "state": {}
     },
     "1f839f692dbf4c74b6dd5ba1615e5ec7": {
      "model_module": "@jupyter-widgets/controls",
      "model_module_version": "1.1.0",
      "model_name": "ButtonStyleModel",
      "state": {
       "button_color": "orange"
      }
     },
     "1fe361ebfca0451daab6fc8201718732": {
      "model_module": "@jupyter-widgets/controls",
      "model_module_version": "1.1.0",
      "model_name": "DropdownModel",
      "state": {
       "_options_labels": [
        "-",
        "5",
        "6",
        "7",
        "8",
        "9",
        "10"
       ],
       "description": "Tail:",
       "index": 0,
       "layout": "IPY_MODEL_0889f636671f457e94e6c538c7147e1b",
       "style": "IPY_MODEL_491bf6bf495645b38dffaad8e603d413"
      }
     },
     "1fe6d1a4707743498926306c550c317f": {
      "model_module": "@jupyter-widgets/controls",
      "model_module_version": "1.1.0",
      "model_name": "DescriptionStyleModel",
      "state": {
       "description_width": ""
      }
     },
     "202d749657524f8ab4c18d6fb115f936": {
      "model_module": "@jupyter-widgets/base",
      "model_module_version": "1.0.0",
      "model_name": "LayoutModel",
      "state": {}
     },
     "20644df8c54249aca0924641f235a5ca": {
      "model_module": "@jupyter-widgets/base",
      "model_module_version": "1.0.0",
      "model_name": "LayoutModel",
      "state": {}
     },
     "20b29c6bc11345f491ca3b7a619142e2": {
      "model_module": "@jupyter-widgets/controls",
      "model_module_version": "1.1.0",
      "model_name": "DescriptionStyleModel",
      "state": {
       "description_width": ""
      }
     },
     "20b7c44cb66445b596a4c3e0c0806b80": {
      "model_module": "@jupyter-widgets/controls",
      "model_module_version": "1.1.0",
      "model_name": "DescriptionStyleModel",
      "state": {
       "description_width": ""
      }
     },
     "20ca91251a074e8ab9be7b0648dbf06f": {
      "model_module": "@jupyter-widgets/controls",
      "model_module_version": "1.1.0",
      "model_name": "DescriptionStyleModel",
      "state": {
       "description_width": ""
      }
     },
     "20ff954edf314829bd8670504ef332da": {
      "model_module": "@jupyter-widgets/controls",
      "model_module_version": "1.1.0",
      "model_name": "DropdownModel",
      "state": {
       "_options_labels": [
        "-",
        "5",
        "6",
        "7",
        "8",
        "9",
        "10"
       ],
       "description": "Tail:",
       "index": 0,
       "layout": "IPY_MODEL_f601581343994d9b92c7de1d2d9e1202",
       "style": "IPY_MODEL_18fad7d4f94e41869b4f29c3082cd9b5"
      }
     },
     "21047df8bb4f4d80b1088559f4dd3100": {
      "model_module": "@jupyter-widgets/controls",
      "model_module_version": "1.1.0",
      "model_name": "TabModel",
      "state": {
       "_titles": {
        "0": "1. Extaction",
        "1": "2. Data",
        "2": "3. Evaluation"
       },
       "children": [
        "IPY_MODEL_04c5589af6474b179bea8b55a163c4eb",
        "IPY_MODEL_aa9617ffc542401ab9c96d599b61dd14",
        "IPY_MODEL_911066084d6046b19dbd18543e4db6c4"
       ],
       "layout": "IPY_MODEL_3dccfb7c7d8c4036bfb552852f91e45b"
      }
     },
     "2140d71e91524110914f2efe5bf2861b": {
      "model_module": "@jupyter-widgets/base",
      "model_module_version": "1.0.0",
      "model_name": "LayoutModel",
      "state": {}
     },
     "2150b2633c85480ab1c8d0f2c47122c2": {
      "model_module": "@jupyter-widgets/base",
      "model_module_version": "1.0.0",
      "model_name": "LayoutModel",
      "state": {}
     },
     "21635d7bdb284e36bf9514a452fa853b": {
      "model_module": "@jupyter-widgets/base",
      "model_module_version": "1.0.0",
      "model_name": "LayoutModel",
      "state": {}
     },
     "216492d87f9245b091e1beddfc70a7cc": {
      "model_module": "@jupyter-widgets/base",
      "model_module_version": "1.0.0",
      "model_name": "LayoutModel",
      "state": {}
     },
     "2165021605ff4b1da4abebd3034e966d": {
      "model_module": "@jupyter-widgets/base",
      "model_module_version": "1.0.0",
      "model_name": "LayoutModel",
      "state": {}
     },
     "217d8d2c7c944e13a2282bbc9dd72a80": {
      "model_module": "@jupyter-widgets/base",
      "model_module_version": "1.0.0",
      "model_name": "LayoutModel",
      "state": {}
     },
     "21f12a60907c45e1a1af8b9490b795e6": {
      "model_module": "@jupyter-widgets/controls",
      "model_module_version": "1.1.0",
      "model_name": "HBoxModel",
      "state": {
       "children": [
        "IPY_MODEL_ad554b86f3d34ef99e0ee16199f8899c",
        "IPY_MODEL_9ed867bca7154bcf9bce2a11c96c7759",
        "IPY_MODEL_791ea0f6df0648b9b09033b255ca8d1d",
        "IPY_MODEL_6235a2ccd1b64a54a285f9ed8e85e486"
       ],
       "layout": "IPY_MODEL_39e4dea58c76442198f742cb5b6c1155"
      }
     },
     "21fb62e5b4b149e1b76ea581c6cd95b0": {
      "model_module": "@jupyter-widgets/controls",
      "model_module_version": "1.1.0",
      "model_name": "ButtonModel",
      "state": {
       "description": "Boxplot",
       "icon": "check",
       "layout": "IPY_MODEL_d6f021010b184fa29be84bc9d9b7153d",
       "style": "IPY_MODEL_c75e4c3659ee4b91aa61d10ba8a56244",
       "tooltip": "Click me"
      }
     },
     "2248dff72aa84140bd2b7e8327ee51e6": {
      "model_module": "@jupyter-widgets/controls",
      "model_module_version": "1.1.0",
      "model_name": "HBoxModel",
      "state": {
       "children": [
        "IPY_MODEL_5323d478252f40a29a4a164d1892e990",
        "IPY_MODEL_7d64523f4c6744438377acdc6eb4ac1d",
        "IPY_MODEL_eb1693c7b5f34c6497ecdbd64967b6cb",
        "IPY_MODEL_a7e6c3a93971429e85998f645c098832"
       ],
       "layout": "IPY_MODEL_afec41788b0046a6858e761ed6489e20"
      }
     },
     "22573ce4d05143eba96aeb2ac1ac0a5f": {
      "model_module": "@jupyter-widgets/controls",
      "model_module_version": "1.1.0",
      "model_name": "DropdownModel",
      "state": {
       "_options_labels": [
        "-",
        "5",
        "6",
        "7",
        "8",
        "9",
        "10"
       ],
       "description": "Random:",
       "index": 0,
       "layout": "IPY_MODEL_62d2084db5954e80b1da99b9f70f24f4",
       "style": "IPY_MODEL_8d3db53426af44d5a41a6ca008531934"
      }
     },
     "2258d0af3339453ca4397679d5cb942c": {
      "model_module": "@jupyter-widgets/base",
      "model_module_version": "1.0.0",
      "model_name": "LayoutModel",
      "state": {}
     },
     "22ab7a3e9f374283873321cb65ce4b92": {
      "model_module": "@jupyter-widgets/base",
      "model_module_version": "1.0.0",
      "model_name": "LayoutModel",
      "state": {}
     },
     "23005d79f0e24aea8d4b8714b705fa98": {
      "model_module": "@jupyter-widgets/base",
      "model_module_version": "1.0.0",
      "model_name": "LayoutModel",
      "state": {}
     },
     "230f075524014772b783689d88c9730b": {
      "model_module": "@jupyter-widgets/base",
      "model_module_version": "1.0.0",
      "model_name": "LayoutModel",
      "state": {}
     },
     "2323a122ec3943d0bb69e8a30616abcc": {
      "model_module": "@jupyter-widgets/controls",
      "model_module_version": "1.1.0",
      "model_name": "TextModel",
      "state": {
       "description": "P3",
       "layout": "IPY_MODEL_7215a81d12c547d795845bc22f51ab31",
       "style": "IPY_MODEL_ee003447177442d9bc7aa6589e9f2c69"
      }
     },
     "2365eaab6dfa46369f88bfafe01fe59e": {
      "model_module": "@jupyter-widgets/controls",
      "model_module_version": "1.1.0",
      "model_name": "TextModel",
      "state": {
       "description": "Folder Path:",
       "layout": "IPY_MODEL_9be4ba4a74684085a0bf4296229f5937",
       "placeholder": "Save Scraped Dataset",
       "style": "IPY_MODEL_0864fe29720e483bbd5c9ab254de660c"
      }
     },
     "2367675f42aa4336ae210ab5d0fc0724": {
      "model_module": "@jupyter-widgets/controls",
      "model_module_version": "1.1.0",
      "model_name": "VBoxModel",
      "state": {
       "children": [
        "IPY_MODEL_37ab7a829cd34ba99557bfdf4ab96971",
        "IPY_MODEL_7bd7f1d7bcd04e95bc5fa623df37ed89"
       ],
       "layout": "IPY_MODEL_b05018464eed4886b0d7e6199f54125f"
      }
     },
     "23d04ddb539e49a886d671fe90e3c856": {
      "model_module": "@jupyter-widgets/controls",
      "model_module_version": "1.1.0",
      "model_name": "SelectMultipleModel",
      "state": {
       "_options_labels": [
        "Price",
        "year",
        "Mileage"
       ],
       "description": "Filter by",
       "index": [
        2
       ],
       "layout": "IPY_MODEL_56c945b03b6a48279f93d19dff241f48",
       "rows": 5,
       "style": "IPY_MODEL_1e6da07083cb442ba1681bb1bb856e50"
      }
     },
     "24067bcd3c864efea462f2fb19fd54c3": {
      "model_module": "@jupyter-widgets/base",
      "model_module_version": "1.0.0",
      "model_name": "LayoutModel",
      "state": {}
     },
     "240d224b925e4e67bc456f5ad7ce3ef9": {
      "model_module": "@jupyter-widgets/base",
      "model_module_version": "1.0.0",
      "model_name": "LayoutModel",
      "state": {}
     },
     "2422beb9bdcb42fe89bda09a307dcba5": {
      "model_module": "@jupyter-widgets/controls",
      "model_module_version": "1.1.0",
      "model_name": "HTMLModel",
      "state": {
       "layout": "IPY_MODEL_6773e9b49e414035a0eb1c09e88bfd94",
       "placeholder": "",
       "style": "IPY_MODEL_e29ef41d57134551b38a93fe1ce4644b",
       "value": "<b>Click to view Potential Scammers!!<b>"
      }
     },
     "242c34b0f608470282166454bfb38131": {
      "model_module": "@jupyter-widgets/base",
      "model_module_version": "1.0.0",
      "model_name": "LayoutModel",
      "state": {}
     },
     "243f00114ab0469692334c1e57f8fc59": {
      "model_module": "@jupyter-widgets/controls",
      "model_module_version": "1.1.0",
      "model_name": "ButtonStyleModel",
      "state": {}
     },
     "243f6bf741f543c08f930129587cb387": {
      "model_module": "@jupyter-widgets/controls",
      "model_module_version": "1.1.0",
      "model_name": "AccordionModel",
      "state": {
       "_titles": {
        "0": "Source",
        "1": "Save",
        "2": "Scrap"
       },
       "children": [
        "IPY_MODEL_c8980fffa0fd4b18bc759f525d4dbfae",
        "IPY_MODEL_370a6c602b9f4f83b43fdf65e49e035a",
        "IPY_MODEL_71832e9d9e444b6a914f67fa58b0f049"
       ],
       "layout": "IPY_MODEL_6a0c69bac42941b4b8b3e9055227e715"
      }
     },
     "244dd8479a904635800836983de679a7": {
      "model_module": "@jupyter-widgets/controls",
      "model_module_version": "1.1.0",
      "model_name": "VBoxModel",
      "state": {
       "children": [
        "IPY_MODEL_c112f66068e44d9ab0150dcb4546280d",
        "IPY_MODEL_2365eaab6dfa46369f88bfafe01fe59e",
        "IPY_MODEL_1c2a3b52faa447c3995a255e2f8a9205",
        "IPY_MODEL_6da1c2afb6744382a8acb68537abedf3"
       ],
       "layout": "IPY_MODEL_1ef7d426f6a643b8bfb811433d6b1d19"
      }
     },
     "248e334970014a6b8c48f0f5c0b885e5": {
      "model_module": "@jupyter-widgets/base",
      "model_module_version": "1.0.0",
      "model_name": "LayoutModel",
      "state": {}
     },
     "24c8e7cc727340c59108088e145cee00": {
      "model_module": "@jupyter-widgets/controls",
      "model_module_version": "1.1.0",
      "model_name": "DescriptionStyleModel",
      "state": {
       "description_width": ""
      }
     },
     "24e12410406d4bb597de4a2a08ba4784": {
      "model_module": "@jupyter-widgets/base",
      "model_module_version": "1.0.0",
      "model_name": "LayoutModel",
      "state": {}
     },
     "24e77c448d57443ea17a534f8817d44e": {
      "model_module": "@jupyter-widgets/controls",
      "model_module_version": "1.1.0",
      "model_name": "DescriptionStyleModel",
      "state": {
       "description_width": ""
      }
     },
     "2503a9fd007741ba98505e762700029e": {
      "model_module": "@jupyter-widgets/base",
      "model_module_version": "1.0.0",
      "model_name": "LayoutModel",
      "state": {}
     },
     "250c31fe0bf14b2c9644ccc34ace583f": {
      "model_module": "@jupyter-widgets/controls",
      "model_module_version": "1.1.0",
      "model_name": "HBoxModel",
      "state": {
       "children": [
        "IPY_MODEL_aba9fc35f9d94466b3b68d70b3c3488d",
        "IPY_MODEL_e955422a5fbc4096a68eb111efdcbfda",
        "IPY_MODEL_727a1af88b6745719a8fd8a9fbf24e6e"
       ],
       "layout": "IPY_MODEL_b26419d45c834d77aa127f4829c4bd32"
      }
     },
     "25418aaab62d4ddc838a208b34077269": {
      "model_module": "@jupyter-widgets/base",
      "model_module_version": "1.0.0",
      "model_name": "LayoutModel",
      "state": {}
     },
     "254dc1cfb8484a10a01d9f3edfacafb5": {
      "model_module": "@jupyter-widgets/base",
      "model_module_version": "1.0.0",
      "model_name": "LayoutModel",
      "state": {}
     },
     "2563b3e87ff34683bf76b02abece03c7": {
      "model_module": "@jupyter-widgets/base",
      "model_module_version": "1.0.0",
      "model_name": "LayoutModel",
      "state": {}
     },
     "25822193b1cf443899134bd9b5c86dd2": {
      "model_module": "@jupyter-widgets/controls",
      "model_module_version": "1.1.0",
      "model_name": "DescriptionStyleModel",
      "state": {
       "description_width": ""
      }
     },
     "25bf784757084e77b6aaa7dc98d557cb": {
      "model_module": "@jupyter-widgets/controls",
      "model_module_version": "1.1.0",
      "model_name": "TextModel",
      "state": {
       "description": "CSV file:",
       "layout": "IPY_MODEL_2e8ed8bc029b409489dabd7d6e499648",
       "placeholder": "Name of cleaned csv file",
       "style": "IPY_MODEL_e92cb9ad856544c1886aaa1bb34ee0d6"
      }
     },
     "26594e3fcb594789bd4c0491e1a30703": {
      "model_module": "@jupyter-widgets/base",
      "model_module_version": "1.0.0",
      "model_name": "LayoutModel",
      "state": {}
     },
     "2680d592a79c4e7c85179eb33e0ff8bc": {
      "model_module": "@jupyter-widgets/base",
      "model_module_version": "1.0.0",
      "model_name": "LayoutModel",
      "state": {}
     },
     "2697f4eb8c6047788122effaab4348f6": {
      "model_module": "@jupyter-widgets/base",
      "model_module_version": "1.0.0",
      "model_name": "LayoutModel",
      "state": {}
     },
     "26bcbe9a873e4f12af135dba672b62db": {
      "model_module": "@jupyter-widgets/base",
      "model_module_version": "1.0.0",
      "model_name": "LayoutModel",
      "state": {}
     },
     "26c0ca3cfa0b4318baf162de17c11ed4": {
      "model_module": "@jupyter-widgets/base",
      "model_module_version": "1.0.0",
      "model_name": "LayoutModel",
      "state": {}
     },
     "26cc51a7ee5a4de59d30772034367716": {
      "model_module": "@jupyter-widgets/base",
      "model_module_version": "1.0.0",
      "model_name": "LayoutModel",
      "state": {}
     },
     "26fc0c1de9484a939adf1d8ef2d5e3ce": {
      "model_module": "@jupyter-widgets/controls",
      "model_module_version": "1.1.0",
      "model_name": "VBoxModel",
      "state": {
       "children": [
        "IPY_MODEL_35879950073441a78440db7a3be6dd87",
        "IPY_MODEL_5e232a8ff0ba4612900aaa462e5fd6bd"
       ],
       "layout": "IPY_MODEL_e06dfe1d7987472b92677d6e1a9e0ff0"
      }
     },
     "2708bec8e4ac4368a1995061b68a1baa": {
      "model_module": "@jupyter-widgets/controls",
      "model_module_version": "1.1.0",
      "model_name": "DescriptionStyleModel",
      "state": {
       "description_width": ""
      }
     },
     "271470cb881c44158f7936ca65f6257a": {
      "model_module": "@jupyter-widgets/base",
      "model_module_version": "1.0.0",
      "model_name": "LayoutModel",
      "state": {}
     },
     "273f3343d51e47599231b23048404669": {
      "model_module": "@jupyter-widgets/controls",
      "model_module_version": "1.1.0",
      "model_name": "ButtonModel",
      "state": {
       "description": "PCA!",
       "icon": "check",
       "layout": "IPY_MODEL_9b5b4a539bd84addbcd5b5b444f10707",
       "style": "IPY_MODEL_3456dfd4ce8840c9808d68f13549fe27",
       "tooltip": "Click me"
      }
     },
     "274554fe9d4840dda15ba24dc25b49c0": {
      "model_module": "@jupyter-widgets/controls",
      "model_module_version": "1.1.0",
      "model_name": "DescriptionStyleModel",
      "state": {
       "description_width": ""
      }
     },
     "2757da56b37e44f2978020debe5222d9": {
      "model_module": "@jupyter-widgets/base",
      "model_module_version": "1.0.0",
      "model_name": "LayoutModel",
      "state": {}
     },
     "2765c150d91845ddb7cb2fe9fd3c481c": {
      "model_module": "@jupyter-widgets/base",
      "model_module_version": "1.0.0",
      "model_name": "LayoutModel",
      "state": {}
     },
     "276e6632f752496d87bdad40dcbc3bbd": {
      "model_module": "@jupyter-widgets/controls",
      "model_module_version": "1.1.0",
      "model_name": "DropdownModel",
      "state": {
       "_options_labels": [
        "-",
        "5",
        "6",
        "7",
        "8",
        "9",
        "10"
       ],
       "description": "Tail:",
       "index": 0,
       "layout": "IPY_MODEL_334f2225acd349cab0b9d6327b06c9e1",
       "style": "IPY_MODEL_fb5274d393ea40a88f1d0e070093d40a"
      }
     },
     "28241c07c4b349b8aa330990766b359f": {
      "model_module": "@jupyter-widgets/controls",
      "model_module_version": "1.1.0",
      "model_name": "AccordionModel",
      "state": {
       "_titles": {
        "0": "Upload",
        "1": "View"
       },
       "children": [
        "IPY_MODEL_2a303d292dd14dee911f4ea80ec8153b",
        "IPY_MODEL_184d405eef4c41a79f41b635fbd8bfa2"
       ],
       "layout": "IPY_MODEL_9516026a49c548769d8f3438140e711a"
      }
     },
     "282a2334a55d4625aecf7867d1dcfacf": {
      "model_module": "@jupyter-widgets/controls",
      "model_module_version": "1.1.0",
      "model_name": "DescriptionStyleModel",
      "state": {
       "description_width": ""
      }
     },
     "285526a8d64443779afa8b76c9c8f18a": {
      "model_module": "@jupyter-widgets/base",
      "model_module_version": "1.0.0",
      "model_name": "LayoutModel",
      "state": {}
     },
     "285c245cdafe4a8ba8dcb7cc171b6ffc": {
      "model_module": "@jupyter-widgets/controls",
      "model_module_version": "1.1.0",
      "model_name": "DescriptionStyleModel",
      "state": {
       "description_width": ""
      }
     },
     "28881ea388974d74a50c77a946f2ca73": {
      "model_module": "@jupyter-widgets/controls",
      "model_module_version": "1.1.0",
      "model_name": "VBoxModel",
      "state": {
       "children": [
        "IPY_MODEL_a19472d2bf1c4ed781871ef76a20a01f",
        "IPY_MODEL_823f006e17cc4828af49aaf5b365f0d9"
       ],
       "layout": "IPY_MODEL_9415163214b34129a7aca3e686ff37e0"
      }
     },
     "289b40ba4bd848238994d35ff0884a84": {
      "model_module": "@jupyter-widgets/base",
      "model_module_version": "1.0.0",
      "model_name": "LayoutModel",
      "state": {}
     },
     "289c4afe1c954e6d94eb1df82d850461": {
      "model_module": "@jupyter-widgets/base",
      "model_module_version": "1.0.0",
      "model_name": "LayoutModel",
      "state": {}
     },
     "28b625205afe4514b8060d3cac9025e7": {
      "model_module": "@jupyter-widgets/base",
      "model_module_version": "1.0.0",
      "model_name": "LayoutModel",
      "state": {}
     },
     "28b80500c7a94476b30a9c1cbc16ff43": {
      "model_module": "@jupyter-widgets/controls",
      "model_module_version": "1.1.0",
      "model_name": "ButtonModel",
      "state": {
       "description": "Click me",
       "layout": "IPY_MODEL_8aa2df8156874a63a7ecc28589cd982b",
       "style": "IPY_MODEL_36eedc57eac144cabbf887d232b00a39",
       "tooltip": "Click me"
      }
     },
     "28d0f734aa624085958d1c3ce6b4f1b6": {
      "model_module": "@jupyter-widgets/controls",
      "model_module_version": "1.1.0",
      "model_name": "HTMLModel",
      "state": {
       "layout": "IPY_MODEL_f7e686c0d7f247d68795e173791e03b7",
       "placeholder": "",
       "style": "IPY_MODEL_bf04f2d521e94a62ad004ff930796aa2",
       "value": "<b>Choose to view and compare by attributes<b>"
      }
     },
     "28d4b0d5f729420e9553714ceb9486ad": {
      "model_module": "@jupyter-widgets/controls",
      "model_module_version": "1.1.0",
      "model_name": "TextModel",
      "state": {
       "description": "Folder Path:",
       "layout": "IPY_MODEL_5b35e8d8240c4c718fcba0459b47c296",
       "placeholder": "Save Dataset",
       "style": "IPY_MODEL_c2422a6d5ac548878994c46bebc2b5ad"
      }
     },
     "28eb82340b0c4ff6a7adaab6f2f5b231": {
      "model_module": "@jupyter-widgets/controls",
      "model_module_version": "1.1.0",
      "model_name": "ButtonModel",
      "state": {
       "description": "Help",
       "layout": "IPY_MODEL_aac3f8b59b4c4b6a9aed0af02dfbd5b6",
       "style": "IPY_MODEL_bbafef2846a34bf78f7dc072183956cd"
      }
     },
     "291438f326054acdaa45f5badf672dc0": {
      "model_module": "@jupyter-widgets/controls",
      "model_module_version": "1.1.0",
      "model_name": "ButtonModel",
      "state": {
       "description": "Scrap Me",
       "layout": "IPY_MODEL_ea23db6acb1f44a58ac57828aa825178",
       "style": "IPY_MODEL_2940ec33256b475ea088ab87b9fa2225"
      }
     },
     "293f02317c3143dc96b66fc0b66259d5": {
      "model_module": "@jupyter-widgets/base",
      "model_module_version": "1.0.0",
      "model_name": "LayoutModel",
      "state": {}
     },
     "2940ec33256b475ea088ab87b9fa2225": {
      "model_module": "@jupyter-widgets/controls",
      "model_module_version": "1.1.0",
      "model_name": "ButtonStyleModel",
      "state": {}
     },
     "294f969af1c44eb395c0d9b5a4871599": {
      "model_module": "@jupyter-widgets/controls",
      "model_module_version": "1.1.0",
      "model_name": "VBoxModel",
      "state": {
       "children": [
        "IPY_MODEL_5e5e674a924f407e9de1ebfcb2a32ca6",
        "IPY_MODEL_c4f7f36da73e4251910a884ccd08be48"
       ],
       "layout": "IPY_MODEL_c3d91194f1be4076937fa4012a5a78b8"
      }
     },
     "295034a33e844c8abc7bea0c3e1c3fb6": {
      "model_module": "@jupyter-widgets/base",
      "model_module_version": "1.0.0",
      "model_name": "LayoutModel",
      "state": {}
     },
     "297105f258ad4cf7a6b15a7989804665": {
      "model_module": "@jupyter-widgets/base",
      "model_module_version": "1.0.0",
      "model_name": "LayoutModel",
      "state": {}
     },
     "2981bdbd01f5464e8166c440ac45d67f": {
      "model_module": "@jupyter-widgets/base",
      "model_module_version": "1.0.0",
      "model_name": "LayoutModel",
      "state": {}
     },
     "2987314da340424299784fb895562c03": {
      "model_module": "@jupyter-widgets/controls",
      "model_module_version": "1.1.0",
      "model_name": "DropdownModel",
      "state": {
       "_options_labels": [
        "-",
        "5",
        "6",
        "7",
        "8",
        "9",
        "10"
       ],
       "description": "Head:",
       "index": 0,
       "layout": "IPY_MODEL_1df7df90be88455980fc5cafe08238fc",
       "style": "IPY_MODEL_65986c2c65354a139c53e646fa9eb4bb"
      }
     },
     "29fe9ae5bd4142b9b578ae9bb5c2e200": {
      "model_module": "@jupyter-widgets/controls",
      "model_module_version": "1.1.0",
      "model_name": "DescriptionStyleModel",
      "state": {
       "description_width": ""
      }
     },
     "2a06d0e2125e4f0b8a8fb059882ccc7a": {
      "model_module": "@jupyter-widgets/controls",
      "model_module_version": "1.1.0",
      "model_name": "DropdownModel",
      "state": {
       "_options_labels": [
        "-",
        "5",
        "6",
        "7",
        "8",
        "9",
        "10"
       ],
       "description": "Tail:",
       "index": 0,
       "layout": "IPY_MODEL_4528805c3ab04bb3b7ec48e8f0ba4e6e",
       "style": "IPY_MODEL_b9bce5b28229431f8de0cb265328a207"
      }
     },
     "2a24a687aac04bbc9fcd266de642be86": {
      "model_module": "@jupyter-widgets/controls",
      "model_module_version": "1.1.0",
      "model_name": "DropdownModel",
      "state": {
       "_options_labels": [
        "1",
        "2",
        "3"
       ],
       "description": "Number:",
       "index": 1,
       "layout": "IPY_MODEL_028d948112d747f3a14d645e21afc162",
       "style": "IPY_MODEL_d74e2ce7a86649d582112567ce26cfd2"
      }
     },
     "2a303d292dd14dee911f4ea80ec8153b": {
      "model_module": "@jupyter-widgets/controls",
      "model_module_version": "1.1.0",
      "model_name": "VBoxModel",
      "state": {
       "children": [
        "IPY_MODEL_c112f66068e44d9ab0150dcb4546280d",
        "IPY_MODEL_044d507ed4b748c9a867c97318c2d488",
        "IPY_MODEL_1c2a3b52faa447c3995a255e2f8a9205",
        "IPY_MODEL_25bf784757084e77b6aaa7dc98d557cb"
       ],
       "layout": "IPY_MODEL_7467226172c14ff98c245343cadc7118"
      }
     },
     "2a4527789f434a1dbb6f429b8fba6157": {
      "model_module": "@jupyter-widgets/controls",
      "model_module_version": "1.1.0",
      "model_name": "ButtonModel",
      "state": {
       "description": "Scrap Me",
       "layout": "IPY_MODEL_c66a85db421448b0bcf2f35421fdffa5",
       "style": "IPY_MODEL_aa998e6d0f544f9b83e13838f2c99aa7"
      }
     },
     "2a566ab105cc4beca47b4c85c7c70f1a": {
      "model_module": "@jupyter-widgets/controls",
      "model_module_version": "1.1.0",
      "model_name": "ImageModel",
      "state": {
       "height": "100",
       "layout": "IPY_MODEL_0245f5f2038e49efa091402ae2f3804b",
       "value": {},
       "width": "100"
      }
     },
     "2a8476c49f984b32822aaccefb5ac13b": {
      "model_module": "@jupyter-widgets/base",
      "model_module_version": "1.0.0",
      "model_name": "LayoutModel",
      "state": {}
     },
     "2abb6962a2544247a284dce8bdfb24ca": {
      "model_module": "@jupyter-widgets/controls",
      "model_module_version": "1.1.0",
      "model_name": "DescriptionStyleModel",
      "state": {
       "description_width": ""
      }
     },
     "2ae372bef4dd422f82d6b6a202b1be3c": {
      "model_module": "@jupyter-widgets/base",
      "model_module_version": "1.0.0",
      "model_name": "LayoutModel",
      "state": {}
     },
     "2af56d85b032406ba2bc037def1e9520": {
      "model_module": "@jupyter-widgets/controls",
      "model_module_version": "1.1.0",
      "model_name": "VBoxModel",
      "state": {
       "children": [
        "IPY_MODEL_1754555ca48f44b68eac6d647c93d8c2",
        "IPY_MODEL_839f2b3664ae4660acd7a11d47418d69",
        "IPY_MODEL_60571707887141a6a17edf1919d36a5a",
        "IPY_MODEL_87339b7a13fd4814ad85757297ef24f9"
       ],
       "layout": "IPY_MODEL_49d1dbe4ad234db0bed05541b56cc234"
      }
     },
     "2b1a9d4746514f239b5150f612a273b5": {
      "model_module": "@jupyter-widgets/controls",
      "model_module_version": "1.1.0",
      "model_name": "ButtonStyleModel",
      "state": {
       "button_color": "lightblue"
      }
     },
     "2b50a5d18a4945f495fb9d46102acdee": {
      "model_module": "@jupyter-widgets/controls",
      "model_module_version": "1.1.0",
      "model_name": "AccordionModel",
      "state": {
       "_titles": {
        "0": "Upload"
       },
       "children": [
        "IPY_MODEL_11593cadfa794d62ac07bbf6b52448f2"
       ],
       "layout": "IPY_MODEL_a67e00c2fbc841f5af9dad5ae5b741c5",
       "selected_index": null
      }
     },
     "2b6ffb625cbd4111b2c5d86ae994ba77": {
      "model_module": "@jupyter-widgets/controls",
      "model_module_version": "1.1.0",
      "model_name": "DropdownModel",
      "state": {
       "_options_labels": [
        "5",
        "6",
        "7",
        "8",
        "9",
        "10"
       ],
       "description": "Head:",
       "index": 0,
       "layout": "IPY_MODEL_0e9f6db161314796b5663cbeb80372f4",
       "style": "IPY_MODEL_978cb2932be448e08c5567178b0196f8"
      }
     },
     "2b7f912497384b8fa4c23be3b2e33abc": {
      "model_module": "@jupyter-widgets/controls",
      "model_module_version": "1.1.0",
      "model_name": "HTMLModel",
      "state": {
       "layout": "IPY_MODEL_723240c5d9664c838e4113dcecf718d5",
       "placeholder": "",
       "style": "IPY_MODEL_d0fbc1d06e394c2c9ce4a1019f46ce4d",
       "value": "Beware of <b>SCAMMER</b>, buy from the <b>TRUSTED<b> one"
      }
     },
     "2bca147381c64490a108961be33d8224": {
      "model_module": "@jupyter-widgets/controls",
      "model_module_version": "1.1.0",
      "model_name": "TabModel",
      "state": {
       "_titles": {
        "0": "1. Extaction",
        "1": "2. Data",
        "2": "3. Evaluation"
       },
       "children": [
        "IPY_MODEL_9795d8c9f5314753a2febc7796400c4f",
        "IPY_MODEL_89e809b29b76402aa2444860406c30fb",
        "IPY_MODEL_0411d54901064f058b59b5d9a6fc53a0"
       ],
       "layout": "IPY_MODEL_9e23e905c78f41abba4f3af83d0d2012"
      }
     },
     "2bf3b0972f4f433abbab2034e271fd9d": {
      "model_module": "@jupyter-widgets/controls",
      "model_module_version": "1.1.0",
      "model_name": "DescriptionStyleModel",
      "state": {
       "description_width": ""
      }
     },
     "2c2a8bb3b87d4c119c9041c697db8ad0": {
      "model_module": "@jupyter-widgets/base",
      "model_module_version": "1.0.0",
      "model_name": "LayoutModel",
      "state": {}
     },
     "2c46aec423f94b75b05287be46a1fe5f": {
      "model_module": "@jupyter-widgets/controls",
      "model_module_version": "1.1.0",
      "model_name": "VBoxModel",
      "state": {
       "children": [
        "IPY_MODEL_5e56a707f8e8412696e29216494e2e1d",
        "IPY_MODEL_cb6b34713a894820b0a03a99217358f7"
       ],
       "layout": "IPY_MODEL_757a59a9f1de41eb8fc5c31c9ee76800"
      }
     },
     "2c493d03c1d944e3bbac425221a9a49f": {
      "model_module": "@jupyter-widgets/controls",
      "model_module_version": "1.1.0",
      "model_name": "DescriptionStyleModel",
      "state": {
       "description_width": ""
      }
     },
     "2c4af7c005c94c53a91b90e9a9841181": {
      "model_module": "@jupyter-widgets/base",
      "model_module_version": "1.0.0",
      "model_name": "LayoutModel",
      "state": {}
     },
     "2c7ceb88e02448e6a2fcf42397682470": {
      "model_module": "@jupyter-widgets/controls",
      "model_module_version": "1.1.0",
      "model_name": "VBoxModel",
      "state": {
       "children": [
        "IPY_MODEL_291438f326054acdaa45f5badf672dc0",
        "IPY_MODEL_74f656a1e974496e86d2af3e71dae701"
       ],
       "layout": "IPY_MODEL_dad161cc6adb4ac38310334f465e3176"
      }
     },
     "2ca3fbb898214e229e1e5f895f78557e": {
      "model_module": "@jupyter-widgets/base",
      "model_module_version": "1.0.0",
      "model_name": "LayoutModel",
      "state": {}
     },
     "2cbb5b4031204e0a85471ca30b6b00ec": {
      "model_module": "@jupyter-widgets/controls",
      "model_module_version": "1.1.0",
      "model_name": "VBoxModel",
      "state": {
       "children": [
        "IPY_MODEL_34d9c9d70a1c466e8163e265eb384a5c",
        "IPY_MODEL_06764c74d0fc4d9bb74f6786e6297cb6"
       ],
       "layout": "IPY_MODEL_0c5d48a7def14c0abf59a7bec580776a"
      }
     },
     "2cd7771f8ff64ba3927f6803844a6720": {
      "model_module": "@jupyter-widgets/base",
      "model_module_version": "1.0.0",
      "model_name": "LayoutModel",
      "state": {}
     },
     "2ce98f53ff934e2d94b43a684c6a16b4": {
      "model_module": "@jupyter-widgets/controls",
      "model_module_version": "1.1.0",
      "model_name": "TextModel",
      "state": {
       "description": "Folder Path:",
       "layout": "IPY_MODEL_ef43085abecd452386f3246a67b32b43",
       "placeholder": "Save Scraped Dataset",
       "style": "IPY_MODEL_80e98be060d842cb9fd224b36c61725b"
      }
     },
     "2cf82c6f1c054843996ea0c410836181": {
      "model_module": "@jupyter-widgets/controls",
      "model_module_version": "1.1.0",
      "model_name": "VBoxModel",
      "state": {
       "children": [
        "IPY_MODEL_70fdea4024b94bbbb93b9df31b9d7156",
        "IPY_MODEL_ba618063ccf343ef9738ec005d2fe4c2"
       ],
       "layout": "IPY_MODEL_69bd642acf994561b4d594d060fec8ee"
      }
     },
     "2d45b9a32ba241a6abe25967bd8e02d9": {
      "model_module": "@jupyter-widgets/controls",
      "model_module_version": "1.1.0",
      "model_name": "DescriptionStyleModel",
      "state": {
       "description_width": ""
      }
     },
     "2d5cd04de0334890ae13955d029f3dba": {
      "model_module": "@jupyter-widgets/base",
      "model_module_version": "1.0.0",
      "model_name": "LayoutModel",
      "state": {}
     },
     "2d680928026a44e69b2687bcd132ca28": {
      "model_module": "@jupyter-widgets/controls",
      "model_module_version": "1.1.0",
      "model_name": "DescriptionStyleModel",
      "state": {
       "description_width": ""
      }
     },
     "2d86f750116544adbf3608ddee3cc144": {
      "model_module": "@jupyter-widgets/controls",
      "model_module_version": "1.1.0",
      "model_name": "VBoxModel",
      "state": {
       "children": [
        "IPY_MODEL_7e1d8f7890df4274b98bacb272b509a6",
        "IPY_MODEL_f6c1614bb9e44d73b0f047bc496d42b1",
        "IPY_MODEL_9bf228bf8f224054b5229c5948b3887a",
        "IPY_MODEL_d98c6bfe8c4d46018ba67ae625b5a6b6"
       ],
       "layout": "IPY_MODEL_014a2d97dcdd4a0786b71f52bdcc4eb8"
      }
     },
     "2da1c1dd0282445289c76c48873c582a": {
      "model_module": "@jupyter-widgets/base",
      "model_module_version": "1.0.0",
      "model_name": "LayoutModel",
      "state": {}
     },
     "2dd029e3f9d345d1a0f99532e263d851": {
      "model_module": "@jupyter-widgets/base",
      "model_module_version": "1.0.0",
      "model_name": "LayoutModel",
      "state": {}
     },
     "2dd0db6d7124489c9e3f77a79b45796b": {
      "model_module": "@jupyter-widgets/controls",
      "model_module_version": "1.1.0",
      "model_name": "VBoxModel",
      "state": {
       "children": [
        "IPY_MODEL_977ec1f7b6634e10b0ce6c9348662ba7",
        "IPY_MODEL_9192dd0e71d449b5804bf29a1ee87ba1"
       ],
       "layout": "IPY_MODEL_d488c1abe0854b15afc06ff1c2292cc2"
      }
     },
     "2dd3711b907f4f94be8db64a2e598b7b": {
      "model_module": "@jupyter-widgets/controls",
      "model_module_version": "1.1.0",
      "model_name": "DescriptionStyleModel",
      "state": {
       "description_width": ""
      }
     },
     "2de3dac6c8864559aba7808fa00807fd": {
      "model_module": "@jupyter-widgets/controls",
      "model_module_version": "1.1.0",
      "model_name": "ImageModel",
      "state": {
       "height": "400",
       "layout": "IPY_MODEL_f1cc9a5a7f804e1e998068180c3d69c9",
       "value": {},
       "width": "300"
      }
     },
     "2de47e54cb7d45a29f4f07ed526c0203": {
      "model_module": "@jupyter-widgets/base",
      "model_module_version": "1.0.0",
      "model_name": "LayoutModel",
      "state": {}
     },
     "2e84df838ab64374a5685cbebf7eb0c3": {
      "model_module": "@jupyter-widgets/controls",
      "model_module_version": "1.1.0",
      "model_name": "DescriptionStyleModel",
      "state": {
       "description_width": ""
      }
     },
     "2e8ed8bc029b409489dabd7d6e499648": {
      "model_module": "@jupyter-widgets/base",
      "model_module_version": "1.0.0",
      "model_name": "LayoutModel",
      "state": {}
     },
     "2e91ae180ee74eb48fd369fafd5bc7f4": {
      "model_module": "@jupyter-widgets/controls",
      "model_module_version": "1.1.0",
      "model_name": "VBoxModel",
      "state": {
       "children": [
        "IPY_MODEL_75eae438faae490aaaa5780c72885036",
        "IPY_MODEL_fa21bd1ea0454a4e9bc9973b23741ae4"
       ],
       "layout": "IPY_MODEL_edbc31a4529f40b8903fdccd53db74eb"
      }
     },
     "2eaafbbfad1840358c2a2ff9eed8f5d8": {
      "model_module": "@jupyter-widgets/base",
      "model_module_version": "1.0.0",
      "model_name": "LayoutModel",
      "state": {}
     },
     "2f7d9156a265496eb4245bf38b7d9b5a": {
      "model_module": "@jupyter-widgets/controls",
      "model_module_version": "1.1.0",
      "model_name": "ButtonStyleModel",
      "state": {
       "button_color": "orange"
      }
     },
     "2f927e3c43a44fe593e64cc993906d8c": {
      "model_module": "@jupyter-widgets/controls",
      "model_module_version": "1.1.0",
      "model_name": "AccordionModel",
      "state": {
       "_titles": {
        "0": "Method",
        "1": "Analysis",
        "2": "Result"
       },
       "children": [
        "IPY_MODEL_294f969af1c44eb395c0d9b5a4871599",
        "IPY_MODEL_b6cd3ca9c1dc4f23b04a35a131cd1578",
        "IPY_MODEL_7ca31b81167445debb9452b692e50b0e"
       ],
       "layout": "IPY_MODEL_f1115519689f45a2bdf161febc5a9684"
      }
     },
     "2fc025f7400a46398ba857478599df51": {
      "model_module": "@jupyter-widgets/controls",
      "model_module_version": "1.1.0",
      "model_name": "VBoxModel",
      "state": {
       "children": [
        "IPY_MODEL_cf47d31211714015965ed119ecb96b14",
        "IPY_MODEL_bb8a1a2b848249e58aa8c2be3fd69c63"
       ],
       "layout": "IPY_MODEL_a76f4fbdc6f9446a8fd13716476da495"
      }
     },
     "2fde17e0749d498091477f098fff94ae": {
      "model_module": "@jupyter-widgets/controls",
      "model_module_version": "1.1.0",
      "model_name": "SelectMultipleModel",
      "state": {
       "_options_labels": [
        "Price",
        "Year",
        "Mileage"
       ],
       "description": "Filter by",
       "index": [
        0
       ],
       "layout": "IPY_MODEL_8bed664f009340e08d9ae4db20756623",
       "rows": 3,
       "style": "IPY_MODEL_1e41d34256194006b6cc8a2d893c7cb7"
      }
     },
     "30038a076dd346799b63061daab98a65": {
      "model_module": "@jupyter-widgets/base",
      "model_module_version": "1.0.0",
      "model_name": "LayoutModel",
      "state": {}
     },
     "306d0b5422474dfd816ee34184256c36": {
      "model_module": "@jupyter-widgets/controls",
      "model_module_version": "1.1.0",
      "model_name": "ButtonModel",
      "state": {
       "description": "PCA!",
       "icon": "check",
       "layout": "IPY_MODEL_aa889f4eaabd4896b170cee59ed7f27c",
       "style": "IPY_MODEL_01c7234912d04f13869c5d206c7136ce",
       "tooltip": "Click me"
      }
     },
     "307946c578e14f7bb60ba84ac592db6a": {
      "model_module": "@jupyter-widgets/controls",
      "model_module_version": "1.1.0",
      "model_name": "DescriptionStyleModel",
      "state": {
       "description_width": ""
      }
     },
     "308746c0ee7e43e3881a3f0d76907fb7": {
      "model_module": "@jupyter-widgets/controls",
      "model_module_version": "1.1.0",
      "model_name": "DescriptionStyleModel",
      "state": {
       "description_width": ""
      }
     },
     "30958a795177422c96cf2d9500b34d64": {
      "model_module": "@jupyter-widgets/controls",
      "model_module_version": "1.1.0",
      "model_name": "TextModel",
      "state": {
       "description": "CSV file:",
       "layout": "IPY_MODEL_5c8a0bc3f45f46fd852bfe0fe182368f",
       "placeholder": "Name of cleaned csv file",
       "style": "IPY_MODEL_131508a6cdfd4bd2b955ced9d9647fae"
      }
     },
     "30cc034bdfc94395846369e44655977c": {
      "model_module": "@jupyter-widgets/controls",
      "model_module_version": "1.1.0",
      "model_name": "HBoxModel",
      "state": {
       "children": [
        "IPY_MODEL_4b41f665491240d7bff7cc98dfd8b49c",
        "IPY_MODEL_a8df6611c3064608b6468816ee57069b",
        "IPY_MODEL_f832d734df284dbf9d3bae6b4675154e"
       ],
       "layout": "IPY_MODEL_555ffb14998a464eafd296d4619c6290"
      }
     },
     "30d9dc5d7acc43a49f1e3dbd00d6d82e": {
      "model_module": "@jupyter-widgets/base",
      "model_module_version": "1.0.0",
      "model_name": "LayoutModel",
      "state": {}
     },
     "30f9d025181a4ca4ac56ba57ef2e09b0": {
      "model_module": "@jupyter-widgets/controls",
      "model_module_version": "1.1.0",
      "model_name": "DescriptionStyleModel",
      "state": {
       "description_width": ""
      }
     },
     "3125d430eae64c7fa1b930449b50e9cb": {
      "model_module": "@jupyter-widgets/controls",
      "model_module_version": "1.1.0",
      "model_name": "HBoxModel",
      "state": {
       "children": [
        "IPY_MODEL_502b7b00e9c54e9b80fe68d11b0d2410",
        "IPY_MODEL_a8df6611c3064608b6468816ee57069b",
        "IPY_MODEL_f832d734df284dbf9d3bae6b4675154e"
       ],
       "layout": "IPY_MODEL_4bcfbd0c9b474fb2b996507dc69ddff9"
      }
     },
     "3127a9e937de418e8961d58184ca2d3f": {
      "model_module": "@jupyter-widgets/base",
      "model_module_version": "1.0.0",
      "model_name": "LayoutModel",
      "state": {}
     },
     "31368ab133314513af074d788abc47c1": {
      "model_module": "@jupyter-widgets/controls",
      "model_module_version": "1.1.0",
      "model_name": "ButtonModel",
      "state": {
       "description": "Scrap Me",
       "layout": "IPY_MODEL_35289a3741e64ad0b3036397d386889f",
       "style": "IPY_MODEL_45947f6c0a3742e7ab92cf7473469bae"
      }
     },
     "3169f2ef82ee4932b442f19efebacf69": {
      "model_module": "@jupyter-widgets/controls",
      "model_module_version": "1.1.0",
      "model_name": "SelectMultipleModel",
      "state": {
       "_options_labels": [
        "Price",
        "Year",
        "Mileage"
       ],
       "description": "Filter by",
       "index": [
        0
       ],
       "layout": "IPY_MODEL_a5d5c658d55f439ab875e27d060072ef",
       "rows": 3,
       "style": "IPY_MODEL_5620b35f54e6419291db33d660a45119"
      }
     },
     "31b6d1595c4249fb9ef9725985bba2c0": {
      "model_module": "@jupyter-widgets/base",
      "model_module_version": "1.0.0",
      "model_name": "LayoutModel",
      "state": {}
     },
     "31b966d177334faeb18669f6f7023783": {
      "model_module": "@jupyter-widgets/controls",
      "model_module_version": "1.1.0",
      "model_name": "SelectMultipleModel",
      "state": {
       "_options_labels": [
        "Price",
        "Year",
        "Mileage"
       ],
       "description": "Filter by",
       "index": [
        0
       ],
       "layout": "IPY_MODEL_7000b7fb37124fcc8162b818090cc781",
       "rows": 5,
       "style": "IPY_MODEL_bf7a5f1bde2c473dba4e01fae132bcd8"
      }
     },
     "31cb318a2ec849d7a0d96755c00c2bc8": {
      "model_module": "@jupyter-widgets/base",
      "model_module_version": "1.0.0",
      "model_name": "LayoutModel",
      "state": {}
     },
     "31cc720dff214d4f80aee6fd83d5d223": {
      "model_module": "@jupyter-widgets/base",
      "model_module_version": "1.0.0",
      "model_name": "LayoutModel",
      "state": {}
     },
     "31e84ace97d84eb587ce866d0fe816d0": {
      "model_module": "@jupyter-widgets/controls",
      "model_module_version": "1.1.0",
      "model_name": "DropdownModel",
      "state": {
       "_options_labels": [
        "-",
        "5",
        "6",
        "7",
        "8",
        "9",
        "10"
       ],
       "description": "Head:",
       "index": 0,
       "layout": "IPY_MODEL_6a201a6e4dbb47e0aacf26e9f7720caa",
       "style": "IPY_MODEL_4ef5feb2c70b487bad93353d6a615b40"
      }
     },
     "31feb2bba91d4b5f91727fafdb20e65b": {
      "model_module": "@jupyter-widgets/base",
      "model_module_version": "1.0.0",
      "model_name": "LayoutModel",
      "state": {}
     },
     "328b7a4411aa44998038c2b4bc60e946": {
      "model_module": "@jupyter-widgets/base",
      "model_module_version": "1.0.0",
      "model_name": "LayoutModel",
      "state": {}
     },
     "32acb930aa1e43f4a7b3deed077fc685": {
      "model_module": "@jupyter-widgets/base",
      "model_module_version": "1.0.0",
      "model_name": "LayoutModel",
      "state": {}
     },
     "32f656b48726451591581c80c47bee67": {
      "model_module": "@jupyter-widgets/controls",
      "model_module_version": "1.1.0",
      "model_name": "VBoxModel",
      "state": {
       "children": [
        "IPY_MODEL_8d177eee05dc478f92c66698d8612381",
        "IPY_MODEL_bc07d51c7bd049b6b214422ef3b7ce70",
        "IPY_MODEL_f8aeb875926c4facb8aaa0fa4152351a",
        "IPY_MODEL_a56078b5fb524adba1559811a4f8be64"
       ],
       "layout": "IPY_MODEL_5a2c980467784dc0bbdc6b746386f741"
      }
     },
     "32fc07a1ce8d41f485f9df97d407ac60": {
      "model_module": "@jupyter-widgets/base",
      "model_module_version": "1.0.0",
      "model_name": "LayoutModel",
      "state": {}
     },
     "334219622f8c4fa390da77f31ab2c89d": {
      "model_module": "@jupyter-widgets/base",
      "model_module_version": "1.0.0",
      "model_name": "LayoutModel",
      "state": {}
     },
     "334f2225acd349cab0b9d6327b06c9e1": {
      "model_module": "@jupyter-widgets/base",
      "model_module_version": "1.0.0",
      "model_name": "LayoutModel",
      "state": {}
     },
     "33639d6665d34ed79b330a5287b06cff": {
      "model_module": "@jupyter-widgets/controls",
      "model_module_version": "1.1.0",
      "model_name": "DescriptionStyleModel",
      "state": {
       "description_width": ""
      }
     },
     "33800ee864bb404cb97c245a34bce2e8": {
      "model_module": "@jupyter-widgets/controls",
      "model_module_version": "1.1.0",
      "model_name": "VBoxModel",
      "state": {
       "children": [
        "IPY_MODEL_3dadf4a2b2ac46128d35fd0a596f9037",
        "IPY_MODEL_75a030c16a85418696508cac626f3cf9"
       ],
       "layout": "IPY_MODEL_12ad6e989f4e4bf48482c2953c046a4a"
      }
     },
     "338a66a62d2f48d0a855eb3b21122e85": {
      "model_module": "@jupyter-widgets/controls",
      "model_module_version": "1.1.0",
      "model_name": "DescriptionStyleModel",
      "state": {
       "description_width": ""
      }
     },
     "33a0542fc9cb4810acfd9c3bb6becfb3": {
      "model_module": "@jupyter-widgets/base",
      "model_module_version": "1.0.0",
      "model_name": "LayoutModel",
      "state": {}
     },
     "33b725cacd5a463297a668a8ab9d6ac1": {
      "model_module": "@jupyter-widgets/controls",
      "model_module_version": "1.1.0",
      "model_name": "DescriptionStyleModel",
      "state": {
       "description_width": ""
      }
     },
     "33bf7bfe19ff4ebbb33092514b14f666": {
      "model_module": "@jupyter-widgets/controls",
      "model_module_version": "1.1.0",
      "model_name": "HTMLModel",
      "state": {
       "layout": "IPY_MODEL_6b653b7cbbb648f7b4d51ad3d965214c",
       "placeholder": "",
       "style": "IPY_MODEL_f490d86c593a43188f95bf49e721f5a5",
       "value": "<b>Scammer Detector<b>"
      }
     },
     "33d36c554d0e4ebf82efd04fa32f4bd0": {
      "model_module": "@jupyter-widgets/controls",
      "model_module_version": "1.1.0",
      "model_name": "DropdownModel",
      "state": {
       "_options_labels": [
        "-",
        "5",
        "6",
        "7",
        "8",
        "9",
        "10"
       ],
       "description": "Random:",
       "index": 0,
       "layout": "IPY_MODEL_a6399f11f4594f2089c05e34f335911f",
       "style": "IPY_MODEL_a960f669b73a4a0dbbbc24767f4ab202"
      }
     },
     "33eb1d2285684162884278145207b1c1": {
      "model_module": "@jupyter-widgets/controls",
      "model_module_version": "1.1.0",
      "model_name": "ButtonModel",
      "state": {
       "description": "PCA!",
       "icon": "check",
       "layout": "IPY_MODEL_d2c0dd0161284e59bdd208b1cbf37aa9",
       "style": "IPY_MODEL_1463349a223449aea52e7071e94c9f1d",
       "tooltip": "Click me"
      }
     },
     "33f620b532044f80b83dcf76f989f0b4": {
      "model_module": "@jupyter-widgets/base",
      "model_module_version": "1.0.0",
      "model_name": "LayoutModel",
      "state": {}
     },
     "340b7b3611304d57b8e49115ec11d7af": {
      "model_module": "@jupyter-widgets/base",
      "model_module_version": "1.0.0",
      "model_name": "LayoutModel",
      "state": {}
     },
     "34225ff846724ff08938eac4ddf81353": {
      "model_module": "@jupyter-widgets/controls",
      "model_module_version": "1.1.0",
      "model_name": "VBoxModel",
      "state": {
       "children": [
        "IPY_MODEL_37ab7a829cd34ba99557bfdf4ab96971",
        "IPY_MODEL_7bd7f1d7bcd04e95bc5fa623df37ed89"
       ],
       "layout": "IPY_MODEL_31cc720dff214d4f80aee6fd83d5d223"
      }
     },
     "3456dfd4ce8840c9808d68f13549fe27": {
      "model_module": "@jupyter-widgets/controls",
      "model_module_version": "1.1.0",
      "model_name": "ButtonStyleModel",
      "state": {
       "button_color": "lightgreen"
      }
     },
     "3457b6ca085f466488aa51be1b678d2a": {
      "model_module": "@jupyter-widgets/controls",
      "model_module_version": "1.1.0",
      "model_name": "AccordionModel",
      "state": {
       "_titles": {
        "0": "Source",
        "1": "Save",
        "2": "Scrap"
       },
       "children": [
        "IPY_MODEL_7039d208830e49d9811d0f5252964c0d",
        "IPY_MODEL_244dd8479a904635800836983de679a7",
        "IPY_MODEL_d3ad57d6aa424c6ab7f89f0a90ed62cf"
       ],
       "layout": "IPY_MODEL_5197839394d74af7a9e2766ba195ac9c"
      }
     },
     "3458d1494d9445ba94fd7771826ea627": {
      "model_module": "@jupyter-widgets/controls",
      "model_module_version": "1.1.0",
      "model_name": "ButtonStyleModel",
      "state": {}
     },
     "3459791f347545adbf9d3c384d29a40c": {
      "model_module": "@jupyter-widgets/controls",
      "model_module_version": "1.1.0",
      "model_name": "VBoxModel",
      "state": {
       "children": [
        "IPY_MODEL_db5eaa7a0c66490aa37b63f36ee264c0",
        "IPY_MODEL_17cb28b44aca474f8b49243527ed1be9"
       ],
       "layout": "IPY_MODEL_cba66c2d565249ca8594d3441be9eb08"
      }
     },
     "34a8b587a9c543219b83c8b78e68b3c9": {
      "model_module": "@jupyter-widgets/base",
      "model_module_version": "1.0.0",
      "model_name": "LayoutModel",
      "state": {}
     },
     "34b93282438545d9bd868d3dbdb32527": {
      "model_module": "@jupyter-widgets/base",
      "model_module_version": "1.0.0",
      "model_name": "LayoutModel",
      "state": {}
     },
     "34d9c9d70a1c466e8163e265eb384a5c": {
      "model_module": "@jupyter-widgets/controls",
      "model_module_version": "1.1.0",
      "model_name": "HTMLModel",
      "state": {
       "layout": "IPY_MODEL_bd6174de829c4b3ba310227cddd66430",
       "placeholder": "",
       "style": "IPY_MODEL_3ac4180c901d44a8babbefbe999574da",
       "value": "<b>Choose how to view your data</b>"
      }
     },
     "34fb07ca56c94b739f3721cac2060be5": {
      "model_module": "@jupyter-widgets/base",
      "model_module_version": "1.0.0",
      "model_name": "LayoutModel",
      "state": {}
     },
     "351aff43c8524612b22249931e10a588": {
      "model_module": "@jupyter-widgets/base",
      "model_module_version": "1.0.0",
      "model_name": "LayoutModel",
      "state": {}
     },
     "35289a3741e64ad0b3036397d386889f": {
      "model_module": "@jupyter-widgets/base",
      "model_module_version": "1.0.0",
      "model_name": "LayoutModel",
      "state": {}
     },
     "353667e8dd5c48808a31223d986515d1": {
      "model_module": "@jupyter-widgets/base",
      "model_module_version": "1.0.0",
      "model_name": "LayoutModel",
      "state": {}
     },
     "355cdacd05b44b5994203bb11ce8e6c7": {
      "model_module": "@jupyter-widgets/base",
      "model_module_version": "1.0.0",
      "model_name": "LayoutModel",
      "state": {}
     },
     "35879950073441a78440db7a3be6dd87": {
      "model_module": "@jupyter-widgets/controls",
      "model_module_version": "1.1.0",
      "model_name": "HTMLModel",
      "state": {
       "layout": "IPY_MODEL_dfdfc25ec755478f9d84275505aef9ee",
       "placeholder": "",
       "style": "IPY_MODEL_5d40a3457fe74fefa4662d75686b3e2f",
       "value": "Apply <b>Data Mining<b> Method!!"
      }
     },
     "3596160be2ca474c8d2cf2eb8310da68": {
      "model_module": "@jupyter-widgets/controls",
      "model_module_version": "1.1.0",
      "model_name": "DescriptionStyleModel",
      "state": {
       "description_width": ""
      }
     },
     "35c79d134345486ba4f993c8143db07b": {
      "model_module": "@jupyter-widgets/controls",
      "model_module_version": "1.1.0",
      "model_name": "AccordionModel",
      "state": {
       "_titles": {
        "0": "Scrap"
       },
       "children": [
        "IPY_MODEL_f475302fe1f84cb1b3abba00b2e24bf5"
       ],
       "layout": "IPY_MODEL_8873618962ea423aa5e2963eccf41a1c"
      }
     },
     "35d2226f985047118ae534105052d9fe": {
      "model_module": "@jupyter-widgets/controls",
      "model_module_version": "1.1.0",
      "model_name": "VBoxModel",
      "state": {
       "children": [
        "IPY_MODEL_291438f326054acdaa45f5badf672dc0",
        "IPY_MODEL_74f656a1e974496e86d2af3e71dae701"
       ],
       "layout": "IPY_MODEL_85a286c743ac4d668e437f9a68e4cde4"
      }
     },
     "3641b75dcd674dfa8102a33de9842300": {
      "model_module": "@jupyter-widgets/controls",
      "model_module_version": "1.1.0",
      "model_name": "VBoxModel",
      "state": {
       "children": [
        "IPY_MODEL_db5eaa7a0c66490aa37b63f36ee264c0",
        "IPY_MODEL_17cb28b44aca474f8b49243527ed1be9"
       ],
       "layout": "IPY_MODEL_acfaffa50d014fab9fdc1153fb678acd"
      }
     },
     "365b2e0cb48f4c97b0573ea970f86472": {
      "model_module": "@jupyter-widgets/controls",
      "model_module_version": "1.1.0",
      "model_name": "ButtonStyleModel",
      "state": {}
     },
     "36730152050c4b7c987213daecf79499": {
      "model_module": "@jupyter-widgets/controls",
      "model_module_version": "1.1.0",
      "model_name": "AccordionModel",
      "state": {
       "_titles": {
        "0": "Method",
        "1": "Analysis",
        "2": "Result"
       },
       "children": [
        "IPY_MODEL_d332a97de3cf463f9c11dd7d76ff8357",
        "IPY_MODEL_65d5bd651bdd4599acc8cb53820fd66e",
        "IPY_MODEL_6a5d604d06d8414fadba9e18e37f9b96"
       ],
       "layout": "IPY_MODEL_bb27c81563d94b42a5cf19a4601871d8"
      }
     },
     "367de8aec2354e2a843b24e57f6b3ed0": {
      "model_module": "@jupyter-widgets/base",
      "model_module_version": "1.0.0",
      "model_name": "LayoutModel",
      "state": {}
     },
     "3697ce1d511b47cd8dc36aaaa9ca6c4b": {
      "model_module": "@jupyter-widgets/controls",
      "model_module_version": "1.1.0",
      "model_name": "HTMLModel",
      "state": {
       "description": "Sample Path:",
       "layout": "IPY_MODEL_4977d3948272426a9f2a64412e7c3a81",
       "placeholder": "",
       "style": "IPY_MODEL_cf4774fd483f46abab9d229a89c5335a",
       "value": "<i><b>C:\\Users\\LENOVO\\Documents</b><i>"
      }
     },
     "36e184778c2b4c378e9f5a7052c3da4c": {
      "model_module": "@jupyter-widgets/base",
      "model_module_version": "1.0.0",
      "model_name": "LayoutModel",
      "state": {}
     },
     "36eedc57eac144cabbf887d232b00a39": {
      "model_module": "@jupyter-widgets/controls",
      "model_module_version": "1.1.0",
      "model_name": "ButtonStyleModel",
      "state": {}
     },
     "370a6c602b9f4f83b43fdf65e49e035a": {
      "model_module": "@jupyter-widgets/controls",
      "model_module_version": "1.1.0",
      "model_name": "VBoxModel",
      "state": {
       "children": [
        "IPY_MODEL_142bba1411d04fc9adc1fe76ba5e2c20",
        "IPY_MODEL_091c601f952e49b5991630689229aeca",
        "IPY_MODEL_d0725ee65c4748b3bd20b080d5952007",
        "IPY_MODEL_cd37281fa3ce4f638c650cca288cd833"
       ],
       "layout": "IPY_MODEL_54a1f3cc25eb4c33b0c6ce2aea2c12fc"
      }
     },
     "37400d9567414f428faa560c36df34ae": {
      "model_module": "@jupyter-widgets/controls",
      "model_module_version": "1.1.0",
      "model_name": "VBoxModel",
      "state": {
       "children": [
        "IPY_MODEL_912f2401bd3e450c9490d73542c26807",
        "IPY_MODEL_75a030c16a85418696508cac626f3cf9"
       ],
       "layout": "IPY_MODEL_ce47ae373c194111af85f16e4a18460d"
      }
     },
     "3743246cf322407b88abc63a1c34f0c6": {
      "model_module": "@jupyter-widgets/base",
      "model_module_version": "1.0.0",
      "model_name": "LayoutModel",
      "state": {}
     },
     "375dc318ca304fada0e84ba83f696c42": {
      "model_module": "@jupyter-widgets/controls",
      "model_module_version": "1.1.0",
      "model_name": "SelectionSliderModel",
      "state": {
       "_options_labels": [
        "Selection"
       ],
       "continuous_update": false,
       "description": "region:",
       "index": 0,
       "layout": "IPY_MODEL_6b2db95f65314072885e8a54c94a3983",
       "style": "IPY_MODEL_e6bfb93c3e5e43b994f543800e84c430"
      }
     },
     "377c02a87f604dc5915e5e20db8be8b3": {
      "model_module": "@jupyter-widgets/controls",
      "model_module_version": "1.1.0",
      "model_name": "ButtonModel",
      "state": {
       "description": "Boxplot",
       "icon": "check",
       "layout": "IPY_MODEL_606f537f98a64fa7a5473b5228b100d3",
       "style": "IPY_MODEL_d71059830ab24c03915c921ab83279e6",
       "tooltip": "Click me"
      }
     },
     "378b14c3eca846dcac50623783da0326": {
      "model_module": "@jupyter-widgets/base",
      "model_module_version": "1.0.0",
      "model_name": "LayoutModel",
      "state": {}
     },
     "37a76fa6938b48c58305bd3a6631536c": {
      "model_module": "@jupyter-widgets/controls",
      "model_module_version": "1.1.0",
      "model_name": "DescriptionStyleModel",
      "state": {
       "description_width": ""
      }
     },
     "37ab7a829cd34ba99557bfdf4ab96971": {
      "model_module": "@jupyter-widgets/controls",
      "model_module_version": "1.1.0",
      "model_name": "TextModel",
      "state": {
       "description": "Folder Path:",
       "layout": "IPY_MODEL_4aca900a37ba4aa0a3adc8b2c4bb059d",
       "placeholder": "Paste folder path to save",
       "style": "IPY_MODEL_eaeddeec14064ccf83aa38b80714f333"
      }
     },
     "37cc069b302c43e9aa1b6843caa6785b": {
      "model_module": "@jupyter-widgets/controls",
      "model_module_version": "1.1.0",
      "model_name": "ButtonStyleModel",
      "state": {
       "button_color": "yellow"
      }
     },
     "37d1199ebdc14367a34625d09e04f28c": {
      "model_module": "@jupyter-widgets/controls",
      "model_module_version": "1.1.0",
      "model_name": "HTMLModel",
      "state": {
       "description": "Sample:",
       "layout": "IPY_MODEL_230f075524014772b783689d88c9730b",
       "placeholder": "",
       "style": "IPY_MODEL_72a4ef84819143e3afa35382a5a8fdad",
       "value": "<b>C:\\Users\\LENOVO\\Documents</b>"
      }
     },
     "37f30a6ed303442184b60986c314973f": {
      "model_module": "@jupyter-widgets/controls",
      "model_module_version": "1.1.0",
      "model_name": "ButtonModel",
      "state": {
       "description": "Click Me",
       "icon": "check",
       "layout": "IPY_MODEL_240d224b925e4e67bc456f5ad7ce3ef9",
       "style": "IPY_MODEL_ab2297728cfb47f9b2af6b9f02731f54",
       "tooltip": "Click me"
      }
     },
     "37fc8fd3160547dfb375788d9b6eda4b": {
      "model_module": "@jupyter-widgets/base",
      "model_module_version": "1.0.0",
      "model_name": "LayoutModel",
      "state": {}
     },
     "384da363a6b2408eb60a148e0060c557": {
      "model_module": "@jupyter-widgets/controls",
      "model_module_version": "1.1.0",
      "model_name": "HTMLModel",
      "state": {
       "layout": "IPY_MODEL_c7a55114b11640c0bd66e9157609128b",
       "placeholder": "",
       "style": "IPY_MODEL_4dfe6dde787846e39c30ada3d593b116",
       "value": "<b>Scammer Detector</b>"
      }
     },
     "3881e76961b84728919c12074d952a68": {
      "model_module": "@jupyter-widgets/base",
      "model_module_version": "1.0.0",
      "model_name": "LayoutModel",
      "state": {}
     },
     "3884ad141ba34e5087fb8f6e3a95dc8f": {
      "model_module": "@jupyter-widgets/controls",
      "model_module_version": "1.1.0",
      "model_name": "HTMLModel",
      "state": {
       "layout": "IPY_MODEL_d73dea79c9ec4531bd205d534b43d202",
       "placeholder": "",
       "style": "IPY_MODEL_c77875fffee44c2fa42269e3e4ed8b8b",
       "value": "Apply <b>Data Mining<b> Method!!"
      }
     },
     "38bb00e834d44bebb3be6a9d45223eaa": {
      "model_module": "@jupyter-widgets/controls",
      "model_module_version": "1.1.0",
      "model_name": "AccordionModel",
      "state": {
       "_titles": {
        "0": "Upload",
        "1": "View"
       },
       "children": [
        "IPY_MODEL_2d86f750116544adbf3608ddee3cc144",
        "IPY_MODEL_0b4ea0de1d77420ab7af7351546f3196"
       ],
       "layout": "IPY_MODEL_088b51fff9f24f658e5e69b27686ceae",
       "selected_index": 1
      }
     },
     "38f36785d68a44ec8b6566cf41957bca": {
      "model_module": "@jupyter-widgets/base",
      "model_module_version": "1.0.0",
      "model_name": "LayoutModel",
      "state": {}
     },
     "398f0806bb484e5999ed7fdc1d570363": {
      "model_module": "@jupyter-widgets/controls",
      "model_module_version": "1.1.0",
      "model_name": "AccordionModel",
      "state": {
       "_titles": {
        "0": "Method",
        "1": "Analysis",
        "2": "Result"
       },
       "children": [
        "IPY_MODEL_df4b673510ed4f6cac5bf2e7a4f6a5d6",
        "IPY_MODEL_28881ea388974d74a50c77a946f2ca73",
        "IPY_MODEL_96334ef434bd4373961587bd645290ed"
       ],
       "layout": "IPY_MODEL_289c4afe1c954e6d94eb1df82d850461",
       "selected_index": 2
      }
     },
     "39935092d0e14179997d0de93a2058a6": {
      "model_module": "@jupyter-widgets/base",
      "model_module_version": "1.0.0",
      "model_name": "LayoutModel",
      "state": {}
     },
     "39982c7808594574a482bb6bb3259e33": {
      "model_module": "@jupyter-widgets/controls",
      "model_module_version": "1.1.0",
      "model_name": "DescriptionStyleModel",
      "state": {
       "description_width": ""
      }
     },
     "39a38648b25245beb3b94a9a187da42c": {
      "model_module": "@jupyter-widgets/controls",
      "model_module_version": "1.1.0",
      "model_name": "AccordionModel",
      "state": {
       "_titles": {
        "0": "Upload",
        "1": "View",
        "2": "Analysis"
       },
       "children": [
        "IPY_MODEL_c2a766c3750c465a970c47c5cb79d792",
        "IPY_MODEL_07e57dc4f1af48dbb446ac07143d1c89",
        "IPY_MODEL_823f006e17cc4828af49aaf5b365f0d9"
       ],
       "layout": "IPY_MODEL_45562151bcfd4e1495e49b9a9feea45d",
       "selected_index": null
      }
     },
     "39af05ea58084670937a86841b4e4b8d": {
      "model_module": "@jupyter-widgets/controls",
      "model_module_version": "1.1.0",
      "model_name": "ButtonModel",
      "state": {
       "description": "Scrap Me",
       "layout": "IPY_MODEL_e1e1d929a00841ec83debade74616966",
       "style": "IPY_MODEL_c6c132dfe6974a2cb874fc0496946bd4"
      }
     },
     "39b5926c3c7442949ca3d2f0170d1d8b": {
      "model_module": "@jupyter-widgets/base",
      "model_module_version": "1.0.0",
      "model_name": "LayoutModel",
      "state": {}
     },
     "39e4dea58c76442198f742cb5b6c1155": {
      "model_module": "@jupyter-widgets/base",
      "model_module_version": "1.0.0",
      "model_name": "LayoutModel",
      "state": {}
     },
     "3a30974bc026476187d1b6c22056a58c": {
      "model_module": "@jupyter-widgets/base",
      "model_module_version": "1.0.0",
      "model_name": "LayoutModel",
      "state": {}
     },
     "3a30f65675954b44802be3cd28adc441": {
      "model_module": "@jupyter-widgets/base",
      "model_module_version": "1.0.0",
      "model_name": "LayoutModel",
      "state": {}
     },
     "3a36d6fa6bfd4b04b0f0dd87241e3cb8": {
      "model_module": "@jupyter-widgets/controls",
      "model_module_version": "1.1.0",
      "model_name": "HTMLModel",
      "state": {
       "description": "Sample Folder Path:",
       "layout": "IPY_MODEL_5b27dc82f5fb46e28785b9cd4194b6d8",
       "placeholder": "",
       "style": "IPY_MODEL_eff78c3e02f14f25aade52e2de3160f6",
       "value": "<i><b>C:\\Users\\LENOVO\\Documents</b><i>"
      }
     },
     "3a51920f1dd74322bfa4405e97e9751a": {
      "model_module": "@jupyter-widgets/controls",
      "model_module_version": "1.1.0",
      "model_name": "DescriptionStyleModel",
      "state": {
       "description_width": ""
      }
     },
     "3a54d77a92db466c82eabdc0980d8bca": {
      "model_module": "@jupyter-widgets/controls",
      "model_module_version": "1.1.0",
      "model_name": "DescriptionStyleModel",
      "state": {
       "description_width": ""
      }
     },
     "3aa3a1e89e4345b5b14b92452063cb85": {
      "model_module": "@jupyter-widgets/controls",
      "model_module_version": "1.1.0",
      "model_name": "HTMLModel",
      "state": {
       "layout": "IPY_MODEL_421de98c2f524454a0ef84595da29c79",
       "placeholder": "",
       "style": "IPY_MODEL_fa6fece613d240d1ac61a00d262b16c2",
       "value": "<b>Choose how to view your data</b>"
      }
     },
     "3aad82edc8d74167a56bab944d93bc4a": {
      "model_module": "@jupyter-widgets/controls",
      "model_module_version": "1.1.0",
      "model_name": "DropdownModel",
      "state": {
       "_options_labels": [
        "-",
        "5",
        "6",
        "7",
        "8",
        "9",
        "10"
       ],
       "description": "Head:",
       "index": 0,
       "layout": "IPY_MODEL_ca34fe36ab0b4247a9ef0e308b699387",
       "style": "IPY_MODEL_99c62973b2b047b39142f198f1af328d"
      }
     },
     "3ac4180c901d44a8babbefbe999574da": {
      "model_module": "@jupyter-widgets/controls",
      "model_module_version": "1.1.0",
      "model_name": "DescriptionStyleModel",
      "state": {
       "description_width": ""
      }
     },
     "3add1a56fcce408b846ecf2a391dcf5b": {
      "model_module": "@jupyter-widgets/controls",
      "model_module_version": "1.1.0",
      "model_name": "TextModel",
      "state": {
       "description": "Link:",
       "layout": "IPY_MODEL_949640a351c14b4fa3fb057717d20d13",
       "placeholder": "Paste your mudah.my link here",
       "style": "IPY_MODEL_83069f7afbd34bf68a72609831b7dc6b"
      }
     },
     "3b0a015d1c7843eaafaeb350d66db6f0": {
      "model_module": "@jupyter-widgets/controls",
      "model_module_version": "1.1.0",
      "model_name": "DescriptionStyleModel",
      "state": {
       "description_width": ""
      }
     },
     "3b0c9aeb4ce54515a23e526de4c5152b": {
      "model_module": "@jupyter-widgets/base",
      "model_module_version": "1.0.0",
      "model_name": "LayoutModel",
      "state": {}
     },
     "3b3b5a1189bd43169b042d1fb9b467e6": {
      "model_module": "@jupyter-widgets/controls",
      "model_module_version": "1.1.0",
      "model_name": "VBoxModel",
      "state": {
       "children": [
        "IPY_MODEL_abf5035e14894b0b942de5f2ac914bd7",
        "IPY_MODEL_9192dd0e71d449b5804bf29a1ee87ba1"
       ],
       "layout": "IPY_MODEL_9a5a1233fc02427aace808f082c21c9d"
      }
     },
     "3b583ab893d0470382fee6e058a2bcf3": {
      "model_module": "@jupyter-widgets/controls",
      "model_module_version": "1.1.0",
      "model_name": "AccordionModel",
      "state": {
       "_titles": {
        "0": "Method",
        "1": "Analysis",
        "2": "Result"
       },
       "children": [
        "IPY_MODEL_72c967a64c7b446ba2c3c637d41deeb7",
        "IPY_MODEL_2cf82c6f1c054843996ea0c410836181",
        "IPY_MODEL_b32d937165f54437bc574ce159191a85"
       ],
       "layout": "IPY_MODEL_f86e44498b9e4751935e5d003a40c9e1"
      }
     },
     "3b58d5054a8a41298d85fa5ae61c90fc": {
      "model_module": "@jupyter-widgets/controls",
      "model_module_version": "1.1.0",
      "model_name": "DescriptionStyleModel",
      "state": {
       "description_width": ""
      }
     },
     "3b63c7f89bb14e45a62d572659915d37": {
      "model_module": "@jupyter-widgets/controls",
      "model_module_version": "1.1.0",
      "model_name": "SelectMultipleModel",
      "state": {
       "_options_labels": [
        "Price",
        "Year",
        "Mileage"
       ],
       "description": "Filter by",
       "index": [
        0
       ],
       "layout": "IPY_MODEL_2258d0af3339453ca4397679d5cb942c",
       "rows": 3,
       "style": "IPY_MODEL_baf3e903ff524e07b41034fb20d68465"
      }
     },
     "3b94b31c322a4ce1ac1c59ad8d2492bd": {
      "model_module": "@jupyter-widgets/base",
      "model_module_version": "1.0.0",
      "model_name": "LayoutModel",
      "state": {}
     },
     "3bdbeca9f55c4a1ab1bfd37b375a8a6d": {
      "model_module": "@jupyter-widgets/controls",
      "model_module_version": "1.1.0",
      "model_name": "VBoxModel",
      "state": {
       "children": [
        "IPY_MODEL_39af05ea58084670937a86841b4e4b8d",
        "IPY_MODEL_a4c12a2a85b04f5e98d30a01f83ee1dd"
       ],
       "layout": "IPY_MODEL_9d17b3cb41ce4beca1e86427ee00a55b"
      }
     },
     "3be2fa7c30f841f980749944ad6b5efa": {
      "model_module": "@jupyter-widgets/base",
      "model_module_version": "1.0.0",
      "model_name": "LayoutModel",
      "state": {}
     },
     "3be67767fb4e43e1b579af0795defe74": {
      "model_module": "@jupyter-widgets/controls",
      "model_module_version": "1.1.0",
      "model_name": "AccordionModel",
      "state": {
       "_titles": {
        "0": "Method",
        "1": "Analysis",
        "2": "Result"
       },
       "children": [
        "IPY_MODEL_a75404e24a454688aba07e2cf58e6c08",
        "IPY_MODEL_7f28641d0ea140f58074d92c47869871",
        "IPY_MODEL_5be16cb7068b4082be8b7e650a8ef86c"
       ],
       "layout": "IPY_MODEL_d9f101de1c924e8da99b4c27e8b56625"
      }
     },
     "3c2dbbcbd8a34e159803170f886874b9": {
      "model_module": "@jupyter-widgets/base",
      "model_module_version": "1.0.0",
      "model_name": "LayoutModel",
      "state": {}
     },
     "3c34bee6cbf1431980b30a20b4068ec7": {
      "model_module": "@jupyter-widgets/controls",
      "model_module_version": "1.1.0",
      "model_name": "VBoxModel",
      "state": {
       "children": [
        "IPY_MODEL_145b9b41a51148ad8e13b7f6de7640de",
        "IPY_MODEL_77331876d16e4c59bce917d732711580"
       ],
       "layout": "IPY_MODEL_1a2447fa27484d5e83ad3e9c7e11fef4"
      }
     },
     "3c9df8c12ad44b70a962dae6cf3e5168": {
      "model_module": "@jupyter-widgets/controls",
      "model_module_version": "1.1.0",
      "model_name": "ButtonStyleModel",
      "state": {
       "button_color": "navy"
      }
     },
     "3cfa37320d0c4f8e9a44033ef53264bc": {
      "model_module": "@jupyter-widgets/controls",
      "model_module_version": "1.1.0",
      "model_name": "DescriptionStyleModel",
      "state": {
       "description_width": ""
      }
     },
     "3cfd2b9ea75948a692592369701d2319": {
      "model_module": "@jupyter-widgets/controls",
      "model_module_version": "1.1.0",
      "model_name": "ImageModel",
      "state": {
       "height": "100",
       "layout": "IPY_MODEL_2ca3fbb898214e229e1e5f895f78557e",
       "value": {},
       "width": "100"
      }
     },
     "3d098d12f21642199bfe5e54280e783d": {
      "model_module": "@jupyter-widgets/controls",
      "model_module_version": "1.1.0",
      "model_name": "DescriptionStyleModel",
      "state": {
       "description_width": ""
      }
     },
     "3d2fc07f9f8348e3a9919d925ba0f028": {
      "model_module": "@jupyter-widgets/base",
      "model_module_version": "1.0.0",
      "model_name": "LayoutModel",
      "state": {}
     },
     "3d458279e9a94ae58178b9fb074cbb65": {
      "model_module": "@jupyter-widgets/controls",
      "model_module_version": "1.1.0",
      "model_name": "VBoxModel",
      "state": {
       "children": [
        "IPY_MODEL_b79bff83f3fb48008fb78b1169993a62",
        "IPY_MODEL_75a030c16a85418696508cac626f3cf9"
       ],
       "layout": "IPY_MODEL_cecf2a47bd194e218744cf0f15bc5092"
      }
     },
     "3d60253e9d1042cdbe5b9d6b6c2d16e8": {
      "model_module": "@jupyter-widgets/controls",
      "model_module_version": "1.1.0",
      "model_name": "DescriptionStyleModel",
      "state": {
       "description_width": ""
      }
     },
     "3d6cbd61afe44619ba9fe847ddabbee4": {
      "model_module": "@jupyter-widgets/controls",
      "model_module_version": "1.1.0",
      "model_name": "VBoxModel",
      "state": {
       "children": [
        "IPY_MODEL_ef17d008745b426e9cb7e161814b0912",
        "IPY_MODEL_5c9cf90f8f42470eb311f2f5b2baad67"
       ],
       "layout": "IPY_MODEL_df7c4d4181914b74a3cd1039cbd5abe0"
      }
     },
     "3dadf4a2b2ac46128d35fd0a596f9037": {
      "model_module": "@jupyter-widgets/controls",
      "model_module_version": "1.1.0",
      "model_name": "HBoxModel",
      "state": {
       "children": [
        "IPY_MODEL_93cdaeb096244856b6e486d37da4ff81",
        "IPY_MODEL_cc6ac6d39b2544ba86b3a374d8b7618b",
        "IPY_MODEL_41cb1c29f7e746c1b87660f3dbdf58cb",
        "IPY_MODEL_63d37d4b3ea34dc7abec43ff3c6fe3f3"
       ],
       "layout": "IPY_MODEL_d160c191618d4ebba6ab04e12db88510"
      }
     },
     "3dae5d524fa549b2864c5e39ba6f2d1a": {
      "model_module": "@jupyter-widgets/controls",
      "model_module_version": "1.1.0",
      "model_name": "TextModel",
      "state": {
       "description": "CSV file:",
       "layout": "IPY_MODEL_328b7a4411aa44998038c2b4bc60e946",
       "placeholder": "Name of cleaned csv file",
       "style": "IPY_MODEL_3cfa37320d0c4f8e9a44033ef53264bc"
      }
     },
     "3db03be525d946e6b94134adf035c076": {
      "model_module": "@jupyter-widgets/controls",
      "model_module_version": "1.1.0",
      "model_name": "HTMLModel",
      "state": {
       "description": "Sample:",
       "layout": "IPY_MODEL_b3cea728cb5a460c91930e3796260e8a",
       "placeholder": "",
       "style": "IPY_MODEL_c523bc0aa71849d9913b2c20ec74a6ed",
       "value": "<i><b>C:\\Users\\LENOVO\\Documents</b><i>"
      }
     },
     "3dccfb7c7d8c4036bfb552852f91e45b": {
      "model_module": "@jupyter-widgets/base",
      "model_module_version": "1.0.0",
      "model_name": "LayoutModel",
      "state": {}
     },
     "3de40c71b9f345bbb307efa1cd9b0bda": {
      "model_module": "@jupyter-widgets/output",
      "model_module_version": "1.0.0",
      "model_name": "OutputModel",
      "state": {
       "layout": "IPY_MODEL_7067aa02e1c741cb81081b5b4d6a7d3c"
      }
     },
     "3e393a10491d4ef898dc99456f9acf02": {
      "model_module": "@jupyter-widgets/base",
      "model_module_version": "1.0.0",
      "model_name": "LayoutModel",
      "state": {}
     },
     "3e45f38c9018432cbadf2933dafdbbf2": {
      "model_module": "@jupyter-widgets/base",
      "model_module_version": "1.0.0",
      "model_name": "LayoutModel",
      "state": {}
     },
     "3e622ef4f6d64127a323dc190538b52c": {
      "model_module": "@jupyter-widgets/base",
      "model_module_version": "1.0.0",
      "model_name": "LayoutModel",
      "state": {}
     },
     "3ea3decde41a448d987788e594a7bd2e": {
      "model_module": "@jupyter-widgets/controls",
      "model_module_version": "1.1.0",
      "model_name": "DescriptionStyleModel",
      "state": {
       "description_width": ""
      }
     },
     "3ee7da0b7fab4fb6bef3d8225d07c161": {
      "model_module": "@jupyter-widgets/base",
      "model_module_version": "1.0.0",
      "model_name": "LayoutModel",
      "state": {}
     },
     "3f20bb61786946c48e6ea66326fa5c13": {
      "model_module": "@jupyter-widgets/base",
      "model_module_version": "1.0.0",
      "model_name": "LayoutModel",
      "state": {}
     },
     "3f2b467832c14407a741fea5ca107274": {
      "model_module": "@jupyter-widgets/controls",
      "model_module_version": "1.1.0",
      "model_name": "DescriptionStyleModel",
      "state": {
       "description_width": ""
      }
     },
     "3f3a9cdf4d714e188e9306ff234e361c": {
      "model_module": "@jupyter-widgets/controls",
      "model_module_version": "1.1.0",
      "model_name": "SelectMultipleModel",
      "state": {
       "_options_labels": [
        "Price",
        "Year",
        "Mileage"
       ],
       "description": "Filter by",
       "index": [
        0
       ],
       "layout": "IPY_MODEL_e750ffd28f224ce6b06c5ee7121bdfd1",
       "rows": 3,
       "style": "IPY_MODEL_2d680928026a44e69b2687bcd132ca28"
      }
     },
     "3f3f0289597a4e20a359fbd2bb43e7e5": {
      "model_module": "@jupyter-widgets/base",
      "model_module_version": "1.0.0",
      "model_name": "LayoutModel",
      "state": {}
     },
     "3f503dd8bd294f29be9b397b419e3f2f": {
      "model_module": "@jupyter-widgets/controls",
      "model_module_version": "1.1.0",
      "model_name": "ButtonModel",
      "state": {
       "description": "PCA!",
       "icon": "check",
       "layout": "IPY_MODEL_a0253a5115d441f3ae2b032cfbffba2c",
       "style": "IPY_MODEL_186b6ab3fdfa49a8ba2c0aaf4e927354",
       "tooltip": "Click me"
      }
     },
     "3f74d09c09564759b1a288346709309b": {
      "model_module": "@jupyter-widgets/controls",
      "model_module_version": "1.1.0",
      "model_name": "AccordionModel",
      "state": {
       "_titles": {
        "0": "Scrap"
       },
       "children": [
        "IPY_MODEL_1e3720f780ac4e5db9025ae5fde078a3"
       ],
       "layout": "IPY_MODEL_f0703dcad54c4b83a104e4e22fe9094d"
      }
     },
     "3f8173a7448e4bb88996733e238991c8": {
      "model_module": "@jupyter-widgets/controls",
      "model_module_version": "1.1.0",
      "model_name": "HTMLModel",
      "state": {
       "description": "Sample Link:",
       "layout": "IPY_MODEL_d1aa5fe6aeeb4582912fd65992ec46eb",
       "placeholder": "",
       "style": "IPY_MODEL_3d60253e9d1042cdbe5b9d6b6c2d16e8",
       "value": "<i><b>C:\\Users\\LENOVO\\Documents</b><i>"
      }
     },
     "3fae7d93f5be44ca96d28bc11c50bf36": {
      "model_module": "@jupyter-widgets/controls",
      "model_module_version": "1.1.0",
      "model_name": "HTMLModel",
      "state": {
       "layout": "IPY_MODEL_8550bfbc91a84439967293af5a6e343f",
       "placeholder": "",
       "style": "IPY_MODEL_30f9d025181a4ca4ac56ba57ef2e09b0",
       "value": "<b>Click to view Potential Scammers!!<b>"
      }
     },
     "4001cb50f75f48aeb17feb7e0bc7ef10": {
      "model_module": "@jupyter-widgets/controls",
      "model_module_version": "1.1.0",
      "model_name": "DescriptionStyleModel",
      "state": {
       "description_width": ""
      }
     },
     "400f16e6e2d346808d29e71234168258": {
      "model_module": "@jupyter-widgets/controls",
      "model_module_version": "1.1.0",
      "model_name": "HBoxModel",
      "state": {
       "children": [
        "IPY_MODEL_4f26e4991c104abdbcf2c6e65e5a35d7",
        "IPY_MODEL_33bf7bfe19ff4ebbb33092514b14f666",
        "IPY_MODEL_dc9904bcbad4484caa39bb78884843c6",
        "IPY_MODEL_0337c8406c1546f0a65780f937e892c0"
       ],
       "layout": "IPY_MODEL_28b625205afe4514b8060d3cac9025e7"
      }
     },
     "402869b0b93f422bbb71c9f53535354d": {
      "model_module": "@jupyter-widgets/base",
      "model_module_version": "1.0.0",
      "model_name": "LayoutModel",
      "state": {}
     },
     "402b094c795446abb8d52292715b0a1a": {
      "model_module": "@jupyter-widgets/controls",
      "model_module_version": "1.1.0",
      "model_name": "AccordionModel",
      "state": {
       "_titles": {
        "0": "Link",
        "1": "Save",
        "2": "Scrap"
       },
       "children": [
        "IPY_MODEL_bbe6e5f0d003414191693cad46aabe3f",
        "IPY_MODEL_34225ff846724ff08938eac4ddf81353",
        "IPY_MODEL_01386a38a26d44919782b3e983af8a0a"
       ],
       "layout": "IPY_MODEL_021ec9e7001843229a4de182c2abd93e",
       "selected_index": null
      }
     },
     "4053432a4b97460fb9690c2070b496d2": {
      "model_module": "@jupyter-widgets/controls",
      "model_module_version": "1.1.0",
      "model_name": "VBoxModel",
      "state": {
       "children": [
        "IPY_MODEL_0cecb1064de74340926cda6134d998c1",
        "IPY_MODEL_12c17c0d71544449a64891cf9c570ce1"
       ],
       "layout": "IPY_MODEL_57f1471bef7643438e8185d56e64a5fd"
      }
     },
     "406412969890483fa083a148e3a3f9f4": {
      "model_module": "@jupyter-widgets/controls",
      "model_module_version": "1.1.0",
      "model_name": "DescriptionStyleModel",
      "state": {
       "description_width": ""
      }
     },
     "40665e10b81c41ee8f71187baf2e3315": {
      "model_module": "@jupyter-widgets/controls",
      "model_module_version": "1.1.0",
      "model_name": "HTMLModel",
      "state": {
       "description": "Sample Link:",
       "layout": "IPY_MODEL_8639252861b84754bb257fef0dcbb034",
       "placeholder": "",
       "style": "IPY_MODEL_78a08110c723466a86a73fa77108af37",
       "value": "<i><b>https://www.mudah.my/malaysia/cars-for-sale?o=1&q=&th=1</b><i>"
      }
     },
     "4068c4dc90874ad380723c093b3e743a": {
      "model_module": "@jupyter-widgets/controls",
      "model_module_version": "1.1.0",
      "model_name": "AccordionModel",
      "state": {
       "_titles": {
        "0": "Method",
        "1": "Analysis"
       },
       "children": [
        "IPY_MODEL_3641b75dcd674dfa8102a33de9842300",
        "IPY_MODEL_823f006e17cc4828af49aaf5b365f0d9"
       ],
       "layout": "IPY_MODEL_8c5dd8f9c13947f2bbd236dcebccfccb",
       "selected_index": null
      }
     },
     "40850d171ab54173ae730dc62865ae21": {
      "model_module": "@jupyter-widgets/controls",
      "model_module_version": "1.1.0",
      "model_name": "VBoxModel",
      "state": {
       "children": [
        "IPY_MODEL_f0e7f876d6de48c887e28e12aca33e72",
        "IPY_MODEL_9e6b2fb55acd4f4684c4f41d150fda76"
       ],
       "layout": "IPY_MODEL_87319d8cc25c461ea4d0d372d8eb15a8"
      }
     },
     "408bd90e53634282b7d357012670e7f1": {
      "model_module": "@jupyter-widgets/base",
      "model_module_version": "1.0.0",
      "model_name": "LayoutModel",
      "state": {}
     },
     "409d10a5190b401eb551db6904fdd879": {
      "model_module": "@jupyter-widgets/controls",
      "model_module_version": "1.1.0",
      "model_name": "VBoxModel",
      "state": {
       "children": [
        "IPY_MODEL_21f12a60907c45e1a1af8b9490b795e6",
        "IPY_MODEL_de534021b022444e9618b2dc8daa390e"
       ],
       "layout": "IPY_MODEL_0ead69faa92b4d93a38084e0a870e3eb"
      }
     },
     "40e4c9f7d73b4c3497ebd441daf31eef": {
      "model_module": "@jupyter-widgets/base",
      "model_module_version": "1.0.0",
      "model_name": "LayoutModel",
      "state": {}
     },
     "41196d644563404e8797020749fc8066": {
      "model_module": "@jupyter-widgets/controls",
      "model_module_version": "1.1.0",
      "model_name": "ButtonStyleModel",
      "state": {
       "button_color": "lightblue"
      }
     },
     "41a6f76fefa94a3796b4ac7a3d445596": {
      "model_module": "@jupyter-widgets/controls",
      "model_module_version": "1.1.0",
      "model_name": "HTMLModel",
      "state": {
       "layout": "IPY_MODEL_d23a722c123d4858a8037f6e8bd072bc",
       "placeholder": "",
       "style": "IPY_MODEL_bbfd7247014a4005b2549c3a67142ed7",
       "value": "Beware of <b>SCAMMER</b>, buy from the <b>TRUSTED<b> one"
      }
     },
     "41a737cffd974822b056ea410ade32a5": {
      "model_module": "@jupyter-widgets/controls",
      "model_module_version": "1.1.0",
      "model_name": "HTMLModel",
      "state": {
       "layout": "IPY_MODEL_4f25bea567fc46e4936c04d8b2073429",
       "placeholder": "",
       "style": "IPY_MODEL_b4807c73c1b2465fb2c54eecc54fc3d3",
       "value": "<b>Choose to view and compare by attributes<b>"
      }
     },
     "41cb1c29f7e746c1b87660f3dbdf58cb": {
      "model_module": "@jupyter-widgets/controls",
      "model_module_version": "1.1.0",
      "model_name": "ButtonModel",
      "state": {
       "description": "Help",
       "layout": "IPY_MODEL_c7126a290d0c4a9b9d3f2b0483e598b2",
       "style": "IPY_MODEL_fb1a031b7b9c4c48bba6e2049c9813e2"
      }
     },
     "41d82b5e06e645bb9893ffefb305e604": {
      "model_module": "@jupyter-widgets/controls",
      "model_module_version": "1.1.0",
      "model_name": "TextModel",
      "state": {
       "description": "CSV file:",
       "layout": "IPY_MODEL_b2c0b05c51c04562bde1bc77c4cf78cd",
       "placeholder": "Name your scrap csv file",
       "style": "IPY_MODEL_d5307a475f0a45e6bbd0a87db65a2fbe"
      }
     },
     "41ddb4918e344adbb4eb397e23c0b0f3": {
      "model_module": "@jupyter-widgets/controls",
      "model_module_version": "1.1.0",
      "model_name": "HBoxModel",
      "state": {
       "children": [
        "IPY_MODEL_f4e1155336644e23bf2e4ec271c3409c",
        "IPY_MODEL_5824cb8c0f534c1b88689176c33a08b3"
       ],
       "layout": "IPY_MODEL_f1a703fe34ad493187ec6bbb4d1ba4b8"
      }
     },
     "42011c217ef840c3bc0ae705498a14e0": {
      "model_module": "@jupyter-widgets/base",
      "model_module_version": "1.0.0",
      "model_name": "LayoutModel",
      "state": {}
     },
     "421de98c2f524454a0ef84595da29c79": {
      "model_module": "@jupyter-widgets/base",
      "model_module_version": "1.0.0",
      "model_name": "LayoutModel",
      "state": {}
     },
     "4240ceabea6d4e4e95fbb28a8f74a00c": {
      "model_module": "@jupyter-widgets/controls",
      "model_module_version": "1.1.0",
      "model_name": "HTMLModel",
      "state": {
       "layout": "IPY_MODEL_71fb6e111be64b968949a7850e6c0ae1",
       "placeholder": "",
       "style": "IPY_MODEL_152bcf21d4db4de4920d2573be7359bd",
       "value": "<b>Scammer Detector</b>"
      }
     },
     "425ce6e027b8444d81b5c39c0e132c5f": {
      "model_module": "@jupyter-widgets/controls",
      "model_module_version": "1.1.0",
      "model_name": "DescriptionStyleModel",
      "state": {
       "description_width": ""
      }
     },
     "428f2571f56b46b7850b08ff19bf5266": {
      "model_module": "@jupyter-widgets/base",
      "model_module_version": "1.0.0",
      "model_name": "LayoutModel",
      "state": {}
     },
     "4296f1d3e97340f8a9e636412e3a3cba": {
      "model_module": "@jupyter-widgets/base",
      "model_module_version": "1.0.0",
      "model_name": "LayoutModel",
      "state": {}
     },
     "42ae3046908641adb8a30c89bac9153f": {
      "model_module": "@jupyter-widgets/base",
      "model_module_version": "1.0.0",
      "model_name": "LayoutModel",
      "state": {}
     },
     "430a70ad1cc94581a312e49bb97db607": {
      "model_module": "@jupyter-widgets/controls",
      "model_module_version": "1.1.0",
      "model_name": "AccordionModel",
      "state": {
       "_titles": {
        "0": "Scrap"
       },
       "children": [
        "IPY_MODEL_73e004678ce94f26bed5082d98c7fdc0"
       ],
       "layout": "IPY_MODEL_c4411c578ff34f4a960842497d9f6054"
      }
     },
     "430dbc57d840467999e7a92f0e710a99": {
      "model_module": "@jupyter-widgets/controls",
      "model_module_version": "1.1.0",
      "model_name": "ButtonStyleModel",
      "state": {
       "button_color": "lightblue"
      }
     },
     "431bd9b95daa47708b2f291ad343942b": {
      "model_module": "@jupyter-widgets/controls",
      "model_module_version": "1.1.0",
      "model_name": "TextModel",
      "state": {
       "description": "Folder Path:",
       "layout": "IPY_MODEL_33f620b532044f80b83dcf76f989f0b4",
       "placeholder": "Paste folder path to save",
       "style": "IPY_MODEL_af464d4c27ac4cbc9b91795427c5d0db"
      }
     },
     "432747ecdc3a4b788611473606191be2": {
      "model_module": "@jupyter-widgets/controls",
      "model_module_version": "1.1.0",
      "model_name": "ButtonModel",
      "state": {
       "description": "Boxplot",
       "icon": "check",
       "layout": "IPY_MODEL_e64c0607a8e7422993cc7e5b32842d2f",
       "style": "IPY_MODEL_90d392422a4e4d6fb8efa2fa908a1b79",
       "tooltip": "Click me"
      }
     },
     "43540657c854496eb62d92ed36729a0d": {
      "model_module": "@jupyter-widgets/controls",
      "model_module_version": "1.1.0",
      "model_name": "TabModel",
      "state": {
       "_titles": {
        "0": "1. Extaction",
        "1": "2. Data",
        "2": "3. Evaluation"
       },
       "children": [
        "IPY_MODEL_67d244c717ac427a93a55075b5249df3",
        "IPY_MODEL_5a0d874549bb47d7a930ff8d043e6f8a",
        "IPY_MODEL_9ff4e1fabd9441c382dc9907fcb007c8"
       ],
       "layout": "IPY_MODEL_4a613c42c2a9411f8b354680d49b8d14"
      }
     },
     "437a73b913c6406b97dc7bf34c5580db": {
      "model_module": "@jupyter-widgets/controls",
      "model_module_version": "1.1.0",
      "model_name": "VBoxModel",
      "state": {
       "children": [
        "IPY_MODEL_a545a81748f64286b17545d767e3423c",
        "IPY_MODEL_e5f27b0bbf8d4527a5dc0c268a6ae486"
       ],
       "layout": "IPY_MODEL_82740905d0884af5814b4de1b21adeac"
      }
     },
     "4390af64eb8c42a6b6e1e1662f8e209d": {
      "model_module": "@jupyter-widgets/controls",
      "model_module_version": "1.1.0",
      "model_name": "HBoxModel",
      "state": {
       "children": [
        "IPY_MODEL_75e60aca84074d55b5369562478b0cdb",
        "IPY_MODEL_1dc419c3ed084aab9fbf15949db74cd3",
        "IPY_MODEL_20ff954edf314829bd8670504ef332da"
       ],
       "layout": "IPY_MODEL_77cd03ff87a44b69b0706a2385121b41"
      }
     },
     "43b876aa5ed049a89c2e245939a08917": {
      "model_module": "@jupyter-widgets/base",
      "model_module_version": "1.0.0",
      "model_name": "LayoutModel",
      "state": {}
     },
     "43d46f8dbb9a4a7ab3132b6a2a4965ca": {
      "model_module": "@jupyter-widgets/controls",
      "model_module_version": "1.1.0",
      "model_name": "DropdownModel",
      "state": {
       "_options_labels": [
        "-",
        "5",
        "6",
        "7",
        "8",
        "9",
        "10"
       ],
       "description": "Random:",
       "index": 0,
       "layout": "IPY_MODEL_53e49e54285e4fbc9e27ba0e109198c5",
       "style": "IPY_MODEL_29fe9ae5bd4142b9b578ae9bb5c2e200"
      }
     },
     "44174c33da6c4527a8816036114bff3b": {
      "model_module": "@jupyter-widgets/base",
      "model_module_version": "1.0.0",
      "model_name": "LayoutModel",
      "state": {}
     },
     "44429b50b3f84e718746a384aa51ac0f": {
      "model_module": "@jupyter-widgets/controls",
      "model_module_version": "1.1.0",
      "model_name": "ButtonStyleModel",
      "state": {
       "button_color": "lightblue"
      }
     },
     "447f04bdba0d4eebb3b53ae772300ed4": {
      "model_module": "@jupyter-widgets/controls",
      "model_module_version": "1.1.0",
      "model_name": "DescriptionStyleModel",
      "state": {
       "description_width": ""
      }
     },
     "44a122783d50480cac16ada1f6219fc6": {
      "model_module": "@jupyter-widgets/controls",
      "model_module_version": "1.1.0",
      "model_name": "DescriptionStyleModel",
      "state": {
       "description_width": ""
      }
     },
     "44a623515aaa4187b177176b36863b61": {
      "model_module": "@jupyter-widgets/base",
      "model_module_version": "1.0.0",
      "model_name": "LayoutModel",
      "state": {}
     },
     "44d04822d67949c0aecfbd624ba02908": {
      "model_module": "@jupyter-widgets/base",
      "model_module_version": "1.0.0",
      "model_name": "LayoutModel",
      "state": {}
     },
     "44d7489804364111b125e6539d0f1b37": {
      "model_module": "@jupyter-widgets/base",
      "model_module_version": "1.0.0",
      "model_name": "LayoutModel",
      "state": {}
     },
     "451d7ffb5f1343ac82cdfcc10a43026e": {
      "model_module": "@jupyter-widgets/base",
      "model_module_version": "1.0.0",
      "model_name": "LayoutModel",
      "state": {}
     },
     "4528805c3ab04bb3b7ec48e8f0ba4e6e": {
      "model_module": "@jupyter-widgets/base",
      "model_module_version": "1.0.0",
      "model_name": "LayoutModel",
      "state": {}
     },
     "4529efabcd8145569eb8d5c0a6e2def9": {
      "model_module": "@jupyter-widgets/controls",
      "model_module_version": "1.1.0",
      "model_name": "HTMLModel",
      "state": {
       "description": "Sample Link:",
       "layout": "IPY_MODEL_58b5af9c33794610b4f030565cbd69ec",
       "placeholder": "",
       "style": "IPY_MODEL_3ea3decde41a448d987788e594a7bd2e",
       "value": "<i><b>https://www.mudah.my/malaysia/cars-for-sale?o=1&q=&th=1</b><i>"
      }
     },
     "454b53dc02e8454b903896a35064bba3": {
      "model_module": "@jupyter-widgets/controls",
      "model_module_version": "1.1.0",
      "model_name": "HBoxModel",
      "state": {
       "children": [
        "IPY_MODEL_0bdcfe497c3d4798935d890edba00ee0",
        "IPY_MODEL_33bf7bfe19ff4ebbb33092514b14f666",
        "IPY_MODEL_dc9904bcbad4484caa39bb78884843c6",
        "IPY_MODEL_0337c8406c1546f0a65780f937e892c0"
       ],
       "layout": "IPY_MODEL_3ee7da0b7fab4fb6bef3d8225d07c161"
      }
     },
     "4550f1bc674e4bf78e339612304a9210": {
      "model_module": "@jupyter-widgets/controls",
      "model_module_version": "1.1.0",
      "model_name": "DescriptionStyleModel",
      "state": {
       "description_width": ""
      }
     },
     "45562151bcfd4e1495e49b9a9feea45d": {
      "model_module": "@jupyter-widgets/base",
      "model_module_version": "1.0.0",
      "model_name": "LayoutModel",
      "state": {}
     },
     "4585d3ed2cc843609dfb4eeff3f0c9e6": {
      "model_module": "@jupyter-widgets/controls",
      "model_module_version": "1.1.0",
      "model_name": "VBoxModel",
      "state": {
       "children": [
        "IPY_MODEL_bc07d51c7bd049b6b214422ef3b7ce70",
        "IPY_MODEL_a56078b5fb524adba1559811a4f8be64"
       ],
       "layout": "IPY_MODEL_c156f65e96d64f958c212f4c31d42a5d"
      }
     },
     "45947f6c0a3742e7ab92cf7473469bae": {
      "model_module": "@jupyter-widgets/controls",
      "model_module_version": "1.1.0",
      "model_name": "ButtonStyleModel",
      "state": {
       "button_color": "orange"
      }
     },
     "45f4b0638e5c4e609751958804ba9851": {
      "model_module": "@jupyter-widgets/controls",
      "model_module_version": "1.1.0",
      "model_name": "ButtonModel",
      "state": {
       "description": "Click me",
       "icon": "check",
       "layout": "IPY_MODEL_50db16d5eff945d4827e955796b527f8",
       "style": "IPY_MODEL_596e9d2e90c447eb9140e94619f77840",
       "tooltip": "Click me"
      }
     },
     "463a8f59d6774d0593536802527823bf": {
      "model_module": "@jupyter-widgets/controls",
      "model_module_version": "1.1.0",
      "model_name": "TabModel",
      "state": {
       "_titles": {
        "0": "Extaction",
        "1": "S"
       },
       "children": [
        "IPY_MODEL_ee4cdbfba38e4623ab63a672778861b9"
       ],
       "layout": "IPY_MODEL_2140d71e91524110914f2efe5bf2861b"
      }
     },
     "46d45589311f410c9fe7ccc68e3dc32e": {
      "model_module": "@jupyter-widgets/base",
      "model_module_version": "1.0.0",
      "model_name": "LayoutModel",
      "state": {}
     },
     "46dabcc7b8f3448ca6e0170a5d0ab6e4": {
      "model_module": "@jupyter-widgets/controls",
      "model_module_version": "1.1.0",
      "model_name": "AccordionModel",
      "state": {
       "_titles": {
        "0": "Upload",
        "1": "View",
        "2": "Analysis"
       },
       "children": [
        "IPY_MODEL_fb385d32db7841c4bebfecd1f4a665c2",
        "IPY_MODEL_a2ccfd52d8d04df288fb2115622e601c",
        "IPY_MODEL_4a16b84fea7144b5aae5895a53de655d"
       ],
       "layout": "IPY_MODEL_24067bcd3c864efea462f2fb19fd54c3",
       "selected_index": 2
      }
     },
     "46ddcde60ead4692a26b6c4301e3019b": {
      "model_module": "@jupyter-widgets/controls",
      "model_module_version": "1.1.0",
      "model_name": "TextModel",
      "state": {
       "description": "P0",
       "layout": "IPY_MODEL_2150b2633c85480ab1c8d0f2c47122c2",
       "style": "IPY_MODEL_9ac92aaf52a947d28cc67e9b25deb34c"
      }
     },
     "46e493f22f9a4fb38afb893fde66717d": {
      "model_module": "@jupyter-widgets/base",
      "model_module_version": "1.0.0",
      "model_name": "LayoutModel",
      "state": {}
     },
     "471a86bf6a874b0094743671469fe375": {
      "model_module": "@jupyter-widgets/controls",
      "model_module_version": "1.1.0",
      "model_name": "TextModel",
      "state": {
       "description": "CSV file:",
       "layout": "IPY_MODEL_9bae1341166a4b4c84b48552e6a10942",
       "placeholder": "Name of cleaned csv file",
       "style": "IPY_MODEL_ae2158f9a65948f49a6e473cb6ecd030"
      }
     },
     "471e625db7f64f8182ee19acc9b6460a": {
      "model_module": "@jupyter-widgets/base",
      "model_module_version": "1.0.0",
      "model_name": "LayoutModel",
      "state": {}
     },
     "4784c116301346c48958cbd9b6e2a5c2": {
      "model_module": "@jupyter-widgets/base",
      "model_module_version": "1.0.0",
      "model_name": "LayoutModel",
      "state": {}
     },
     "47a5851955464341a3e623cdcefed5ca": {
      "model_module": "@jupyter-widgets/base",
      "model_module_version": "1.0.0",
      "model_name": "LayoutModel",
      "state": {}
     },
     "47a77f04379e4d29badd9c43f7254062": {
      "model_module": "@jupyter-widgets/base",
      "model_module_version": "1.0.0",
      "model_name": "LayoutModel",
      "state": {}
     },
     "47b6e2f6371341a3bb2689d1d9d86bba": {
      "model_module": "@jupyter-widgets/controls",
      "model_module_version": "1.1.0",
      "model_name": "ButtonStyleModel",
      "state": {
       "button_color": "red"
      }
     },
     "47c25cb410d24e67a6e68576ff3ea78b": {
      "model_module": "@jupyter-widgets/controls",
      "model_module_version": "1.1.0",
      "model_name": "HBoxModel",
      "state": {
       "children": [
        "IPY_MODEL_3aad82edc8d74167a56bab944d93bc4a",
        "IPY_MODEL_33d36c554d0e4ebf82efd04fa32f4bd0",
        "IPY_MODEL_1fe361ebfca0451daab6fc8201718732"
       ],
       "layout": "IPY_MODEL_9412a3f3745b44a2807e6779979746f3"
      }
     },
     "4801fad716bc436f87244e57f97d6df1": {
      "model_module": "@jupyter-widgets/controls",
      "model_module_version": "1.1.0",
      "model_name": "TextModel",
      "state": {
       "description": "CSV file:",
       "layout": "IPY_MODEL_759f2bcc4a814ed2abac61aecb33c469",
       "placeholder": "Name of cleaned csv file",
       "style": "IPY_MODEL_9cad4ab83dbc4c6ebad5a2787c09e1c4"
      }
     },
     "48267622b0b84d0a83fd7fb4043a9ff8": {
      "model_module": "@jupyter-widgets/controls",
      "model_module_version": "1.1.0",
      "model_name": "HBoxModel",
      "state": {
       "children": [
        "IPY_MODEL_810a310cd09e48b7871832e00e4f3c8d",
        "IPY_MODEL_b46a1a8fd4664a9ba9d645a612f1f230",
        "IPY_MODEL_7d8eb4a6d9054ecb9d1ad2c93ba22e61"
       ],
       "layout": "IPY_MODEL_8bb615ad19cb4feab11de680bc214b45"
      }
     },
     "4826b03da61e4dccac35258e9f1a798a": {
      "model_module": "@jupyter-widgets/controls",
      "model_module_version": "1.1.0",
      "model_name": "TabModel",
      "state": {
       "_titles": {
        "0": "Extaction",
        "1": "Data"
       },
       "children": [
        "IPY_MODEL_c1aed1dbd974447390e3105e74d28fa1",
        "IPY_MODEL_661ab29ede1945cf8af898be1eed654e"
       ],
       "layout": "IPY_MODEL_4c4bc52df6f246fe8a2b4a8446be5a66",
       "selected_index": 1
      }
     },
     "48805c4c9366412f9d34903b2ae6111d": {
      "model_module": "@jupyter-widgets/base",
      "model_module_version": "1.0.0",
      "model_name": "LayoutModel",
      "state": {}
     },
     "48a96c1e3718467792659c7fc0ac36aa": {
      "model_module": "@jupyter-widgets/controls",
      "model_module_version": "1.1.0",
      "model_name": "HTMLModel",
      "state": {
       "layout": "IPY_MODEL_ec14d9096a4f4a7484ffd5751ea53aff",
       "placeholder": "",
       "style": "IPY_MODEL_1a9728caf05943d39649ced6fdc2b9e2",
       "value": "Hello <b>World</b>"
      }
     },
     "48bb70dfd6dc44c480e35cc421950efe": {
      "model_module": "@jupyter-widgets/base",
      "model_module_version": "1.0.0",
      "model_name": "LayoutModel",
      "state": {}
     },
     "48d0816ce43141dd86f757bcc7a4481a": {
      "model_module": "@jupyter-widgets/base",
      "model_module_version": "1.0.0",
      "model_name": "LayoutModel",
      "state": {}
     },
     "48ef4e4cc3c942f582789ac02881420b": {
      "model_module": "@jupyter-widgets/controls",
      "model_module_version": "1.1.0",
      "model_name": "VBoxModel",
      "state": {
       "children": [
        "IPY_MODEL_3697ce1d511b47cd8dc36aaaa9ca6c4b",
        "IPY_MODEL_d9d113aad17f450180af4d65e959f5f1",
        "IPY_MODEL_5da487dd78814b65897d5e1b25c98ab9",
        "IPY_MODEL_ee6b1e1681da4e9f96a15508ab22a40d"
       ],
       "layout": "IPY_MODEL_8b2227a35d43436292f64a3e6b2b3de6"
      }
     },
     "48fb07de96f944359fe982a28218cd7f": {
      "model_module": "@jupyter-widgets/base",
      "model_module_version": "1.0.0",
      "model_name": "LayoutModel",
      "state": {}
     },
     "491bf6bf495645b38dffaad8e603d413": {
      "model_module": "@jupyter-widgets/controls",
      "model_module_version": "1.1.0",
      "model_name": "DescriptionStyleModel",
      "state": {
       "description_width": ""
      }
     },
     "492abf3cd3c04f5b96970d612a20d75b": {
      "model_module": "@jupyter-widgets/controls",
      "model_module_version": "1.1.0",
      "model_name": "VBoxModel",
      "state": {
       "children": [
        "IPY_MODEL_3884ad141ba34e5087fb8f6e3a95dc8f",
        "IPY_MODEL_df067f18ec954517a00b7f402294485a"
       ],
       "layout": "IPY_MODEL_9c9b2558a5e34d70b78c18321128da75"
      }
     },
     "4977d3948272426a9f2a64412e7c3a81": {
      "model_module": "@jupyter-widgets/base",
      "model_module_version": "1.0.0",
      "model_name": "LayoutModel",
      "state": {}
     },
     "49d1dbe4ad234db0bed05541b56cc234": {
      "model_module": "@jupyter-widgets/base",
      "model_module_version": "1.0.0",
      "model_name": "LayoutModel",
      "state": {}
     },
     "4a16b84fea7144b5aae5895a53de655d": {
      "model_module": "@jupyter-widgets/controls",
      "model_module_version": "1.1.0",
      "model_name": "SelectMultipleModel",
      "state": {
       "_options_labels": [
        "Price",
        "Year",
        "Mileage"
       ],
       "description": "Filter by",
       "index": [
        0
       ],
       "layout": "IPY_MODEL_3127a9e937de418e8961d58184ca2d3f",
       "rows": 5,
       "style": "IPY_MODEL_73617c413d6d48b39fb903c76f553f08"
      }
     },
     "4a220c59a76c4dbfb880badcea68253c": {
      "model_module": "@jupyter-widgets/output",
      "model_module_version": "1.0.0",
      "model_name": "OutputModel",
      "state": {
       "layout": "IPY_MODEL_df30a10f658345e7ab8d0723d4cedaf6"
      }
     },
     "4a2bec088a634271812cf0a151805d79": {
      "model_module": "@jupyter-widgets/controls",
      "model_module_version": "1.1.0",
      "model_name": "HTMLModel",
      "state": {
       "layout": "IPY_MODEL_568cdd81fb90424b91f03bd4da1ed0f0",
       "placeholder": "",
       "style": "IPY_MODEL_5bfc54547a904990a91e8deca011afb2",
       "value": "Apply <b>Data Mining<b> Method!!"
      }
     },
     "4a33fbede3e640298aef0f646de67912": {
      "model_module": "@jupyter-widgets/base",
      "model_module_version": "1.0.0",
      "model_name": "LayoutModel",
      "state": {}
     },
     "4a38e745f2854d2bbde3e1bb46f3471f": {
      "model_module": "@jupyter-widgets/base",
      "model_module_version": "1.0.0",
      "model_name": "LayoutModel",
      "state": {}
     },
     "4a5ee65fa4d54015a28d09a5cea392af": {
      "model_module": "@jupyter-widgets/base",
      "model_module_version": "1.0.0",
      "model_name": "LayoutModel",
      "state": {}
     },
     "4a613c42c2a9411f8b354680d49b8d14": {
      "model_module": "@jupyter-widgets/base",
      "model_module_version": "1.0.0",
      "model_name": "LayoutModel",
      "state": {}
     },
     "4a7dda581bc3407b97d8f32dcf14ca98": {
      "model_module": "@jupyter-widgets/base",
      "model_module_version": "1.0.0",
      "model_name": "LayoutModel",
      "state": {}
     },
     "4aa93e386dc349bba5083166782da765": {
      "model_module": "@jupyter-widgets/controls",
      "model_module_version": "1.1.0",
      "model_name": "AccordionModel",
      "state": {
       "_titles": {
        "0": "Source",
        "1": "Save",
        "2": "Scrap"
       },
       "children": [
        "IPY_MODEL_9444b2ef7f7c4027b74a74d2608133b0",
        "IPY_MODEL_e151641293de403ea0b93b400dc58233",
        "IPY_MODEL_3bdbeca9f55c4a1ab1bfd37b375a8a6d"
       ],
       "layout": "IPY_MODEL_216492d87f9245b091e1beddfc70a7cc"
      }
     },
     "4aa9446391f0417b9c14f0ea386c8d91": {
      "model_module": "@jupyter-widgets/controls",
      "model_module_version": "1.1.0",
      "model_name": "HTMLModel",
      "state": {
       "description": "Some HTML",
       "layout": "IPY_MODEL_37fc8fd3160547dfb375788d9b6eda4b",
       "placeholder": "",
       "style": "IPY_MODEL_fd9e765964ff491ebf30cebc38f53cd0",
       "value": "Hello <b>World</b>"
      }
     },
     "4aca900a37ba4aa0a3adc8b2c4bb059d": {
      "model_module": "@jupyter-widgets/base",
      "model_module_version": "1.0.0",
      "model_name": "LayoutModel",
      "state": {}
     },
     "4adfbab011124dad8353e9dcd3d0299d": {
      "model_module": "@jupyter-widgets/base",
      "model_module_version": "1.0.0",
      "model_name": "LayoutModel",
      "state": {}
     },
     "4b0ce00db52b49d0991d72173efb39c6": {
      "model_module": "@jupyter-widgets/base",
      "model_module_version": "1.0.0",
      "model_name": "LayoutModel",
      "state": {}
     },
     "4b41f665491240d7bff7cc98dfd8b49c": {
      "model_module": "@jupyter-widgets/controls",
      "model_module_version": "1.1.0",
      "model_name": "ImageModel",
      "state": {
       "height": "100",
       "layout": "IPY_MODEL_7f49301e5df64406b6e1338938a6a4a5",
       "value": {},
       "width": "200"
      }
     },
     "4b8b870bd33d4d7eb2062f4b82ac9fdd": {
      "model_module": "@jupyter-widgets/controls",
      "model_module_version": "1.1.0",
      "model_name": "DescriptionStyleModel",
      "state": {
       "description_width": ""
      }
     },
     "4bb35590702d4f14ae2146f75e22cac1": {
      "model_module": "@jupyter-widgets/controls",
      "model_module_version": "1.1.0",
      "model_name": "ButtonModel",
      "state": {
       "description": "PCA!",
       "icon": "check",
       "layout": "IPY_MODEL_b4b4600ed99745608b70d89496f964bb",
       "style": "IPY_MODEL_90c77cc1d60140e386052f4b6939d83c",
       "tooltip": "Click me"
      }
     },
     "4bcfbd0c9b474fb2b996507dc69ddff9": {
      "model_module": "@jupyter-widgets/base",
      "model_module_version": "1.0.0",
      "model_name": "LayoutModel",
      "state": {}
     },
     "4c443e4822c84415860f3ca07d99da47": {
      "model_module": "@jupyter-widgets/base",
      "model_module_version": "1.0.0",
      "model_name": "LayoutModel",
      "state": {}
     },
     "4c474dedac9b4b2c88a8e8cc7578e43a": {
      "model_module": "@jupyter-widgets/controls",
      "model_module_version": "1.1.0",
      "model_name": "AccordionModel",
      "state": {
       "_titles": {
        "0": "Source",
        "1": "Save",
        "2": "Scrap"
       },
       "children": [
        "IPY_MODEL_3c34bee6cbf1431980b30a20b4068ec7",
        "IPY_MODEL_8ef390b2d92942dfa5c4edef9398f709",
        "IPY_MODEL_c473c07fd1fe42d2bab9060de34bee5d"
       ],
       "layout": "IPY_MODEL_30038a076dd346799b63061daab98a65"
      }
     },
     "4c4bc52df6f246fe8a2b4a8446be5a66": {
      "model_module": "@jupyter-widgets/base",
      "model_module_version": "1.0.0",
      "model_name": "LayoutModel",
      "state": {}
     },
     "4c5f031e1739448e8e111996b00ab243": {
      "model_module": "@jupyter-widgets/controls",
      "model_module_version": "1.1.0",
      "model_name": "ButtonStyleModel",
      "state": {}
     },
     "4c749930745c45b29a72802515c32909": {
      "model_module": "@jupyter-widgets/controls",
      "model_module_version": "1.1.0",
      "model_name": "DropdownModel",
      "state": {
       "_options_labels": [
        "-",
        "5",
        "6",
        "7",
        "8",
        "9",
        "10"
       ],
       "description": "Tail:",
       "index": 0,
       "layout": "IPY_MODEL_15018f634b314f41b507afa04581f544",
       "style": "IPY_MODEL_2abb6962a2544247a284dce8bdfb24ca"
      }
     },
     "4c84254347da48d4b19916eb9989769c": {
      "model_module": "@jupyter-widgets/base",
      "model_module_version": "1.0.0",
      "model_name": "LayoutModel",
      "state": {}
     },
     "4cc81a74877e406687a4324f1fb4d132": {
      "model_module": "@jupyter-widgets/controls",
      "model_module_version": "1.1.0",
      "model_name": "ButtonStyleModel",
      "state": {
       "button_color": "lightblue"
      }
     },
     "4ce2a7d18c0f497185f95c5cfe07adb8": {
      "model_module": "@jupyter-widgets/controls",
      "model_module_version": "1.1.0",
      "model_name": "HTMLModel",
      "state": {
       "description": "Sample Path:",
       "layout": "IPY_MODEL_f2b1af11251547c1b930eac9631c97b5",
       "placeholder": "",
       "style": "IPY_MODEL_3a51920f1dd74322bfa4405e97e9751a",
       "value": "<i><b>C:\\Users\\LENOVO\\Documents</b><i>"
      }
     },
     "4d20e172d5a84583ac9997ba1111fea4": {
      "model_module": "@jupyter-widgets/controls",
      "model_module_version": "1.1.0",
      "model_name": "HTMLModel",
      "state": {
       "layout": "IPY_MODEL_5256598c74044727930e503d3b33ef9c",
       "placeholder": "",
       "style": "IPY_MODEL_e2ce0b96425f4fce920de8827302de54",
       "value": "Beware of <b>SCAMMER</b>, buy from the <b>TRUSTED<b> one"
      }
     },
     "4d38dd96b27e4edc9ac2aebf7eb1efbd": {
      "model_module": "@jupyter-widgets/base",
      "model_module_version": "1.0.0",
      "model_name": "LayoutModel",
      "state": {}
     },
     "4d3c580d7c3245ebad4c81778ab9f753": {
      "model_module": "@jupyter-widgets/controls",
      "model_module_version": "1.1.0",
      "model_name": "ImageModel",
      "state": {
       "format": "jpg",
       "height": "100",
       "layout": "IPY_MODEL_c0ac9a84398e4854933073b124188007",
       "value": {},
       "width": "100"
      }
     },
     "4d3e0c8e6fd04aa4b0aa55c18f245257": {
      "model_module": "@jupyter-widgets/base",
      "model_module_version": "1.0.0",
      "model_name": "LayoutModel",
      "state": {}
     },
     "4d6cf220590d40c2bd9f702e123ef193": {
      "model_module": "@jupyter-widgets/controls",
      "model_module_version": "1.1.0",
      "model_name": "ButtonModel",
      "state": {
       "description": "PCA!",
       "icon": "check",
       "layout": "IPY_MODEL_151f99f0dc5b4882a330a461c5bb6ce0",
       "style": "IPY_MODEL_cd4ef1c43de844349b08ac71e2c4b581",
       "tooltip": "Click me"
      }
     },
     "4dc6cb5c3f674fffb7d7e3499d648acc": {
      "model_module": "@jupyter-widgets/base",
      "model_module_version": "1.0.0",
      "model_name": "LayoutModel",
      "state": {}
     },
     "4dc752f676364676b623331efb9d917a": {
      "model_module": "@jupyter-widgets/controls",
      "model_module_version": "1.1.0",
      "model_name": "ButtonModel",
      "state": {
       "description": "About Us",
       "layout": "IPY_MODEL_ee2b7feb894f4ce3b45f4a239ede122b",
       "style": "IPY_MODEL_b93ea73f848e4895a0a3f597c53eafaa"
      }
     },
     "4dfe6dde787846e39c30ada3d593b116": {
      "model_module": "@jupyter-widgets/controls",
      "model_module_version": "1.1.0",
      "model_name": "DescriptionStyleModel",
      "state": {
       "description_width": ""
      }
     },
     "4e2b59ccd0c947d584c70e03f8f02771": {
      "model_module": "@jupyter-widgets/controls",
      "model_module_version": "1.1.0",
      "model_name": "TextModel",
      "state": {
       "description": "Link:",
       "layout": "IPY_MODEL_44174c33da6c4527a8816036114bff3b",
       "placeholder": "Paste your mudah.my link here",
       "style": "IPY_MODEL_e3c53de0a6ae4131856a9db0469cd2ed"
      }
     },
     "4e39bd0128f140df895ae83a2a3f6924": {
      "model_module": "@jupyter-widgets/base",
      "model_module_version": "1.0.0",
      "model_name": "LayoutModel",
      "state": {}
     },
     "4e58478fd9224ac7a08eb40792ef8e41": {
      "model_module": "@jupyter-widgets/base",
      "model_module_version": "1.0.0",
      "model_name": "LayoutModel",
      "state": {}
     },
     "4eed7e2b35d14498bea2677c24b1defa": {
      "model_module": "@jupyter-widgets/controls",
      "model_module_version": "1.1.0",
      "model_name": "DropdownModel",
      "state": {
       "_options_labels": [
        "-",
        "5",
        "6",
        "7",
        "8",
        "9",
        "10"
       ],
       "description": "Random:",
       "index": 0,
       "layout": "IPY_MODEL_5ea533c9375e4fd4a2ffaad980883ae9",
       "style": "IPY_MODEL_39982c7808594574a482bb6bb3259e33"
      }
     },
     "4ef5feb2c70b487bad93353d6a615b40": {
      "model_module": "@jupyter-widgets/controls",
      "model_module_version": "1.1.0",
      "model_name": "DescriptionStyleModel",
      "state": {
       "description_width": ""
      }
     },
     "4f25bea567fc46e4936c04d8b2073429": {
      "model_module": "@jupyter-widgets/base",
      "model_module_version": "1.0.0",
      "model_name": "LayoutModel",
      "state": {}
     },
     "4f26e4991c104abdbcf2c6e65e5a35d7": {
      "model_module": "@jupyter-widgets/controls",
      "model_module_version": "1.1.0",
      "model_name": "ImageModel",
      "state": {
       "height": "100",
       "layout": "IPY_MODEL_728ba25f73284c6491c2e35cc1f8c902",
       "value": {},
       "width": "100"
      }
     },
     "4f4241063b6549e5a282ea5611fe7286": {
      "model_module": "@jupyter-widgets/base",
      "model_module_version": "1.0.0",
      "model_name": "LayoutModel",
      "state": {}
     },
     "4f80ff4865ad4b48be2339bf0ac784f6": {
      "model_module": "@jupyter-widgets/base",
      "model_module_version": "1.0.0",
      "model_name": "LayoutModel",
      "state": {}
     },
     "4fd5949fc65246058a452df3fe0b81d8": {
      "model_module": "@jupyter-widgets/controls",
      "model_module_version": "1.1.0",
      "model_name": "VBoxModel",
      "state": {
       "children": [
        "IPY_MODEL_79d3d57594934edd8fd172137c86e59d",
        "IPY_MODEL_51ecc236793848a293841c58168c2f73"
       ],
       "layout": "IPY_MODEL_e3e32ac25b434b4789000b5b77970f4d"
      }
     },
     "5015e2fd89f0441b8679eb45689078dc": {
      "model_module": "@jupyter-widgets/base",
      "model_module_version": "1.0.0",
      "model_name": "LayoutModel",
      "state": {}
     },
     "5027c9dec59449ad81f792883e93dceb": {
      "model_module": "@jupyter-widgets/output",
      "model_module_version": "1.0.0",
      "model_name": "OutputModel",
      "state": {
       "layout": "IPY_MODEL_b31b6e4024c640dfba2475634e52f7d3"
      }
     },
     "502b7b00e9c54e9b80fe68d11b0d2410": {
      "model_module": "@jupyter-widgets/controls",
      "model_module_version": "1.1.0",
      "model_name": "ImageModel",
      "state": {
       "height": "200",
       "layout": "IPY_MODEL_b789a82509de4a15acf6248523d9a349",
       "value": {},
       "width": "200"
      }
     },
     "50694ba2f866452197e870e236289b03": {
      "model_module": "@jupyter-widgets/controls",
      "model_module_version": "1.1.0",
      "model_name": "AccordionModel",
      "state": {
       "_titles": {
        "0": "Source",
        "1": "Save",
        "2": "Scrap"
       },
       "children": [
        "IPY_MODEL_77d2ea36de314afca8135d9939c4d732",
        "IPY_MODEL_0512ace8250443078ec4833e07a35e2c",
        "IPY_MODEL_542663190d9c431fb950408cffb89f04"
       ],
       "layout": "IPY_MODEL_4a38e745f2854d2bbde3e1bb46f3471f"
      }
     },
     "507f59a303454a1d9cdbe4c0dc2b2ab4": {
      "model_module": "@jupyter-widgets/base",
      "model_module_version": "1.0.0",
      "model_name": "LayoutModel",
      "state": {}
     },
     "508a46ca779c4b4ea2487d2a7a4ee4cd": {
      "model_module": "@jupyter-widgets/base",
      "model_module_version": "1.0.0",
      "model_name": "LayoutModel",
      "state": {}
     },
     "508c9a0fd5ec43e7a96d685ea4ef3ba2": {
      "model_module": "@jupyter-widgets/base",
      "model_module_version": "1.0.0",
      "model_name": "LayoutModel",
      "state": {}
     },
     "5091d17e1f4b48c299c73e89b0ac9971": {
      "model_module": "@jupyter-widgets/controls",
      "model_module_version": "1.1.0",
      "model_name": "ButtonModel",
      "state": {
       "description": "PCA!",
       "icon": "check",
       "layout": "IPY_MODEL_8bf99b4318b14bfcb6afad0c98946b64",
       "style": "IPY_MODEL_9005478d61744d5bb01a1a31d83fac67",
       "tooltip": "Click me"
      }
     },
     "50b580d0de6b47c386f6db96cff7ffea": {
      "model_module": "@jupyter-widgets/base",
      "model_module_version": "1.0.0",
      "model_name": "LayoutModel",
      "state": {}
     },
     "50db16d5eff945d4827e955796b527f8": {
      "model_module": "@jupyter-widgets/base",
      "model_module_version": "1.0.0",
      "model_name": "LayoutModel",
      "state": {}
     },
     "50fe3a1b0c1142cea4ad08c950474f5c": {
      "model_module": "@jupyter-widgets/controls",
      "model_module_version": "1.1.0",
      "model_name": "ButtonModel",
      "state": {
       "description": "PCA!",
       "icon": "check",
       "layout": "IPY_MODEL_508c9a0fd5ec43e7a96d685ea4ef3ba2",
       "style": "IPY_MODEL_37cc069b302c43e9aa1b6843caa6785b",
       "tooltip": "Click me"
      }
     },
     "5126e62c96b24a6bb3a94e0bb27d75cf": {
      "model_module": "@jupyter-widgets/controls",
      "model_module_version": "1.1.0",
      "model_name": "ButtonStyleModel",
      "state": {}
     },
     "5130b87030414d49bfc573c5d882e6de": {
      "model_module": "@jupyter-widgets/controls",
      "model_module_version": "1.1.0",
      "model_name": "ImageModel",
      "state": {
       "height": "100",
       "layout": "IPY_MODEL_1d127cf807e7476b85d326960f41279b",
       "value": {},
       "width": "100"
      }
     },
     "513a586bb2f34a8abdd959200753c0c4": {
      "model_module": "@jupyter-widgets/base",
      "model_module_version": "1.0.0",
      "model_name": "LayoutModel",
      "state": {}
     },
     "513f3646500a478f90096c497c5c7727": {
      "model_module": "@jupyter-widgets/base",
      "model_module_version": "1.0.0",
      "model_name": "LayoutModel",
      "state": {}
     },
     "517c69f7c6674ee7ab0c9cf93a6b5c04": {
      "model_module": "@jupyter-widgets/controls",
      "model_module_version": "1.1.0",
      "model_name": "ButtonStyleModel",
      "state": {
       "button_color": "orange"
      }
     },
     "5197839394d74af7a9e2766ba195ac9c": {
      "model_module": "@jupyter-widgets/base",
      "model_module_version": "1.0.0",
      "model_name": "LayoutModel",
      "state": {}
     },
     "51a67b45543e4852af2961571ef5f054": {
      "model_module": "@jupyter-widgets/controls",
      "model_module_version": "1.1.0",
      "model_name": "DescriptionStyleModel",
      "state": {
       "description_width": ""
      }
     },
     "51ecc236793848a293841c58168c2f73": {
      "model_module": "@jupyter-widgets/controls",
      "model_module_version": "1.1.0",
      "model_name": "HBoxModel",
      "state": {
       "children": [
        "IPY_MODEL_e551b072c6dc4ed3b1a5d772664ae339",
        "IPY_MODEL_72349e0bcd474b37bde9d1f03a82ddee",
        "IPY_MODEL_2a06d0e2125e4f0b8a8fb059882ccc7a"
       ],
       "layout": "IPY_MODEL_e9843a215694483cbec45cd700c452ee"
      }
     },
     "52098c833c5141b1a63541f2aac51231": {
      "model_module": "@jupyter-widgets/base",
      "model_module_version": "1.0.0",
      "model_name": "LayoutModel",
      "state": {}
     },
     "520d48f8a17f45aba8f4766036851b36": {
      "model_module": "@jupyter-widgets/base",
      "model_module_version": "1.0.0",
      "model_name": "LayoutModel",
      "state": {}
     },
     "5212f7deb686456890f50a61a77e5391": {
      "model_module": "@jupyter-widgets/controls",
      "model_module_version": "1.1.0",
      "model_name": "DescriptionStyleModel",
      "state": {
       "description_width": ""
      }
     },
     "5230f4c7786748deb514affff7fcd6f0": {
      "model_module": "@jupyter-widgets/controls",
      "model_module_version": "1.1.0",
      "model_name": "ButtonStyleModel",
      "state": {
       "button_color": "blue"
      }
     },
     "52317009b8344f2d85026dc6b7c1d8e0": {
      "model_module": "@jupyter-widgets/base",
      "model_module_version": "1.0.0",
      "model_name": "LayoutModel",
      "state": {}
     },
     "525428188a274091a0d4e9f881b77465": {
      "model_module": "@jupyter-widgets/controls",
      "model_module_version": "1.1.0",
      "model_name": "VBoxModel",
      "state": {
       "children": [
        "IPY_MODEL_bc07d51c7bd049b6b214422ef3b7ce70",
        "IPY_MODEL_a56078b5fb524adba1559811a4f8be64"
       ],
       "layout": "IPY_MODEL_0f5a079158ba41d8b973ee01c7b3aec7"
      }
     },
     "5256598c74044727930e503d3b33ef9c": {
      "model_module": "@jupyter-widgets/base",
      "model_module_version": "1.0.0",
      "model_name": "LayoutModel",
      "state": {}
     },
     "52623dd87ee446e4a010265993b5d82b": {
      "model_module": "@jupyter-widgets/controls",
      "model_module_version": "1.1.0",
      "model_name": "VBoxModel",
      "state": {
       "children": [
        "IPY_MODEL_34d9c9d70a1c466e8163e265eb384a5c",
        "IPY_MODEL_06764c74d0fc4d9bb74f6786e6297cb6"
       ],
       "layout": "IPY_MODEL_7f0191a18e52447580bd7568179d1b4e"
      }
     },
     "5277f61e41cd479fb538eea03744c633": {
      "model_module": "@jupyter-widgets/controls",
      "model_module_version": "1.1.0",
      "model_name": "DescriptionStyleModel",
      "state": {
       "description_width": ""
      }
     },
     "52b72e357f1e4a7589fd6f542761b646": {
      "model_module": "@jupyter-widgets/base",
      "model_module_version": "1.0.0",
      "model_name": "LayoutModel",
      "state": {}
     },
     "52e0c3f9a37b4fd5821621f3b855e758": {
      "model_module": "@jupyter-widgets/controls",
      "model_module_version": "1.1.0",
      "model_name": "DescriptionStyleModel",
      "state": {
       "description_width": ""
      }
     },
     "52ef3500068a4788bd71257b862320fa": {
      "model_module": "@jupyter-widgets/controls",
      "model_module_version": "1.1.0",
      "model_name": "ButtonStyleModel",
      "state": {}
     },
     "531a513f1e784ca781d75f3323e6472b": {
      "model_module": "@jupyter-widgets/base",
      "model_module_version": "1.0.0",
      "model_name": "LayoutModel",
      "state": {}
     },
     "5323d478252f40a29a4a164d1892e990": {
      "model_module": "@jupyter-widgets/controls",
      "model_module_version": "1.1.0",
      "model_name": "ImageModel",
      "state": {
       "height": "100",
       "layout": "IPY_MODEL_31cb318a2ec849d7a0d96755c00c2bc8",
       "value": {},
       "width": "100"
      }
     },
     "53ad4926068646dbb869ef12462a9ac5": {
      "model_module": "@jupyter-widgets/base",
      "model_module_version": "1.0.0",
      "model_name": "LayoutModel",
      "state": {}
     },
     "53e49e54285e4fbc9e27ba0e109198c5": {
      "model_module": "@jupyter-widgets/base",
      "model_module_version": "1.0.0",
      "model_name": "LayoutModel",
      "state": {}
     },
     "53faedbd1dcc425281549aceabc3443f": {
      "model_module": "@jupyter-widgets/controls",
      "model_module_version": "1.1.0",
      "model_name": "AccordionModel",
      "state": {
       "_titles": {
        "0": "Source",
        "1": "Save",
        "2": "Scrap"
       },
       "children": [
        "IPY_MODEL_79f474affbdb47d5b45fdf09837dcaed",
        "IPY_MODEL_0ecedffc4b17409ebca97d6ed2cecc0d",
        "IPY_MODEL_74f15019a00a4338832242dd0459b226"
       ],
       "layout": "IPY_MODEL_12abd5ec8c8b4a0594b56dd1df735c5c",
       "selected_index": 2
      }
     },
     "5402a9f5254c43dbb0fb652d4e0c5328": {
      "model_module": "@jupyter-widgets/base",
      "model_module_version": "1.0.0",
      "model_name": "LayoutModel",
      "state": {}
     },
     "54074b4c8d9a4d2199ddb9ae364b073c": {
      "model_module": "@jupyter-widgets/base",
      "model_module_version": "1.0.0",
      "model_name": "LayoutModel",
      "state": {}
     },
     "54127abe5471446084a3357f3761ac5f": {
      "model_module": "@jupyter-widgets/controls",
      "model_module_version": "1.1.0",
      "model_name": "TabModel",
      "state": {
       "_titles": {
        "0": "Extaction",
        "1": "S"
       },
       "children": [
        "IPY_MODEL_ee4cdbfba38e4623ab63a672778861b9",
        "IPY_MODEL_2b50a5d18a4945f495fb9d46102acdee"
       ],
       "layout": "IPY_MODEL_851d16908b874391b58f685baced73ee"
      }
     },
     "542663190d9c431fb950408cffb89f04": {
      "model_module": "@jupyter-widgets/controls",
      "model_module_version": "1.1.0",
      "model_name": "VBoxModel",
      "state": {
       "children": [
        "IPY_MODEL_f2a9cffdd6ed4e13b30bbc80cb6534ba",
        "IPY_MODEL_ba28f866608a4f01a591d7ff80aebf06"
       ],
       "layout": "IPY_MODEL_c3de5948e0bb4e2ead8d99e41e5ca099"
      }
     },
     "5434d4543b86435aae632c475d1fc08c": {
      "model_module": "@jupyter-widgets/base",
      "model_module_version": "1.0.0",
      "model_name": "LayoutModel",
      "state": {}
     },
     "547073348fdc4928ad794102d734c817": {
      "model_module": "@jupyter-widgets/base",
      "model_module_version": "1.0.0",
      "model_name": "LayoutModel",
      "state": {}
     },
     "547408b7d6be42b78402edc87a77a222": {
      "model_module": "@jupyter-widgets/base",
      "model_module_version": "1.0.0",
      "model_name": "LayoutModel",
      "state": {}
     },
     "54a1f3cc25eb4c33b0c6ce2aea2c12fc": {
      "model_module": "@jupyter-widgets/base",
      "model_module_version": "1.0.0",
      "model_name": "LayoutModel",
      "state": {}
     },
     "54a77737ce1c4b818f82c8c4d421e13c": {
      "model_module": "@jupyter-widgets/base",
      "model_module_version": "1.0.0",
      "model_name": "LayoutModel",
      "state": {}
     },
     "54a93fd7700d4100a027a6ad5c02f0a9": {
      "model_module": "@jupyter-widgets/controls",
      "model_module_version": "1.1.0",
      "model_name": "DescriptionStyleModel",
      "state": {
       "description_width": ""
      }
     },
     "54afc9a9d20b4a788e4d7f23e77e4f96": {
      "model_module": "@jupyter-widgets/controls",
      "model_module_version": "1.1.0",
      "model_name": "DescriptionStyleModel",
      "state": {
       "description_width": ""
      }
     },
     "54bd9546a83143629349fc58941061e5": {
      "model_module": "@jupyter-widgets/controls",
      "model_module_version": "1.1.0",
      "model_name": "ButtonModel",
      "state": {
       "description": "Help",
       "icon": "check",
       "layout": "IPY_MODEL_993d5b66a08a4fdca68c6437b52d70a0",
       "style": "IPY_MODEL_8ed5e90e80e641ea80f7126da2476e3e"
      }
     },
     "54f1b4588371419bb4be97cecf09b080": {
      "model_module": "@jupyter-widgets/controls",
      "model_module_version": "1.1.0",
      "model_name": "ButtonStyleModel",
      "state": {
       "button_color": "orange"
      }
     },
     "552614de91c347238cc4453b0834b9f6": {
      "model_module": "@jupyter-widgets/controls",
      "model_module_version": "1.1.0",
      "model_name": "ButtonModel",
      "state": {
       "description": "Click Me",
       "icon": "check",
       "layout": "IPY_MODEL_4f80ff4865ad4b48be2339bf0ac784f6",
       "style": "IPY_MODEL_b070752a122945f18c1f2b7b30d5b224",
       "tooltip": "Click me"
      }
     },
     "5548b8839be544a6968588296215b893": {
      "model_module": "@jupyter-widgets/base",
      "model_module_version": "1.0.0",
      "model_name": "LayoutModel",
      "state": {}
     },
     "555ffb14998a464eafd296d4619c6290": {
      "model_module": "@jupyter-widgets/base",
      "model_module_version": "1.0.0",
      "model_name": "LayoutModel",
      "state": {}
     },
     "5590b798076948a48da706492a584057": {
      "model_module": "@jupyter-widgets/controls",
      "model_module_version": "1.1.0",
      "model_name": "TextModel",
      "state": {
       "description": "Link:",
       "layout": "IPY_MODEL_48bb70dfd6dc44c480e35cc421950efe",
       "placeholder": "Paste your mudah.my link here",
       "style": "IPY_MODEL_798ba7fc16ff431fa506bd119afc16be"
      }
     },
     "55d07732a502419a8863643f636b73c1": {
      "model_module": "@jupyter-widgets/controls",
      "model_module_version": "1.1.0",
      "model_name": "DescriptionStyleModel",
      "state": {
       "description_width": ""
      }
     },
     "55d3790ce9cc4d76b550739ee72156d4": {
      "model_module": "@jupyter-widgets/controls",
      "model_module_version": "1.1.0",
      "model_name": "DescriptionStyleModel",
      "state": {
       "description_width": ""
      }
     },
     "55e5f07931404b50b9e3e6d720419c79": {
      "model_module": "@jupyter-widgets/controls",
      "model_module_version": "1.1.0",
      "model_name": "DescriptionStyleModel",
      "state": {
       "description_width": ""
      }
     },
     "55e715f737304f018be24ed55baacff8": {
      "model_module": "@jupyter-widgets/controls",
      "model_module_version": "1.1.0",
      "model_name": "VBoxModel",
      "state": {
       "children": [
        "IPY_MODEL_2422beb9bdcb42fe89bda09a307dcba5",
        "IPY_MODEL_5f3a11e5903a472fa96ef55eefa1293c"
       ],
       "layout": "IPY_MODEL_8baeaada6adf46f98c30e1a6a377cf8c"
      }
     },
     "5620b35f54e6419291db33d660a45119": {
      "model_module": "@jupyter-widgets/controls",
      "model_module_version": "1.1.0",
      "model_name": "DescriptionStyleModel",
      "state": {
       "description_width": ""
      }
     },
     "5644e9c67a4e41d4a6bbbfcaed83c816": {
      "model_module": "@jupyter-widgets/base",
      "model_module_version": "1.0.0",
      "model_name": "LayoutModel",
      "state": {}
     },
     "5660402b0924413c9b7ba747de832ad9": {
      "model_module": "@jupyter-widgets/controls",
      "model_module_version": "1.1.0",
      "model_name": "DescriptionStyleModel",
      "state": {
       "description_width": ""
      }
     },
     "568ade975c5d422f8eaee75307784edf": {
      "model_module": "@jupyter-widgets/controls",
      "model_module_version": "1.1.0",
      "model_name": "ButtonStyleModel",
      "state": {
       "button_color": "red"
      }
     },
     "568cdd81fb90424b91f03bd4da1ed0f0": {
      "model_module": "@jupyter-widgets/base",
      "model_module_version": "1.0.0",
      "model_name": "LayoutModel",
      "state": {}
     },
     "56c945b03b6a48279f93d19dff241f48": {
      "model_module": "@jupyter-widgets/base",
      "model_module_version": "1.0.0",
      "model_name": "LayoutModel",
      "state": {}
     },
     "56dc76b580f44916ac2ec35f0b5ef7aa": {
      "model_module": "@jupyter-widgets/base",
      "model_module_version": "1.0.0",
      "model_name": "LayoutModel",
      "state": {}
     },
     "571e2d62a7804f9ebe6891ccca6d93e2": {
      "model_module": "@jupyter-widgets/base",
      "model_module_version": "1.0.0",
      "model_name": "LayoutModel",
      "state": {}
     },
     "57382d1740cf46d1aacb88df153bd87e": {
      "model_module": "@jupyter-widgets/controls",
      "model_module_version": "1.1.0",
      "model_name": "ToggleButtonsModel",
      "state": {
       "_options_labels": [
        "Head",
        "Random",
        "Sample"
       ],
       "button_style": "",
       "description": "View Method:",
       "disabled": true,
       "icons": [],
       "index": 0,
       "layout": "IPY_MODEL_cbb8920d848e4a5f8731f4151a3baa1e",
       "style": "IPY_MODEL_ffead06096f6492a8dfd599422fee0bf",
       "tooltips": [
        "Description of slow",
        "Description of regular",
        "Description of fast"
       ]
      }
     },
     "578c08428b2d4446b952df42c3efc4d7": {
      "model_module": "@jupyter-widgets/controls",
      "model_module_version": "1.1.0",
      "model_name": "DescriptionStyleModel",
      "state": {
       "description_width": ""
      }
     },
     "57b85c6ef36b4f2999b7baf6cb119935": {
      "model_module": "@jupyter-widgets/base",
      "model_module_version": "1.0.0",
      "model_name": "LayoutModel",
      "state": {}
     },
     "57ce5431650245cba78a2be872fdfe79": {
      "model_module": "@jupyter-widgets/controls",
      "model_module_version": "1.1.0",
      "model_name": "TabModel",
      "state": {
       "_titles": {
        "0": "1. Extaction",
        "1": "2. Data",
        "2": "3. Evaluation"
       },
       "children": [
        "IPY_MODEL_c1aed1dbd974447390e3105e74d28fa1",
        "IPY_MODEL_dd6f7422a4b34c13b0807ccf7f579c22",
        "IPY_MODEL_fc1e7c997c12448d936f0dacc5166473"
       ],
       "layout": "IPY_MODEL_9f3313102cdb4d958d83fa6dfdcf8abb",
       "selected_index": 2
      }
     },
     "57d2796dc8a34bae9033108c4324472e": {
      "model_module": "@jupyter-widgets/controls",
      "model_module_version": "1.1.0",
      "model_name": "ButtonStyleModel",
      "state": {}
     },
     "57e59c5f114249f8ac14cfb65302d1f5": {
      "model_module": "@jupyter-widgets/controls",
      "model_module_version": "1.1.0",
      "model_name": "TabModel",
      "state": {
       "_titles": {
        "0": "1. Extaction",
        "1": "2. Data",
        "2": "3. Evaluation"
       },
       "children": [
        "IPY_MODEL_fe3ba6266ef648beb6a8c526a9490158",
        "IPY_MODEL_38bb00e834d44bebb3be6a9d45223eaa",
        "IPY_MODEL_e75543073948403f945850184d41a787"
       ],
       "layout": "IPY_MODEL_a460c42e17534c23a3073c7eb9a994fc"
      }
     },
     "57f1471bef7643438e8185d56e64a5fd": {
      "model_module": "@jupyter-widgets/base",
      "model_module_version": "1.0.0",
      "model_name": "LayoutModel",
      "state": {}
     },
     "5824cb8c0f534c1b88689176c33a08b3": {
      "model_module": "@jupyter-widgets/controls",
      "model_module_version": "1.1.0",
      "model_name": "SelectMultipleModel",
      "state": {
       "_options_labels": [
        "Price",
        "Year",
        "Mileage"
       ],
       "description": "Filter by",
       "index": [
        0,
        2
       ],
       "layout": "IPY_MODEL_0b72464e419b43038cab09dbc73286ec",
       "rows": 3,
       "style": "IPY_MODEL_b8e81dc2819a48cfbaa5ddc238f12c34"
      }
     },
     "58340310749c404b90375692335e87cb": {
      "model_module": "@jupyter-widgets/base",
      "model_module_version": "1.0.0",
      "model_name": "LayoutModel",
      "state": {}
     },
     "587e933ec1d240bcaccd63d6dadbb1ea": {
      "model_module": "@jupyter-widgets/base",
      "model_module_version": "1.0.0",
      "model_name": "LayoutModel",
      "state": {}
     },
     "5889818fc8d44dfb91023d8b1b07ba98": {
      "model_module": "@jupyter-widgets/controls",
      "model_module_version": "1.1.0",
      "model_name": "DescriptionStyleModel",
      "state": {
       "description_width": ""
      }
     },
     "58b5af9c33794610b4f030565cbd69ec": {
      "model_module": "@jupyter-widgets/base",
      "model_module_version": "1.0.0",
      "model_name": "LayoutModel",
      "state": {}
     },
     "58cad3aee84a4e008d13e97e8aea8e70": {
      "model_module": "@jupyter-widgets/base",
      "model_module_version": "1.0.0",
      "model_name": "LayoutModel",
      "state": {}
     },
     "58eb655c7ab54f58ac16a38bc53c0eb0": {
      "model_module": "@jupyter-widgets/controls",
      "model_module_version": "1.1.0",
      "model_name": "HBoxModel",
      "state": {
       "children": [
        "IPY_MODEL_3cfd2b9ea75948a692592369701d2319",
        "IPY_MODEL_1cfccb623c204cd89fd9da8ff24c6f81",
        "IPY_MODEL_d46172f35a3947f58466c67cf15c94db",
        "IPY_MODEL_b48df11e917840d0be92e69f95c5a93a"
       ],
       "layout": "IPY_MODEL_e942c843fd2a4b06bfb96d23fed2e00f"
      }
     },
     "58fa814d45094986b4d98277953bf429": {
      "model_module": "@jupyter-widgets/controls",
      "model_module_version": "1.1.0",
      "model_name": "HTMLModel",
      "state": {
       "description": "Sample Path:",
       "layout": "IPY_MODEL_334219622f8c4fa390da77f31ab2c89d",
       "placeholder": "",
       "style": "IPY_MODEL_b321a263dc384c72b48b9bdf931f408c",
       "value": "<i><b>C:\\Users\\LENOVO\\Documents</b><i>"
      }
     },
     "58ff48c500c2401b9d02ce88e766eb9c": {
      "model_module": "@jupyter-widgets/controls",
      "model_module_version": "1.1.0",
      "model_name": "ButtonModel",
      "state": {
       "description": "Click Me",
       "icon": "check",
       "layout": "IPY_MODEL_727f493dd89d40c4b2db9485ed818b50",
       "style": "IPY_MODEL_d634fd8df1d6485fa9619a948962fc9b",
       "tooltip": "Click me"
      }
     },
     "59014436fa6e4f9f8e88cb8ceaf2cb84": {
      "model_module": "@jupyter-widgets/controls",
      "model_module_version": "1.1.0",
      "model_name": "ButtonStyleModel",
      "state": {
       "button_color": "lightblue"
      }
     },
     "5907fa94ae0e45eab7448bd1affccb61": {
      "model_module": "@jupyter-widgets/controls",
      "model_module_version": "1.1.0",
      "model_name": "HTMLModel",
      "state": {
       "layout": "IPY_MODEL_c2892cfbe1e34d579de464709d8dc52c",
       "placeholder": "",
       "style": "IPY_MODEL_99672f1523f14a099136909d03149560",
       "value": "<b>Choose how to view your data</b>"
      }
     },
     "5908699311484691a77131ae44b79570": {
      "model_module": "@jupyter-widgets/base",
      "model_module_version": "1.0.0",
      "model_name": "LayoutModel",
      "state": {}
     },
     "592b9c7e654c4d1283d965679a22c206": {
      "model_module": "@jupyter-widgets/base",
      "model_module_version": "1.0.0",
      "model_name": "LayoutModel",
      "state": {}
     },
     "596e9d2e90c447eb9140e94619f77840": {
      "model_module": "@jupyter-widgets/controls",
      "model_module_version": "1.1.0",
      "model_name": "ButtonStyleModel",
      "state": {}
     },
     "596febe802874943824c5d186fb7a570": {
      "model_module": "@jupyter-widgets/base",
      "model_module_version": "1.0.0",
      "model_name": "LayoutModel",
      "state": {}
     },
     "598c3cf70e2c4f52ae0dba1efaa384b4": {
      "model_module": "@jupyter-widgets/controls",
      "model_module_version": "1.1.0",
      "model_name": "DescriptionStyleModel",
      "state": {
       "description_width": ""
      }
     },
     "59a5513f0fae42a4a2e02953c299f51c": {
      "model_module": "@jupyter-widgets/base",
      "model_module_version": "1.0.0",
      "model_name": "LayoutModel",
      "state": {}
     },
     "59bc8770932541a8ad9fcb4d4b5827a2": {
      "model_module": "@jupyter-widgets/controls",
      "model_module_version": "1.1.0",
      "model_name": "ButtonModel",
      "state": {
       "description": "Boxplot",
       "icon": "check",
       "layout": "IPY_MODEL_73a9b937873f4142ad5e9ca404023d29",
       "style": "IPY_MODEL_1f839f692dbf4c74b6dd5ba1615e5ec7",
       "tooltip": "Click me"
      }
     },
     "59bf44adf6094b8fa53e2545d336d181": {
      "model_module": "@jupyter-widgets/base",
      "model_module_version": "1.0.0",
      "model_name": "LayoutModel",
      "state": {}
     },
     "5a0d874549bb47d7a930ff8d043e6f8a": {
      "model_module": "@jupyter-widgets/controls",
      "model_module_version": "1.1.0",
      "model_name": "AccordionModel",
      "state": {
       "_titles": {
        "0": "Upload",
        "1": "View"
       },
       "children": [
        "IPY_MODEL_f7f008b462ae43ee8461a6b131a3138a",
        "IPY_MODEL_d5501ed5eb574397ae4dcd12b3766bdb"
       ],
       "layout": "IPY_MODEL_0aca249653804947b95b3ce784c20483"
      }
     },
     "5a11a9a499a64907b1cf7b0ff4aad21c": {
      "model_module": "@jupyter-widgets/base",
      "model_module_version": "1.0.0",
      "model_name": "LayoutModel",
      "state": {}
     },
     "5a2c980467784dc0bbdc6b746386f741": {
      "model_module": "@jupyter-widgets/base",
      "model_module_version": "1.0.0",
      "model_name": "LayoutModel",
      "state": {}
     },
     "5a34d356053f4787b6b10728c9dea86e": {
      "model_module": "@jupyter-widgets/base",
      "model_module_version": "1.0.0",
      "model_name": "LayoutModel",
      "state": {}
     },
     "5a3da707981149c08277ad8aba68065c": {
      "model_module": "@jupyter-widgets/controls",
      "model_module_version": "1.1.0",
      "model_name": "DescriptionStyleModel",
      "state": {
       "description_width": ""
      }
     },
     "5a8fb430da09436ba046cddbc4297740": {
      "model_module": "@jupyter-widgets/controls",
      "model_module_version": "1.1.0",
      "model_name": "DescriptionStyleModel",
      "state": {
       "description_width": ""
      }
     },
     "5ac50cc6c8da4afa9f8f96ab0cacbe4b": {
      "model_module": "@jupyter-widgets/controls",
      "model_module_version": "1.1.0",
      "model_name": "HTMLModel",
      "state": {
       "description": "Sample Link:",
       "layout": "IPY_MODEL_e6d95bfc2e404d38aee25efea9f8f7b3",
       "placeholder": "",
       "style": "IPY_MODEL_307946c578e14f7bb60ba84ac592db6a",
       "value": "<i><b>https://www.mudah.my/malaysia/cars-for-sale?o=1&q=&th=1</b><i>"
      }
     },
     "5acb26c23c6c4622859e4d299be6d80b": {
      "model_module": "@jupyter-widgets/controls",
      "model_module_version": "1.1.0",
      "model_name": "ButtonModel",
      "state": {
       "description": "Help",
       "icon": "check",
       "layout": "IPY_MODEL_f9ef741163674fba86161cc3d52e2479",
       "style": "IPY_MODEL_9300b4798a804f9099d880699871af7a"
      }
     },
     "5adeb885ed774fdd9ae032817ca72def": {
      "model_module": "@jupyter-widgets/base",
      "model_module_version": "1.0.0",
      "model_name": "LayoutModel",
      "state": {}
     },
     "5b24b9f66d9f44b0ae79a3761a848815": {
      "model_module": "@jupyter-widgets/controls",
      "model_module_version": "1.1.0",
      "model_name": "ButtonStyleModel",
      "state": {}
     },
     "5b27dc82f5fb46e28785b9cd4194b6d8": {
      "model_module": "@jupyter-widgets/base",
      "model_module_version": "1.0.0",
      "model_name": "LayoutModel",
      "state": {}
     },
     "5b35e8d8240c4c718fcba0459b47c296": {
      "model_module": "@jupyter-widgets/base",
      "model_module_version": "1.0.0",
      "model_name": "LayoutModel",
      "state": {}
     },
     "5b639445c873418286989b251a61138b": {
      "model_module": "@jupyter-widgets/base",
      "model_module_version": "1.0.0",
      "model_name": "LayoutModel",
      "state": {}
     },
     "5be16cb7068b4082be8b7e650a8ef86c": {
      "model_module": "@jupyter-widgets/controls",
      "model_module_version": "1.1.0",
      "model_name": "VBoxModel",
      "state": {
       "children": [
        "IPY_MODEL_a35ea7db728143c584d125109380d889",
        "IPY_MODEL_ecae7b1833434580a9b4ac790ad2f0e6"
       ],
       "layout": "IPY_MODEL_de0b18e4d3154bdcbfc4162b9edc2959"
      }
     },
     "5bf4792a8a5545e98c2376f7e762a703": {
      "model_module": "@jupyter-widgets/base",
      "model_module_version": "1.0.0",
      "model_name": "LayoutModel",
      "state": {}
     },
     "5bfc54547a904990a91e8deca011afb2": {
      "model_module": "@jupyter-widgets/controls",
      "model_module_version": "1.1.0",
      "model_name": "DescriptionStyleModel",
      "state": {
       "description_width": ""
      }
     },
     "5c20aa7a3a3844b4871d80ac830e9358": {
      "model_module": "@jupyter-widgets/controls",
      "model_module_version": "1.1.0",
      "model_name": "AccordionModel",
      "state": {
       "_titles": {
        "0": "Method",
        "1": "Analysis",
        "2": "Result"
       },
       "children": [
        "IPY_MODEL_4053432a4b97460fb9690c2070b496d2",
        "IPY_MODEL_eb5c4e2d21454caf85f56a335b818345",
        "IPY_MODEL_964c0ecd7d6a4da59ccfac7958291870"
       ],
       "layout": "IPY_MODEL_11ed0b0dddf248689e60289d0852fb7d"
      }
     },
     "5c30fdfe2c8743c2a1bbd637329ed421": {
      "model_module": "@jupyter-widgets/controls",
      "model_module_version": "1.1.0",
      "model_name": "DescriptionStyleModel",
      "state": {
       "description_width": ""
      }
     },
     "5c3e8310a89c4a23978c75c28b633289": {
      "model_module": "@jupyter-widgets/base",
      "model_module_version": "1.0.0",
      "model_name": "LayoutModel",
      "state": {}
     },
     "5c7fdd962e214b46b691b3bdc8f00188": {
      "model_module": "@jupyter-widgets/base",
      "model_module_version": "1.0.0",
      "model_name": "LayoutModel",
      "state": {}
     },
     "5c8a0bc3f45f46fd852bfe0fe182368f": {
      "model_module": "@jupyter-widgets/base",
      "model_module_version": "1.0.0",
      "model_name": "LayoutModel",
      "state": {}
     },
     "5c9cf90f8f42470eb311f2f5b2baad67": {
      "model_module": "@jupyter-widgets/output",
      "model_module_version": "1.0.0",
      "model_name": "OutputModel",
      "state": {
       "layout": "IPY_MODEL_f66a485ca04e401fbeafe55fb080aec6"
      }
     },
     "5cb85540dbce4808bb1e93db3aded854": {
      "model_module": "@jupyter-widgets/base",
      "model_module_version": "1.0.0",
      "model_name": "LayoutModel",
      "state": {}
     },
     "5d0c51d54fd040ffb291a39169cb8e00": {
      "model_module": "@jupyter-widgets/controls",
      "model_module_version": "1.1.0",
      "model_name": "ButtonStyleModel",
      "state": {
       "button_color": "black"
      }
     },
     "5d0e890f615a4d8087aa79100571bf60": {
      "model_module": "@jupyter-widgets/base",
      "model_module_version": "1.0.0",
      "model_name": "LayoutModel",
      "state": {}
     },
     "5d40a3457fe74fefa4662d75686b3e2f": {
      "model_module": "@jupyter-widgets/controls",
      "model_module_version": "1.1.0",
      "model_name": "DescriptionStyleModel",
      "state": {
       "description_width": ""
      }
     },
     "5d4c2d4edf4b4239986b0f7945cbac96": {
      "model_module": "@jupyter-widgets/base",
      "model_module_version": "1.0.0",
      "model_name": "LayoutModel",
      "state": {}
     },
     "5d567b82eb8c46a5b03fe185c431e57a": {
      "model_module": "@jupyter-widgets/base",
      "model_module_version": "1.0.0",
      "model_name": "LayoutModel",
      "state": {}
     },
     "5d63dae73e5e435ea410d5cb34bfc41c": {
      "model_module": "@jupyter-widgets/base",
      "model_module_version": "1.0.0",
      "model_name": "LayoutModel",
      "state": {}
     },
     "5da487dd78814b65897d5e1b25c98ab9": {
      "model_module": "@jupyter-widgets/controls",
      "model_module_version": "1.1.0",
      "model_name": "HTMLModel",
      "state": {
       "description": "Sample CSV:",
       "layout": "IPY_MODEL_611369a634e5442ab1d78b1f217cd644",
       "placeholder": "",
       "style": "IPY_MODEL_e7e72a269222441fa6864627de76b54b",
       "value": "<i><b>kereta</b><i>"
      }
     },
     "5dbdda47d6494532a7702afdc6310103": {
      "model_module": "@jupyter-widgets/controls",
      "model_module_version": "1.1.0",
      "model_name": "VBoxModel",
      "state": {
       "children": [
        "IPY_MODEL_e01aa9663207427f84d1419ceb5087a0",
        "IPY_MODEL_18e315c2bf84412ca96f2daa964e2402",
        "IPY_MODEL_889a39d52e40475cbdfb6eb99e440453",
        "IPY_MODEL_bf2c380e4d114ddd85f1196db05148a1"
       ],
       "layout": "IPY_MODEL_7c1b86f3f0474f3b82ac88c4b2dabaa6"
      }
     },
     "5e21350413244a51b0dfec052a86a9b1": {
      "model_module": "@jupyter-widgets/controls",
      "model_module_version": "1.1.0",
      "model_name": "DescriptionStyleModel",
      "state": {
       "description_width": ""
      }
     },
     "5e232a8ff0ba4612900aaa462e5fd6bd": {
      "model_module": "@jupyter-widgets/controls",
      "model_module_version": "1.1.0",
      "model_name": "ButtonModel",
      "state": {
       "description": "PCA!",
       "icon": "check",
       "layout": "IPY_MODEL_c701c37efff442e3a35368fdbad2627b",
       "style": "IPY_MODEL_89cf626983d648a6994733024e52b0b7",
       "tooltip": "Click me"
      }
     },
     "5e56a707f8e8412696e29216494e2e1d": {
      "model_module": "@jupyter-widgets/controls",
      "model_module_version": "1.1.0",
      "model_name": "HTMLModel",
      "state": {
       "layout": "IPY_MODEL_789406a1c8fe487699bc84b0fca9512e",
       "placeholder": "",
       "style": "IPY_MODEL_9ee76b07ff3e4bce998f4d43863b16aa",
       "value": "Apply <b>Data Mining<b> Method!!"
      }
     },
     "5e5e674a924f407e9de1ebfcb2a32ca6": {
      "model_module": "@jupyter-widgets/controls",
      "model_module_version": "1.1.0",
      "model_name": "HTMLModel",
      "state": {
       "layout": "IPY_MODEL_fdd0a0df2e434538a3ec207ed3b291db",
       "placeholder": "",
       "style": "IPY_MODEL_67e3936e2bbb41e5b983e6ea9d5bdac4",
       "value": "Apply <b>Data Mining<b> Method!!"
      }
     },
     "5e847b6fb13643d6b8cc90f0ac1272cf": {
      "model_module": "@jupyter-widgets/base",
      "model_module_version": "1.0.0",
      "model_name": "LayoutModel",
      "state": {}
     },
     "5ea533c9375e4fd4a2ffaad980883ae9": {
      "model_module": "@jupyter-widgets/base",
      "model_module_version": "1.0.0",
      "model_name": "LayoutModel",
      "state": {}
     },
     "5ea6f63f88374e0ab9fc1d988cda1e1f": {
      "model_module": "@jupyter-widgets/controls",
      "model_module_version": "1.1.0",
      "model_name": "DescriptionStyleModel",
      "state": {
       "description_width": ""
      }
     },
     "5eb33036e88c4ee6a665ea968b6781ce": {
      "model_module": "@jupyter-widgets/base",
      "model_module_version": "1.0.0",
      "model_name": "LayoutModel",
      "state": {}
     },
     "5eb97566ba104402b4ef6c46a8fd53fc": {
      "model_module": "@jupyter-widgets/base",
      "model_module_version": "1.0.0",
      "model_name": "LayoutModel",
      "state": {}
     },
     "5ef09f8e734441588d852a405502b6b6": {
      "model_module": "@jupyter-widgets/controls",
      "model_module_version": "1.1.0",
      "model_name": "SelectMultipleModel",
      "state": {
       "_options_labels": [
        "-",
        "Price",
        "year",
        "Mileage"
       ],
       "description": "Filter by",
       "index": [
        1,
        2,
        3
       ],
       "layout": "IPY_MODEL_135b4b17a81f4c5c87334ebca201bf1a",
       "rows": 5,
       "style": "IPY_MODEL_1b7f0a1d6a5145499df57781efa59081"
      }
     },
     "5f28162556e543bd979eecd790330571": {
      "model_module": "@jupyter-widgets/controls",
      "model_module_version": "1.1.0",
      "model_name": "ButtonModel",
      "state": {
       "description": "Boxplot",
       "icon": "check",
       "layout": "IPY_MODEL_a7670e6523d8477294d8cb7ee1dcad6e",
       "style": "IPY_MODEL_6d095b39d6f24718a8eba4f421a32fdd",
       "tooltip": "Click me"
      }
     },
     "5f3a11e5903a472fa96ef55eefa1293c": {
      "model_module": "@jupyter-widgets/controls",
      "model_module_version": "1.1.0",
      "model_name": "ButtonModel",
      "state": {
       "description": "Click Me",
       "icon": "check",
       "layout": "IPY_MODEL_ec415747ab7f4909ab6ebbf1df132197",
       "style": "IPY_MODEL_57d2796dc8a34bae9033108c4324472e",
       "tooltip": "Click me"
      }
     },
     "5f553fc6d7e8475ab72773e6b9f585eb": {
      "model_module": "@jupyter-widgets/base",
      "model_module_version": "1.0.0",
      "model_name": "LayoutModel",
      "state": {}
     },
     "5fc903f81dff43ea9ad23e10ab2fb322": {
      "model_module": "@jupyter-widgets/base",
      "model_module_version": "1.0.0",
      "model_name": "LayoutModel",
      "state": {}
     },
     "6030f464f9684962be3729ea296484eb": {
      "model_module": "@jupyter-widgets/controls",
      "model_module_version": "1.1.0",
      "model_name": "DescriptionStyleModel",
      "state": {
       "description_width": ""
      }
     },
     "6038877d90844ec3b5798b790de5bb49": {
      "model_module": "@jupyter-widgets/controls",
      "model_module_version": "1.1.0",
      "model_name": "HTMLModel",
      "state": {
       "layout": "IPY_MODEL_42ae3046908641adb8a30c89bac9153f",
       "placeholder": "",
       "style": "IPY_MODEL_338a66a62d2f48d0a855eb3b21122e85",
       "value": "Beware of <b>SCAMMER</b>, buy from the <b>TRUSTED<b> one"
      }
     },
     "603cbca1cf5941079ffbd618366879bb": {
      "model_module": "@jupyter-widgets/base",
      "model_module_version": "1.0.0",
      "model_name": "LayoutModel",
      "state": {}
     },
     "60571707887141a6a17edf1919d36a5a": {
      "model_module": "@jupyter-widgets/controls",
      "model_module_version": "1.1.0",
      "model_name": "HTMLModel",
      "state": {
       "description": "Sample CSV:",
       "layout": "IPY_MODEL_6b76785e6f394f47b1c9748e44f85878",
       "placeholder": "",
       "style": "IPY_MODEL_aa984f7983744fa4b8fca94eb8f6dfbf",
       "value": "<i><b>kereta</b><i>"
      }
     },
     "606f537f98a64fa7a5473b5228b100d3": {
      "model_module": "@jupyter-widgets/base",
      "model_module_version": "1.0.0",
      "model_name": "LayoutModel",
      "state": {}
     },
     "60825233fa3a4429afde052734fc88e4": {
      "model_module": "@jupyter-widgets/controls",
      "model_module_version": "1.1.0",
      "model_name": "VBoxModel",
      "state": {
       "children": [
        "IPY_MODEL_d949de49c29a455e8483752ea1f9e34f",
        "IPY_MODEL_8907c992265748a2997910fddcfd2b56"
       ],
       "layout": "IPY_MODEL_3e393a10491d4ef898dc99456f9acf02"
      }
     },
     "608fd62f85404765b13e5fccc1297058": {
      "model_module": "@jupyter-widgets/base",
      "model_module_version": "1.0.0",
      "model_name": "LayoutModel",
      "state": {}
     },
     "60e4b0e600134003b21ceb68ae110b3c": {
      "model_module": "@jupyter-widgets/base",
      "model_module_version": "1.0.0",
      "model_name": "LayoutModel",
      "state": {}
     },
     "611369a634e5442ab1d78b1f217cd644": {
      "model_module": "@jupyter-widgets/base",
      "model_module_version": "1.0.0",
      "model_name": "LayoutModel",
      "state": {}
     },
     "612613670bc547f4a716106e1cca4f47": {
      "model_module": "@jupyter-widgets/base",
      "model_module_version": "1.0.0",
      "model_name": "LayoutModel",
      "state": {}
     },
     "616a55b9bafb40bd9fefaaeb8c40050a": {
      "model_module": "@jupyter-widgets/base",
      "model_module_version": "1.0.0",
      "model_name": "LayoutModel",
      "state": {}
     },
     "61d98a8a1de3424fae85b6ba66497fa9": {
      "model_module": "@jupyter-widgets/base",
      "model_module_version": "1.0.0",
      "model_name": "LayoutModel",
      "state": {}
     },
     "61df298746224ec6900b3f0f4aa24d74": {
      "model_module": "@jupyter-widgets/base",
      "model_module_version": "1.0.0",
      "model_name": "LayoutModel",
      "state": {}
     },
     "6234813ad6d9426d9550736b1b919854": {
      "model_module": "@jupyter-widgets/controls",
      "model_module_version": "1.1.0",
      "model_name": "DescriptionStyleModel",
      "state": {
       "description_width": ""
      }
     },
     "6235a2ccd1b64a54a285f9ed8e85e486": {
      "model_module": "@jupyter-widgets/controls",
      "model_module_version": "1.1.0",
      "model_name": "ButtonModel",
      "state": {
       "description": "About Us",
       "layout": "IPY_MODEL_685d7fda211f45a7a34badea6c9d3df5",
       "style": "IPY_MODEL_8e4cc1e19a364976805393af957bad0d"
      }
     },
     "62680191192a49138b251b2882baf95d": {
      "model_module": "@jupyter-widgets/controls",
      "model_module_version": "1.1.0",
      "model_name": "HTMLModel",
      "state": {
       "layout": "IPY_MODEL_5e847b6fb13643d6b8cc90f0ac1272cf",
       "placeholder": "",
       "style": "IPY_MODEL_65ade0d2789f40c88b5a6664f0c736df",
       "value": "<b>Click to view Potential Scammers!!<b>"
      }
     },
     "62c67aa85357446bb7de10e2d8e83787": {
      "model_module": "@jupyter-widgets/controls",
      "model_module_version": "1.1.0",
      "model_name": "TabModel",
      "state": {
       "_titles": {
        "0": "1. Extaction",
        "1": "2. Data",
        "2": "3. Evaluation"
       },
       "children": [
        "IPY_MODEL_fe3ba6266ef648beb6a8c526a9490158",
        "IPY_MODEL_38bb00e834d44bebb3be6a9d45223eaa",
        "IPY_MODEL_e75543073948403f945850184d41a787"
       ],
       "layout": "IPY_MODEL_5015e2fd89f0441b8679eb45689078dc"
      }
     },
     "62d2084db5954e80b1da99b9f70f24f4": {
      "model_module": "@jupyter-widgets/base",
      "model_module_version": "1.0.0",
      "model_name": "LayoutModel",
      "state": {}
     },
     "62d9488ca35d4a99a3103a7aa1a258a2": {
      "model_module": "@jupyter-widgets/base",
      "model_module_version": "1.0.0",
      "model_name": "LayoutModel",
      "state": {}
     },
     "62dd8514c56645feb9b8157688908837": {
      "model_module": "@jupyter-widgets/base",
      "model_module_version": "1.0.0",
      "model_name": "LayoutModel",
      "state": {}
     },
     "62f6495744824a5587b738761d384ecf": {
      "model_module": "@jupyter-widgets/controls",
      "model_module_version": "1.1.0",
      "model_name": "ButtonStyleModel",
      "state": {
       "button_color": "lightblue"
      }
     },
     "633c84a647ed4c76a4a46501d3cb8f21": {
      "model_module": "@jupyter-widgets/base",
      "model_module_version": "1.0.0",
      "model_name": "LayoutModel",
      "state": {}
     },
     "634a67daa2544b9fa2365e6435f711a7": {
      "model_module": "@jupyter-widgets/controls",
      "model_module_version": "1.1.0",
      "model_name": "ButtonStyleModel",
      "state": {
       "button_color": "orange"
      }
     },
     "63a677de5ed4414b9c8ed59a555f539a": {
      "model_module": "@jupyter-widgets/controls",
      "model_module_version": "1.1.0",
      "model_name": "HTMLModel",
      "state": {
       "layout": "IPY_MODEL_c56e7c122dee4f38b285ee851104b65c",
       "placeholder": "",
       "style": "IPY_MODEL_598c3cf70e2c4f52ae0dba1efaa384b4",
       "value": "<b>Choose how to view your data</b>"
      }
     },
     "63d37d4b3ea34dc7abec43ff3c6fe3f3": {
      "model_module": "@jupyter-widgets/controls",
      "model_module_version": "1.1.0",
      "model_name": "ButtonModel",
      "state": {
       "description": "About Us",
       "layout": "IPY_MODEL_e581ccc594c84264a4f3aff5d36be706",
       "style": "IPY_MODEL_d3e684a84de24f60b6e797f1c2575eaa"
      }
     },
     "63ef4ed9b2bb41a9b7e7527d50c3bff9": {
      "model_module": "@jupyter-widgets/base",
      "model_module_version": "1.0.0",
      "model_name": "LayoutModel",
      "state": {}
     },
     "640d8d37fff0484090663811c22acf6f": {
      "model_module": "@jupyter-widgets/controls",
      "model_module_version": "1.1.0",
      "model_name": "HTMLModel",
      "state": {
       "layout": "IPY_MODEL_508a46ca779c4b4ea2487d2a7a4ee4cd",
       "placeholder": "",
       "style": "IPY_MODEL_794babae85b04f84918e4387aa7cbfa4",
       "value": "<b>Click to view Potential Scammers!!<b>"
      }
     },
     "643562abfbc248d19716f71470926abe": {
      "model_module": "@jupyter-widgets/controls",
      "model_module_version": "1.1.0",
      "model_name": "HTMLModel",
      "state": {
       "description": "Sample:",
       "layout": "IPY_MODEL_78136c34a1b34bf1a987431bb46bb6c6",
       "placeholder": "",
       "style": "IPY_MODEL_274554fe9d4840dda15ba24dc25b49c0",
       "value": "<i><b>C:\\Users\\LENOVO\\Documents</b><i>"
      }
     },
     "643dc1cb471c406cba7ff55ed6bdf407": {
      "model_module": "@jupyter-widgets/base",
      "model_module_version": "1.0.0",
      "model_name": "LayoutModel",
      "state": {}
     },
     "645b8d76641248b58984b8b1d1745d22": {
      "model_module": "@jupyter-widgets/controls",
      "model_module_version": "1.1.0",
      "model_name": "ButtonModel",
      "state": {
       "description": "About Us",
       "layout": "IPY_MODEL_1a6656e5fb2c4dbb99cbcff85f81aad0",
       "style": "IPY_MODEL_18d604ed692d436290d29cd29e066e89"
      }
     },
     "6488abedbed04f04ba371d41ee4b3b56": {
      "model_module": "@jupyter-widgets/controls",
      "model_module_version": "1.1.0",
      "model_name": "VBoxModel",
      "state": {
       "children": [
        "IPY_MODEL_f4bcad481eaa4393991f4eb0e90b715e",
        "IPY_MODEL_e83c2becff8c4814afd182982100d002"
       ],
       "layout": "IPY_MODEL_0d10681c89e447abbaeb755f219986ba"
      }
     },
     "6489bb46d2ac46e19c51c149d5c1dddc": {
      "model_module": "@jupyter-widgets/base",
      "model_module_version": "1.0.0",
      "model_name": "LayoutModel",
      "state": {}
     },
     "64c7a0852c2d458f85cc17eea88e112b": {
      "model_module": "@jupyter-widgets/controls",
      "model_module_version": "1.1.0",
      "model_name": "TabModel",
      "state": {
       "_titles": {
        "0": "1. Extaction",
        "1": "2. Data",
        "2": "3. Evaluation"
       },
       "children": [
        "IPY_MODEL_6b59566de45e47fb9072bc9fa77dcda6",
        "IPY_MODEL_8f974d4e31a849b88895209378e6aa5b",
        "IPY_MODEL_c52e5f11f080475597c90a18038791ca"
       ],
       "layout": "IPY_MODEL_a04bd8917981401ca65b6df903e34200"
      }
     },
     "64c9deb6ddec4f799dce9c8f0ce8c5b8": {
      "model_module": "@jupyter-widgets/base",
      "model_module_version": "1.0.0",
      "model_name": "LayoutModel",
      "state": {}
     },
     "64fdbd88205c4b8d82b767311e43609a": {
      "model_module": "@jupyter-widgets/controls",
      "model_module_version": "1.1.0",
      "model_name": "DropdownModel",
      "state": {
       "_options_labels": [
        "1",
        "2",
        "3"
       ],
       "description": "Number:",
       "index": 2,
       "layout": "IPY_MODEL_1f59adb5c1814c76b05069848982b4cc",
       "style": "IPY_MODEL_b6294524e98545f2a3092ac9b03cc4f7"
      }
     },
     "6514f4e9d41f4eb48fedde71758daf0b": {
      "model_module": "@jupyter-widgets/base",
      "model_module_version": "1.0.0",
      "model_name": "LayoutModel",
      "state": {}
     },
     "656640e192554550860cd60bfc5fc3b8": {
      "model_module": "@jupyter-widgets/base",
      "model_module_version": "1.0.0",
      "model_name": "LayoutModel",
      "state": {}
     },
     "657cb30f51864ce5aabc3075caa035d0": {
      "model_module": "@jupyter-widgets/controls",
      "model_module_version": "1.1.0",
      "model_name": "HTMLModel",
      "state": {
       "layout": "IPY_MODEL_5548b8839be544a6968588296215b893",
       "placeholder": "",
       "style": "IPY_MODEL_7b7dc76169874b58a809cf4ed90c1a8c",
       "value": "<b>Scammer Detector</b>"
      }
     },
     "658cb2d16e95480b94c0bfe6ec8f11e7": {
      "model_module": "@jupyter-widgets/controls",
      "model_module_version": "1.1.0",
      "model_name": "DescriptionStyleModel",
      "state": {
       "description_width": ""
      }
     },
     "65986c2c65354a139c53e646fa9eb4bb": {
      "model_module": "@jupyter-widgets/controls",
      "model_module_version": "1.1.0",
      "model_name": "DescriptionStyleModel",
      "state": {
       "description_width": ""
      }
     },
     "65a176af312740e5acafb6049b43c494": {
      "model_module": "@jupyter-widgets/controls",
      "model_module_version": "1.1.0",
      "model_name": "ToggleButtonsModel",
      "state": {
       "_options_labels": [
        "Head",
        "Random",
        "Sample"
       ],
       "button_style": "",
       "description": "View Method:",
       "icons": [],
       "index": 0,
       "layout": "IPY_MODEL_8643cc37b5e342f880ed7d216ad979db",
       "style": "IPY_MODEL_73fc9fa7d0a843279d45cb8530f50d4f",
       "tooltips": [
        "Description of slow",
        "Description of regular",
        "Description of fast"
       ]
      }
     },
     "65ade0d2789f40c88b5a6664f0c736df": {
      "model_module": "@jupyter-widgets/controls",
      "model_module_version": "1.1.0",
      "model_name": "DescriptionStyleModel",
      "state": {
       "description_width": ""
      }
     },
     "65b3fe3dfdc344de876b5f8f816da4a0": {
      "model_module": "@jupyter-widgets/base",
      "model_module_version": "1.0.0",
      "model_name": "LayoutModel",
      "state": {}
     },
     "65b5b2959ffb44e48c6e9d841aa90fda": {
      "model_module": "@jupyter-widgets/controls",
      "model_module_version": "1.1.0",
      "model_name": "HBoxModel",
      "state": {
       "children": [
        "IPY_MODEL_7f48bb255da84ce59e252edf0a7b6f08",
        "IPY_MODEL_5824cb8c0f534c1b88689176c33a08b3"
       ],
       "layout": "IPY_MODEL_026bf585b05d4860b3cc1f2e1263570b"
      }
     },
     "65d5bd651bdd4599acc8cb53820fd66e": {
      "model_module": "@jupyter-widgets/controls",
      "model_module_version": "1.1.0",
      "model_name": "VBoxModel",
      "state": {
       "children": [
        "IPY_MODEL_41a737cffd974822b056ea410ade32a5",
        "IPY_MODEL_b419f1159a734df0829bf1a8d1d3e83b"
       ],
       "layout": "IPY_MODEL_6eded2608a254e09bd508cc38503955c"
      }
     },
     "6603af41f93c4a98b1e0cc4b1c1344d9": {
      "model_module": "@jupyter-widgets/controls",
      "model_module_version": "1.1.0",
      "model_name": "VBoxModel",
      "state": {
       "children": [
        "IPY_MODEL_5ac50cc6c8da4afa9f8f96ab0cacbe4b",
        "IPY_MODEL_3add1a56fcce408b846ecf2a391dcf5b"
       ],
       "layout": "IPY_MODEL_124207c878ba4b65a9153d69ac290a5c"
      }
     },
     "661ab29ede1945cf8af898be1eed654e": {
      "model_module": "@jupyter-widgets/controls",
      "model_module_version": "1.1.0",
      "model_name": "AccordionModel",
      "state": {
       "_titles": {
        "0": "Upload",
        "1": "View"
       },
       "children": [
        "IPY_MODEL_da5d87357f1e49d48ac1a7284fb106c6",
        "IPY_MODEL_06764c74d0fc4d9bb74f6786e6297cb6"
       ],
       "layout": "IPY_MODEL_a3175239c0d8456191894b8bfcae89b6"
      }
     },
     "663082cce2744c25ae2ebebf113a4c63": {
      "model_module": "@jupyter-widgets/base",
      "model_module_version": "1.0.0",
      "model_name": "LayoutModel",
      "state": {}
     },
     "66e6e41495514295a1f33809c9a2f11c": {
      "model_module": "@jupyter-widgets/controls",
      "model_module_version": "1.1.0",
      "model_name": "TabModel",
      "state": {
       "_titles": {
        "0": "0. Extaction",
        "1": "1. Data",
        "2": "2. Evaluation"
       },
       "children": [
        "IPY_MODEL_c1aed1dbd974447390e3105e74d28fa1",
        "IPY_MODEL_d582e61083084dedbad12beaf8ce0014",
        "IPY_MODEL_fc1e7c997c12448d936f0dacc5166473"
       ],
       "layout": "IPY_MODEL_ca0713e0397d4380b5bf31e63b5f6993",
       "selected_index": 2
      }
     },
     "671f719b5fd34652835203bb29619877": {
      "model_module": "@jupyter-widgets/controls",
      "model_module_version": "1.1.0",
      "model_name": "DescriptionStyleModel",
      "state": {
       "description_width": ""
      }
     },
     "67305a83c53a42ef96e31b4f4991ee9b": {
      "model_module": "@jupyter-widgets/controls",
      "model_module_version": "1.1.0",
      "model_name": "ButtonModel",
      "state": {
       "description": "Potential Scams!!",
       "icon": "check",
       "layout": "IPY_MODEL_ddb7736d09204ae8b9bf6be194381ca3",
       "style": "IPY_MODEL_365b2e0cb48f4c97b0573ea970f86472",
       "tooltip": "Click me"
      }
     },
     "6773e9b49e414035a0eb1c09e88bfd94": {
      "model_module": "@jupyter-widgets/base",
      "model_module_version": "1.0.0",
      "model_name": "LayoutModel",
      "state": {}
     },
     "677e7f78593f456c852da8874c91857d": {
      "model_module": "@jupyter-widgets/base",
      "model_module_version": "1.0.0",
      "model_name": "LayoutModel",
      "state": {}
     },
     "67d244c717ac427a93a55075b5249df3": {
      "model_module": "@jupyter-widgets/controls",
      "model_module_version": "1.1.0",
      "model_name": "HBoxModel",
      "state": {
       "children": [
        "IPY_MODEL_50694ba2f866452197e870e236289b03"
       ],
       "layout": "IPY_MODEL_3881e76961b84728919c12074d952a68"
      }
     },
     "67e3936e2bbb41e5b983e6ea9d5bdac4": {
      "model_module": "@jupyter-widgets/controls",
      "model_module_version": "1.1.0",
      "model_name": "DescriptionStyleModel",
      "state": {
       "description_width": ""
      }
     },
     "67e3b85cb6c24485a3679d37211a8fa5": {
      "model_module": "@jupyter-widgets/controls",
      "model_module_version": "1.1.0",
      "model_name": "ButtonStyleModel",
      "state": {}
     },
     "67ed5c427833439ab6541b28aba0c6c3": {
      "model_module": "@jupyter-widgets/base",
      "model_module_version": "1.0.0",
      "model_name": "LayoutModel",
      "state": {}
     },
     "67f8d648b0944420b4313818267fb029": {
      "model_module": "@jupyter-widgets/base",
      "model_module_version": "1.0.0",
      "model_name": "LayoutModel",
      "state": {}
     },
     "685d7fda211f45a7a34badea6c9d3df5": {
      "model_module": "@jupyter-widgets/base",
      "model_module_version": "1.0.0",
      "model_name": "LayoutModel",
      "state": {}
     },
     "693938af70604e9bb1f309cb919ebe66": {
      "model_module": "@jupyter-widgets/controls",
      "model_module_version": "1.1.0",
      "model_name": "DropdownModel",
      "state": {
       "_options_labels": [
        "-",
        "5",
        "6",
        "7",
        "8",
        "9",
        "10"
       ],
       "description": "Random:",
       "index": 0,
       "layout": "IPY_MODEL_26594e3fcb594789bd4c0491e1a30703",
       "style": "IPY_MODEL_ed6be43a1bfd4cbea52b46ca566dfa8e"
      }
     },
     "6959650360084fa9a1d8858ef4ee72c0": {
      "model_module": "@jupyter-widgets/base",
      "model_module_version": "1.0.0",
      "model_name": "LayoutModel",
      "state": {}
     },
     "6970e52ea5694f73b730deec82c3b797": {
      "model_module": "@jupyter-widgets/controls",
      "model_module_version": "1.1.0",
      "model_name": "VBoxModel",
      "state": {
       "children": [
        "IPY_MODEL_c8f51cd2f4794b5abd6ffdec0660f04d",
        "IPY_MODEL_04d18861326d44acad17ffbffb576c24"
       ],
       "layout": "IPY_MODEL_aded82d3858e44daa2079a60ea5d15c5"
      }
     },
     "69982f64df49485f9183e6de568e411e": {
      "model_module": "@jupyter-widgets/controls",
      "model_module_version": "1.1.0",
      "model_name": "HTMLModel",
      "state": {
       "layout": "IPY_MODEL_12d064893be64184a01b7590ab70b5c7",
       "placeholder": "",
       "style": "IPY_MODEL_37a76fa6938b48c58305bd3a6631536c",
       "value": "Beware of <b>Scammer</b>"
      }
     },
     "69bd642acf994561b4d594d060fec8ee": {
      "model_module": "@jupyter-widgets/base",
      "model_module_version": "1.0.0",
      "model_name": "LayoutModel",
      "state": {}
     },
     "69c004833f2148c3bea2944dace91e1b": {
      "model_module": "@jupyter-widgets/controls",
      "model_module_version": "1.1.0",
      "model_name": "DescriptionStyleModel",
      "state": {
       "description_width": ""
      }
     },
     "69c90ac2b4874106b79ab08c74e914e9": {
      "model_module": "@jupyter-widgets/base",
      "model_module_version": "1.0.0",
      "model_name": "LayoutModel",
      "state": {}
     },
     "6a0c69bac42941b4b8b3e9055227e715": {
      "model_module": "@jupyter-widgets/base",
      "model_module_version": "1.0.0",
      "model_name": "LayoutModel",
      "state": {}
     },
     "6a201a6e4dbb47e0aacf26e9f7720caa": {
      "model_module": "@jupyter-widgets/base",
      "model_module_version": "1.0.0",
      "model_name": "LayoutModel",
      "state": {}
     },
     "6a440a4335c547d5870008065aeb87e3": {
      "model_module": "@jupyter-widgets/controls",
      "model_module_version": "1.1.0",
      "model_name": "DescriptionStyleModel",
      "state": {
       "description_width": ""
      }
     },
     "6a5d604d06d8414fadba9e18e37f9b96": {
      "model_module": "@jupyter-widgets/controls",
      "model_module_version": "1.1.0",
      "model_name": "VBoxModel",
      "state": {
       "children": [
        "IPY_MODEL_b2a6d8e820734f76b28e5a029a019a2d",
        "IPY_MODEL_a21d30398cb0415486be90c2b26197da"
       ],
       "layout": "IPY_MODEL_67ed5c427833439ab6541b28aba0c6c3"
      }
     },
     "6a684ba1b11e4b8e8330c1cf3ad8b5dd": {
      "model_module": "@jupyter-widgets/controls",
      "model_module_version": "1.1.0",
      "model_name": "DescriptionStyleModel",
      "state": {
       "description_width": ""
      }
     },
     "6a79cab43a054cf798bc7acc86b94521": {
      "model_module": "@jupyter-widgets/controls",
      "model_module_version": "1.1.0",
      "model_name": "AccordionModel",
      "state": {
       "_titles": {
        "0": "Method",
        "1": "Analysis"
       },
       "children": [
        "IPY_MODEL_3459791f347545adbf9d3c384d29a40c",
        "IPY_MODEL_f3e256df2a9048be8e5045049c85af1d"
       ],
       "layout": "IPY_MODEL_24e12410406d4bb597de4a2a08ba4784",
       "selected_index": 1
      }
     },
     "6a93493afd57405a9ec5695967decfec": {
      "model_module": "@jupyter-widgets/base",
      "model_module_version": "1.0.0",
      "model_name": "LayoutModel",
      "state": {}
     },
     "6ab396ffcfaf4ade83637c64f3e66001": {
      "model_module": "@jupyter-widgets/controls",
      "model_module_version": "1.1.0",
      "model_name": "DescriptionStyleModel",
      "state": {
       "description_width": ""
      }
     },
     "6adb91a048a1440cb1e052dfac01238e": {
      "model_module": "@jupyter-widgets/controls",
      "model_module_version": "1.1.0",
      "model_name": "AccordionModel",
      "state": {
       "_titles": {
        "0": "Source",
        "1": "Save",
        "2": "Scrap"
       },
       "children": [
        "IPY_MODEL_0203a499e723434abf3fa0d3cea12734",
        "IPY_MODEL_70080d098f9a45b7ae649fd9171cd660",
        "IPY_MODEL_6970e52ea5694f73b730deec82c3b797"
       ],
       "layout": "IPY_MODEL_8fc177ba54064db7aa45bda4e3f79c33"
      }
     },
     "6b0334928f83471bb0c142840974d252": {
      "model_module": "@jupyter-widgets/controls",
      "model_module_version": "1.1.0",
      "model_name": "TextModel",
      "state": {
       "description": "CSV file:",
       "layout": "IPY_MODEL_e49448c873b244e18ca355d1fe382dea",
       "placeholder": "Name your scrap csv file",
       "style": "IPY_MODEL_75fa83f41d8d4f798ac4c3bf8eec84eb"
      }
     },
     "6b2db95f65314072885e8a54c94a3983": {
      "model_module": "@jupyter-widgets/base",
      "model_module_version": "1.0.0",
      "model_name": "LayoutModel",
      "state": {
       "width": "40%"
      }
     },
     "6b59566de45e47fb9072bc9fa77dcda6": {
      "model_module": "@jupyter-widgets/controls",
      "model_module_version": "1.1.0",
      "model_name": "HBoxModel",
      "state": {
       "children": [
        "IPY_MODEL_d39d4d33c62f463e9421653dfab37d67"
       ],
       "layout": "IPY_MODEL_9f228f7085364648b507ca7f79d15f31"
      }
     },
     "6b653b7cbbb648f7b4d51ad3d965214c": {
      "model_module": "@jupyter-widgets/base",
      "model_module_version": "1.0.0",
      "model_name": "LayoutModel",
      "state": {}
     },
     "6b76785e6f394f47b1c9748e44f85878": {
      "model_module": "@jupyter-widgets/base",
      "model_module_version": "1.0.0",
      "model_name": "LayoutModel",
      "state": {}
     },
     "6b94b5a7329644b18adaae812fbc842c": {
      "model_module": "@jupyter-widgets/base",
      "model_module_version": "1.0.0",
      "model_name": "LayoutModel",
      "state": {}
     },
     "6bafe33ee4c140eda022a26fb0cf9a49": {
      "model_module": "@jupyter-widgets/controls",
      "model_module_version": "1.1.0",
      "model_name": "ImageModel",
      "state": {
       "height": "100",
       "layout": "IPY_MODEL_1d243245ceb6468c82dfad0c87a24468",
       "value": {},
       "width": "200"
      }
     },
     "6bf6490926b24e67b67bb22ddbed7e60": {
      "model_module": "@jupyter-widgets/base",
      "model_module_version": "1.0.0",
      "model_name": "LayoutModel",
      "state": {}
     },
     "6c561e1f4aac49fc8512fef4b7171c0e": {
      "model_module": "@jupyter-widgets/controls",
      "model_module_version": "1.1.0",
      "model_name": "SelectMultipleModel",
      "state": {
       "_options_labels": [
        "Price",
        "Year",
        "Mileage"
       ],
       "description": "Filter by",
       "index": [
        0
       ],
       "layout": "IPY_MODEL_21635d7bdb284e36bf9514a452fa853b",
       "rows": 3,
       "style": "IPY_MODEL_bdfad4a6e6604e67ad0630dff0dc0e45"
      }
     },
     "6c6b3b4e8a32457c8515e9708dc4f0c2": {
      "model_module": "@jupyter-widgets/base",
      "model_module_version": "1.0.0",
      "model_name": "LayoutModel",
      "state": {}
     },
     "6ca2164e821a48a2b3db63fcac478a2a": {
      "model_module": "@jupyter-widgets/controls",
      "model_module_version": "1.1.0",
      "model_name": "DescriptionStyleModel",
      "state": {
       "description_width": ""
      }
     },
     "6cc1a6a8789649579f227e189664f2e7": {
      "model_module": "@jupyter-widgets/base",
      "model_module_version": "1.0.0",
      "model_name": "LayoutModel",
      "state": {}
     },
     "6cc76e18dabd42d5be45cee3762bf0e2": {
      "model_module": "@jupyter-widgets/controls",
      "model_module_version": "1.1.0",
      "model_name": "DescriptionStyleModel",
      "state": {
       "description_width": ""
      }
     },
     "6cd8579ad1fe43b495dea8265d66f519": {
      "model_module": "@jupyter-widgets/base",
      "model_module_version": "1.0.0",
      "model_name": "LayoutModel",
      "state": {}
     },
     "6cd9410e09f6431abfa8bd8a642c3b6d": {
      "model_module": "@jupyter-widgets/controls",
      "model_module_version": "1.1.0",
      "model_name": "ButtonStyleModel",
      "state": {}
     },
     "6cdffd14dd2e45b399aced31d744a7ec": {
      "model_module": "@jupyter-widgets/base",
      "model_module_version": "1.0.0",
      "model_name": "LayoutModel",
      "state": {}
     },
     "6ce624cf6cfa46ca9d2a7e12f36b2406": {
      "model_module": "@jupyter-widgets/controls",
      "model_module_version": "1.1.0",
      "model_name": "DescriptionStyleModel",
      "state": {
       "description_width": ""
      }
     },
     "6d095b39d6f24718a8eba4f421a32fdd": {
      "model_module": "@jupyter-widgets/controls",
      "model_module_version": "1.1.0",
      "model_name": "ButtonStyleModel",
      "state": {
       "button_color": "orange"
      }
     },
     "6d172832e173423fb5be660c3c25af58": {
      "model_module": "@jupyter-widgets/controls",
      "model_module_version": "1.1.0",
      "model_name": "DescriptionStyleModel",
      "state": {
       "description_width": ""
      }
     },
     "6d29524ba45340d28f9690f04ef60c72": {
      "model_module": "@jupyter-widgets/controls",
      "model_module_version": "1.1.0",
      "model_name": "ToggleButtonsStyleModel",
      "state": {
       "button_width": "",
       "description_width": ""
      }
     },
     "6d30afcf0d304716bada29ee0fbd8cd0": {
      "model_module": "@jupyter-widgets/base",
      "model_module_version": "1.0.0",
      "model_name": "LayoutModel",
      "state": {}
     },
     "6d44c4fdabbf4b56aff32f854be98e1e": {
      "model_module": "@jupyter-widgets/controls",
      "model_module_version": "1.1.0",
      "model_name": "TabModel",
      "state": {
       "_titles": {
        "0": "1. Extaction",
        "1": "2. Data",
        "2": "3. Evaluation"
       },
       "children": [
        "IPY_MODEL_4aa93e386dc349bba5083166782da765",
        "IPY_MODEL_e42954b004b7468a8fb8bf5184fb717f",
        "IPY_MODEL_f69a42dc34704225b935caf5b9594a07"
       ],
       "layout": "IPY_MODEL_a237cac366c747a89784370fc5f2726d"
      }
     },
     "6d95af5dcc714e99afc6b0b653e4df5d": {
      "model_module": "@jupyter-widgets/controls",
      "model_module_version": "1.1.0",
      "model_name": "DescriptionStyleModel",
      "state": {
       "description_width": ""
      }
     },
     "6da1c2afb6744382a8acb68537abedf3": {
      "model_module": "@jupyter-widgets/controls",
      "model_module_version": "1.1.0",
      "model_name": "TextModel",
      "state": {
       "description": "CSV file:",
       "layout": "IPY_MODEL_11695508161f4a99aeb5947e96b7354b",
       "placeholder": "Name your scrap csv file",
       "style": "IPY_MODEL_ea7f015faa344128b799c328e06ccc85"
      }
     },
     "6db44f301369489bb7f35099a1de2148": {
      "model_module": "@jupyter-widgets/base",
      "model_module_version": "1.0.0",
      "model_name": "LayoutModel",
      "state": {}
     },
     "6dc1f253ee394ec09bfcd2673777f436": {
      "model_module": "@jupyter-widgets/base",
      "model_module_version": "1.0.0",
      "model_name": "LayoutModel",
      "state": {}
     },
     "6dee5288b9064f85b228551c0be6c0c8": {
      "model_module": "@jupyter-widgets/base",
      "model_module_version": "1.0.0",
      "model_name": "LayoutModel",
      "state": {}
     },
     "6e2426c5b1054c08afa78505c4d64f89": {
      "model_module": "@jupyter-widgets/controls",
      "model_module_version": "1.1.0",
      "model_name": "DescriptionStyleModel",
      "state": {
       "description_width": ""
      }
     },
     "6e24bd007e54436a8cb09a7fa3a66dad": {
      "model_module": "@jupyter-widgets/controls",
      "model_module_version": "1.1.0",
      "model_name": "ButtonModel",
      "state": {
       "description": "Click Me!!",
       "icon": "check",
       "layout": "IPY_MODEL_00ab286a59f446f19fa4481933da0ff5",
       "style": "IPY_MODEL_52ef3500068a4788bd71257b862320fa",
       "tooltip": "Click me"
      }
     },
     "6e274946859b41bf9d680e2193bf3644": {
      "model_module": "@jupyter-widgets/base",
      "model_module_version": "1.0.0",
      "model_name": "LayoutModel",
      "state": {}
     },
     "6e47064755d84608ade5d0323b7799fa": {
      "model_module": "@jupyter-widgets/controls",
      "model_module_version": "1.1.0",
      "model_name": "TextModel",
      "state": {
       "description": "CSV file:",
       "layout": "IPY_MODEL_ad17bee78699499db1af276b8a73d7fd",
       "placeholder": "Name your scrap csv file",
       "style": "IPY_MODEL_7b26a82c5d464cde92cd9fb24cd0aa0b"
      }
     },
     "6e47a7d8702949219b036079f64b3640": {
      "model_module": "@jupyter-widgets/base",
      "model_module_version": "1.0.0",
      "model_name": "LayoutModel",
      "state": {}
     },
     "6eb5fd35fa414f23a9604aaef12aea9b": {
      "model_module": "@jupyter-widgets/base",
      "model_module_version": "1.0.0",
      "model_name": "LayoutModel",
      "state": {}
     },
     "6ece7fe3d07c44508192f84261b89f2f": {
      "model_module": "@jupyter-widgets/controls",
      "model_module_version": "1.1.0",
      "model_name": "VBoxModel",
      "state": {
       "children": [
        "IPY_MODEL_e8f643b5e84b4805a08b4ab12d1e9d23",
        "IPY_MODEL_306d0b5422474dfd816ee34184256c36"
       ],
       "layout": "IPY_MODEL_a15d535b867f4a9abdb15ab2324b1964"
      }
     },
     "6eded2608a254e09bd508cc38503955c": {
      "model_module": "@jupyter-widgets/base",
      "model_module_version": "1.0.0",
      "model_name": "LayoutModel",
      "state": {}
     },
     "6efad81eb570494995152ab151d83c53": {
      "model_module": "@jupyter-widgets/controls",
      "model_module_version": "1.1.0",
      "model_name": "ButtonStyleModel",
      "state": {
       "button_color": "lightblue"
      }
     },
     "6f4ba7ee0dbe410bb8614d5766818351": {
      "model_module": "@jupyter-widgets/controls",
      "model_module_version": "1.1.0",
      "model_name": "ToggleButtonsModel",
      "state": {
       "_options_labels": [
        "Head",
        "Random",
        "Sample"
       ],
       "button_style": "",
       "description": "View Method:",
       "icons": [
        "check",
        "check",
        "check"
       ],
       "index": 2,
       "layout": "IPY_MODEL_eca60ededb14473cbd1e37bb5f1ff250",
       "style": "IPY_MODEL_0cb57cf548c84c32abd30fe2419f5d92",
       "tooltips": [
        "Description of slow",
        "Description of regular",
        "Description of fast"
       ]
      }
     },
     "6f53eaac35b64f2a83a0c30110ad467e": {
      "model_module": "@jupyter-widgets/base",
      "model_module_version": "1.0.0",
      "model_name": "LayoutModel",
      "state": {}
     },
     "6fbe9c4761d54078ba291e138b64fb6c": {
      "model_module": "@jupyter-widgets/controls",
      "model_module_version": "1.1.0",
      "model_name": "DescriptionStyleModel",
      "state": {
       "description_width": ""
      }
     },
     "6fbebd75659c47ffaf8a38fc680fe4ae": {
      "model_module": "@jupyter-widgets/base",
      "model_module_version": "1.0.0",
      "model_name": "LayoutModel",
      "state": {}
     },
     "7000b7fb37124fcc8162b818090cc781": {
      "model_module": "@jupyter-widgets/base",
      "model_module_version": "1.0.0",
      "model_name": "LayoutModel",
      "state": {}
     },
     "70080d098f9a45b7ae649fd9171cd660": {
      "model_module": "@jupyter-widgets/controls",
      "model_module_version": "1.1.0",
      "model_name": "VBoxModel",
      "state": {
       "children": [
        "IPY_MODEL_e01aa9663207427f84d1419ceb5087a0",
        "IPY_MODEL_b9187545c95a42a1aa0d162e82ce3734",
        "IPY_MODEL_889a39d52e40475cbdfb6eb99e440453",
        "IPY_MODEL_c66ddf0fa5fa4b1688eacd27df21183f"
       ],
       "layout": "IPY_MODEL_82f0e8b81bf9476b9d2902a07cc4aef0"
      }
     },
     "7039d208830e49d9811d0f5252964c0d": {
      "model_module": "@jupyter-widgets/controls",
      "model_module_version": "1.1.0",
      "model_name": "VBoxModel",
      "state": {
       "children": [
        "IPY_MODEL_4529efabcd8145569eb8d5c0a6e2def9",
        "IPY_MODEL_115192f37c294e198b796f8f08801ef9"
       ],
       "layout": "IPY_MODEL_17addc9cad744fbf8d70a0a157b09b09"
      }
     },
     "7041c4c607ee4872b152e569d00425ad": {
      "model_module": "@jupyter-widgets/controls",
      "model_module_version": "1.1.0",
      "model_name": "VBoxModel",
      "state": {
       "children": [
        "IPY_MODEL_2248dff72aa84140bd2b7e8327ee51e6",
        "IPY_MODEL_2b7f912497384b8fa4c23be3b2e33abc"
       ],
       "layout": "IPY_MODEL_42011c217ef840c3bc0ae705498a14e0"
      }
     },
     "704959aeeb97493bb2e3ec2bffb70d98": {
      "model_module": "@jupyter-widgets/controls",
      "model_module_version": "1.1.0",
      "model_name": "DescriptionStyleModel",
      "state": {
       "description_width": ""
      }
     },
     "7067aa02e1c741cb81081b5b4d6a7d3c": {
      "model_module": "@jupyter-widgets/base",
      "model_module_version": "1.0.0",
      "model_name": "LayoutModel",
      "state": {}
     },
     "706b013bcd9348faacda836354920ff4": {
      "model_module": "@jupyter-widgets/controls",
      "model_module_version": "1.1.0",
      "model_name": "ButtonStyleModel",
      "state": {
       "button_color": "salmon"
      }
     },
     "70705bf3bc964084ab14730e50bc040b": {
      "model_module": "@jupyter-widgets/controls",
      "model_module_version": "1.1.0",
      "model_name": "TextModel",
      "state": {
       "description": "P4",
       "layout": "IPY_MODEL_c48f116147364a209a290fd3f6510a8f",
       "style": "IPY_MODEL_bda66ee46d524d5babf019f84c3dc3e5"
      }
     },
     "70cfd95a68d64e4882dd6aa09661ff13": {
      "model_module": "@jupyter-widgets/controls",
      "model_module_version": "1.1.0",
      "model_name": "TabModel",
      "state": {
       "_titles": {
        "0": "Extaction",
        "1": "Data"
       },
       "children": [
        "IPY_MODEL_c1aed1dbd974447390e3105e74d28fa1",
        "IPY_MODEL_d582e61083084dedbad12beaf8ce0014"
       ],
       "layout": "IPY_MODEL_fdeaee2d50654c399b7fd66e9c83743e",
       "selected_index": 1
      }
     },
     "70fdea4024b94bbbb93b9df31b9d7156": {
      "model_module": "@jupyter-widgets/controls",
      "model_module_version": "1.1.0",
      "model_name": "HTMLModel",
      "state": {
       "layout": "IPY_MODEL_f2461ff1740e4f489b2d7cdc03885fa3",
       "placeholder": "",
       "style": "IPY_MODEL_fef375eb12ca4bc7b3aab36e755f5c62",
       "value": "<b>Choose to view and compare by attributes<b>"
      }
     },
     "7101242dca7b4ab1ab00a865a37ae316": {
      "model_module": "@jupyter-widgets/controls",
      "model_module_version": "1.1.0",
      "model_name": "ButtonModel",
      "state": {
       "description": "PCA!",
       "icon": "check",
       "layout": "IPY_MODEL_7af166b879134253adb416c893e0f5b8",
       "style": "IPY_MODEL_5230f4c7786748deb514affff7fcd6f0",
       "tooltip": "Click me"
      }
     },
     "71749f1dd77a4d5fbe3718110bc8b631": {
      "model_module": "@jupyter-widgets/controls",
      "model_module_version": "1.1.0",
      "model_name": "DropdownModel",
      "state": {
       "_options_labels": [
        "5",
        "6",
        "7",
        "8",
        "9",
        "10"
       ],
       "description": "Tail:",
       "index": 0,
       "layout": "IPY_MODEL_5f553fc6d7e8475ab72773e6b9f585eb",
       "style": "IPY_MODEL_578c08428b2d4446b952df42c3efc4d7"
      }
     },
     "71832e9d9e444b6a914f67fa58b0f049": {
      "model_module": "@jupyter-widgets/controls",
      "model_module_version": "1.1.0",
      "model_name": "VBoxModel",
      "state": {
       "children": [
        "IPY_MODEL_fe6a81a00ef84074977eeb0ce3482b5e",
        "IPY_MODEL_0e41ab2c9f2d4bd5a35b91ed30d842eb"
       ],
       "layout": "IPY_MODEL_cb6837c0d4794f9f95c87a95b4562023"
      }
     },
     "718e5cd41b1c40acbcc33958d2435b60": {
      "model_module": "@jupyter-widgets/controls",
      "model_module_version": "1.1.0",
      "model_name": "BoxModel",
      "state": {
       "children": [
        "IPY_MODEL_62c67aa85357446bb7de10e2d8e83787"
       ],
       "layout": "IPY_MODEL_f7b185b1bc1942768e29d411c1b9281b"
      }
     },
     "71d6405bf533474991f14309641079a5": {
      "model_module": "@jupyter-widgets/base",
      "model_module_version": "1.0.0",
      "model_name": "LayoutModel",
      "state": {}
     },
     "71fb6e111be64b968949a7850e6c0ae1": {
      "model_module": "@jupyter-widgets/base",
      "model_module_version": "1.0.0",
      "model_name": "LayoutModel",
      "state": {}
     },
     "7215a81d12c547d795845bc22f51ab31": {
      "model_module": "@jupyter-widgets/base",
      "model_module_version": "1.0.0",
      "model_name": "LayoutModel",
      "state": {}
     },
     "7222809f6ef84db2976f86c3b495dc09": {
      "model_module": "@jupyter-widgets/controls",
      "model_module_version": "1.1.0",
      "model_name": "ButtonStyleModel",
      "state": {
       "button_color": "orange"
      }
     },
     "723240c5d9664c838e4113dcecf718d5": {
      "model_module": "@jupyter-widgets/base",
      "model_module_version": "1.0.0",
      "model_name": "LayoutModel",
      "state": {}
     },
     "72349e0bcd474b37bde9d1f03a82ddee": {
      "model_module": "@jupyter-widgets/controls",
      "model_module_version": "1.1.0",
      "model_name": "DropdownModel",
      "state": {
       "_options_labels": [
        "-",
        "5",
        "6",
        "7",
        "8",
        "9",
        "10"
       ],
       "description": "Random:",
       "index": 0,
       "layout": "IPY_MODEL_141bd62bf973486fac9191f110b67e88",
       "style": "IPY_MODEL_20b7c44cb66445b596a4c3e0c0806b80"
      }
     },
     "727a1af88b6745719a8fd8a9fbf24e6e": {
      "model_module": "@jupyter-widgets/controls",
      "model_module_version": "1.1.0",
      "model_name": "DropdownModel",
      "state": {
       "_options_labels": [
        "-",
        "5",
        "6",
        "7",
        "8",
        "9",
        "10"
       ],
       "description": "Tail:",
       "index": 0,
       "layout": "IPY_MODEL_811856e03e244ddc8492f7a2b41d17ee",
       "style": "IPY_MODEL_1ce6548ed6c34a5bbd459b47089de0c5"
      }
     },
     "727f493dd89d40c4b2db9485ed818b50": {
      "model_module": "@jupyter-widgets/base",
      "model_module_version": "1.0.0",
      "model_name": "LayoutModel",
      "state": {}
     },
     "728ba25f73284c6491c2e35cc1f8c902": {
      "model_module": "@jupyter-widgets/base",
      "model_module_version": "1.0.0",
      "model_name": "LayoutModel",
      "state": {}
     },
     "72a4ef84819143e3afa35382a5a8fdad": {
      "model_module": "@jupyter-widgets/controls",
      "model_module_version": "1.1.0",
      "model_name": "DescriptionStyleModel",
      "state": {
       "description_width": ""
      }
     },
     "72c967a64c7b446ba2c3c637d41deeb7": {
      "model_module": "@jupyter-widgets/controls",
      "model_module_version": "1.1.0",
      "model_name": "VBoxModel",
      "state": {
       "children": [
        "IPY_MODEL_a0a0c0a5cc8849e9825d954020026527",
        "IPY_MODEL_78c7396bbbd0412392421dbce1d3534b"
       ],
       "layout": "IPY_MODEL_612613670bc547f4a716106e1cca4f47"
      }
     },
     "734b37f807774734b5a72816d3c219b6": {
      "model_module": "@jupyter-widgets/base",
      "model_module_version": "1.0.0",
      "model_name": "LayoutModel",
      "state": {}
     },
     "73617c413d6d48b39fb903c76f553f08": {
      "model_module": "@jupyter-widgets/controls",
      "model_module_version": "1.1.0",
      "model_name": "DescriptionStyleModel",
      "state": {
       "description_width": ""
      }
     },
     "737a71c3b92c42878dcdcc89934d56eb": {
      "model_module": "@jupyter-widgets/base",
      "model_module_version": "1.0.0",
      "model_name": "LayoutModel",
      "state": {}
     },
     "73a9b937873f4142ad5e9ca404023d29": {
      "model_module": "@jupyter-widgets/base",
      "model_module_version": "1.0.0",
      "model_name": "LayoutModel",
      "state": {}
     },
     "73e004678ce94f26bed5082d98c7fdc0": {
      "model_module": "@jupyter-widgets/controls",
      "model_module_version": "1.1.0",
      "model_name": "VBoxModel",
      "state": {
       "children": [
        "IPY_MODEL_2a4527789f434a1dbb6f429b8fba6157",
        "IPY_MODEL_0ee66fb90a3a4103aefc427258f019bd"
       ],
       "layout": "IPY_MODEL_6cd8579ad1fe43b495dea8265d66f519"
      }
     },
     "73fc9fa7d0a843279d45cb8530f50d4f": {
      "model_module": "@jupyter-widgets/controls",
      "model_module_version": "1.1.0",
      "model_name": "ToggleButtonsStyleModel",
      "state": {
       "button_width": "",
       "description_width": ""
      }
     },
     "7467226172c14ff98c245343cadc7118": {
      "model_module": "@jupyter-widgets/base",
      "model_module_version": "1.0.0",
      "model_name": "LayoutModel",
      "state": {}
     },
     "7493b78af798428cbb5ba18c8ae2de46": {
      "model_module": "@jupyter-widgets/controls",
      "model_module_version": "1.1.0",
      "model_name": "TextModel",
      "state": {
       "description": "Folder Path:",
       "layout": "IPY_MODEL_355cdacd05b44b5994203bb11ce8e6c7",
       "placeholder": "Upload cleaned dataset",
       "style": "IPY_MODEL_19ea8e1d93294535be11c7a5f581648d"
      }
     },
     "74efbaa2c3c2410eb5de10c52051c45a": {
      "model_module": "@jupyter-widgets/controls",
      "model_module_version": "1.1.0",
      "model_name": "DescriptionStyleModel",
      "state": {
       "description_width": ""
      }
     },
     "74f15019a00a4338832242dd0459b226": {
      "model_module": "@jupyter-widgets/controls",
      "model_module_version": "1.1.0",
      "model_name": "VBoxModel",
      "state": {
       "children": [
        "IPY_MODEL_951ebf273eae46d9bb474826a52c552b",
        "IPY_MODEL_5027c9dec59449ad81f792883e93dceb"
       ],
       "layout": "IPY_MODEL_df33d4e885ee458586d5071ae8f8f300"
      }
     },
     "74f656a1e974496e86d2af3e71dae701": {
      "model_module": "@jupyter-widgets/output",
      "model_module_version": "1.0.0",
      "model_name": "OutputModel",
      "state": {
       "layout": "IPY_MODEL_cbff9fffeeeb4bd4aef2c21e1bbfcdf1",
       "outputs": [
        {
         "name": "stdout",
         "output_type": "stream",
         "text": "Me Scrapped!\n"
        }
       ]
      }
     },
     "74f7cfc2feae472fafd6665415d1f471": {
      "model_module": "@jupyter-widgets/controls",
      "model_module_version": "1.1.0",
      "model_name": "ButtonStyleModel",
      "state": {}
     },
     "74f9ff6d90cd40998cb82130f03d99c0": {
      "model_module": "@jupyter-widgets/controls",
      "model_module_version": "1.1.0",
      "model_name": "TextModel",
      "state": {
       "description": "CSV file:",
       "layout": "IPY_MODEL_cffaf482ef78401d94a1bec0b2fddd5a",
       "placeholder": "Name your scrap csv file",
       "style": "IPY_MODEL_e8c20ae6b79840cd80ef5c22a002a054"
      }
     },
     "7500865d96ca4f1dbbe71bbe3f3ec2a7": {
      "model_module": "@jupyter-widgets/controls",
      "model_module_version": "1.1.0",
      "model_name": "TextModel",
      "state": {
       "description": "Folder Path:",
       "layout": "IPY_MODEL_6f53eaac35b64f2a83a0c30110ad467e",
       "placeholder": "Save Scraped Dataset",
       "style": "IPY_MODEL_f225e0cf3512455dbab56844e14d007d"
      }
     },
     "75287c3b79b34ebbbd3be6cba1675ba5": {
      "model_module": "@jupyter-widgets/controls",
      "model_module_version": "1.1.0",
      "model_name": "DropdownModel",
      "state": {
       "_options_labels": [
        "-",
        "5",
        "6",
        "7",
        "8",
        "9",
        "10"
       ],
       "description": "Head:",
       "index": 0,
       "layout": "IPY_MODEL_1b8a307ce0424be39e655d9a9cf6be93",
       "style": "IPY_MODEL_5889818fc8d44dfb91023d8b1b07ba98"
      }
     },
     "756b08578b9f4f7e8a49db76a9b0ac1a": {
      "model_module": "@jupyter-widgets/base",
      "model_module_version": "1.0.0",
      "model_name": "LayoutModel",
      "state": {}
     },
     "757a59a9f1de41eb8fc5c31c9ee76800": {
      "model_module": "@jupyter-widgets/base",
      "model_module_version": "1.0.0",
      "model_name": "LayoutModel",
      "state": {}
     },
     "759485bdf1484a8d8dfe741b32aba1a7": {
      "model_module": "@jupyter-widgets/controls",
      "model_module_version": "1.1.0",
      "model_name": "ToggleButtonsModel",
      "state": {
       "_options_labels": [
        "Head",
        "Random",
        "Sample"
       ],
       "button_style": "",
       "description": "View Method:",
       "icons": [],
       "index": 2,
       "layout": "IPY_MODEL_abe6357e447d4e2fb079b50954110637",
       "style": "IPY_MODEL_d315109becab47f7ab0fce4729bea98c",
       "tooltips": [
        "Description of slow",
        "Description of regular",
        "Description of fast"
       ]
      }
     },
     "759f2bcc4a814ed2abac61aecb33c469": {
      "model_module": "@jupyter-widgets/base",
      "model_module_version": "1.0.0",
      "model_name": "LayoutModel",
      "state": {}
     },
     "75a030c16a85418696508cac626f3cf9": {
      "model_module": "@jupyter-widgets/controls",
      "model_module_version": "1.1.0",
      "model_name": "HTMLModel",
      "state": {
       "layout": "IPY_MODEL_9a660147e96447ef841edeee50dd24a8",
       "placeholder": "",
       "style": "IPY_MODEL_0b0bae642e534db8a9ef6004f7064fb8",
       "value": "Beware of <b>SCAMMER</b>, buy from the <b>TRUSTED<b> one"
      }
     },
     "75b5e15819754ab3b3fd188883a48ac2": {
      "model_module": "@jupyter-widgets/base",
      "model_module_version": "1.0.0",
      "model_name": "LayoutModel",
      "state": {}
     },
     "75dc61c892c24398a0d6b02d7cb3668e": {
      "model_module": "@jupyter-widgets/controls",
      "model_module_version": "1.1.0",
      "model_name": "DescriptionStyleModel",
      "state": {
       "description_width": ""
      }
     },
     "75e60aca84074d55b5369562478b0cdb": {
      "model_module": "@jupyter-widgets/controls",
      "model_module_version": "1.1.0",
      "model_name": "DropdownModel",
      "state": {
       "_options_labels": [
        "-",
        "5",
        "6",
        "7",
        "8",
        "9",
        "10"
       ],
       "description": "Head:",
       "index": 0,
       "layout": "IPY_MODEL_10729cc84d1a47df8817ede357b06230",
       "style": "IPY_MODEL_af46a691e1eb4940ae6b2b7839fcd273"
      }
     },
     "75eae438faae490aaaa5780c72885036": {
      "model_module": "@jupyter-widgets/controls",
      "model_module_version": "1.1.0",
      "model_name": "ButtonModel",
      "state": {
       "description": "Scrap Me",
       "layout": "IPY_MODEL_44d04822d67949c0aecfbd624ba02908",
       "style": "IPY_MODEL_1c1ed7532e06473caff005e2e65d5d0f"
      }
     },
     "75fa83f41d8d4f798ac4c3bf8eec84eb": {
      "model_module": "@jupyter-widgets/controls",
      "model_module_version": "1.1.0",
      "model_name": "DescriptionStyleModel",
      "state": {
       "description_width": ""
      }
     },
     "7619bdbba54e40aeb5158501f4bb191a": {
      "model_module": "@jupyter-widgets/base",
      "model_module_version": "1.0.0",
      "model_name": "LayoutModel",
      "state": {}
     },
     "763affa9d0db47f09c94b6fff2b4e40f": {
      "model_module": "@jupyter-widgets/controls",
      "model_module_version": "1.1.0",
      "model_name": "VBoxModel",
      "state": {
       "children": [
        "IPY_MODEL_0a2dbd6458f8459dabb1c3e865a41085",
        "IPY_MODEL_a5e8043353e14456bbf36398f2f5a7b2"
       ],
       "layout": "IPY_MODEL_e4313c650e10489eb7a62a4d7308ee27"
      }
     },
     "766f3f4b481e43239646046b2136a1b1": {
      "model_module": "@jupyter-widgets/base",
      "model_module_version": "1.0.0",
      "model_name": "LayoutModel",
      "state": {}
     },
     "76bc8578377546659e6c9024b76f1808": {
      "model_module": "@jupyter-widgets/base",
      "model_module_version": "1.0.0",
      "model_name": "LayoutModel",
      "state": {}
     },
     "76d010e575454fb5883ff4ae7c235358": {
      "model_module": "@jupyter-widgets/base",
      "model_module_version": "1.0.0",
      "model_name": "LayoutModel",
      "state": {}
     },
     "77331876d16e4c59bce917d732711580": {
      "model_module": "@jupyter-widgets/controls",
      "model_module_version": "1.1.0",
      "model_name": "TextModel",
      "state": {
       "description": "Link:",
       "layout": "IPY_MODEL_dbc92373c2fe4d5fbc1b387dbab91b5f",
       "placeholder": "Paste your mudah.my link here",
       "style": "IPY_MODEL_0ef955872a1b4332b069f8411f1151ad"
      }
     },
     "7752568ceb9243fab544b225e660af11": {
      "model_module": "@jupyter-widgets/controls",
      "model_module_version": "1.1.0",
      "model_name": "DescriptionStyleModel",
      "state": {
       "description_width": ""
      }
     },
     "7788e5416a0545da8a84acd6e3cbf5af": {
      "model_module": "@jupyter-widgets/controls",
      "model_module_version": "1.1.0",
      "model_name": "DescriptionStyleModel",
      "state": {
       "description_width": ""
      }
     },
     "77a051b1b7ff40efab0ce9a05cfd6345": {
      "model_module": "@jupyter-widgets/controls",
      "model_module_version": "1.1.0",
      "model_name": "VBoxModel",
      "state": {
       "children": [
        "IPY_MODEL_640d8d37fff0484090663811c22acf6f",
        "IPY_MODEL_dfd933b9c5234458861e026d4df8ff62"
       ],
       "layout": "IPY_MODEL_f4043f4230b64bc981573c394078188f"
      }
     },
     "77cd03ff87a44b69b0706a2385121b41": {
      "model_module": "@jupyter-widgets/base",
      "model_module_version": "1.0.0",
      "model_name": "LayoutModel",
      "state": {}
     },
     "77d2ea36de314afca8135d9939c4d732": {
      "model_module": "@jupyter-widgets/controls",
      "model_module_version": "1.1.0",
      "model_name": "VBoxModel",
      "state": {
       "children": [
        "IPY_MODEL_839e9e92a0d9436a81a0ddaddf4b2215",
        "IPY_MODEL_0f5c9e88fa0d4f10b0015b6b7a5db8cf"
       ],
       "layout": "IPY_MODEL_43b876aa5ed049a89c2e245939a08917"
      }
     },
     "77f109fae6c74eaebc4da2dda5b356fe": {
      "model_module": "@jupyter-widgets/controls",
      "model_module_version": "1.1.0",
      "model_name": "DescriptionStyleModel",
      "state": {
       "description_width": ""
      }
     },
     "780c58ce8eca42f498b199740d5a8c35": {
      "model_module": "@jupyter-widgets/base",
      "model_module_version": "1.0.0",
      "model_name": "LayoutModel",
      "state": {}
     },
     "78136c34a1b34bf1a987431bb46bb6c6": {
      "model_module": "@jupyter-widgets/base",
      "model_module_version": "1.0.0",
      "model_name": "LayoutModel",
      "state": {}
     },
     "7836d71b12464ea2a83d08d217713dcb": {
      "model_module": "@jupyter-widgets/base",
      "model_module_version": "1.0.0",
      "model_name": "LayoutModel",
      "state": {}
     },
     "787d4b8df67b449da9948e4d6ffb625d": {
      "model_module": "@jupyter-widgets/base",
      "model_module_version": "1.0.0",
      "model_name": "LayoutModel",
      "state": {}
     },
     "789406a1c8fe487699bc84b0fca9512e": {
      "model_module": "@jupyter-widgets/base",
      "model_module_version": "1.0.0",
      "model_name": "LayoutModel",
      "state": {}
     },
     "78a08110c723466a86a73fa77108af37": {
      "model_module": "@jupyter-widgets/controls",
      "model_module_version": "1.1.0",
      "model_name": "DescriptionStyleModel",
      "state": {
       "description_width": ""
      }
     },
     "78a7780dadd14bd09e9e4ca06d343ca7": {
      "model_module": "@jupyter-widgets/controls",
      "model_module_version": "1.1.0",
      "model_name": "DescriptionStyleModel",
      "state": {
       "description_width": ""
      }
     },
     "78c7396bbbd0412392421dbce1d3534b": {
      "model_module": "@jupyter-widgets/controls",
      "model_module_version": "1.1.0",
      "model_name": "ButtonModel",
      "state": {
       "description": "PCA!",
       "icon": "check",
       "layout": "IPY_MODEL_fb3b541217f344dd867b2a234f4bd1b9",
       "style": "IPY_MODEL_4c5f031e1739448e8e111996b00ab243",
       "tooltip": "Click me"
      }
     },
     "78db1ec0febc4bf6bab259bd38df3d3d": {
      "model_module": "@jupyter-widgets/base",
      "model_module_version": "1.0.0",
      "model_name": "LayoutModel",
      "state": {}
     },
     "78f4920b8d99494dbcef4769a0439227": {
      "model_module": "@jupyter-widgets/base",
      "model_module_version": "1.0.0",
      "model_name": "LayoutModel",
      "state": {}
     },
     "790dd942fe53445884c633c2059aa198": {
      "model_module": "@jupyter-widgets/controls",
      "model_module_version": "1.1.0",
      "model_name": "DescriptionStyleModel",
      "state": {
       "description_width": ""
      }
     },
     "791ea0f6df0648b9b09033b255ca8d1d": {
      "model_module": "@jupyter-widgets/controls",
      "model_module_version": "1.1.0",
      "model_name": "ButtonModel",
      "state": {
       "description": "Help",
       "layout": "IPY_MODEL_2d5cd04de0334890ae13955d029f3dba",
       "style": "IPY_MODEL_1cc473e2c58b4eb588a135dc94c41469"
      }
     },
     "794babae85b04f84918e4387aa7cbfa4": {
      "model_module": "@jupyter-widgets/controls",
      "model_module_version": "1.1.0",
      "model_name": "DescriptionStyleModel",
      "state": {
       "description_width": ""
      }
     },
     "7950c32f545f4928903567190c72cf2f": {
      "model_module": "@jupyter-widgets/base",
      "model_module_version": "1.0.0",
      "model_name": "LayoutModel",
      "state": {}
     },
     "798ba7fc16ff431fa506bd119afc16be": {
      "model_module": "@jupyter-widgets/controls",
      "model_module_version": "1.1.0",
      "model_name": "DescriptionStyleModel",
      "state": {
       "description_width": ""
      }
     },
     "79d3d57594934edd8fd172137c86e59d": {
      "model_module": "@jupyter-widgets/controls",
      "model_module_version": "1.1.0",
      "model_name": "HTMLModel",
      "state": {
       "layout": "IPY_MODEL_d9f37631a29a4d2ba66cedd99991215d",
       "placeholder": "",
       "style": "IPY_MODEL_ba3b65a9051249f78171ae0e71777155",
       "value": "<b>Choose how to view your data</b>"
      }
     },
     "79e0c7d239824c6db7151f299c00e9b8": {
      "model_module": "@jupyter-widgets/base",
      "model_module_version": "1.0.0",
      "model_name": "LayoutModel",
      "state": {}
     },
     "79e81d94f64d425c955f0c4195be6285": {
      "model_module": "@jupyter-widgets/base",
      "model_module_version": "1.0.0",
      "model_name": "LayoutModel",
      "state": {}
     },
     "79ee03d5934b40a880c5956e85265db7": {
      "model_module": "@jupyter-widgets/controls",
      "model_module_version": "1.1.0",
      "model_name": "ButtonModel",
      "state": {
       "description": "Scrap Me",
       "layout": "IPY_MODEL_89984f0a771e4386b75160a58099fd5e",
       "style": "IPY_MODEL_54f1b4588371419bb4be97cecf09b080"
      }
     },
     "79f474affbdb47d5b45fdf09837dcaed": {
      "model_module": "@jupyter-widgets/controls",
      "model_module_version": "1.1.0",
      "model_name": "VBoxModel",
      "state": {
       "children": [
        "IPY_MODEL_40665e10b81c41ee8f71187baf2e3315",
        "IPY_MODEL_1254efcc32ca484dadb555c803692b12"
       ],
       "layout": "IPY_MODEL_f28b88b4f70b494a9f276ee398b3374a"
      }
     },
     "7a659544e95043f18c6dee4e2e5c5c7e": {
      "model_module": "@jupyter-widgets/base",
      "model_module_version": "1.0.0",
      "model_name": "LayoutModel",
      "state": {}
     },
     "7a8c3d85a3ac4ac7b48c8fbadc848d59": {
      "model_module": "@jupyter-widgets/base",
      "model_module_version": "1.0.0",
      "model_name": "LayoutModel",
      "state": {}
     },
     "7af166b879134253adb416c893e0f5b8": {
      "model_module": "@jupyter-widgets/base",
      "model_module_version": "1.0.0",
      "model_name": "LayoutModel",
      "state": {}
     },
     "7b02ce17c22c4125890f6112ab78c986": {
      "model_module": "@jupyter-widgets/controls",
      "model_module_version": "1.1.0",
      "model_name": "DescriptionStyleModel",
      "state": {
       "description_width": ""
      }
     },
     "7b26a82c5d464cde92cd9fb24cd0aa0b": {
      "model_module": "@jupyter-widgets/controls",
      "model_module_version": "1.1.0",
      "model_name": "DescriptionStyleModel",
      "state": {
       "description_width": ""
      }
     },
     "7b601b87c6424a8689c95195127a2bc6": {
      "model_module": "@jupyter-widgets/controls",
      "model_module_version": "1.1.0",
      "model_name": "AccordionModel",
      "state": {
       "_titles": {
        "0": "Source",
        "1": "Save",
        "2": "Scrap"
       },
       "children": [
        "IPY_MODEL_4e2b59ccd0c947d584c70e03f8f02771",
        "IPY_MODEL_b74141f1ed434d53af3780f02ebe0da6",
        "IPY_MODEL_8bc3175d64254a74a9684877edd9b087"
       ],
       "layout": "IPY_MODEL_26cc51a7ee5a4de59d30772034367716"
      }
     },
     "7b7dc76169874b58a809cf4ed90c1a8c": {
      "model_module": "@jupyter-widgets/controls",
      "model_module_version": "1.1.0",
      "model_name": "DescriptionStyleModel",
      "state": {
       "description_width": ""
      }
     },
     "7b94e4107c9b484aacabf7440b0f18cb": {
      "model_module": "@jupyter-widgets/controls",
      "model_module_version": "1.1.0",
      "model_name": "TextModel",
      "state": {
       "description": "Folder Path:",
       "layout": "IPY_MODEL_6cc1a6a8789649579f227e189664f2e7",
       "placeholder": "Save Scraped Dataset",
       "style": "IPY_MODEL_857b502b655d4879b2ac9bfd6c1393d0"
      }
     },
     "7b9afc68dd36423f924ff112fa55a2c2": {
      "model_module": "@jupyter-widgets/base",
      "model_module_version": "1.0.0",
      "model_name": "LayoutModel",
      "state": {}
     },
     "7b9cae2243d24b479ca9fc205bc48d9e": {
      "model_module": "@jupyter-widgets/controls",
      "model_module_version": "1.1.0",
      "model_name": "TextModel",
      "state": {
       "description": "Folder Path:",
       "layout": "IPY_MODEL_7de58381e52c4a2281cf21440d8e332a",
       "placeholder": "Upload dataset",
       "style": "IPY_MODEL_ab0ec69de24c4ec68ea5c4c772d0ff6a"
      }
     },
     "7bb623a4622242bcb17132c9b7b1977f": {
      "model_module": "@jupyter-widgets/controls",
      "model_module_version": "1.1.0",
      "model_name": "VBoxModel",
      "state": {
       "children": [
        "IPY_MODEL_1754555ca48f44b68eac6d647c93d8c2",
        "IPY_MODEL_2ce98f53ff934e2d94b43a684c6a16b4",
        "IPY_MODEL_60571707887141a6a17edf1919d36a5a",
        "IPY_MODEL_41d82b5e06e645bb9893ffefb305e604"
       ],
       "layout": "IPY_MODEL_285526a8d64443779afa8b76c9c8f18a"
      }
     },
     "7bd07574f3bd49b2a6c3c4a78f05f6d9": {
      "model_module": "@jupyter-widgets/controls",
      "model_module_version": "1.1.0",
      "model_name": "SelectMultipleModel",
      "state": {
       "_options_labels": [
        "Apples",
        "Oranges",
        "Pears"
       ],
       "description": "Fruits",
       "index": [
        1
       ],
       "layout": "IPY_MODEL_5644e9c67a4e41d4a6bbbfcaed83c816",
       "rows": 5,
       "style": "IPY_MODEL_11c298e780544dffb330a352f6fc5bef"
      }
     },
     "7bd5d2a5dc34449db5bf20d8048b98e7": {
      "model_module": "@jupyter-widgets/controls",
      "model_module_version": "1.1.0",
      "model_name": "DescriptionStyleModel",
      "state": {
       "description_width": ""
      }
     },
     "7bd7f1d7bcd04e95bc5fa623df37ed89": {
      "model_module": "@jupyter-widgets/controls",
      "model_module_version": "1.1.0",
      "model_name": "TextModel",
      "state": {
       "description": "CSV file:",
       "layout": "IPY_MODEL_17846b2ed1304a25b3e1fe1ef7ed8c91",
       "placeholder": "Name your scrap csv file",
       "style": "IPY_MODEL_f1879dd84baf4931844c45c075dfa4ee"
      }
     },
     "7bd8a2be408d4bb7bf2ad594427b6870": {
      "model_module": "@jupyter-widgets/controls",
      "model_module_version": "1.1.0",
      "model_name": "ButtonStyleModel",
      "state": {}
     },
     "7c1685e17807477086e9a7928a650b6b": {
      "model_module": "@jupyter-widgets/controls",
      "model_module_version": "1.1.0",
      "model_name": "HTMLModel",
      "state": {
       "description": "Sample Link:",
       "layout": "IPY_MODEL_ed4f99848eb64ac7b6eacc5d02a5c89d",
       "placeholder": "",
       "style": "IPY_MODEL_3f2b467832c14407a741fea5ca107274",
       "value": "<i><b>https://www.mudah.my/malaysia/cars-for-sale?o=1&q=&th=1</b><i>"
      }
     },
     "7c1b86f3f0474f3b82ac88c4b2dabaa6": {
      "model_module": "@jupyter-widgets/base",
      "model_module_version": "1.0.0",
      "model_name": "LayoutModel",
      "state": {}
     },
     "7c507864938d44e9b13093d0eb5a4f95": {
      "model_module": "@jupyter-widgets/controls",
      "model_module_version": "1.1.0",
      "model_name": "ButtonModel",
      "state": {
       "description": "Help",
       "layout": "IPY_MODEL_ff70dc736f4744dd806b077ed5a897b4",
       "style": "IPY_MODEL_41196d644563404e8797020749fc8066"
      }
     },
     "7c54e47acf2d47a4b341e750e71d6b63": {
      "model_module": "@jupyter-widgets/controls",
      "model_module_version": "1.1.0",
      "model_name": "HBoxModel",
      "state": {
       "children": [
        "IPY_MODEL_6bafe33ee4c140eda022a26fb0cf9a49",
        "IPY_MODEL_a8df6611c3064608b6468816ee57069b",
        "IPY_MODEL_f832d734df284dbf9d3bae6b4675154e"
       ],
       "layout": "IPY_MODEL_79e81d94f64d425c955f0c4195be6285"
      }
     },
     "7ca31b81167445debb9452b692e50b0e": {
      "model_module": "@jupyter-widgets/controls",
      "model_module_version": "1.1.0",
      "model_name": "VBoxModel",
      "state": {
       "children": [
        "IPY_MODEL_3fae7d93f5be44ca96d28bc11c50bf36",
        "IPY_MODEL_812582767a97436ba09addc649c7d0de"
       ],
       "layout": "IPY_MODEL_f31d7ead7b3446b586dfbd85d9b7d71f"
      }
     },
     "7cf796c903fd4a839a560098a30b76a3": {
      "model_module": "@jupyter-widgets/base",
      "model_module_version": "1.0.0",
      "model_name": "LayoutModel",
      "state": {}
     },
     "7d64523f4c6744438377acdc6eb4ac1d": {
      "model_module": "@jupyter-widgets/controls",
      "model_module_version": "1.1.0",
      "model_name": "HTMLModel",
      "state": {
       "layout": "IPY_MODEL_c999309851d34337af0c05eb31b992e0",
       "placeholder": "",
       "style": "IPY_MODEL_6cc76e18dabd42d5be45cee3762bf0e2",
       "value": "<b>Scammer Detector<b>"
      }
     },
     "7d8eb4a6d9054ecb9d1ad2c93ba22e61": {
      "model_module": "@jupyter-widgets/controls",
      "model_module_version": "1.1.0",
      "model_name": "DropdownModel",
      "state": {
       "_options_labels": [
        "-",
        "5",
        "6",
        "7",
        "8",
        "9",
        "10"
       ],
       "description": "Tail:",
       "index": 0,
       "layout": "IPY_MODEL_c0df1fc8c6194409b82f70b743e427d7",
       "style": "IPY_MODEL_c9c2d8fcab594ded99877e35ca1bef5a"
      }
     },
     "7da4c5955b9448e5b04bfd9ce79bdf1e": {
      "model_module": "@jupyter-widgets/base",
      "model_module_version": "1.0.0",
      "model_name": "LayoutModel",
      "state": {}
     },
     "7da9b91a68c949b1957498bbc2f96e02": {
      "model_module": "@jupyter-widgets/base",
      "model_module_version": "1.0.0",
      "model_name": "LayoutModel",
      "state": {}
     },
     "7dabe04dee2940fd9afe9d362c720400": {
      "model_module": "@jupyter-widgets/controls",
      "model_module_version": "1.1.0",
      "model_name": "HTMLModel",
      "state": {
       "layout": "IPY_MODEL_86821840d82c441b9f1505332c48dd25",
       "placeholder": "",
       "style": "IPY_MODEL_a50968335e604867a44f26354015a9f5",
       "value": "<b>Choose to view and compare by attributes<b>"
      }
     },
     "7dbe9e34b9584a56b870dcb357e22a82": {
      "model_module": "@jupyter-widgets/controls",
      "model_module_version": "1.1.0",
      "model_name": "VBoxModel",
      "state": {
       "children": [
        "IPY_MODEL_e8f643b5e84b4805a08b4ab12d1e9d23",
        "IPY_MODEL_d85cd7113be3440fbf3f15f5b35f0196"
       ],
       "layout": "IPY_MODEL_93a4cf52b72a451799c79123d3c4201a"
      }
     },
     "7de387cb94c849d198071cf79313b9a5": {
      "model_module": "@jupyter-widgets/controls",
      "model_module_version": "1.1.0",
      "model_name": "VBoxModel",
      "state": {
       "children": [
        "IPY_MODEL_079cc03eed4e480c9240f1879769ae5d",
        "IPY_MODEL_9192dd0e71d449b5804bf29a1ee87ba1"
       ],
       "layout": "IPY_MODEL_19c8f2fcaba64689b092b1fed64c5a9b"
      }
     },
     "7de58381e52c4a2281cf21440d8e332a": {
      "model_module": "@jupyter-widgets/base",
      "model_module_version": "1.0.0",
      "model_name": "LayoutModel",
      "state": {}
     },
     "7dea3d8ce9e345c499eea2b35793321c": {
      "model_module": "@jupyter-widgets/base",
      "model_module_version": "1.0.0",
      "model_name": "LayoutModel",
      "state": {}
     },
     "7e15522d5e014f0e97458b5f6b8d4a63": {
      "model_module": "@jupyter-widgets/base",
      "model_module_version": "1.0.0",
      "model_name": "LayoutModel",
      "state": {}
     },
     "7e1d8f7890df4274b98bacb272b509a6": {
      "model_module": "@jupyter-widgets/controls",
      "model_module_version": "1.1.0",
      "model_name": "HTMLModel",
      "state": {
       "description": "Sample Path:",
       "layout": "IPY_MODEL_451d7ffb5f1343ac82cdfcc10a43026e",
       "placeholder": "",
       "style": "IPY_MODEL_d6006e1b5a2e4e9ba6ed7546cfcc77a8",
       "value": "<i><b>C:\\Users\\LENOVO\\Documents</b><i>"
      }
     },
     "7e26c7c6da9a4967bdeb04442e120ae4": {
      "model_module": "@jupyter-widgets/base",
      "model_module_version": "1.0.0",
      "model_name": "LayoutModel",
      "state": {}
     },
     "7e39523aedcd42599f1b0f38510c7eaf": {
      "model_module": "@jupyter-widgets/controls",
      "model_module_version": "1.1.0",
      "model_name": "BoxModel",
      "state": {
       "children": [
        "IPY_MODEL_ec72898a58a64c9caacde57daab4386c"
       ],
       "layout": "IPY_MODEL_d67fcada7fbc440aa898d4f739fe654b"
      }
     },
     "7e3bf9c7586b496e83cabb6986378a53": {
      "model_module": "@jupyter-widgets/base",
      "model_module_version": "1.0.0",
      "model_name": "LayoutModel",
      "state": {}
     },
     "7e3d1d4071eb4f728dc92ba8d8470dd8": {
      "model_module": "@jupyter-widgets/controls",
      "model_module_version": "1.1.0",
      "model_name": "ButtonStyleModel",
      "state": {
       "button_color": "orange"
      }
     },
     "7ed03d4f80ec43e498e22f9a95e7244e": {
      "model_module": "@jupyter-widgets/controls",
      "model_module_version": "1.1.0",
      "model_name": "ButtonStyleModel",
      "state": {
       "button_color": "orange"
      }
     },
     "7ee5c28297a44ee986a1dbc289cc623d": {
      "model_module": "@jupyter-widgets/base",
      "model_module_version": "1.0.0",
      "model_name": "LayoutModel",
      "state": {}
     },
     "7f0191a18e52447580bd7568179d1b4e": {
      "model_module": "@jupyter-widgets/base",
      "model_module_version": "1.0.0",
      "model_name": "LayoutModel",
      "state": {}
     },
     "7f1b23f208604fbc986b0499b6f4f8db": {
      "model_module": "@jupyter-widgets/base",
      "model_module_version": "1.0.0",
      "model_name": "LayoutModel",
      "state": {}
     },
     "7f28641d0ea140f58074d92c47869871": {
      "model_module": "@jupyter-widgets/controls",
      "model_module_version": "1.1.0",
      "model_name": "VBoxModel",
      "state": {
       "children": [
        "IPY_MODEL_d30290bfa1364c829470bcf319ca5fd8",
        "IPY_MODEL_bad221f107f24655a7cc90a376855ea5"
       ],
       "layout": "IPY_MODEL_5d63dae73e5e435ea410d5cb34bfc41c"
      }
     },
     "7f48bb255da84ce59e252edf0a7b6f08": {
      "model_module": "@jupyter-widgets/controls",
      "model_module_version": "1.1.0",
      "model_name": "ButtonModel",
      "state": {
       "description": "Boxplot",
       "icon": "check",
       "layout": "IPY_MODEL_596febe802874943824c5d186fb7a570",
       "style": "IPY_MODEL_1bd01e0220f14928a4fa87a3675afc60",
       "tooltip": "Click me"
      }
     },
     "7f49301e5df64406b6e1338938a6a4a5": {
      "model_module": "@jupyter-widgets/base",
      "model_module_version": "1.0.0",
      "model_name": "LayoutModel",
      "state": {}
     },
     "80286b81a7124f58ade977000202fed6": {
      "model_module": "@jupyter-widgets/controls",
      "model_module_version": "1.1.0",
      "model_name": "ButtonStyleModel",
      "state": {
       "button_color": "lightblue"
      }
     },
     "80bb5004f56e42ebbb274eb2041c69a4": {
      "model_module": "@jupyter-widgets/base",
      "model_module_version": "1.0.0",
      "model_name": "LayoutModel",
      "state": {}
     },
     "80e98be060d842cb9fd224b36c61725b": {
      "model_module": "@jupyter-widgets/controls",
      "model_module_version": "1.1.0",
      "model_name": "DescriptionStyleModel",
      "state": {
       "description_width": ""
      }
     },
     "80fc08c3812243dcacdfd26231f62a22": {
      "model_module": "@jupyter-widgets/controls",
      "model_module_version": "1.1.0",
      "model_name": "DescriptionStyleModel",
      "state": {
       "description_width": ""
      }
     },
     "810a310cd09e48b7871832e00e4f3c8d": {
      "model_module": "@jupyter-widgets/controls",
      "model_module_version": "1.1.0",
      "model_name": "DropdownModel",
      "state": {
       "_options_labels": [
        "-",
        "5",
        "6",
        "7",
        "8",
        "9",
        "10"
       ],
       "description": "Head:",
       "index": 0,
       "layout": "IPY_MODEL_aef0f0e9785545d9a2fc29b640d57538",
       "style": "IPY_MODEL_790dd942fe53445884c633c2059aa198"
      }
     },
     "81107d795bf44a568a1a9e51103d522c": {
      "model_module": "@jupyter-widgets/controls",
      "model_module_version": "1.1.0",
      "model_name": "VBoxModel",
      "state": {
       "children": [
        "IPY_MODEL_e97fb55c1ca642188de68e08f99c9ae5",
        "IPY_MODEL_ba25c378da3844dab0955b684c9da2dd"
       ],
       "layout": "IPY_MODEL_a5de1db05cd844119996663414543770"
      }
     },
     "811856e03e244ddc8492f7a2b41d17ee": {
      "model_module": "@jupyter-widgets/base",
      "model_module_version": "1.0.0",
      "model_name": "LayoutModel",
      "state": {}
     },
     "812582767a97436ba09addc649c7d0de": {
      "model_module": "@jupyter-widgets/controls",
      "model_module_version": "1.1.0",
      "model_name": "ButtonModel",
      "state": {
       "description": "Click Me",
       "icon": "check",
       "layout": "IPY_MODEL_b3eebdaf6c504069a1f1137ee754cdf7",
       "style": "IPY_MODEL_aa57807560af4e30990e75045d7df15d",
       "tooltip": "Click me"
      }
     },
     "8166a0bbb056476ea8a2d24d3afe6bb9": {
      "model_module": "@jupyter-widgets/controls",
      "model_module_version": "1.1.0",
      "model_name": "AccordionModel",
      "state": {
       "_titles": {
        "0": "Source",
        "1": "Save",
        "2": "Scrap"
       },
       "children": [
        "IPY_MODEL_eb517722935541c2b5374f3df108e975",
        "IPY_MODEL_06959940d6944b708ad96424920f87ca",
        "IPY_MODEL_2e91ae180ee74eb48fd369fafd5bc7f4"
       ],
       "layout": "IPY_MODEL_4a5ee65fa4d54015a28d09a5cea392af",
       "selected_index": 2
      }
     },
     "818174caa3a543ab826c503608883279": {
      "model_module": "@jupyter-widgets/controls",
      "model_module_version": "1.1.0",
      "model_name": "DescriptionStyleModel",
      "state": {
       "description_width": ""
      }
     },
     "8199381d33aa4f0b9b0b8484f7840b95": {
      "model_module": "@jupyter-widgets/controls",
      "model_module_version": "1.1.0",
      "model_name": "VBoxModel",
      "state": {
       "children": [
        "IPY_MODEL_8d177eee05dc478f92c66698d8612381",
        "IPY_MODEL_bc07d51c7bd049b6b214422ef3b7ce70",
        "IPY_MODEL_e767bb4486b149b3a8c4721029779486",
        "IPY_MODEL_a56078b5fb524adba1559811a4f8be64"
       ],
       "layout": "IPY_MODEL_b2959d14829b4d19aedaebcae92de2fd"
      }
     },
     "819ca6e3e8ac47d6ae1a041540f59e6b": {
      "model_module": "@jupyter-widgets/base",
      "model_module_version": "1.0.0",
      "model_name": "LayoutModel",
      "state": {}
     },
     "81a1d24e817e4c4fa2853c7cb3f2cabc": {
      "model_module": "@jupyter-widgets/controls",
      "model_module_version": "1.1.0",
      "model_name": "DropdownModel",
      "state": {
       "_options_labels": [
        "-",
        "5",
        "6",
        "7",
        "8",
        "9",
        "10"
       ],
       "description": "Tail:",
       "index": 0,
       "layout": "IPY_MODEL_1cae5d95f7c7417a8fc26a7a03f1bf8b",
       "style": "IPY_MODEL_4b8b870bd33d4d7eb2062f4b82ac9fdd"
      }
     },
     "81a2729e0af54075ab71b6b3c6428fa1": {
      "model_module": "@jupyter-widgets/base",
      "model_module_version": "1.0.0",
      "model_name": "LayoutModel",
      "state": {}
     },
     "81a7ab1e43524cd48fbfe9b134dac769": {
      "model_module": "@jupyter-widgets/controls",
      "model_module_version": "1.1.0",
      "model_name": "VBoxModel",
      "state": {
       "children": [
        "IPY_MODEL_58fa814d45094986b4d98277953bf429",
        "IPY_MODEL_1e4cee9b5b3f464fac7faea7b09d8789",
        "IPY_MODEL_8ef98b75a7874334bc3bdebc91130739",
        "IPY_MODEL_3dae5d524fa549b2864c5e39ba6f2d1a"
       ],
       "layout": "IPY_MODEL_e220d81064f345d28fa8aa6e56e1c8ef"
      }
     },
     "81b53a9f23644d2a8a7eaa38d66b6785": {
      "model_module": "@jupyter-widgets/base",
      "model_module_version": "1.0.0",
      "model_name": "LayoutModel",
      "state": {}
     },
     "81c741b7df4545b7b02aa778648df3f4": {
      "model_module": "@jupyter-widgets/output",
      "model_module_version": "1.0.0",
      "model_name": "OutputModel",
      "state": {
       "layout": "IPY_MODEL_d7037094a79a4532bb700988643adbaa"
      }
     },
     "81d0ae1c156b4fb3b952d9bae5035ae6": {
      "model_module": "@jupyter-widgets/controls",
      "model_module_version": "1.1.0",
      "model_name": "DescriptionStyleModel",
      "state": {
       "description_width": ""
      }
     },
     "823c78625dca4286bd43b1ecf651cf4e": {
      "model_module": "@jupyter-widgets/base",
      "model_module_version": "1.0.0",
      "model_name": "LayoutModel",
      "state": {}
     },
     "823f006e17cc4828af49aaf5b365f0d9": {
      "model_module": "@jupyter-widgets/controls",
      "model_module_version": "1.1.0",
      "model_name": "SelectMultipleModel",
      "state": {
       "_options_labels": [
        "Price",
        "Year",
        "Mileage"
       ],
       "description": "Filter by",
       "index": [],
       "layout": "IPY_MODEL_d9b1744adb05487ca4faa52381132c79",
       "rows": 3,
       "style": "IPY_MODEL_ec2190ae20ea4a1eb6511a360bd3c59d"
      }
     },
     "82649e04403a44db851c224b2f48b999": {
      "model_module": "@jupyter-widgets/controls",
      "model_module_version": "1.1.0",
      "model_name": "ToggleButtonsModel",
      "state": {
       "_options_labels": [
        "Head",
        "Random",
        "Sample"
       ],
       "button_style": "",
       "description": "View Method:",
       "icons": [],
       "index": 0,
       "layout": "IPY_MODEL_734b37f807774734b5a72816d3c219b6",
       "style": "IPY_MODEL_c38d97f4c11d44dc970e0c15d08ab5f8",
       "tooltips": [
        "Description of slow",
        "Description of regular",
        "Description of fast"
       ]
      }
     },
     "82740905d0884af5814b4de1b21adeac": {
      "model_module": "@jupyter-widgets/base",
      "model_module_version": "1.0.0",
      "model_name": "LayoutModel",
      "state": {}
     },
     "829898b6bdf94059a03431d87a38b928": {
      "model_module": "@jupyter-widgets/controls",
      "model_module_version": "1.1.0",
      "model_name": "DescriptionStyleModel",
      "state": {
       "description_width": ""
      }
     },
     "82bf8602cad94d9f9e3399a658e55e44": {
      "model_module": "@jupyter-widgets/controls",
      "model_module_version": "1.1.0",
      "model_name": "VBoxModel",
      "state": {
       "children": [
        "IPY_MODEL_831df99cb80f42509bfd80b14bc2c826",
        "IPY_MODEL_75a030c16a85418696508cac626f3cf9"
       ],
       "layout": "IPY_MODEL_14bfde8a205e4cbaadd4cb475c87a09d"
      }
     },
     "82f0e8b81bf9476b9d2902a07cc4aef0": {
      "model_module": "@jupyter-widgets/base",
      "model_module_version": "1.0.0",
      "model_name": "LayoutModel",
      "state": {}
     },
     "83069f7afbd34bf68a72609831b7dc6b": {
      "model_module": "@jupyter-widgets/controls",
      "model_module_version": "1.1.0",
      "model_name": "DescriptionStyleModel",
      "state": {
       "description_width": ""
      }
     },
     "830f1d6e4fd24bd6b4fd7e325e3d38bc": {
      "model_module": "@jupyter-widgets/base",
      "model_module_version": "1.0.0",
      "model_name": "LayoutModel",
      "state": {}
     },
     "831df99cb80f42509bfd80b14bc2c826": {
      "model_module": "@jupyter-widgets/controls",
      "model_module_version": "1.1.0",
      "model_name": "HBoxModel",
      "state": {
       "children": [
        "IPY_MODEL_b2fbfc362ffd4a8885e4e51f93b708f9",
        "IPY_MODEL_cc6ac6d39b2544ba86b3a374d8b7618b",
        "IPY_MODEL_41cb1c29f7e746c1b87660f3dbdf58cb",
        "IPY_MODEL_63d37d4b3ea34dc7abec43ff3c6fe3f3"
       ],
       "layout": "IPY_MODEL_64c9deb6ddec4f799dce9c8f0ce8c5b8"
      }
     },
     "833d249060ce44658b89fc99f4354e88": {
      "model_module": "@jupyter-widgets/controls",
      "model_module_version": "1.1.0",
      "model_name": "HTMLModel",
      "state": {
       "description": "Sample CSV:",
       "layout": "IPY_MODEL_34fb07ca56c94b739f3721cac2060be5",
       "placeholder": "",
       "style": "IPY_MODEL_658cb2d16e95480b94c0bfe6ec8f11e7",
       "value": "<i><b>kereta</b><i>"
      }
     },
     "835a523124004e6ab511a6b213733f5a": {
      "model_module": "@jupyter-widgets/base",
      "model_module_version": "1.0.0",
      "model_name": "LayoutModel",
      "state": {}
     },
     "839e9e92a0d9436a81a0ddaddf4b2215": {
      "model_module": "@jupyter-widgets/controls",
      "model_module_version": "1.1.0",
      "model_name": "HTMLModel",
      "state": {
       "description": "Sample Link:",
       "layout": "IPY_MODEL_5d4c2d4edf4b4239986b0f7945cbac96",
       "placeholder": "",
       "style": "IPY_MODEL_c25a379f075c4272ae7be8a5efd2d8bd",
       "value": "<i><b>https://www.mudah.my/malaysia/cars-for-sale?o=1&q=&th=1</b><i>"
      }
     },
     "839f2b3664ae4660acd7a11d47418d69": {
      "model_module": "@jupyter-widgets/controls",
      "model_module_version": "1.1.0",
      "model_name": "TextModel",
      "state": {
       "description": "Folder Path:",
       "layout": "IPY_MODEL_592b9c7e654c4d1283d965679a22c206",
       "placeholder": "Upload cleaned dataset",
       "style": "IPY_MODEL_e632bfda6f454887b03fa2883a84b4fc"
      }
     },
     "83b016b314b2494581ea6b311bfd7b78": {
      "model_module": "@jupyter-widgets/controls",
      "model_module_version": "1.1.0",
      "model_name": "TextModel",
      "state": {
       "description": "Link:",
       "layout": "IPY_MODEL_353667e8dd5c48808a31223d986515d1",
       "placeholder": "Paste your mudah.my link here",
       "style": "IPY_MODEL_994fb99d65d840708a638bb082c54364"
      }
     },
     "841c7a447a38402aaeffa8487a4d5cf8": {
      "model_module": "@jupyter-widgets/output",
      "model_module_version": "1.0.0",
      "model_name": "OutputModel",
      "state": {
       "layout": "IPY_MODEL_c77417e495854db59972459a8851ce07"
      }
     },
     "84aa3f487d514f4bbfb8f636f7dd9f3f": {
      "model_module": "@jupyter-widgets/controls",
      "model_module_version": "1.1.0",
      "model_name": "SelectMultipleModel",
      "state": {
       "_options_labels": [
        "Apples",
        "Oranges",
        "Pears",
        "Apples",
        "Oranges",
        "Pears"
       ],
       "description": "Fruits",
       "index": [
        2
       ],
       "layout": "IPY_MODEL_eb64524e7bf94efa8be09d39348130d2",
       "rows": 6,
       "style": "IPY_MODEL_1d68ac9ddc0c495a8a65c87302098c17"
      }
     },
     "84c2da3fc15f425cb3b5de063ce67512": {
      "model_module": "@jupyter-widgets/controls",
      "model_module_version": "1.1.0",
      "model_name": "TabModel",
      "state": {
       "_titles": {
        "0": "Extaction",
        "1": "S"
       },
       "children": [
        "IPY_MODEL_8a2e4afc89e0487083b329462844557e",
        "IPY_MODEL_430a70ad1cc94581a312e49bb97db607"
       ],
       "layout": "IPY_MODEL_c94cf7890706421d9cf3df96fce2e7cb"
      }
     },
     "84f0a864d5d04becab5faca83fccdcb2": {
      "model_module": "@jupyter-widgets/base",
      "model_module_version": "1.0.0",
      "model_name": "LayoutModel",
      "state": {}
     },
     "84f4c954684847748458ae1996c6426f": {
      "model_module": "@jupyter-widgets/base",
      "model_module_version": "1.0.0",
      "model_name": "LayoutModel",
      "state": {}
     },
     "851d16908b874391b58f685baced73ee": {
      "model_module": "@jupyter-widgets/base",
      "model_module_version": "1.0.0",
      "model_name": "LayoutModel",
      "state": {}
     },
     "8550bfbc91a84439967293af5a6e343f": {
      "model_module": "@jupyter-widgets/base",
      "model_module_version": "1.0.0",
      "model_name": "LayoutModel",
      "state": {}
     },
     "857b502b655d4879b2ac9bfd6c1393d0": {
      "model_module": "@jupyter-widgets/controls",
      "model_module_version": "1.1.0",
      "model_name": "DescriptionStyleModel",
      "state": {
       "description_width": ""
      }
     },
     "8589e42bc33c4fd2b0c6b8b9b929bc69": {
      "model_module": "@jupyter-widgets/base",
      "model_module_version": "1.0.0",
      "model_name": "LayoutModel",
      "state": {}
     },
     "85a286c743ac4d668e437f9a68e4cde4": {
      "model_module": "@jupyter-widgets/base",
      "model_module_version": "1.0.0",
      "model_name": "LayoutModel",
      "state": {}
     },
     "85c75eca093844b6bbe3b36efa041b52": {
      "model_module": "@jupyter-widgets/base",
      "model_module_version": "1.0.0",
      "model_name": "LayoutModel",
      "state": {}
     },
     "86200dede2b74acbb92450249fc83d90": {
      "model_module": "@jupyter-widgets/controls",
      "model_module_version": "1.1.0",
      "model_name": "VBoxModel",
      "state": {
       "children": [
        "IPY_MODEL_9192dd0e71d449b5804bf29a1ee87ba1",
        "IPY_MODEL_d1940aec8b164bddb1ad261f0111111e"
       ],
       "layout": "IPY_MODEL_c0145027c8f242d2ab8c77197feeb090"
      }
     },
     "8631cb320bf64ec9a0d7c874b7b5457e": {
      "model_module": "@jupyter-widgets/controls",
      "model_module_version": "1.1.0",
      "model_name": "ButtonStyleModel",
      "state": {
       "button_color": "orange"
      }
     },
     "8639252861b84754bb257fef0dcbb034": {
      "model_module": "@jupyter-widgets/base",
      "model_module_version": "1.0.0",
      "model_name": "LayoutModel",
      "state": {}
     },
     "8643cc37b5e342f880ed7d216ad979db": {
      "model_module": "@jupyter-widgets/base",
      "model_module_version": "1.0.0",
      "model_name": "LayoutModel",
      "state": {}
     },
     "86821840d82c441b9f1505332c48dd25": {
      "model_module": "@jupyter-widgets/base",
      "model_module_version": "1.0.0",
      "model_name": "LayoutModel",
      "state": {}
     },
     "86fe2025cab84813aad1aafea34c2a38": {
      "model_module": "@jupyter-widgets/base",
      "model_module_version": "1.0.0",
      "model_name": "LayoutModel",
      "state": {}
     },
     "87319d8cc25c461ea4d0d372d8eb15a8": {
      "model_module": "@jupyter-widgets/base",
      "model_module_version": "1.0.0",
      "model_name": "LayoutModel",
      "state": {}
     },
     "87339b7a13fd4814ad85757297ef24f9": {
      "model_module": "@jupyter-widgets/controls",
      "model_module_version": "1.1.0",
      "model_name": "TextModel",
      "state": {
       "description": "CSV file:",
       "layout": "IPY_MODEL_dd6068bcfd2b4b309d9546a6bbb8044e",
       "placeholder": "Name of cleaned csv file",
       "style": "IPY_MODEL_0d1ba5a8a8cf4d12b7bb810bc176b8a0"
      }
     },
     "874f34bdb6b0458bb52accc9e2c7a57b": {
      "model_module": "@jupyter-widgets/controls",
      "model_module_version": "1.1.0",
      "model_name": "VBoxModel",
      "state": {
       "children": [
        "IPY_MODEL_dd9b7f39192447f7881258943d2426a5",
        "IPY_MODEL_9192dd0e71d449b5804bf29a1ee87ba1"
       ],
       "layout": "IPY_MODEL_242c34b0f608470282166454bfb38131"
      }
     },
     "87c1ab9651fd420a8ac674f6da84c3f9": {
      "model_module": "@jupyter-widgets/controls",
      "model_module_version": "1.1.0",
      "model_name": "ButtonModel",
      "state": {
       "description": "PCA!",
       "icon": "check",
       "layout": "IPY_MODEL_6e47a7d8702949219b036079f64b3640",
       "style": "IPY_MODEL_0b4477e16c8e453696a6409cbc235ab7",
       "tooltip": "Click me"
      }
     },
     "87d72dd66f874cd587630e1a63fd0584": {
      "model_module": "@jupyter-widgets/controls",
      "model_module_version": "1.1.0",
      "model_name": "ButtonModel",
      "state": {
       "description": "PCA!",
       "icon": "check",
       "layout": "IPY_MODEL_663082cce2744c25ae2ebebf113a4c63",
       "style": "IPY_MODEL_f09eb6e2eedb4805a68c349cc4b4f48a",
       "tooltip": "Click me"
      }
     },
     "88031e77dd994353b04f77bf42357df0": {
      "model_module": "@jupyter-widgets/controls",
      "model_module_version": "1.1.0",
      "model_name": "VBoxModel",
      "state": {
       "children": [
        "IPY_MODEL_bc8301d0bf33459ea8378859e8bb8a4a",
        "IPY_MODEL_2fde17e0749d498091477f098fff94ae"
       ],
       "layout": "IPY_MODEL_31feb2bba91d4b5f91727fafdb20e65b"
      }
     },
     "880840b32d0f428f8a95174157a9e793": {
      "model_module": "@jupyter-widgets/base",
      "model_module_version": "1.0.0",
      "model_name": "LayoutModel",
      "state": {}
     },
     "8818af4869314ec893af70b92f61abdf": {
      "model_module": "@jupyter-widgets/base",
      "model_module_version": "1.0.0",
      "model_name": "LayoutModel",
      "state": {}
     },
     "886497f330194ba7955dcc2cface3f76": {
      "model_module": "@jupyter-widgets/controls",
      "model_module_version": "1.1.0",
      "model_name": "AccordionModel",
      "state": {
       "_titles": {
        "0": "Link",
        "1": "Save",
        "2": "Scrap"
       },
       "children": [
        "IPY_MODEL_bbe6e5f0d003414191693cad46aabe3f",
        "IPY_MODEL_cd45d438a2a84a2cb8b4f7cc112b5b42",
        "IPY_MODEL_f85ba48888c247e5801502d64aa266dc"
       ],
       "layout": "IPY_MODEL_67f8d648b0944420b4313818267fb029",
       "selected_index": null
      }
     },
     "8873618962ea423aa5e2963eccf41a1c": {
      "model_module": "@jupyter-widgets/base",
      "model_module_version": "1.0.0",
      "model_name": "LayoutModel",
      "state": {}
     },
     "889a39d52e40475cbdfb6eb99e440453": {
      "model_module": "@jupyter-widgets/controls",
      "model_module_version": "1.1.0",
      "model_name": "HTMLModel",
      "state": {
       "description": "Sample CSV:",
       "layout": "IPY_MODEL_547073348fdc4928ad794102d734c817",
       "placeholder": "",
       "style": "IPY_MODEL_0e6c7338f70e44378882604da0561cc2",
       "value": "<i><b>kereta</b><i>"
      }
     },
     "88bcc3471da64cdd92aa007e74a0bf70": {
      "model_module": "@jupyter-widgets/controls",
      "model_module_version": "1.1.0",
      "model_name": "DescriptionStyleModel",
      "state": {
       "description_width": ""
      }
     },
     "88c392f67cdd435e9425e9765dcd1fb3": {
      "model_module": "@jupyter-widgets/controls",
      "model_module_version": "1.1.0",
      "model_name": "ButtonModel",
      "state": {
       "description": "Boxplot",
       "icon": "check",
       "layout": "IPY_MODEL_f6cae69f30794a948e3610f643671eb2",
       "style": "IPY_MODEL_eb7224388b2d453ca498c0a51e6cb72b",
       "tooltip": "Click me"
      }
     },
     "8907c992265748a2997910fddcfd2b56": {
      "model_module": "@jupyter-widgets/controls",
      "model_module_version": "1.1.0",
      "model_name": "ButtonModel",
      "state": {
       "description": "Click Me",
       "icon": "check",
       "layout": "IPY_MODEL_cee91310aeec40b8bcfcb70635a77e99",
       "style": "IPY_MODEL_a361f4f3bd9849e593f6d7d10ee4fb37",
       "tooltip": "Click me"
      }
     },
     "8924a79eefe749779dacba834154dd26": {
      "model_module": "@jupyter-widgets/base",
      "model_module_version": "1.0.0",
      "model_name": "LayoutModel",
      "state": {}
     },
     "892d5dbb0ba840db875e0197f8ed42b3": {
      "model_module": "@jupyter-widgets/controls",
      "model_module_version": "1.1.0",
      "model_name": "DescriptionStyleModel",
      "state": {
       "description_width": ""
      }
     },
     "89984f0a771e4386b75160a58099fd5e": {
      "model_module": "@jupyter-widgets/base",
      "model_module_version": "1.0.0",
      "model_name": "LayoutModel",
      "state": {}
     },
     "89c374a37af34424bc95d90cb592eec9": {
      "model_module": "@jupyter-widgets/base",
      "model_module_version": "1.0.0",
      "model_name": "LayoutModel",
      "state": {}
     },
     "89cf626983d648a6994733024e52b0b7": {
      "model_module": "@jupyter-widgets/controls",
      "model_module_version": "1.1.0",
      "model_name": "ButtonStyleModel",
      "state": {
       "button_color": "orange"
      }
     },
     "89e809b29b76402aa2444860406c30fb": {
      "model_module": "@jupyter-widgets/controls",
      "model_module_version": "1.1.0",
      "model_name": "AccordionModel",
      "state": {
       "_titles": {
        "0": "Upload",
        "1": "View"
       },
       "children": [
        "IPY_MODEL_2af56d85b032406ba2bc037def1e9520",
        "IPY_MODEL_6488abedbed04f04ba371d41ee4b3b56"
       ],
       "layout": "IPY_MODEL_09bcf65a9e8f4ca687f659e2971335dd"
      }
     },
     "8a2e4afc89e0487083b329462844557e": {
      "model_module": "@jupyter-widgets/controls",
      "model_module_version": "1.1.0",
      "model_name": "AccordionModel",
      "state": {
       "_titles": {
        "0": "Link",
        "1": "Save",
        "2": "Scrap"
       },
       "children": [
        "IPY_MODEL_af3178c8d8d64b148b2a58881735c0e7",
        "IPY_MODEL_0afa2f7fc84e4c5c8855cbd0d12d6088",
        "IPY_MODEL_1ced1c919f404392be64e810291c9a1e"
       ],
       "layout": "IPY_MODEL_131e5d2a3ccb4b169e8118fa73f4bc69",
       "selected_index": null
      }
     },
     "8aa2df8156874a63a7ecc28589cd982b": {
      "model_module": "@jupyter-widgets/base",
      "model_module_version": "1.0.0",
      "model_name": "LayoutModel",
      "state": {}
     },
     "8aa82af8c7ae47f5bc9817f490708278": {
      "model_module": "@jupyter-widgets/base",
      "model_module_version": "1.0.0",
      "model_name": "LayoutModel",
      "state": {}
     },
     "8ab0381f3af2470eb0fd41ee422f94ba": {
      "model_module": "@jupyter-widgets/base",
      "model_module_version": "1.0.0",
      "model_name": "LayoutModel",
      "state": {}
     },
     "8afb69e5f6054d4da2e80b52df9bf94b": {
      "model_module": "@jupyter-widgets/base",
      "model_module_version": "1.0.0",
      "model_name": "LayoutModel",
      "state": {}
     },
     "8b2227a35d43436292f64a3e6b2b3de6": {
      "model_module": "@jupyter-widgets/base",
      "model_module_version": "1.0.0",
      "model_name": "LayoutModel",
      "state": {}
     },
     "8b48d3e2388344d6926c79b30e3d26b1": {
      "model_module": "@jupyter-widgets/controls",
      "model_module_version": "1.1.0",
      "model_name": "ToggleButtonsModel",
      "state": {
       "_options_labels": [
        "Head",
        "Random",
        "Sample"
       ],
       "button_style": "",
       "description": "View Method:",
       "icons": [],
       "index": 0,
       "layout": "IPY_MODEL_7ee5c28297a44ee986a1dbc289cc623d",
       "style": "IPY_MODEL_d0c6a75d6899449e86a34d540ff3e901",
       "tooltips": []
      }
     },
     "8b70299e2e874efb9eb29ff1ca7ec117": {
      "model_module": "@jupyter-widgets/controls",
      "model_module_version": "1.1.0",
      "model_name": "DescriptionStyleModel",
      "state": {
       "description_width": ""
      }
     },
     "8b99463da8ce4fd898bad221cf982610": {
      "model_module": "@jupyter-widgets/controls",
      "model_module_version": "1.1.0",
      "model_name": "ButtonStyleModel",
      "state": {}
     },
     "8baeaada6adf46f98c30e1a6a377cf8c": {
      "model_module": "@jupyter-widgets/base",
      "model_module_version": "1.0.0",
      "model_name": "LayoutModel",
      "state": {}
     },
     "8bb615ad19cb4feab11de680bc214b45": {
      "model_module": "@jupyter-widgets/base",
      "model_module_version": "1.0.0",
      "model_name": "LayoutModel",
      "state": {}
     },
     "8bc3175d64254a74a9684877edd9b087": {
      "model_module": "@jupyter-widgets/controls",
      "model_module_version": "1.1.0",
      "model_name": "VBoxModel",
      "state": {
       "children": [
        "IPY_MODEL_291438f326054acdaa45f5badf672dc0",
        "IPY_MODEL_74f656a1e974496e86d2af3e71dae701"
       ],
       "layout": "IPY_MODEL_1f7c46d946ab47d3984debd2fe52ee04"
      }
     },
     "8bed664f009340e08d9ae4db20756623": {
      "model_module": "@jupyter-widgets/base",
      "model_module_version": "1.0.0",
      "model_name": "LayoutModel",
      "state": {}
     },
     "8bf99b4318b14bfcb6afad0c98946b64": {
      "model_module": "@jupyter-widgets/base",
      "model_module_version": "1.0.0",
      "model_name": "LayoutModel",
      "state": {}
     },
     "8c2cd2d0e88140c79cdf501cd0a94222": {
      "model_module": "@jupyter-widgets/controls",
      "model_module_version": "1.1.0",
      "model_name": "DescriptionStyleModel",
      "state": {
       "description_width": ""
      }
     },
     "8c5dd8f9c13947f2bbd236dcebccfccb": {
      "model_module": "@jupyter-widgets/base",
      "model_module_version": "1.0.0",
      "model_name": "LayoutModel",
      "state": {}
     },
     "8c91ef7b1cf040679326aa1511eff8f8": {
      "model_module": "@jupyter-widgets/controls",
      "model_module_version": "1.1.0",
      "model_name": "ButtonModel",
      "state": {
       "description": "Potential Scams!!",
       "icon": "check",
       "layout": "IPY_MODEL_780c58ce8eca42f498b199740d5a8c35",
       "style": "IPY_MODEL_74f7cfc2feae472fafd6665415d1f471",
       "tooltip": "Click me"
      }
     },
     "8c9cee279b824601b8e0255bd23b8549": {
      "model_module": "@jupyter-widgets/controls",
      "model_module_version": "1.1.0",
      "model_name": "HTMLModel",
      "state": {
       "description": "Sample Folder Path:",
       "layout": "IPY_MODEL_3f3f0289597a4e20a359fbd2bb43e7e5",
       "placeholder": "",
       "style": "IPY_MODEL_829898b6bdf94059a03431d87a38b928",
       "value": "<i><b>C:\\Users\\LENOVO\\Documents</b><i>"
      }
     },
     "8cd8e9b82fa74fa4b29be97755541af0": {
      "model_module": "@jupyter-widgets/controls",
      "model_module_version": "1.1.0",
      "model_name": "DescriptionStyleModel",
      "state": {
       "description_width": ""
      }
     },
     "8cdc4f49d7e64bbc85217e724109427b": {
      "model_module": "@jupyter-widgets/controls",
      "model_module_version": "1.1.0",
      "model_name": "ButtonModel",
      "state": {
       "description": "Apply PCA!",
       "icon": "check",
       "layout": "IPY_MODEL_4c84254347da48d4b19916eb9989769c",
       "style": "IPY_MODEL_5126e62c96b24a6bb3a94e0bb27d75cf",
       "tooltip": "Click me"
      }
     },
     "8cdcb2499d314a0394d54ca4717cb95a": {
      "model_module": "@jupyter-widgets/base",
      "model_module_version": "1.0.0",
      "model_name": "LayoutModel",
      "state": {}
     },
     "8d177eee05dc478f92c66698d8612381": {
      "model_module": "@jupyter-widgets/controls",
      "model_module_version": "1.1.0",
      "model_name": "HTMLModel",
      "state": {
       "description": "Sample Path:",
       "layout": "IPY_MODEL_5eb97566ba104402b4ef6c46a8fd53fc",
       "placeholder": "",
       "style": "IPY_MODEL_80fc08c3812243dcacdfd26231f62a22",
       "value": "<i><b>C:\\Users\\LENOVO\\Documents</b><i>"
      }
     },
     "8d2db062f7164e82846ecc56dd135569": {
      "model_module": "@jupyter-widgets/base",
      "model_module_version": "1.0.0",
      "model_name": "LayoutModel",
      "state": {}
     },
     "8d34dc81628e4ff195faec9e1f734194": {
      "model_module": "@jupyter-widgets/controls",
      "model_module_version": "1.1.0",
      "model_name": "VBoxModel",
      "state": {
       "children": [
        "IPY_MODEL_e2c44ebdb5604ba4a170c4c22e6b6e42"
       ],
       "layout": "IPY_MODEL_6c6b3b4e8a32457c8515e9708dc4f0c2"
      }
     },
     "8d3db53426af44d5a41a6ca008531934": {
      "model_module": "@jupyter-widgets/controls",
      "model_module_version": "1.1.0",
      "model_name": "DescriptionStyleModel",
      "state": {
       "description_width": ""
      }
     },
     "8d7e317e42274a649b3141d821d58148": {
      "model_module": "@jupyter-widgets/controls",
      "model_module_version": "1.1.0",
      "model_name": "ButtonModel",
      "state": {
       "description": "Boxplot",
       "icon": "check",
       "layout": "IPY_MODEL_6dee5288b9064f85b228551c0be6c0c8",
       "style": "IPY_MODEL_ee0f9143b1cd42b5849a28c316c75556",
       "tooltip": "Click me"
      }
     },
     "8ddd2b0250e54823a0ea021eb029fded": {
      "model_module": "@jupyter-widgets/base",
      "model_module_version": "1.0.0",
      "model_name": "LayoutModel",
      "state": {}
     },
     "8de17cabfba44da4bc742a27113961a1": {
      "model_module": "@jupyter-widgets/base",
      "model_module_version": "1.0.0",
      "model_name": "LayoutModel",
      "state": {}
     },
     "8dfd0508c78d4f5db0ac1d7b452eda1a": {
      "model_module": "@jupyter-widgets/controls",
      "model_module_version": "1.1.0",
      "model_name": "ButtonModel",
      "state": {
       "description": "Potential Scams!!",
       "icon": "check",
       "layout": "IPY_MODEL_c4578dc89a094a94b833f23c73d8d789",
       "style": "IPY_MODEL_1bf8bee75d58464986fa5c1588cd86f4",
       "tooltip": "Click me"
      }
     },
     "8e01368b3ce14a8cb7160dab34b39bec": {
      "model_module": "@jupyter-widgets/controls",
      "model_module_version": "1.1.0",
      "model_name": "DescriptionStyleModel",
      "state": {
       "description_width": ""
      }
     },
     "8e093193d46c43d5a5c434a8ec7165d7": {
      "model_module": "@jupyter-widgets/base",
      "model_module_version": "1.0.0",
      "model_name": "LayoutModel",
      "state": {}
     },
     "8e233f242f634e04ba3d51138ed09a5d": {
      "model_module": "@jupyter-widgets/base",
      "model_module_version": "1.0.0",
      "model_name": "LayoutModel",
      "state": {}
     },
     "8e4cc1e19a364976805393af957bad0d": {
      "model_module": "@jupyter-widgets/controls",
      "model_module_version": "1.1.0",
      "model_name": "ButtonStyleModel",
      "state": {
       "button_color": "lightblue"
      }
     },
     "8e62db69dc3b4f289cf2752d60482f4c": {
      "model_module": "@jupyter-widgets/base",
      "model_module_version": "1.0.0",
      "model_name": "LayoutModel",
      "state": {}
     },
     "8e78a695535b44a0980905a945204815": {
      "model_module": "@jupyter-widgets/base",
      "model_module_version": "1.0.0",
      "model_name": "LayoutModel",
      "state": {}
     },
     "8eaabd5d09094966ab0fe8e8ac52d263": {
      "model_module": "@jupyter-widgets/controls",
      "model_module_version": "1.1.0",
      "model_name": "AccordionModel",
      "state": {
       "_titles": {
        "0": "Upload",
        "1": "View"
       },
       "children": [
        "IPY_MODEL_5dbdda47d6494532a7702afdc6310103",
        "IPY_MODEL_9b495fa501e14d21b73faa92d754e717"
       ],
       "layout": "IPY_MODEL_2ae372bef4dd422f82d6b6a202b1be3c"
      }
     },
     "8ebeede552c349998883a5a760ab788c": {
      "model_module": "@jupyter-widgets/controls",
      "model_module_version": "1.1.0",
      "model_name": "VBoxModel",
      "state": {
       "children": [
        "IPY_MODEL_7e1d8f7890df4274b98bacb272b509a6",
        "IPY_MODEL_a14393fad7b2403b8bcfa2bc05dd871f",
        "IPY_MODEL_9bf228bf8f224054b5229c5948b3887a",
        "IPY_MODEL_6b0334928f83471bb0c142840974d252"
       ],
       "layout": "IPY_MODEL_c3e14ac2a4674e5faeeeb150ec24c546"
      }
     },
     "8ed5e90e80e641ea80f7126da2476e3e": {
      "model_module": "@jupyter-widgets/controls",
      "model_module_version": "1.1.0",
      "model_name": "ButtonStyleModel",
      "state": {
       "button_color": "lightgreen"
      }
     },
     "8ed9e2c2bdb64dbfa8697561bacb5f3c": {
      "model_module": "@jupyter-widgets/base",
      "model_module_version": "1.0.0",
      "model_name": "LayoutModel",
      "state": {}
     },
     "8eecbd5bf78b492dbacc2dbac315a9c1": {
      "model_module": "@jupyter-widgets/controls",
      "model_module_version": "1.1.0",
      "model_name": "VBoxModel",
      "state": {
       "children": [
        "IPY_MODEL_4ce2a7d18c0f497185f95c5cfe07adb8",
        "IPY_MODEL_0e852fdfa7ee435298197d7a6513f634",
        "IPY_MODEL_ce311ad62bf54aac845d5e09241dadbd",
        "IPY_MODEL_4801fad716bc436f87244e57f97d6df1"
       ],
       "layout": "IPY_MODEL_96b1aa1ca8f3486fb4ccf72744ebf4ee"
      }
     },
     "8ef390b2d92942dfa5c4edef9398f709": {
      "model_module": "@jupyter-widgets/controls",
      "model_module_version": "1.1.0",
      "model_name": "VBoxModel",
      "state": {
       "children": [
        "IPY_MODEL_eadd9737089643eca113f66e6e04869a",
        "IPY_MODEL_cac1fd7a3b704a24a975f2df29c49155",
        "IPY_MODEL_833d249060ce44658b89fc99f4354e88",
        "IPY_MODEL_6e47064755d84608ade5d0323b7799fa"
       ],
       "layout": "IPY_MODEL_63ef4ed9b2bb41a9b7e7527d50c3bff9"
      }
     },
     "8ef98b75a7874334bc3bdebc91130739": {
      "model_module": "@jupyter-widgets/controls",
      "model_module_version": "1.1.0",
      "model_name": "HTMLModel",
      "state": {
       "description": "Sample CSV:",
       "layout": "IPY_MODEL_7dea3d8ce9e345c499eea2b35793321c",
       "placeholder": "",
       "style": "IPY_MODEL_a282e09a73094da1af492d21e7587b80",
       "value": "<i><b>kereta</b><i>"
      }
     },
     "8f1ccdef41ef48c6bbf02a6c40669928": {
      "model_module": "@jupyter-widgets/controls",
      "model_module_version": "1.1.0",
      "model_name": "HTMLModel",
      "state": {
       "layout": "IPY_MODEL_25418aaab62d4ddc838a208b34077269",
       "placeholder": "",
       "style": "IPY_MODEL_5a3da707981149c08277ad8aba68065c",
       "value": "<b>Choose to view and compare by attributes<b>"
      }
     },
     "8f523e0619724d6da39f7fde67a9dbd4": {
      "model_module": "@jupyter-widgets/controls",
      "model_module_version": "1.1.0",
      "model_name": "ToggleButtonsModel",
      "state": {
       "_options_labels": [
        "Head",
        "Random",
        "Sample"
       ],
       "button_style": "",
       "description": "View Method:",
       "icons": [],
       "index": 0,
       "layout": "IPY_MODEL_9a366ed8c0b34de2bdbad6cd059b1fbe",
       "style": "IPY_MODEL_ffd357582ba041d4a6f291e157128c30",
       "tooltips": [
        "Description of slow",
        "Description of regular",
        "Description of fast"
       ]
      }
     },
     "8f970e952ebb436689867a958d80edd7": {
      "model_module": "@jupyter-widgets/base",
      "model_module_version": "1.0.0",
      "model_name": "LayoutModel",
      "state": {}
     },
     "8f974d4e31a849b88895209378e6aa5b": {
      "model_module": "@jupyter-widgets/controls",
      "model_module_version": "1.1.0",
      "model_name": "AccordionModel",
      "state": {
       "_titles": {
        "0": "Upload",
        "1": "View"
       },
       "children": [
        "IPY_MODEL_48ef4e4cc3c942f582789ac02881420b",
        "IPY_MODEL_1f6bda5a3c154a4b930787e490203d21"
       ],
       "layout": "IPY_MODEL_787d4b8df67b449da9948e4d6ffb625d",
       "selected_index": null
      }
     },
     "8fc177ba54064db7aa45bda4e3f79c33": {
      "model_module": "@jupyter-widgets/base",
      "model_module_version": "1.0.0",
      "model_name": "LayoutModel",
      "state": {}
     },
     "8fd24f1c5f8445c1844a33aa2a32f2c9": {
      "model_module": "@jupyter-widgets/controls",
      "model_module_version": "1.1.0",
      "model_name": "DescriptionStyleModel",
      "state": {
       "description_width": ""
      }
     },
     "8febf1bba490400eb4f2746bc270c4ea": {
      "model_module": "@jupyter-widgets/controls",
      "model_module_version": "1.1.0",
      "model_name": "HBoxModel",
      "state": {
       "children": [
        "IPY_MODEL_4c474dedac9b4b2c88a8e8cc7578e43a"
       ],
       "layout": "IPY_MODEL_823c78625dca4286bd43b1ecf651cf4e"
      }
     },
     "8fefb0b52ddb4d0c98dbd051e19e6d11": {
      "model_module": "@jupyter-widgets/base",
      "model_module_version": "1.0.0",
      "model_name": "LayoutModel",
      "state": {}
     },
     "9005478d61744d5bb01a1a31d83fac67": {
      "model_module": "@jupyter-widgets/controls",
      "model_module_version": "1.1.0",
      "model_name": "ButtonStyleModel",
      "state": {}
     },
     "9029b86c26404ad0ac106190e3c7d72e": {
      "model_module": "@jupyter-widgets/controls",
      "model_module_version": "1.1.0",
      "model_name": "ButtonModel",
      "state": {
       "description": "About Us",
       "layout": "IPY_MODEL_bbf1223846074a629d1d9fc90633eb53",
       "style": "IPY_MODEL_62f6495744824a5587b738761d384ecf"
      }
     },
     "904cafcf6f09400d9d425edd165411a0": {
      "model_module": "@jupyter-widgets/controls",
      "model_module_version": "1.1.0",
      "model_name": "VBoxModel",
      "state": {
       "children": [
        "IPY_MODEL_d1591a320d754f179124ef48f6eeb939",
        "IPY_MODEL_f608019651f6449997e5d65214986203"
       ],
       "layout": "IPY_MODEL_cc95ee849ee942de90d921ff2ab3570f"
      }
     },
     "905e3a7f0dba4867b2295303034d3732": {
      "model_module": "@jupyter-widgets/base",
      "model_module_version": "1.0.0",
      "model_name": "LayoutModel",
      "state": {}
     },
     "908f776206db443bbbd17906bd21079a": {
      "model_module": "@jupyter-widgets/controls",
      "model_module_version": "1.1.0",
      "model_name": "VBoxModel",
      "state": {
       "children": [
        "IPY_MODEL_a19472d2bf1c4ed781871ef76a20a01f",
        "IPY_MODEL_823f006e17cc4828af49aaf5b365f0d9"
       ],
       "layout": "IPY_MODEL_4784c116301346c48958cbd9b6e2a5c2"
      }
     },
     "9093bbc4608d482eb86349ec109c7906": {
      "model_module": "@jupyter-widgets/base",
      "model_module_version": "1.0.0",
      "model_name": "LayoutModel",
      "state": {}
     },
     "90c77cc1d60140e386052f4b6939d83c": {
      "model_module": "@jupyter-widgets/controls",
      "model_module_version": "1.1.0",
      "model_name": "ButtonStyleModel",
      "state": {
       "button_color": "lightyellow"
      }
     },
     "90d392422a4e4d6fb8efa2fa908a1b79": {
      "model_module": "@jupyter-widgets/controls",
      "model_module_version": "1.1.0",
      "model_name": "ButtonStyleModel",
      "state": {}
     },
     "911066084d6046b19dbd18543e4db6c4": {
      "model_module": "@jupyter-widgets/controls",
      "model_module_version": "1.1.0",
      "model_name": "AccordionModel",
      "state": {
       "_titles": {
        "0": "Method",
        "1": "Analysis",
        "2": "Result"
       },
       "children": [
        "IPY_MODEL_d622119115af405e9a1ec8c3d0a55b11",
        "IPY_MODEL_151e18ab47864636a1a5c1dc430ea8be",
        "IPY_MODEL_60825233fa3a4429afde052734fc88e4"
       ],
       "layout": "IPY_MODEL_62d9488ca35d4a99a3103a7aa1a258a2"
      }
     },
     "911ef437d99b454990b1385146f865fb": {
      "model_module": "@jupyter-widgets/base",
      "model_module_version": "1.0.0",
      "model_name": "LayoutModel",
      "state": {}
     },
     "9120bf53b8964b9c9f069cd8226fe906": {
      "model_module": "@jupyter-widgets/base",
      "model_module_version": "1.0.0",
      "model_name": "LayoutModel",
      "state": {}
     },
     "9128ebc960c64108a996bf13c63c3165": {
      "model_module": "@jupyter-widgets/controls",
      "model_module_version": "1.1.0",
      "model_name": "DescriptionStyleModel",
      "state": {
       "description_width": ""
      }
     },
     "912f2401bd3e450c9490d73542c26807": {
      "model_module": "@jupyter-widgets/controls",
      "model_module_version": "1.1.0",
      "model_name": "HBoxModel",
      "state": {
       "children": [
        "IPY_MODEL_16d09be3098848478be9002d125a237b",
        "IPY_MODEL_645b8d76641248b58984b8b1d1745d22"
       ],
       "layout": "IPY_MODEL_8589e42bc33c4fd2b0c6b8b9b929bc69"
      }
     },
     "9192dd0e71d449b5804bf29a1ee87ba1": {
      "model_module": "@jupyter-widgets/controls",
      "model_module_version": "1.1.0",
      "model_name": "HTMLModel",
      "state": {
       "layout": "IPY_MODEL_96e991f1d6b34ae588e47008f06b5180",
       "placeholder": "",
       "style": "IPY_MODEL_425ce6e027b8444d81b5c39c0e132c5f",
       "value": "Beware of <b>SCAMMER</b>, buy from the <b>TRUSTED<b> one"
      }
     },
     "91ccf868e684456aa02edd0c9e3afbed": {
      "model_module": "@jupyter-widgets/base",
      "model_module_version": "1.0.0",
      "model_name": "LayoutModel",
      "state": {}
     },
     "91dbdaa6ba34496b952ac0638a68d746": {
      "model_module": "@jupyter-widgets/controls",
      "model_module_version": "1.1.0",
      "model_name": "ButtonModel",
      "state": {
       "description": "PCA!",
       "icon": "check",
       "layout": "IPY_MODEL_109764530f2b4328b571557b9cc38a55",
       "style": "IPY_MODEL_c9f838f1a97f43c6964a2f86ec08ab29",
       "tooltip": "Click me"
      }
     },
     "920d8ade4745445f891a44fb0620bb62": {
      "model_module": "@jupyter-widgets/controls",
      "model_module_version": "1.1.0",
      "model_name": "VBoxModel",
      "state": {
       "children": [
        "IPY_MODEL_291438f326054acdaa45f5badf672dc0",
        "IPY_MODEL_74f656a1e974496e86d2af3e71dae701"
       ],
       "layout": "IPY_MODEL_7950c32f545f4928903567190c72cf2f"
      }
     },
     "9277baef46b24e66ae6079d3342126c8": {
      "model_module": "@jupyter-widgets/controls",
      "model_module_version": "1.1.0",
      "model_name": "VBoxModel",
      "state": {
       "children": [
        "IPY_MODEL_db5eaa7a0c66490aa37b63f36ee264c0",
        "IPY_MODEL_17cb28b44aca474f8b49243527ed1be9"
       ],
       "layout": "IPY_MODEL_cedd94bb1de74becb9ec2daa794de9b2"
      }
     },
     "92da60db72e944b59f5161ec86784da8": {
      "model_module": "@jupyter-widgets/controls",
      "model_module_version": "1.1.0",
      "model_name": "TabModel",
      "state": {
       "_titles": {
        "0": "1. Extaction",
        "1": "2. Data",
        "2": "3. Evaluation"
       },
       "children": [
        "IPY_MODEL_53faedbd1dcc425281549aceabc3443f",
        "IPY_MODEL_0da6203bdffb48909955e4dd9446a8ee",
        "IPY_MODEL_b1b8eb382fe542d28ea28545ba0bd21d"
       ],
       "layout": "IPY_MODEL_880840b32d0f428f8a95174157a9e793"
      }
     },
     "930002fd3a5c43c2be36f4617f87e93f": {
      "model_module": "@jupyter-widgets/base",
      "model_module_version": "1.0.0",
      "model_name": "LayoutModel",
      "state": {}
     },
     "9300b4798a804f9099d880699871af7a": {
      "model_module": "@jupyter-widgets/controls",
      "model_module_version": "1.1.0",
      "model_name": "ButtonStyleModel",
      "state": {
       "button_color": "lightgreen"
      }
     },
     "930955ec3a224052a7f4e63d9d3050b6": {
      "model_module": "@jupyter-widgets/controls",
      "model_module_version": "1.1.0",
      "model_name": "VBoxModel",
      "state": {
       "children": [
        "IPY_MODEL_70fdea4024b94bbbb93b9df31b9d7156",
        "IPY_MODEL_ba618063ccf343ef9738ec005d2fe4c2"
       ],
       "layout": "IPY_MODEL_643dc1cb471c406cba7ff55ed6bdf407"
      }
     },
     "93265decb7bb43a5adc40f735ebfad41": {
      "model_module": "@jupyter-widgets/base",
      "model_module_version": "1.0.0",
      "model_name": "LayoutModel",
      "state": {}
     },
     "936b7a70cf794629871ec09b5b537da4": {
      "model_module": "@jupyter-widgets/controls",
      "model_module_version": "1.1.0",
      "model_name": "AccordionModel",
      "state": {
       "_titles": {
        "0": "Scrap"
       },
       "children": [
        "IPY_MODEL_03b9fb887c924cc0a360235b61087dd1"
       ],
       "layout": "IPY_MODEL_340b7b3611304d57b8e49115ec11d7af"
      }
     },
     "93a4cf52b72a451799c79123d3c4201a": {
      "model_module": "@jupyter-widgets/base",
      "model_module_version": "1.0.0",
      "model_name": "LayoutModel",
      "state": {}
     },
     "93cdaeb096244856b6e486d37da4ff81": {
      "model_module": "@jupyter-widgets/controls",
      "model_module_version": "1.1.0",
      "model_name": "ImageModel",
      "state": {
       "height": "100",
       "layout": "IPY_MODEL_7da9b91a68c949b1957498bbc2f96e02",
       "value": {},
       "width": "100"
      }
     },
     "93ec4b32d0154c138a5d15ceed30c7e3": {
      "model_module": "@jupyter-widgets/base",
      "model_module_version": "1.0.0",
      "model_name": "LayoutModel",
      "state": {}
     },
     "9412a3f3745b44a2807e6779979746f3": {
      "model_module": "@jupyter-widgets/base",
      "model_module_version": "1.0.0",
      "model_name": "LayoutModel",
      "state": {}
     },
     "9415163214b34129a7aca3e686ff37e0": {
      "model_module": "@jupyter-widgets/base",
      "model_module_version": "1.0.0",
      "model_name": "LayoutModel",
      "state": {}
     },
     "9444b2ef7f7c4027b74a74d2608133b0": {
      "model_module": "@jupyter-widgets/controls",
      "model_module_version": "1.1.0",
      "model_name": "VBoxModel",
      "state": {
       "children": [
        "IPY_MODEL_7c1685e17807477086e9a7928a650b6b",
        "IPY_MODEL_bb6eeb672d404159b5025598ced30c6f"
       ],
       "layout": "IPY_MODEL_44d7489804364111b125e6539d0f1b37"
      }
     },
     "949640a351c14b4fa3fb057717d20d13": {
      "model_module": "@jupyter-widgets/base",
      "model_module_version": "1.0.0",
      "model_name": "LayoutModel",
      "state": {}
     },
     "94af8c9adc8b463b97a4fcaf0d316768": {
      "model_module": "@jupyter-widgets/base",
      "model_module_version": "1.0.0",
      "model_name": "LayoutModel",
      "state": {}
     },
     "94ba13e8d8d8448c9be65fecf75d522a": {
      "model_module": "@jupyter-widgets/controls",
      "model_module_version": "1.1.0",
      "model_name": "HTMLModel",
      "state": {
       "layout": "IPY_MODEL_f36330070d06419483c93f3b1d14f544",
       "placeholder": "",
       "style": "IPY_MODEL_f395de224c974250bc85eca8142acd2d",
       "value": "<b>Choose to view and compare by attributes<b>"
      }
     },
     "950ddea25c8a4d998bc7e6980d009b96": {
      "model_module": "@jupyter-widgets/controls",
      "model_module_version": "1.1.0",
      "model_name": "ButtonModel",
      "state": {
       "description": "Boxplot",
       "icon": "check",
       "layout": "IPY_MODEL_1c6293fa79404493b7f60d22ebaca048",
       "style": "IPY_MODEL_e4daf710153141f9af5066988a7e3282",
       "tooltip": "Click me"
      }
     },
     "9516026a49c548769d8f3438140e711a": {
      "model_module": "@jupyter-widgets/base",
      "model_module_version": "1.0.0",
      "model_name": "LayoutModel",
      "state": {}
     },
     "951ebf273eae46d9bb474826a52c552b": {
      "model_module": "@jupyter-widgets/controls",
      "model_module_version": "1.1.0",
      "model_name": "ButtonModel",
      "state": {
       "description": "Scrap Me",
       "layout": "IPY_MODEL_0aa43c740d0c47089b00f390ad6c1bde",
       "style": "IPY_MODEL_6cd9410e09f6431abfa8bd8a642c3b6d"
      }
     },
     "9576f7fe000e46e58bd58e8d79c5b614": {
      "model_module": "@jupyter-widgets/controls",
      "model_module_version": "1.1.0",
      "model_name": "DropdownModel",
      "state": {
       "_options_labels": [
        "5",
        "6",
        "7",
        "8",
        "9",
        "10"
       ],
       "description": "Random:",
       "index": 0,
       "layout": "IPY_MODEL_2503a9fd007741ba98505e762700029e",
       "style": "IPY_MODEL_6d172832e173423fb5be660c3c25af58"
      }
     },
     "95e4acf5415c4d198ca000ddaad1a5af": {
      "model_module": "@jupyter-widgets/controls",
      "model_module_version": "1.1.0",
      "model_name": "HBoxModel",
      "state": {
       "children": [
        "IPY_MODEL_0acaaf886cfd4ae1b8eff481f0974182",
        "IPY_MODEL_a8df6611c3064608b6468816ee57069b",
        "IPY_MODEL_f832d734df284dbf9d3bae6b4675154e"
       ],
       "layout": "IPY_MODEL_01d01a33604946fca81d745df750b065"
      }
     },
     "96334ef434bd4373961587bd645290ed": {
      "model_module": "@jupyter-widgets/controls",
      "model_module_version": "1.1.0",
      "model_name": "VBoxModel",
      "state": {
       "children": [
        "IPY_MODEL_640d8d37fff0484090663811c22acf6f",
        "IPY_MODEL_b3ee4496b7b34a38860dfa2f4669bb1d"
       ],
       "layout": "IPY_MODEL_e8079ce22d81405e8b573fe4d9bc340c"
      }
     },
     "964c0ecd7d6a4da59ccfac7958291870": {
      "model_module": "@jupyter-widgets/controls",
      "model_module_version": "1.1.0",
      "model_name": "VBoxModel",
      "state": {
       "children": [
        "IPY_MODEL_0d2661185cab4e6dba64dd14fbc6aa4e",
        "IPY_MODEL_58ff48c500c2401b9d02ce88e766eb9c"
       ],
       "layout": "IPY_MODEL_eaf8d28096384f6c8d5c3efc42bddb22"
      }
     },
     "96b1aa1ca8f3486fb4ccf72744ebf4ee": {
      "model_module": "@jupyter-widgets/base",
      "model_module_version": "1.0.0",
      "model_name": "LayoutModel",
      "state": {}
     },
     "96e991f1d6b34ae588e47008f06b5180": {
      "model_module": "@jupyter-widgets/base",
      "model_module_version": "1.0.0",
      "model_name": "LayoutModel",
      "state": {}
     },
     "9704bbaca84a487b8d126231a119accd": {
      "model_module": "@jupyter-widgets/base",
      "model_module_version": "1.0.0",
      "model_name": "LayoutModel",
      "state": {}
     },
     "970f93befb9241e28a9cb794d3590b7f": {
      "model_module": "@jupyter-widgets/controls",
      "model_module_version": "1.1.0",
      "model_name": "TextModel",
      "state": {
       "description": "Folder Path:",
       "layout": "IPY_MODEL_75b5e15819754ab3b3fd188883a48ac2",
       "placeholder": "Save Scraped Dataset",
       "style": "IPY_MODEL_cb14920bfe1241afaf5026dc143d7da1"
      }
     },
     "97400be8298d4ad999800c68dccdef0e": {
      "model_module": "@jupyter-widgets/controls",
      "model_module_version": "1.1.0",
      "model_name": "ButtonModel",
      "state": {
       "description": "Boxplot",
       "icon": "check",
       "layout": "IPY_MODEL_1ee5c6c6332b451d8417a32ea6393c52",
       "style": "IPY_MODEL_0f590219f3c945278d28c5419ee543f4",
       "tooltip": "Click me"
      }
     },
     "977ec1f7b6634e10b0ce6c9348662ba7": {
      "model_module": "@jupyter-widgets/controls",
      "model_module_version": "1.1.0",
      "model_name": "HBoxModel",
      "state": {
       "children": [
        "IPY_MODEL_0bdcfe497c3d4798935d890edba00ee0",
        "IPY_MODEL_dc9904bcbad4484caa39bb78884843c6",
        "IPY_MODEL_0337c8406c1546f0a65780f937e892c0"
       ],
       "layout": "IPY_MODEL_7a8c3d85a3ac4ac7b48c8fbadc848d59"
      }
     },
     "97801fd6946f4be082121649b85bab4b": {
      "model_module": "@jupyter-widgets/controls",
      "model_module_version": "1.1.0",
      "model_name": "ButtonStyleModel",
      "state": {
       "button_color": "orange"
      }
     },
     "978cb2932be448e08c5567178b0196f8": {
      "model_module": "@jupyter-widgets/controls",
      "model_module_version": "1.1.0",
      "model_name": "DescriptionStyleModel",
      "state": {
       "description_width": ""
      }
     },
     "9795d8c9f5314753a2febc7796400c4f": {
      "model_module": "@jupyter-widgets/controls",
      "model_module_version": "1.1.0",
      "model_name": "AccordionModel",
      "state": {
       "_titles": {
        "0": "Source",
        "1": "Save",
        "2": "Scrap"
       },
       "children": [
        "IPY_MODEL_437a73b913c6406b97dc7bf34c5580db",
        "IPY_MODEL_7bb623a4622242bcb17132c9b7b1977f",
        "IPY_MODEL_3d6cbd61afe44619ba9fe847ddabbee4"
       ],
       "layout": "IPY_MODEL_78db1ec0febc4bf6bab259bd38df3d3d"
      }
     },
     "97b3077e0e9542d9b12b58dff56220fa": {
      "model_module": "@jupyter-widgets/controls",
      "model_module_version": "1.1.0",
      "model_name": "VBoxModel",
      "state": {
       "children": [
        "IPY_MODEL_79ee03d5934b40a880c5956e85265db7",
        "IPY_MODEL_3de40c71b9f345bbb307efa1cd9b0bda"
       ],
       "layout": "IPY_MODEL_4d3e0c8e6fd04aa4b0aa55c18f245257"
      }
     },
     "97c7b5b9ad72474fad79cf7fd886c1c1": {
      "model_module": "@jupyter-widgets/base",
      "model_module_version": "1.0.0",
      "model_name": "LayoutModel",
      "state": {}
     },
     "983b178655534337ad46bf2196faaeb9": {
      "model_module": "@jupyter-widgets/controls",
      "model_module_version": "1.1.0",
      "model_name": "VBoxModel",
      "state": {
       "children": [
        "IPY_MODEL_3697ce1d511b47cd8dc36aaaa9ca6c4b",
        "IPY_MODEL_e66f59ad8efe4d5cbe6169cff9318aaf",
        "IPY_MODEL_5da487dd78814b65897d5e1b25c98ab9",
        "IPY_MODEL_e718f68ac4754c93b95d093ac4e91e3a"
       ],
       "layout": "IPY_MODEL_520d48f8a17f45aba8f4766036851b36"
      }
     },
     "9894c7dccc794e2695478133c4b02a7a": {
      "model_module": "@jupyter-widgets/controls",
      "model_module_version": "1.1.0",
      "model_name": "HTMLModel",
      "state": {
       "layout": "IPY_MODEL_9e340222e95f4decad82e42d5008e821",
       "placeholder": "",
       "style": "IPY_MODEL_308746c0ee7e43e3881a3f0d76907fb7",
       "value": "<b>Scammer Detector</b>"
      }
     },
     "98f431139bcd4a7ba732075e16744c0d": {
      "model_module": "@jupyter-widgets/base",
      "model_module_version": "1.0.0",
      "model_name": "LayoutModel",
      "state": {}
     },
     "98f7529d31154cfc8477634278914428": {
      "model_module": "@jupyter-widgets/base",
      "model_module_version": "1.0.0",
      "model_name": "LayoutModel",
      "state": {}
     },
     "9931031ea8244ce4b54608547e5368db": {
      "model_module": "@jupyter-widgets/controls",
      "model_module_version": "1.1.0",
      "model_name": "ButtonModel",
      "state": {
       "description": "Click me",
       "icon": "check",
       "layout": "IPY_MODEL_e6609b3a74804c1199ef7bff9051168a",
       "style": "IPY_MODEL_faf850037c834624a2c23eaa500fa8a8",
       "tooltip": "Click me"
      }
     },
     "993d5b66a08a4fdca68c6437b52d70a0": {
      "model_module": "@jupyter-widgets/base",
      "model_module_version": "1.0.0",
      "model_name": "LayoutModel",
      "state": {}
     },
     "994fb99d65d840708a638bb082c54364": {
      "model_module": "@jupyter-widgets/controls",
      "model_module_version": "1.1.0",
      "model_name": "DescriptionStyleModel",
      "state": {
       "description_width": ""
      }
     },
     "99672f1523f14a099136909d03149560": {
      "model_module": "@jupyter-widgets/controls",
      "model_module_version": "1.1.0",
      "model_name": "DescriptionStyleModel",
      "state": {
       "description_width": ""
      }
     },
     "99abf23ec7d7426f93c979a7453ab50b": {
      "model_module": "@jupyter-widgets/controls",
      "model_module_version": "1.1.0",
      "model_name": "VBoxModel",
      "state": {
       "children": [
        "IPY_MODEL_63a677de5ed4414b9c8ed59a555f539a",
        "IPY_MODEL_4390af64eb8c42a6b6e1e1662f8e209d"
       ],
       "layout": "IPY_MODEL_587e933ec1d240bcaccd63d6dadbb1ea"
      }
     },
     "99c62973b2b047b39142f198f1af328d": {
      "model_module": "@jupyter-widgets/controls",
      "model_module_version": "1.1.0",
      "model_name": "DescriptionStyleModel",
      "state": {
       "description_width": ""
      }
     },
     "9a366ed8c0b34de2bdbad6cd059b1fbe": {
      "model_module": "@jupyter-widgets/base",
      "model_module_version": "1.0.0",
      "model_name": "LayoutModel",
      "state": {}
     },
     "9a5a1233fc02427aace808f082c21c9d": {
      "model_module": "@jupyter-widgets/base",
      "model_module_version": "1.0.0",
      "model_name": "LayoutModel",
      "state": {}
     },
     "9a660147e96447ef841edeee50dd24a8": {
      "model_module": "@jupyter-widgets/base",
      "model_module_version": "1.0.0",
      "model_name": "LayoutModel",
      "state": {}
     },
     "9a6694242b4e4b3ab5b827662dd05f34": {
      "model_module": "@jupyter-widgets/controls",
      "model_module_version": "1.1.0",
      "model_name": "TabModel",
      "state": {
       "_titles": {
        "0": "1. Extaction",
        "1": "2. Data",
        "2": "3. Evaluation"
       },
       "children": [
        "IPY_MODEL_243f6bf741f543c08f930129587cb387",
        "IPY_MODEL_d2b7c14479cf4c71803c6fc6f448b3d1",
        "IPY_MODEL_5c20aa7a3a3844b4871d80ac830e9358"
       ],
       "layout": "IPY_MODEL_d135d62cec5b4318b2a280d1f7ad5cc2"
      }
     },
     "9a700f617be9478bbc16b53e57368bf1": {
      "model_module": "@jupyter-widgets/controls",
      "model_module_version": "1.1.0",
      "model_name": "VBoxModel",
      "state": {
       "children": [
        "IPY_MODEL_eb32d3513b40477fbc077243cb81f470",
        "IPY_MODEL_ff615ced92f3493c8a8a2795523f7c06"
       ],
       "layout": "IPY_MODEL_a562650c1cd54f4b9f387058299dccd7"
      }
     },
     "9a87c01726574cb38f1c89c470f32def": {
      "model_module": "@jupyter-widgets/base",
      "model_module_version": "1.0.0",
      "model_name": "LayoutModel",
      "state": {}
     },
     "9ac92aaf52a947d28cc67e9b25deb34c": {
      "model_module": "@jupyter-widgets/controls",
      "model_module_version": "1.1.0",
      "model_name": "DescriptionStyleModel",
      "state": {
       "description_width": ""
      }
     },
     "9b14006955664a49980750e7fe80a7e2": {
      "model_module": "@jupyter-widgets/controls",
      "model_module_version": "1.1.0",
      "model_name": "TextModel",
      "state": {
       "description": "Folder Path:",
       "layout": "IPY_MODEL_6514f4e9d41f4eb48fedde71758daf0b",
       "placeholder": "Paste folder path to save",
       "style": "IPY_MODEL_a89c7d4c050b46c5959a67caa0435a6a"
      }
     },
     "9b495fa501e14d21b73faa92d754e717": {
      "model_module": "@jupyter-widgets/controls",
      "model_module_version": "1.1.0",
      "model_name": "VBoxModel",
      "state": {
       "children": [
        "IPY_MODEL_0e82abddfa434d85ad96523c059852c0",
        "IPY_MODEL_0bb1a6005afc49619675a1f9ed43defa"
       ],
       "layout": "IPY_MODEL_a7ebf314ada34d37aca3909d2f42feb0"
      }
     },
     "9b5b4a539bd84addbcd5b5b444f10707": {
      "model_module": "@jupyter-widgets/base",
      "model_module_version": "1.0.0",
      "model_name": "LayoutModel",
      "state": {}
     },
     "9b7a43053f4b458aa975b62e64a09085": {
      "model_module": "@jupyter-widgets/controls",
      "model_module_version": "1.1.0",
      "model_name": "VBoxModel",
      "state": {
       "children": [
        "IPY_MODEL_400f16e6e2d346808d29e71234168258",
        "IPY_MODEL_9192dd0e71d449b5804bf29a1ee87ba1"
       ],
       "layout": "IPY_MODEL_03be5191062d44cd9615b56cf37b4336"
      }
     },
     "9b84b453ee0544c1a64d28fd88a67b75": {
      "model_module": "@jupyter-widgets/base",
      "model_module_version": "1.0.0",
      "model_name": "LayoutModel",
      "state": {}
     },
     "9bae1341166a4b4c84b48552e6a10942": {
      "model_module": "@jupyter-widgets/base",
      "model_module_version": "1.0.0",
      "model_name": "LayoutModel",
      "state": {}
     },
     "9be00890b0fd4071ab46e041bfe2d081": {
      "model_module": "@jupyter-widgets/controls",
      "model_module_version": "1.1.0",
      "model_name": "VBoxModel",
      "state": {
       "children": [
        "IPY_MODEL_19bf7d8f36ab405f933da298dd9def5b",
        "IPY_MODEL_01909ee818e84da5a552ceeead9185fc"
       ],
       "layout": "IPY_MODEL_86fe2025cab84813aad1aafea34c2a38"
      }
     },
     "9be4ba4a74684085a0bf4296229f5937": {
      "model_module": "@jupyter-widgets/base",
      "model_module_version": "1.0.0",
      "model_name": "LayoutModel",
      "state": {}
     },
     "9bebc494103e4cf5871fc91b988e8b63": {
      "model_module": "@jupyter-widgets/base",
      "model_module_version": "1.0.0",
      "model_name": "LayoutModel",
      "state": {}
     },
     "9bf228bf8f224054b5229c5948b3887a": {
      "model_module": "@jupyter-widgets/controls",
      "model_module_version": "1.1.0",
      "model_name": "HTMLModel",
      "state": {
       "description": "Sample CSV:",
       "layout": "IPY_MODEL_b19ce6d16b05488f9d7d8e6525fb3660",
       "placeholder": "",
       "style": "IPY_MODEL_20ca91251a074e8ab9be7b0648dbf06f",
       "value": "<i><b>kereta</b><i>"
      }
     },
     "9c114ff6106b430385b3beb53058617a": {
      "model_module": "@jupyter-widgets/base",
      "model_module_version": "1.0.0",
      "model_name": "LayoutModel",
      "state": {}
     },
     "9c1979cd9e984c65bbbdd7475dfc3c3d": {
      "model_module": "@jupyter-widgets/controls",
      "model_module_version": "1.1.0",
      "model_name": "HTMLModel",
      "state": {
       "layout": "IPY_MODEL_65b3fe3dfdc344de876b5f8f816da4a0",
       "placeholder": "",
       "style": "IPY_MODEL_55e5f07931404b50b9e3e6d720419c79",
       "value": "<b>Scammer Detector</b>"
      }
     },
     "9c9b2558a5e34d70b78c18321128da75": {
      "model_module": "@jupyter-widgets/base",
      "model_module_version": "1.0.0",
      "model_name": "LayoutModel",
      "state": {}
     },
     "9ca71a26fca54a5995affad3218db7db": {
      "model_module": "@jupyter-widgets/base",
      "model_module_version": "1.0.0",
      "model_name": "LayoutModel",
      "state": {}
     },
     "9cad4ab83dbc4c6ebad5a2787c09e1c4": {
      "model_module": "@jupyter-widgets/controls",
      "model_module_version": "1.1.0",
      "model_name": "DescriptionStyleModel",
      "state": {
       "description_width": ""
      }
     },
     "9cfb48d3c319495891fd856379f7ddd3": {
      "model_module": "@jupyter-widgets/controls",
      "model_module_version": "1.1.0",
      "model_name": "HBoxModel",
      "state": {
       "children": [
        "IPY_MODEL_a7f69783bd594cd4b9e5df9d9ddbcecf",
        "IPY_MODEL_dc9904bcbad4484caa39bb78884843c6",
        "IPY_MODEL_0337c8406c1546f0a65780f937e892c0"
       ],
       "layout": "IPY_MODEL_98f431139bcd4a7ba732075e16744c0d"
      }
     },
     "9d14581473ed43188b89a62019692aab": {
      "model_module": "@jupyter-widgets/controls",
      "model_module_version": "1.1.0",
      "model_name": "VBoxModel",
      "state": {
       "children": [
        "IPY_MODEL_8f1ccdef41ef48c6bbf02a6c40669928",
        "IPY_MODEL_41ddb4918e344adbb4eb397e23c0b0f3"
       ],
       "layout": "IPY_MODEL_59a5513f0fae42a4a2e02953c299f51c"
      }
     },
     "9d17b3cb41ce4beca1e86427ee00a55b": {
      "model_module": "@jupyter-widgets/base",
      "model_module_version": "1.0.0",
      "model_name": "LayoutModel",
      "state": {}
     },
     "9d1ea509d09546308c196e0ea436e536": {
      "model_module": "@jupyter-widgets/controls",
      "model_module_version": "1.1.0",
      "model_name": "ButtonModel",
      "state": {
       "description": "PCA!",
       "icon": "check",
       "layout": "IPY_MODEL_6959650360084fa9a1d8858ef4ee72c0",
       "style": "IPY_MODEL_d0c74e03b2d348dbb4221d1695e789ee",
       "tooltip": "Click me"
      }
     },
     "9db576467d3e4c9fb6cf3fb158a77457": {
      "model_module": "@jupyter-widgets/controls",
      "model_module_version": "1.1.0",
      "model_name": "HTMLModel",
      "state": {
       "description": "Sample Path:",
       "layout": "IPY_MODEL_b7026ad4a9f5477fbfca4fd292692c29",
       "placeholder": "",
       "style": "IPY_MODEL_7b02ce17c22c4125890f6112ab78c986",
       "value": "<i><b>C:\\Users\\LENOVO\\Documents</b><i>"
      }
     },
     "9dc84f313ee841b4b8fdee74784b3172": {
      "model_module": "@jupyter-widgets/controls",
      "model_module_version": "1.1.0",
      "model_name": "TextModel",
      "state": {
       "description": "Folder Path:",
       "layout": "IPY_MODEL_dca93d78983446f68afa8c5f8fdd4168",
       "placeholder": "Save Scraped Dataset",
       "style": "IPY_MODEL_d45ef708c8f846728065b405e73b0a0c"
      }
     },
     "9dec17bd24054f8cbac6937190ddfd61": {
      "model_module": "@jupyter-widgets/base",
      "model_module_version": "1.0.0",
      "model_name": "LayoutModel",
      "state": {}
     },
     "9e23e905c78f41abba4f3af83d0d2012": {
      "model_module": "@jupyter-widgets/base",
      "model_module_version": "1.0.0",
      "model_name": "LayoutModel",
      "state": {}
     },
     "9e340222e95f4decad82e42d5008e821": {
      "model_module": "@jupyter-widgets/base",
      "model_module_version": "1.0.0",
      "model_name": "LayoutModel",
      "state": {}
     },
     "9e6b2fb55acd4f4684c4f41d150fda76": {
      "model_module": "@jupyter-widgets/output",
      "model_module_version": "1.0.0",
      "model_name": "OutputModel",
      "state": {
       "layout": "IPY_MODEL_a452d4e34fad42bb9ac0fa245816cb78"
      }
     },
     "9ec484f1d4114086a88d3e3e165297ac": {
      "model_module": "@jupyter-widgets/controls",
      "model_module_version": "1.1.0",
      "model_name": "AccordionModel",
      "state": {
       "_titles": {
        "0": "Scrap"
       },
       "children": [
        "IPY_MODEL_920d8ade4745445f891a44fb0620bb62"
       ],
       "layout": "IPY_MODEL_4adfbab011124dad8353e9dcd3d0299d"
      }
     },
     "9ec6dabc94b74024b5b62b59f219cac9": {
      "model_module": "@jupyter-widgets/controls",
      "model_module_version": "1.1.0",
      "model_name": "ButtonStyleModel",
      "state": {
       "button_color": "green"
      }
     },
     "9ed867bca7154bcf9bce2a11c96c7759": {
      "model_module": "@jupyter-widgets/controls",
      "model_module_version": "1.1.0",
      "model_name": "HTMLModel",
      "state": {
       "layout": "IPY_MODEL_c1f2a393df7547ca84bd31478aa4d749",
       "placeholder": "",
       "style": "IPY_MODEL_b210e9e74b52427bbb8f115d8fec7b92",
       "value": "<b>Scammer Detector<b>"
      }
     },
     "9edd47d5abc945229d4b3dcc98c2eb6c": {
      "model_module": "@jupyter-widgets/controls",
      "model_module_version": "1.1.0",
      "model_name": "ButtonModel",
      "state": {
       "description": "Scrap Me",
       "layout": "IPY_MODEL_5d567b82eb8c46a5b03fe185c431e57a",
       "style": "IPY_MODEL_c7101b838bda4f538c0f70526dd0c799"
      }
     },
     "9ee76b07ff3e4bce998f4d43863b16aa": {
      "model_module": "@jupyter-widgets/controls",
      "model_module_version": "1.1.0",
      "model_name": "DescriptionStyleModel",
      "state": {
       "description_width": ""
      }
     },
     "9f228f7085364648b507ca7f79d15f31": {
      "model_module": "@jupyter-widgets/base",
      "model_module_version": "1.0.0",
      "model_name": "LayoutModel",
      "state": {}
     },
     "9f3313102cdb4d958d83fa6dfdcf8abb": {
      "model_module": "@jupyter-widgets/base",
      "model_module_version": "1.0.0",
      "model_name": "LayoutModel",
      "state": {}
     },
     "9f9cb2a9050a415d8f55916d761a644f": {
      "model_module": "@jupyter-widgets/controls",
      "model_module_version": "1.1.0",
      "model_name": "TabModel",
      "state": {
       "_titles": {
        "0": "Extaction",
        "1": "S"
       },
       "children": [
        "IPY_MODEL_ee4cdbfba38e4623ab63a672778861b9",
        "IPY_MODEL_9ec484f1d4114086a88d3e3e165297ac"
       ],
       "layout": "IPY_MODEL_4d38dd96b27e4edc9ac2aebf7eb1efbd",
       "selected_index": 1
      }
     },
     "9ff4e1fabd9441c382dc9907fcb007c8": {
      "model_module": "@jupyter-widgets/controls",
      "model_module_version": "1.1.0",
      "model_name": "AccordionModel",
      "state": {
       "_titles": {
        "0": "Method",
        "1": "Analysis",
        "2": "Result"
       },
       "children": [
        "IPY_MODEL_492abf3cd3c04f5b96970d612a20d75b",
        "IPY_MODEL_81107d795bf44a568a1a9e51103d522c",
        "IPY_MODEL_0f021d21ca454fd99bb2b2d63abc038e"
       ],
       "layout": "IPY_MODEL_bb137a0b31a24b9a8d075b99cbe4d18d"
      }
     },
     "a018cb45601c4dbc83663a8be2396e28": {
      "model_module": "@jupyter-widgets/controls",
      "model_module_version": "1.1.0",
      "model_name": "VBoxModel",
      "state": {
       "children": [
        "IPY_MODEL_4a2bec088a634271812cf0a151805d79",
        "IPY_MODEL_1be6d14e96244fe7885c724e0226f837"
       ],
       "layout": "IPY_MODEL_3b0c9aeb4ce54515a23e526de4c5152b"
      }
     },
     "a0253a5115d441f3ae2b032cfbffba2c": {
      "model_module": "@jupyter-widgets/base",
      "model_module_version": "1.0.0",
      "model_name": "LayoutModel",
      "state": {}
     },
     "a0498110ecf542a0a21e8c7b4f0e97bd": {
      "model_module": "@jupyter-widgets/base",
      "model_module_version": "1.0.0",
      "model_name": "LayoutModel",
      "state": {}
     },
     "a04bd8917981401ca65b6df903e34200": {
      "model_module": "@jupyter-widgets/base",
      "model_module_version": "1.0.0",
      "model_name": "LayoutModel",
      "state": {}
     },
     "a0a0c0a5cc8849e9825d954020026527": {
      "model_module": "@jupyter-widgets/controls",
      "model_module_version": "1.1.0",
      "model_name": "HTMLModel",
      "state": {
       "layout": "IPY_MODEL_5bf4792a8a5545e98c2376f7e762a703",
       "placeholder": "",
       "style": "IPY_MODEL_78a7780dadd14bd09e9e4ca06d343ca7",
       "value": "Apply <b>Data Mining<b> Method!!"
      }
     },
     "a0c870f0ea714abdb025835f7b747993": {
      "model_module": "@jupyter-widgets/controls",
      "model_module_version": "1.1.0",
      "model_name": "DropdownModel",
      "state": {
       "_options_labels": [
        "-",
        "5",
        "6",
        "7",
        "8",
        "9",
        "10"
       ],
       "description": "Tail:",
       "index": 0,
       "layout": "IPY_MODEL_2eaafbbfad1840358c2a2ff9eed8f5d8",
       "style": "IPY_MODEL_b07f60cd489c4fcfb3db8e847268ac89"
      }
     },
     "a0e1b513f83a48beafd2bc4810dde5e8": {
      "model_module": "@jupyter-widgets/base",
      "model_module_version": "1.0.0",
      "model_name": "LayoutModel",
      "state": {}
     },
     "a1293ed91b9d460c9055ce84eff1e8f9": {
      "model_module": "@jupyter-widgets/base",
      "model_module_version": "1.0.0",
      "model_name": "LayoutModel",
      "state": {}
     },
     "a14393fad7b2403b8bcfa2bc05dd871f": {
      "model_module": "@jupyter-widgets/controls",
      "model_module_version": "1.1.0",
      "model_name": "TextModel",
      "state": {
       "description": "Folder Path:",
       "layout": "IPY_MODEL_4c443e4822c84415860f3ca07d99da47",
       "placeholder": "Save Scraped Dataset",
       "style": "IPY_MODEL_ad8b247e46274a9fa8432a657530204a"
      }
     },
     "a15d535b867f4a9abdb15ab2324b1964": {
      "model_module": "@jupyter-widgets/base",
      "model_module_version": "1.0.0",
      "model_name": "LayoutModel",
      "state": {}
     },
     "a19472d2bf1c4ed781871ef76a20a01f": {
      "model_module": "@jupyter-widgets/controls",
      "model_module_version": "1.1.0",
      "model_name": "HTMLModel",
      "state": {
       "layout": "IPY_MODEL_b094964f3fe4440c924cf84ec4d539a1",
       "placeholder": "",
       "style": "IPY_MODEL_2d45b9a32ba241a6abe25967bd8e02d9",
       "value": "<b>Choose to view and compare by attributes<b>"
      }
     },
     "a198a9f425ae4f16945fb857a4c84484": {
      "model_module": "@jupyter-widgets/base",
      "model_module_version": "1.0.0",
      "model_name": "LayoutModel",
      "state": {}
     },
     "a1b027a80cb94f0b801855c3856d59c1": {
      "model_module": "@jupyter-widgets/controls",
      "model_module_version": "1.1.0",
      "model_name": "DescriptionStyleModel",
      "state": {
       "description_width": ""
      }
     },
     "a1bbfa94730a45e896af85895ab4f2cf": {
      "model_module": "@jupyter-widgets/base",
      "model_module_version": "1.0.0",
      "model_name": "LayoutModel",
      "state": {}
     },
     "a20a76dfb9254de087ff93d261eee980": {
      "model_module": "@jupyter-widgets/controls",
      "model_module_version": "1.1.0",
      "model_name": "ImageModel",
      "state": {
       "height": "100",
       "layout": "IPY_MODEL_f3743121217f41508f07463fb1b23087",
       "value": {},
       "width": "100"
      }
     },
     "a218bd58ad774cf5be216dc8e558af62": {
      "model_module": "@jupyter-widgets/controls",
      "model_module_version": "1.1.0",
      "model_name": "VBoxModel",
      "state": {
       "children": [
        "IPY_MODEL_f0e7f876d6de48c887e28e12aca33e72",
        "IPY_MODEL_9e6b2fb55acd4f4684c4f41d150fda76"
       ],
       "layout": "IPY_MODEL_c21b762f2e5c4cb896012479891d2c46"
      }
     },
     "a21d30398cb0415486be90c2b26197da": {
      "model_module": "@jupyter-widgets/controls",
      "model_module_version": "1.1.0",
      "model_name": "ButtonModel",
      "state": {
       "description": "Click Me",
       "icon": "check",
       "layout": "IPY_MODEL_a30aaf06ddc14801b3c0309212b56b1f",
       "style": "IPY_MODEL_568ade975c5d422f8eaee75307784edf",
       "tooltip": "Click me"
      }
     },
     "a237cac366c747a89784370fc5f2726d": {
      "model_module": "@jupyter-widgets/base",
      "model_module_version": "1.0.0",
      "model_name": "LayoutModel",
      "state": {}
     },
     "a250b9b0b948409ba63ad0f6a8c6b998": {
      "model_module": "@jupyter-widgets/base",
      "model_module_version": "1.0.0",
      "model_name": "LayoutModel",
      "state": {}
     },
     "a275fa6369ab4b0097937d1fb1644bc6": {
      "model_module": "@jupyter-widgets/controls",
      "model_module_version": "1.1.0",
      "model_name": "DescriptionStyleModel",
      "state": {
       "description_width": ""
      }
     },
     "a282e09a73094da1af492d21e7587b80": {
      "model_module": "@jupyter-widgets/controls",
      "model_module_version": "1.1.0",
      "model_name": "DescriptionStyleModel",
      "state": {
       "description_width": ""
      }
     },
     "a2ccfd52d8d04df288fb2115622e601c": {
      "model_module": "@jupyter-widgets/controls",
      "model_module_version": "1.1.0",
      "model_name": "VBoxModel",
      "state": {
       "children": [
        "IPY_MODEL_34d9c9d70a1c466e8163e265eb384a5c",
        "IPY_MODEL_06764c74d0fc4d9bb74f6786e6297cb6"
       ],
       "layout": "IPY_MODEL_e49eb088621d4d18a01f86abc3de0186"
      }
     },
     "a30aaf06ddc14801b3c0309212b56b1f": {
      "model_module": "@jupyter-widgets/base",
      "model_module_version": "1.0.0",
      "model_name": "LayoutModel",
      "state": {}
     },
     "a3175239c0d8456191894b8bfcae89b6": {
      "model_module": "@jupyter-widgets/base",
      "model_module_version": "1.0.0",
      "model_name": "LayoutModel",
      "state": {}
     },
     "a35ea7db728143c584d125109380d889": {
      "model_module": "@jupyter-widgets/controls",
      "model_module_version": "1.1.0",
      "model_name": "HTMLModel",
      "state": {
       "layout": "IPY_MODEL_0ca5a9a5fff84a6585d2e98f795f0912",
       "placeholder": "",
       "style": "IPY_MODEL_148c2922c118466b9e2f9ca739f27494",
       "value": "<b>Click to view Potential Scammers!!<b>"
      }
     },
     "a361f4f3bd9849e593f6d7d10ee4fb37": {
      "model_module": "@jupyter-widgets/controls",
      "model_module_version": "1.1.0",
      "model_name": "ButtonStyleModel",
      "state": {
       "button_color": "red"
      }
     },
     "a378240bf862488b8662dd28e693f241": {
      "model_module": "@jupyter-widgets/base",
      "model_module_version": "1.0.0",
      "model_name": "LayoutModel",
      "state": {}
     },
     "a380388bb4ae412a841b08bfc1564153": {
      "model_module": "@jupyter-widgets/controls",
      "model_module_version": "1.1.0",
      "model_name": "ButtonStyleModel",
      "state": {}
     },
     "a3a91e793af44b628295606b21af0b1a": {
      "model_module": "@jupyter-widgets/base",
      "model_module_version": "1.0.0",
      "model_name": "LayoutModel",
      "state": {}
     },
     "a4480917bef24993b5d962a762fd2a0c": {
      "model_module": "@jupyter-widgets/base",
      "model_module_version": "1.0.0",
      "model_name": "LayoutModel",
      "state": {}
     },
     "a452d4e34fad42bb9ac0fa245816cb78": {
      "model_module": "@jupyter-widgets/base",
      "model_module_version": "1.0.0",
      "model_name": "LayoutModel",
      "state": {}
     },
     "a460c42e17534c23a3073c7eb9a994fc": {
      "model_module": "@jupyter-widgets/base",
      "model_module_version": "1.0.0",
      "model_name": "LayoutModel",
      "state": {}
     },
     "a466e5de43fa4b73a0959891fe594d46": {
      "model_module": "@jupyter-widgets/base",
      "model_module_version": "1.0.0",
      "model_name": "LayoutModel",
      "state": {}
     },
     "a4c12a2a85b04f5e98d30a01f83ee1dd": {
      "model_module": "@jupyter-widgets/output",
      "model_module_version": "1.0.0",
      "model_name": "OutputModel",
      "state": {
       "layout": "IPY_MODEL_6cdffd14dd2e45b399aced31d744a7ec"
      }
     },
     "a5093d86daf64949b4b527d046f99541": {
      "model_module": "@jupyter-widgets/controls",
      "model_module_version": "1.1.0",
      "model_name": "VBoxModel",
      "state": {
       "children": [
        "IPY_MODEL_7dabe04dee2940fd9afe9d362c720400",
        "IPY_MODEL_0f81273f9e45416288602c2e1201d91a"
       ],
       "layout": "IPY_MODEL_df158f705f84454e9255949f44e07973"
      }
     },
     "a50968335e604867a44f26354015a9f5": {
      "model_module": "@jupyter-widgets/controls",
      "model_module_version": "1.1.0",
      "model_name": "DescriptionStyleModel",
      "state": {
       "description_width": ""
      }
     },
     "a517996573a34b3089f26325237c0703": {
      "model_module": "@jupyter-widgets/controls",
      "model_module_version": "1.1.0",
      "model_name": "VBoxModel",
      "state": {
       "children": [
        "IPY_MODEL_be18a13a1e024d98b428e1afbcfe4e9e",
        "IPY_MODEL_a6472668f75847a8ab9f9b289e2b2da5"
       ],
       "layout": "IPY_MODEL_5908699311484691a77131ae44b79570"
      }
     },
     "a545a81748f64286b17545d767e3423c": {
      "model_module": "@jupyter-widgets/controls",
      "model_module_version": "1.1.0",
      "model_name": "HTMLModel",
      "state": {
       "description": "Sample Link:",
       "layout": "IPY_MODEL_a638ac8a117e4d7686bb7972110055d0",
       "placeholder": "",
       "style": "IPY_MODEL_e315c1f390274d9792ccf15750607220",
       "value": "<i><b>https://www.mudah.my/malaysia/cars-for-sale?o=1&q=&th=1</b><i>"
      }
     },
     "a558090a62fb408ba2bb3225ce9c7cb8": {
      "model_module": "@jupyter-widgets/controls",
      "model_module_version": "1.1.0",
      "model_name": "VBoxModel",
      "state": {
       "children": [
        "IPY_MODEL_8d177eee05dc478f92c66698d8612381",
        "IPY_MODEL_bc07d51c7bd049b6b214422ef3b7ce70",
        "IPY_MODEL_e767bb4486b149b3a8c4721029779486",
        "IPY_MODEL_a56078b5fb524adba1559811a4f8be64"
       ],
       "layout": "IPY_MODEL_5a34d356053f4787b6b10728c9dea86e"
      }
     },
     "a56078b5fb524adba1559811a4f8be64": {
      "model_module": "@jupyter-widgets/controls",
      "model_module_version": "1.1.0",
      "model_name": "TextModel",
      "state": {
       "description": "CSV file:",
       "layout": "IPY_MODEL_8e233f242f634e04ba3d51138ed09a5d",
       "placeholder": "Name of cleaned csv file",
       "style": "IPY_MODEL_b68f160dbb514798ab987768c9bf3669"
      }
     },
     "a562650c1cd54f4b9f387058299dccd7": {
      "model_module": "@jupyter-widgets/base",
      "model_module_version": "1.0.0",
      "model_name": "LayoutModel",
      "state": {}
     },
     "a5c82542541f49a79982f14fddfd5eca": {
      "model_module": "@jupyter-widgets/base",
      "model_module_version": "1.0.0",
      "model_name": "LayoutModel",
      "state": {}
     },
     "a5d5c658d55f439ab875e27d060072ef": {
      "model_module": "@jupyter-widgets/base",
      "model_module_version": "1.0.0",
      "model_name": "LayoutModel",
      "state": {}
     },
     "a5d7e128619942edb852017e26b8018c": {
      "model_module": "@jupyter-widgets/controls",
      "model_module_version": "1.1.0",
      "model_name": "ToggleButtonsStyleModel",
      "state": {
       "button_width": "",
       "description_width": ""
      }
     },
     "a5de1db05cd844119996663414543770": {
      "model_module": "@jupyter-widgets/base",
      "model_module_version": "1.0.0",
      "model_name": "LayoutModel",
      "state": {}
     },
     "a5e8043353e14456bbf36398f2f5a7b2": {
      "model_module": "@jupyter-widgets/controls",
      "model_module_version": "1.1.0",
      "model_name": "ButtonModel",
      "state": {
       "description": "Click Me",
       "icon": "check",
       "layout": "IPY_MODEL_b5c5c496fca945c5957d59d85e8d3e8c",
       "style": "IPY_MODEL_47b6e2f6371341a3bb2689d1d9d86bba",
       "tooltip": "Click me"
      }
     },
     "a60b50459d2a44d8951bb37c457a4a8d": {
      "model_module": "@jupyter-widgets/controls",
      "model_module_version": "1.1.0",
      "model_name": "ButtonStyleModel",
      "state": {}
     },
     "a62307b2e4954dde8bb77604e430eb86": {
      "model_module": "@jupyter-widgets/base",
      "model_module_version": "1.0.0",
      "model_name": "LayoutModel",
      "state": {}
     },
     "a634274da0334a0d87ab802683a12600": {
      "model_module": "@jupyter-widgets/base",
      "model_module_version": "1.0.0",
      "model_name": "LayoutModel",
      "state": {}
     },
     "a638ac8a117e4d7686bb7972110055d0": {
      "model_module": "@jupyter-widgets/base",
      "model_module_version": "1.0.0",
      "model_name": "LayoutModel",
      "state": {}
     },
     "a6399f11f4594f2089c05e34f335911f": {
      "model_module": "@jupyter-widgets/base",
      "model_module_version": "1.0.0",
      "model_name": "LayoutModel",
      "state": {}
     },
     "a6472668f75847a8ab9f9b289e2b2da5": {
      "model_module": "@jupyter-widgets/controls",
      "model_module_version": "1.1.0",
      "model_name": "HBoxModel",
      "state": {
       "children": [
        "IPY_MODEL_31e84ace97d84eb587ce866d0fe816d0",
        "IPY_MODEL_22573ce4d05143eba96aeb2ac1ac0a5f",
        "IPY_MODEL_4c749930745c45b29a72802515c32909"
       ],
       "layout": "IPY_MODEL_33a0542fc9cb4810acfd9c3bb6becfb3"
      }
     },
     "a675cc51a4c64c3d928059fda6646405": {
      "model_module": "@jupyter-widgets/controls",
      "model_module_version": "1.1.0",
      "model_name": "TextModel",
      "state": {
       "description": "CSV file:",
       "layout": "IPY_MODEL_3e45f38c9018432cbadf2933dafdbbf2",
       "placeholder": "Name your scrap csv file",
       "style": "IPY_MODEL_f86795a7642b48478f999c952a561451"
      }
     },
     "a67e00c2fbc841f5af9dad5ae5b741c5": {
      "model_module": "@jupyter-widgets/base",
      "model_module_version": "1.0.0",
      "model_name": "LayoutModel",
      "state": {}
     },
     "a68802321dc845ce9092bb674b54b0bf": {
      "model_module": "@jupyter-widgets/base",
      "model_module_version": "1.0.0",
      "model_name": "LayoutModel",
      "state": {}
     },
     "a70a8ad8c6ea4247a6c4e2956fa17b62": {
      "model_module": "@jupyter-widgets/controls",
      "model_module_version": "1.1.0",
      "model_name": "DescriptionStyleModel",
      "state": {
       "description_width": ""
      }
     },
     "a7132afe72af45b7baa7431ec2d658fa": {
      "model_module": "@jupyter-widgets/controls",
      "model_module_version": "1.1.0",
      "model_name": "VBoxModel",
      "state": {
       "children": [
        "IPY_MODEL_0a2dbd6458f8459dabb1c3e865a41085",
        "IPY_MODEL_c55d802d0dec40b0b2ed40e39f14bb2e"
       ],
       "layout": "IPY_MODEL_81b53a9f23644d2a8a7eaa38d66b6785"
      }
     },
     "a751b7a956f249f3a9ca1aa15e36bd8b": {
      "model_module": "@jupyter-widgets/controls",
      "model_module_version": "1.1.0",
      "model_name": "HTMLModel",
      "state": {
       "layout": "IPY_MODEL_737a71c3b92c42878dcdcc89934d56eb",
       "placeholder": "",
       "style": "IPY_MODEL_74efbaa2c3c2410eb5de10c52051c45a",
       "value": "Apply <b>Data Mining<b> Method!!"
      }
     },
     "a75404e24a454688aba07e2cf58e6c08": {
      "model_module": "@jupyter-widgets/controls",
      "model_module_version": "1.1.0",
      "model_name": "VBoxModel",
      "state": {
       "children": [
        "IPY_MODEL_d1dfb51fab264eda851712fab6536bcd",
        "IPY_MODEL_d92dccbb55f4405e89b13afbc44daed1"
       ],
       "layout": "IPY_MODEL_79e0c7d239824c6db7151f299c00e9b8"
      }
     },
     "a7670e6523d8477294d8cb7ee1dcad6e": {
      "model_module": "@jupyter-widgets/base",
      "model_module_version": "1.0.0",
      "model_name": "LayoutModel",
      "state": {}
     },
     "a76f4fbdc6f9446a8fd13716476da495": {
      "model_module": "@jupyter-widgets/base",
      "model_module_version": "1.0.0",
      "model_name": "LayoutModel",
      "state": {}
     },
     "a7e6c3a93971429e85998f645c098832": {
      "model_module": "@jupyter-widgets/controls",
      "model_module_version": "1.1.0",
      "model_name": "ButtonModel",
      "state": {
       "description": "About Us",
       "layout": "IPY_MODEL_81a2729e0af54075ab71b6b3c6428fa1",
       "style": "IPY_MODEL_59014436fa6e4f9f8e88cb8ceaf2cb84"
      }
     },
     "a7ebf314ada34d37aca3909d2f42feb0": {
      "model_module": "@jupyter-widgets/base",
      "model_module_version": "1.0.0",
      "model_name": "LayoutModel",
      "state": {}
     },
     "a7f69783bd594cd4b9e5df9d9ddbcecf": {
      "model_module": "@jupyter-widgets/controls",
      "model_module_version": "1.1.0",
      "model_name": "ImageModel",
      "state": {
       "height": "100",
       "layout": "IPY_MODEL_85c75eca093844b6bbe3b36efa041b52",
       "value": {},
       "width": "200"
      }
     },
     "a86e40daeb0e40b7928dc081be52729e": {
      "model_module": "@jupyter-widgets/controls",
      "model_module_version": "1.1.0",
      "model_name": "HTMLModel",
      "state": {
       "description": "Sample CSV:",
       "layout": "IPY_MODEL_ec8ffe1d6fb848f5ad25a154522deb5f",
       "placeholder": "",
       "style": "IPY_MODEL_af721f71eb544161892ae58f81fafba0",
       "value": "<i><b>kereta</b><i>"
      }
     },
     "a89c7d4c050b46c5959a67caa0435a6a": {
      "model_module": "@jupyter-widgets/controls",
      "model_module_version": "1.1.0",
      "model_name": "DescriptionStyleModel",
      "state": {
       "description_width": ""
      }
     },
     "a8af41bd0d884c84bf5ad4d6ec633067": {
      "model_module": "@jupyter-widgets/controls",
      "model_module_version": "1.1.0",
      "model_name": "TabModel",
      "state": {
       "_titles": {
        "0": "1. Extaction",
        "1": "2. Data",
        "2": "3. Evaluation"
       },
       "children": [
        "IPY_MODEL_6adb91a048a1440cb1e052dfac01238e",
        "IPY_MODEL_8eaabd5d09094966ab0fe8e8ac52d263",
        "IPY_MODEL_2f927e3c43a44fe593e64cc993906d8c"
       ],
       "layout": "IPY_MODEL_6dc1f253ee394ec09bfcd2673777f436"
      }
     },
     "a8d7c1f1bef548f195a313fc952bd55b": {
      "model_module": "@jupyter-widgets/controls",
      "model_module_version": "1.1.0",
      "model_name": "ButtonStyleModel",
      "state": {
       "button_color": "orange"
      }
     },
     "a8df6611c3064608b6468816ee57069b": {
      "model_module": "@jupyter-widgets/controls",
      "model_module_version": "1.1.0",
      "model_name": "ButtonModel",
      "state": {
       "description": "Help",
       "layout": "IPY_MODEL_d73ac656c234408293642a472527e31f",
       "style": "IPY_MODEL_80286b81a7124f58ade977000202fed6"
      }
     },
     "a92e654c7f604f5fa2b9a3427f87dfa9": {
      "model_module": "@jupyter-widgets/controls",
      "model_module_version": "1.1.0",
      "model_name": "DropdownModel",
      "state": {
       "_options_labels": [
        "-",
        "5",
        "6",
        "7",
        "8",
        "9",
        "10"
       ],
       "description": "Head:",
       "index": 0,
       "layout": "IPY_MODEL_d3107afff19b4e95be522767c8a5f99a",
       "style": "IPY_MODEL_cfa1943e04904fc4bb1a163c1a2cf71c"
      }
     },
     "a93bf36ce87a4ef88bd807d0dc87f2fc": {
      "model_module": "@jupyter-widgets/controls",
      "model_module_version": "1.1.0",
      "model_name": "DescriptionStyleModel",
      "state": {
       "description_width": ""
      }
     },
     "a960f669b73a4a0dbbbc24767f4ab202": {
      "model_module": "@jupyter-widgets/controls",
      "model_module_version": "1.1.0",
      "model_name": "DescriptionStyleModel",
      "state": {
       "description_width": ""
      }
     },
     "aa3da67bd2e04cc99e0c18734bc4abc8": {
      "model_module": "@jupyter-widgets/base",
      "model_module_version": "1.0.0",
      "model_name": "LayoutModel",
      "state": {}
     },
     "aa57807560af4e30990e75045d7df15d": {
      "model_module": "@jupyter-widgets/controls",
      "model_module_version": "1.1.0",
      "model_name": "ButtonStyleModel",
      "state": {
       "button_color": "red"
      }
     },
     "aa647998c0a54793a264628bf7f7d2d3": {
      "model_module": "@jupyter-widgets/controls",
      "model_module_version": "1.1.0",
      "model_name": "DropdownModel",
      "state": {
       "_options_labels": [
        "-",
        "5",
        "6",
        "7",
        "8",
        "9",
        "10"
       ],
       "description": "Tail:",
       "index": 0,
       "layout": "IPY_MODEL_8aa82af8c7ae47f5bc9817f490708278",
       "style": "IPY_MODEL_bf771e36e52c4c5a90276286f6251f61"
      }
     },
     "aa889f4eaabd4896b170cee59ed7f27c": {
      "model_module": "@jupyter-widgets/base",
      "model_module_version": "1.0.0",
      "model_name": "LayoutModel",
      "state": {}
     },
     "aa9617ffc542401ab9c96d599b61dd14": {
      "model_module": "@jupyter-widgets/controls",
      "model_module_version": "1.1.0",
      "model_name": "AccordionModel",
      "state": {
       "_titles": {
        "0": "Upload",
        "1": "View"
       },
       "children": [
        "IPY_MODEL_81a7ab1e43524cd48fbfe9b134dac769",
        "IPY_MODEL_a517996573a34b3089f26325237c0703"
       ],
       "layout": "IPY_MODEL_54a77737ce1c4b818f82c8c4d421e13c"
      }
     },
     "aa984f7983744fa4b8fca94eb8f6dfbf": {
      "model_module": "@jupyter-widgets/controls",
      "model_module_version": "1.1.0",
      "model_name": "DescriptionStyleModel",
      "state": {
       "description_width": ""
      }
     },
     "aa998e6d0f544f9b83e13838f2c99aa7": {
      "model_module": "@jupyter-widgets/controls",
      "model_module_version": "1.1.0",
      "model_name": "ButtonStyleModel",
      "state": {}
     },
     "aac3f8b59b4c4b6a9aed0af02dfbd5b6": {
      "model_module": "@jupyter-widgets/base",
      "model_module_version": "1.0.0",
      "model_name": "LayoutModel",
      "state": {}
     },
     "ab0ec69de24c4ec68ea5c4c772d0ff6a": {
      "model_module": "@jupyter-widgets/controls",
      "model_module_version": "1.1.0",
      "model_name": "DescriptionStyleModel",
      "state": {
       "description_width": ""
      }
     },
     "ab2297728cfb47f9b2af6b9f02731f54": {
      "model_module": "@jupyter-widgets/controls",
      "model_module_version": "1.1.0",
      "model_name": "ButtonStyleModel",
      "state": {
       "button_color": "red"
      }
     },
     "aba97d5a9b22408db2c846d00d1e5311": {
      "model_module": "@jupyter-widgets/base",
      "model_module_version": "1.0.0",
      "model_name": "LayoutModel",
      "state": {}
     },
     "aba9fc35f9d94466b3b68d70b3c3488d": {
      "model_module": "@jupyter-widgets/controls",
      "model_module_version": "1.1.0",
      "model_name": "DropdownModel",
      "state": {
       "_options_labels": [
        "-",
        "5",
        "6",
        "7",
        "8",
        "9",
        "10"
       ],
       "description": "Head:",
       "index": 0,
       "layout": "IPY_MODEL_b64ad0cd0f8640b6b2cdd61f039067c3",
       "style": "IPY_MODEL_c1eaef493d1746aeb107b1e68d2d3b1d"
      }
     },
     "abe6357e447d4e2fb079b50954110637": {
      "model_module": "@jupyter-widgets/base",
      "model_module_version": "1.0.0",
      "model_name": "LayoutModel",
      "state": {}
     },
     "abeec1379f4e4df1bc0f7e7d4de9fea6": {
      "model_module": "@jupyter-widgets/base",
      "model_module_version": "1.0.0",
      "model_name": "LayoutModel",
      "state": {}
     },
     "abf5035e14894b0b942de5f2ac914bd7": {
      "model_module": "@jupyter-widgets/controls",
      "model_module_version": "1.1.0",
      "model_name": "HBoxModel",
      "state": {
       "children": [
        "IPY_MODEL_a7f69783bd594cd4b9e5df9d9ddbcecf",
        "IPY_MODEL_dc9904bcbad4484caa39bb78884843c6",
        "IPY_MODEL_0337c8406c1546f0a65780f937e892c0"
       ],
       "layout": "IPY_MODEL_6bf6490926b24e67b67bb22ddbed7e60"
      }
     },
     "ac0cef52fe644955a74e6dfe122f460d": {
      "model_module": "@jupyter-widgets/controls",
      "model_module_version": "1.1.0",
      "model_name": "ToggleButtonsModel",
      "state": {
       "_options_labels": [
        "Head",
        "Random",
        "Sample"
       ],
       "button_style": "",
       "description": "View Method:",
       "icons": [],
       "index": 2,
       "layout": "IPY_MODEL_830f1d6e4fd24bd6b4fd7e325e3d38bc",
       "style": "IPY_MODEL_6d29524ba45340d28f9690f04ef60c72",
       "tooltips": [
        "Description of slow",
        "Description of regular",
        "Description of fast"
       ]
      }
     },
     "acfaffa50d014fab9fdc1153fb678acd": {
      "model_module": "@jupyter-widgets/base",
      "model_module_version": "1.0.0",
      "model_name": "LayoutModel",
      "state": {}
     },
     "ad039356f5e545f6b57395093ebd7e0d": {
      "model_module": "@jupyter-widgets/base",
      "model_module_version": "1.0.0",
      "model_name": "LayoutModel",
      "state": {}
     },
     "ad17bee78699499db1af276b8a73d7fd": {
      "model_module": "@jupyter-widgets/base",
      "model_module_version": "1.0.0",
      "model_name": "LayoutModel",
      "state": {}
     },
     "ad554b86f3d34ef99e0ee16199f8899c": {
      "model_module": "@jupyter-widgets/controls",
      "model_module_version": "1.1.0",
      "model_name": "ImageModel",
      "state": {
       "height": "100",
       "layout": "IPY_MODEL_5adeb885ed774fdd9ae032817ca72def",
       "value": {},
       "width": "100"
      }
     },
     "ad71414090af44fe895e4752933f2369": {
      "model_module": "@jupyter-widgets/controls",
      "model_module_version": "1.1.0",
      "model_name": "DropdownModel",
      "state": {
       "_options_labels": [
        "-",
        "5",
        "6",
        "7",
        "8",
        "9",
        "10"
       ],
       "description": "Tail:",
       "index": 0,
       "layout": "IPY_MODEL_603cbca1cf5941079ffbd618366879bb",
       "style": "IPY_MODEL_e8ce6b397b1a4516b68b58cecda43905"
      }
     },
     "ad7dcf332328409e8b40f8b97037e810": {
      "model_module": "@jupyter-widgets/base",
      "model_module_version": "1.0.0",
      "model_name": "LayoutModel",
      "state": {}
     },
     "ad8b247e46274a9fa8432a657530204a": {
      "model_module": "@jupyter-widgets/controls",
      "model_module_version": "1.1.0",
      "model_name": "DescriptionStyleModel",
      "state": {
       "description_width": ""
      }
     },
     "aded82d3858e44daa2079a60ea5d15c5": {
      "model_module": "@jupyter-widgets/base",
      "model_module_version": "1.0.0",
      "model_name": "LayoutModel",
      "state": {}
     },
     "ae02cd9dad5d41b99921ad60a98efc5f": {
      "model_module": "@jupyter-widgets/base",
      "model_module_version": "1.0.0",
      "model_name": "LayoutModel",
      "state": {}
     },
     "ae16bfa2362f4d00b644d00af2a2a094": {
      "model_module": "@jupyter-widgets/base",
      "model_module_version": "1.0.0",
      "model_name": "LayoutModel",
      "state": {}
     },
     "ae2158f9a65948f49a6e473cb6ecd030": {
      "model_module": "@jupyter-widgets/controls",
      "model_module_version": "1.1.0",
      "model_name": "DescriptionStyleModel",
      "state": {
       "description_width": ""
      }
     },
     "ae3929f71b3a48b699108d46ceea52f5": {
      "model_module": "@jupyter-widgets/controls",
      "model_module_version": "1.1.0",
      "model_name": "ButtonStyleModel",
      "state": {}
     },
     "aeaa7869d6414002aa636b1e839834ed": {
      "model_module": "@jupyter-widgets/output",
      "model_module_version": "1.0.0",
      "model_name": "OutputModel",
      "state": {
       "layout": "IPY_MODEL_3be2fa7c30f841f980749944ad6b5efa"
      }
     },
     "aec23f3204a04c299c812acba3fa72cb": {
      "model_module": "@jupyter-widgets/controls",
      "model_module_version": "1.1.0",
      "model_name": "DescriptionStyleModel",
      "state": {
       "description_width": ""
      }
     },
     "aef0f0e9785545d9a2fc29b640d57538": {
      "model_module": "@jupyter-widgets/base",
      "model_module_version": "1.0.0",
      "model_name": "LayoutModel",
      "state": {}
     },
     "af3178c8d8d64b148b2a58881735c0e7": {
      "model_module": "@jupyter-widgets/controls",
      "model_module_version": "1.1.0",
      "model_name": "TextModel",
      "state": {
       "description": "Link:",
       "layout": "IPY_MODEL_ff6499bae858429ab9d6b37ef2a159fd",
       "placeholder": "Paste your mudah.my link here",
       "style": "IPY_MODEL_aec23f3204a04c299c812acba3fa72cb"
      }
     },
     "af464d4c27ac4cbc9b91795427c5d0db": {
      "model_module": "@jupyter-widgets/controls",
      "model_module_version": "1.1.0",
      "model_name": "DescriptionStyleModel",
      "state": {
       "description_width": ""
      }
     },
     "af46a691e1eb4940ae6b2b7839fcd273": {
      "model_module": "@jupyter-widgets/controls",
      "model_module_version": "1.1.0",
      "model_name": "DescriptionStyleModel",
      "state": {
       "description_width": ""
      }
     },
     "af64b0b612c9454b8d33cf19e4771eaa": {
      "model_module": "@jupyter-widgets/controls",
      "model_module_version": "1.1.0",
      "model_name": "DescriptionStyleModel",
      "state": {
       "description_width": ""
      }
     },
     "af721f71eb544161892ae58f81fafba0": {
      "model_module": "@jupyter-widgets/controls",
      "model_module_version": "1.1.0",
      "model_name": "DescriptionStyleModel",
      "state": {
       "description_width": ""
      }
     },
     "afcc3ea7f0134ec8840550508f25ff00": {
      "model_module": "@jupyter-widgets/controls",
      "model_module_version": "1.1.0",
      "model_name": "VBoxModel",
      "state": {
       "children": [
        "IPY_MODEL_bffed4bfaa384ef1be9a7085f226524b",
        "IPY_MODEL_d216ad636665450689a07c658afbaf86"
       ],
       "layout": "IPY_MODEL_b4044ee9184847eb99b09341c78cfa14"
      }
     },
     "afec41788b0046a6858e761ed6489e20": {
      "model_module": "@jupyter-widgets/base",
      "model_module_version": "1.0.0",
      "model_name": "LayoutModel",
      "state": {}
     },
     "b006bdffd82a4a67afcd014ba1b4c982": {
      "model_module": "@jupyter-widgets/controls",
      "model_module_version": "1.1.0",
      "model_name": "DescriptionStyleModel",
      "state": {
       "description_width": ""
      }
     },
     "b05018464eed4886b0d7e6199f54125f": {
      "model_module": "@jupyter-widgets/base",
      "model_module_version": "1.0.0",
      "model_name": "LayoutModel",
      "state": {}
     },
     "b070752a122945f18c1f2b7b30d5b224": {
      "model_module": "@jupyter-widgets/controls",
      "model_module_version": "1.1.0",
      "model_name": "ButtonStyleModel",
      "state": {
       "button_color": "red"
      }
     },
     "b07f60cd489c4fcfb3db8e847268ac89": {
      "model_module": "@jupyter-widgets/controls",
      "model_module_version": "1.1.0",
      "model_name": "DescriptionStyleModel",
      "state": {
       "description_width": ""
      }
     },
     "b094964f3fe4440c924cf84ec4d539a1": {
      "model_module": "@jupyter-widgets/base",
      "model_module_version": "1.0.0",
      "model_name": "LayoutModel",
      "state": {}
     },
     "b0a2a55b06e54859a6d8b088b631a2e0": {
      "model_module": "@jupyter-widgets/controls",
      "model_module_version": "1.1.0",
      "model_name": "DescriptionStyleModel",
      "state": {
       "description_width": ""
      }
     },
     "b146db2175c74905aacc81cb12bf973a": {
      "model_module": "@jupyter-widgets/controls",
      "model_module_version": "1.1.0",
      "model_name": "ButtonModel",
      "state": {
       "description": "Boxplot",
       "icon": "check",
       "layout": "IPY_MODEL_61d98a8a1de3424fae85b6ba66497fa9",
       "style": "IPY_MODEL_7222809f6ef84db2976f86c3b495dc09",
       "tooltip": "Click me"
      }
     },
     "b19ce6d16b05488f9d7d8e6525fb3660": {
      "model_module": "@jupyter-widgets/base",
      "model_module_version": "1.0.0",
      "model_name": "LayoutModel",
      "state": {}
     },
     "b1a27e6b3e49444cbf4724649fd72f5b": {
      "model_module": "@jupyter-widgets/controls",
      "model_module_version": "1.1.0",
      "model_name": "ButtonStyleModel",
      "state": {}
     },
     "b1b8eb382fe542d28ea28545ba0bd21d": {
      "model_module": "@jupyter-widgets/controls",
      "model_module_version": "1.1.0",
      "model_name": "AccordionModel",
      "state": {
       "_titles": {
        "0": "Method",
        "1": "Analysis",
        "2": "Result"
       },
       "children": [
        "IPY_MODEL_fd6b144b8dc1467593c1e6169a798e39",
        "IPY_MODEL_be531467309840e98c50e8924b26e9af",
        "IPY_MODEL_a7132afe72af45b7baa7431ec2d658fa"
       ],
       "layout": "IPY_MODEL_faeafe9a84924f26ae2f5889ebc53778",
       "selected_index": 1
      }
     },
     "b1d3d0d2523446528ab5532399978e55": {
      "model_module": "@jupyter-widgets/base",
      "model_module_version": "1.0.0",
      "model_name": "LayoutModel",
      "state": {}
     },
     "b210e9e74b52427bbb8f115d8fec7b92": {
      "model_module": "@jupyter-widgets/controls",
      "model_module_version": "1.1.0",
      "model_name": "DescriptionStyleModel",
      "state": {
       "description_width": ""
      }
     },
     "b23de9e58b1b4777bc77ca7f26c42522": {
      "model_module": "@jupyter-widgets/controls",
      "model_module_version": "1.1.0",
      "model_name": "TextModel",
      "state": {
       "description": "Folder Path:",
       "layout": "IPY_MODEL_3e622ef4f6d64127a323dc190538b52c",
       "placeholder": "Upload cleaned dataset",
       "style": "IPY_MODEL_f34e271c72524878bfa79144e1a12fc6"
      }
     },
     "b26419d45c834d77aa127f4829c4bd32": {
      "model_module": "@jupyter-widgets/base",
      "model_module_version": "1.0.0",
      "model_name": "LayoutModel",
      "state": {}
     },
     "b28d892466134cf6b69f03ad873116f0": {
      "model_module": "@jupyter-widgets/controls",
      "model_module_version": "1.1.0",
      "model_name": "VBoxModel",
      "state": {
       "children": [
        "IPY_MODEL_8d177eee05dc478f92c66698d8612381",
        "IPY_MODEL_7500865d96ca4f1dbbe71bbe3f3ec2a7",
        "IPY_MODEL_f8aeb875926c4facb8aaa0fa4152351a",
        "IPY_MODEL_cd93df0abb2045b1b0b942da07048171"
       ],
       "layout": "IPY_MODEL_d8891604d5684823a08bae2ee79f2d29"
      }
     },
     "b2959d14829b4d19aedaebcae92de2fd": {
      "model_module": "@jupyter-widgets/base",
      "model_module_version": "1.0.0",
      "model_name": "LayoutModel",
      "state": {}
     },
     "b2a6d8e820734f76b28e5a029a019a2d": {
      "model_module": "@jupyter-widgets/controls",
      "model_module_version": "1.1.0",
      "model_name": "HTMLModel",
      "state": {
       "layout": "IPY_MODEL_5d0e890f615a4d8087aa79100571bf60",
       "placeholder": "",
       "style": "IPY_MODEL_fa5d8641fa354a1f8a309d0921fc139a",
       "value": "<b>Click to view Potential Scammers!!<b>"
      }
     },
     "b2c0b05c51c04562bde1bc77c4cf78cd": {
      "model_module": "@jupyter-widgets/base",
      "model_module_version": "1.0.0",
      "model_name": "LayoutModel",
      "state": {}
     },
     "b2c809e7852e4caab304a484f30da39c": {
      "model_module": "@jupyter-widgets/controls",
      "model_module_version": "1.1.0",
      "model_name": "TabModel",
      "state": {
       "_titles": {
        "0": "1. Extaction",
        "1": "2. Data",
        "2": "3. Evaluation"
       },
       "children": [
        "IPY_MODEL_c1aed1dbd974447390e3105e74d28fa1",
        "IPY_MODEL_1a30954b1cde44f180632b27f3a86c67",
        "IPY_MODEL_f96682b78602466f83d573ae8d37047e"
       ],
       "layout": "IPY_MODEL_4296f1d3e97340f8a9e636412e3a3cba",
       "selected_index": 2
      }
     },
     "b2cb993b9757448b94142341efc1bb11": {
      "model_module": "@jupyter-widgets/controls",
      "model_module_version": "1.1.0",
      "model_name": "ButtonModel",
      "state": {
       "description": "Boxplot",
       "icon": "check",
       "layout": "IPY_MODEL_4a33fbede3e640298aef0f646de67912",
       "style": "IPY_MODEL_67e3b85cb6c24485a3679d37211a8fa5",
       "tooltip": "Click me"
      }
     },
     "b2ef681a3194455b993f4a3000745eac": {
      "model_module": "@jupyter-widgets/base",
      "model_module_version": "1.0.0",
      "model_name": "LayoutModel",
      "state": {}
     },
     "b2fbfc362ffd4a8885e4e51f93b708f9": {
      "model_module": "@jupyter-widgets/controls",
      "model_module_version": "1.1.0",
      "model_name": "ImageModel",
      "state": {
       "format": "jpg",
       "height": "100",
       "layout": "IPY_MODEL_bc5031fd704347b0acfaec1b56e5f913",
       "value": {},
       "width": "100"
      }
     },
     "b31b6e4024c640dfba2475634e52f7d3": {
      "model_module": "@jupyter-widgets/base",
      "model_module_version": "1.0.0",
      "model_name": "LayoutModel",
      "state": {}
     },
     "b321a263dc384c72b48b9bdf931f408c": {
      "model_module": "@jupyter-widgets/controls",
      "model_module_version": "1.1.0",
      "model_name": "DescriptionStyleModel",
      "state": {
       "description_width": ""
      }
     },
     "b32d937165f54437bc574ce159191a85": {
      "model_module": "@jupyter-widgets/controls",
      "model_module_version": "1.1.0",
      "model_name": "VBoxModel",
      "state": {
       "children": [
        "IPY_MODEL_62680191192a49138b251b2882baf95d",
        "IPY_MODEL_03a21665b38741db96365e7b1e454f3e"
       ],
       "layout": "IPY_MODEL_271470cb881c44158f7936ca65f6257a"
      }
     },
     "b35eb12214874da0b529fa1f4978bfce": {
      "model_module": "@jupyter-widgets/controls",
      "model_module_version": "1.1.0",
      "model_name": "HTMLModel",
      "state": {
       "layout": "IPY_MODEL_2757da56b37e44f2978020debe5222d9",
       "placeholder": "",
       "style": "IPY_MODEL_54a93fd7700d4100a027a6ad5c02f0a9",
       "value": "<b>Choose to view and compare by attributes<b>"
      }
     },
     "b38353b32753462aad0a98d0d2bf3f3a": {
      "model_module": "@jupyter-widgets/controls",
      "model_module_version": "1.1.0",
      "model_name": "TextModel",
      "state": {
       "description": "CSV file:",
       "layout": "IPY_MODEL_cce26becebab4d35aa1f952d8fd5958b",
       "placeholder": "Name your scrap csv file",
       "style": "IPY_MODEL_3b0a015d1c7843eaafaeb350d66db6f0"
      }
     },
     "b38baa023a3e47f9a2005a7903d4172d": {
      "model_module": "@jupyter-widgets/controls",
      "model_module_version": "1.1.0",
      "model_name": "BoxModel",
      "state": {
       "children": [
        "IPY_MODEL_57e59c5f114249f8ac14cfb65302d1f5"
       ],
       "layout": "IPY_MODEL_46d45589311f410c9fe7ccc68e3dc32e"
      }
     },
     "b3c7b049db104f178e32a6d74e255804": {
      "model_module": "@jupyter-widgets/controls",
      "model_module_version": "1.1.0",
      "model_name": "ButtonModel",
      "state": {
       "description": "PCA!",
       "icon": "check",
       "layout": "IPY_MODEL_0f1738d3e4dd427eb8a4b09c863aa80c",
       "style": "IPY_MODEL_eaf87e9fcfa4450d95dc751d636b6e09",
       "tooltip": "Click me"
      }
     },
     "b3cea728cb5a460c91930e3796260e8a": {
      "model_module": "@jupyter-widgets/base",
      "model_module_version": "1.0.0",
      "model_name": "LayoutModel",
      "state": {}
     },
     "b3ee4496b7b34a38860dfa2f4669bb1d": {
      "model_module": "@jupyter-widgets/controls",
      "model_module_version": "1.1.0",
      "model_name": "ButtonModel",
      "state": {
       "description": "Click Me!!",
       "icon": "check",
       "layout": "IPY_MODEL_40e4c9f7d73b4c3497ebd441daf31eef",
       "style": "IPY_MODEL_8b99463da8ce4fd898bad221cf982610",
       "tooltip": "Click me"
      }
     },
     "b3eebdaf6c504069a1f1137ee754cdf7": {
      "model_module": "@jupyter-widgets/base",
      "model_module_version": "1.0.0",
      "model_name": "LayoutModel",
      "state": {}
     },
     "b4044ee9184847eb99b09341c78cfa14": {
      "model_module": "@jupyter-widgets/base",
      "model_module_version": "1.0.0",
      "model_name": "LayoutModel",
      "state": {}
     },
     "b419f1159a734df0829bf1a8d1d3e83b": {
      "model_module": "@jupyter-widgets/controls",
      "model_module_version": "1.1.0",
      "model_name": "HBoxModel",
      "state": {
       "children": [
        "IPY_MODEL_b146db2175c74905aacc81cb12bf973a",
        "IPY_MODEL_b736bad3673b48489adbdf0d102a3b7c"
       ],
       "layout": "IPY_MODEL_d77a537410b748479a43b3c5db3c48e4"
      }
     },
     "b428307947034561bd030fe2d96a4db1": {
      "model_module": "@jupyter-widgets/controls",
      "model_module_version": "1.1.0",
      "model_name": "DescriptionStyleModel",
      "state": {
       "description_width": ""
      }
     },
     "b46a1a8fd4664a9ba9d645a612f1f230": {
      "model_module": "@jupyter-widgets/controls",
      "model_module_version": "1.1.0",
      "model_name": "DropdownModel",
      "state": {
       "_options_labels": [
        "-",
        "5",
        "6",
        "7",
        "8",
        "9",
        "10"
       ],
       "description": "Random:",
       "index": 0,
       "layout": "IPY_MODEL_f8029f4eb07e47ef9f17cd984c7f6d54",
       "style": "IPY_MODEL_a275fa6369ab4b0097937d1fb1644bc6"
      }
     },
     "b4807c73c1b2465fb2c54eecc54fc3d3": {
      "model_module": "@jupyter-widgets/controls",
      "model_module_version": "1.1.0",
      "model_name": "DescriptionStyleModel",
      "state": {
       "description_width": ""
      }
     },
     "b48df11e917840d0be92e69f95c5a93a": {
      "model_module": "@jupyter-widgets/controls",
      "model_module_version": "1.1.0",
      "model_name": "ButtonModel",
      "state": {
       "description": "About Us",
       "layout": "IPY_MODEL_a0e1b513f83a48beafd2bc4810dde5e8",
       "style": "IPY_MODEL_6efad81eb570494995152ab151d83c53"
      }
     },
     "b4a489f593f94f668f43e9789ee5f68d": {
      "model_module": "@jupyter-widgets/controls",
      "model_module_version": "1.1.0",
      "model_name": "ButtonStyleModel",
      "state": {
       "button_color": "orange"
      }
     },
     "b4a4b72ad0324362bb982cdef43f5ca8": {
      "model_module": "@jupyter-widgets/controls",
      "model_module_version": "1.1.0",
      "model_name": "AccordionModel",
      "state": {
       "_titles": {
        "0": "Upload",
        "1": "View"
       },
       "children": [
        "IPY_MODEL_caa4e06876014c03a4154d95d5a12b1c",
        "IPY_MODEL_52623dd87ee446e4a010265993b5d82b"
       ],
       "layout": "IPY_MODEL_5b639445c873418286989b251a61138b"
      }
     },
     "b4b4600ed99745608b70d89496f964bb": {
      "model_module": "@jupyter-widgets/base",
      "model_module_version": "1.0.0",
      "model_name": "LayoutModel",
      "state": {}
     },
     "b4b755197fb34e70981d120c690d7275": {
      "model_module": "@jupyter-widgets/controls",
      "model_module_version": "1.1.0",
      "model_name": "DropdownModel",
      "state": {
       "_options_labels": [
        "-",
        "5",
        "6",
        "7",
        "8",
        "9",
        "10"
       ],
       "description": "Random:",
       "index": 0,
       "layout": "IPY_MODEL_b5a23e7af0394ff197563d66bb0bb60d",
       "style": "IPY_MODEL_b9d9cdff91ac4bfca707c861d956cbae"
      }
     },
     "b4de0c4539d04725a69a5a45ca891d65": {
      "model_module": "@jupyter-widgets/base",
      "model_module_version": "1.0.0",
      "model_name": "LayoutModel",
      "state": {}
     },
     "b4f5d419989446eba4da349d74e907f1": {
      "model_module": "@jupyter-widgets/controls",
      "model_module_version": "1.1.0",
      "model_name": "HTMLModel",
      "state": {
       "description": "Sample Link:",
       "layout": "IPY_MODEL_d9cc06d522674169806c81b152464211",
       "placeholder": "",
       "style": "IPY_MODEL_02ea4ed28071428b8a497e1e2247aca4",
       "value": "<i><b>https://www.mudah.my/malaysia/cars-for-sale?o=1&q=&th=1</b><i>"
      }
     },
     "b539b75593784c3abad56cd0ce0f1c69": {
      "model_module": "@jupyter-widgets/controls",
      "model_module_version": "1.1.0",
      "model_name": "ButtonStyleModel",
      "state": {}
     },
     "b54f6a99ee86436391ec49bbbf606cbd": {
      "model_module": "@jupyter-widgets/controls",
      "model_module_version": "1.1.0",
      "model_name": "DescriptionStyleModel",
      "state": {
       "description_width": ""
      }
     },
     "b5a23e7af0394ff197563d66bb0bb60d": {
      "model_module": "@jupyter-widgets/base",
      "model_module_version": "1.0.0",
      "model_name": "LayoutModel",
      "state": {}
     },
     "b5ba8def33734762a1553df7308ee799": {
      "model_module": "@jupyter-widgets/controls",
      "model_module_version": "1.1.0",
      "model_name": "TabModel",
      "state": {
       "_titles": {
        "0": "1. Extaction",
        "1": "2. Data",
        "2": "3. Evaluation"
       },
       "children": [
        "IPY_MODEL_c1aed1dbd974447390e3105e74d28fa1",
        "IPY_MODEL_b4a4b72ad0324362bb982cdef43f5ca8",
        "IPY_MODEL_fc1e7c997c12448d936f0dacc5166473"
       ],
       "layout": "IPY_MODEL_f91d568c99cf4654a7eaab04d7053ccf",
       "selected_index": 1
      }
     },
     "b5c5c496fca945c5957d59d85e8d3e8c": {
      "model_module": "@jupyter-widgets/base",
      "model_module_version": "1.0.0",
      "model_name": "LayoutModel",
      "state": {}
     },
     "b5f9e27eddad4af38a41949ec6e09f81": {
      "model_module": "@jupyter-widgets/controls",
      "model_module_version": "1.1.0",
      "model_name": "DescriptionStyleModel",
      "state": {
       "description_width": ""
      }
     },
     "b6294524e98545f2a3092ac9b03cc4f7": {
      "model_module": "@jupyter-widgets/controls",
      "model_module_version": "1.1.0",
      "model_name": "DescriptionStyleModel",
      "state": {
       "description_width": ""
      }
     },
     "b64ad0cd0f8640b6b2cdd61f039067c3": {
      "model_module": "@jupyter-widgets/base",
      "model_module_version": "1.0.0",
      "model_name": "LayoutModel",
      "state": {}
     },
     "b663bfdb3a244fdbaedb87f066d899af": {
      "model_module": "@jupyter-widgets/controls",
      "model_module_version": "1.1.0",
      "model_name": "ButtonStyleModel",
      "state": {
       "button_color": "lightblue"
      }
     },
     "b68f160dbb514798ab987768c9bf3669": {
      "model_module": "@jupyter-widgets/controls",
      "model_module_version": "1.1.0",
      "model_name": "DescriptionStyleModel",
      "state": {
       "description_width": ""
      }
     },
     "b6cd3ca9c1dc4f23b04a35a131cd1578": {
      "model_module": "@jupyter-widgets/controls",
      "model_module_version": "1.1.0",
      "model_name": "VBoxModel",
      "state": {
       "children": [
        "IPY_MODEL_28d0f734aa624085958d1c3ce6b4f1b6",
        "IPY_MODEL_db0a51fc3c92432e8a6dfc49ee7474d0"
       ],
       "layout": "IPY_MODEL_39935092d0e14179997d0de93a2058a6"
      }
     },
     "b6de5d2a248249b68ff41f3a07334c64": {
      "model_module": "@jupyter-widgets/controls",
      "model_module_version": "1.1.0",
      "model_name": "HBoxModel",
      "state": {
       "children": [
        "IPY_MODEL_c277788803d94f98a50c95662b50d169",
        "IPY_MODEL_9576f7fe000e46e58bd58e8d79c5b614",
        "IPY_MODEL_71749f1dd77a4d5fbe3718110bc8b631"
       ],
       "layout": "IPY_MODEL_ffa9383df0114466b88807a9e29d9595"
      }
     },
     "b7026ad4a9f5477fbfca4fd292692c29": {
      "model_module": "@jupyter-widgets/base",
      "model_module_version": "1.0.0",
      "model_name": "LayoutModel",
      "state": {}
     },
     "b70df7fd4b904aae9f9ef5ee970b9334": {
      "model_module": "@jupyter-widgets/base",
      "model_module_version": "1.0.0",
      "model_name": "LayoutModel",
      "state": {}
     },
     "b736bad3673b48489adbdf0d102a3b7c": {
      "model_module": "@jupyter-widgets/controls",
      "model_module_version": "1.1.0",
      "model_name": "SelectMultipleModel",
      "state": {
       "_options_labels": [
        "Price",
        "Year",
        "Mileage"
       ],
       "description": "Filter by",
       "index": [
        0
       ],
       "layout": "IPY_MODEL_c32ad97c660d419ba942a949937235b3",
       "rows": 3,
       "style": "IPY_MODEL_f75131090c6c420bb5f05b5384a54224"
      }
     },
     "b74141f1ed434d53af3780f02ebe0da6": {
      "model_module": "@jupyter-widgets/controls",
      "model_module_version": "1.1.0",
      "model_name": "VBoxModel",
      "state": {
       "children": [
        "IPY_MODEL_3db03be525d946e6b94134adf035c076",
        "IPY_MODEL_7500865d96ca4f1dbbe71bbe3f3ec2a7",
        "IPY_MODEL_fa67e536e28c4a23be7662f95e68f9d9",
        "IPY_MODEL_cd93df0abb2045b1b0b942da07048171"
       ],
       "layout": "IPY_MODEL_52317009b8344f2d85026dc6b7c1d8e0"
      }
     },
     "b789a82509de4a15acf6248523d9a349": {
      "model_module": "@jupyter-widgets/base",
      "model_module_version": "1.0.0",
      "model_name": "LayoutModel",
      "state": {}
     },
     "b79bff83f3fb48008fb78b1169993a62": {
      "model_module": "@jupyter-widgets/controls",
      "model_module_version": "1.1.0",
      "model_name": "HBoxModel",
      "state": {
       "children": [
        "IPY_MODEL_16d09be3098848478be9002d125a237b",
        "IPY_MODEL_645b8d76641248b58984b8b1d1745d22"
       ],
       "layout": "IPY_MODEL_ff6010c52bc44d27b99c80d0f068ae57"
      }
     },
     "b8c2704276a640749b4a833bd7dda28e": {
      "model_module": "@jupyter-widgets/base",
      "model_module_version": "1.0.0",
      "model_name": "LayoutModel",
      "state": {}
     },
     "b8d5b4fc79ed4ed382a29f9efa97296f": {
      "model_module": "@jupyter-widgets/base",
      "model_module_version": "1.0.0",
      "model_name": "LayoutModel",
      "state": {}
     },
     "b8e81dc2819a48cfbaa5ddc238f12c34": {
      "model_module": "@jupyter-widgets/controls",
      "model_module_version": "1.1.0",
      "model_name": "DescriptionStyleModel",
      "state": {
       "description_width": ""
      }
     },
     "b9187545c95a42a1aa0d162e82ce3734": {
      "model_module": "@jupyter-widgets/controls",
      "model_module_version": "1.1.0",
      "model_name": "TextModel",
      "state": {
       "description": "Folder Path:",
       "layout": "IPY_MODEL_a62307b2e4954dde8bb77604e430eb86",
       "placeholder": "Save Scraped Dataset",
       "style": "IPY_MODEL_4001cb50f75f48aeb17feb7e0bc7ef10"
      }
     },
     "b93ea73f848e4895a0a3f597c53eafaa": {
      "model_module": "@jupyter-widgets/controls",
      "model_module_version": "1.1.0",
      "model_name": "ButtonStyleModel",
      "state": {
       "button_color": "lightblue"
      }
     },
     "b9bce5b28229431f8de0cb265328a207": {
      "model_module": "@jupyter-widgets/controls",
      "model_module_version": "1.1.0",
      "model_name": "DescriptionStyleModel",
      "state": {
       "description_width": ""
      }
     },
     "b9d9cdff91ac4bfca707c861d956cbae": {
      "model_module": "@jupyter-widgets/controls",
      "model_module_version": "1.1.0",
      "model_name": "DescriptionStyleModel",
      "state": {
       "description_width": ""
      }
     },
     "b9dafbf2d0b84bf0976d86be0339e1ca": {
      "model_module": "@jupyter-widgets/base",
      "model_module_version": "1.0.0",
      "model_name": "LayoutModel",
      "state": {}
     },
     "b9f4df305d614f74afb6bef966df9b0c": {
      "model_module": "@jupyter-widgets/controls",
      "model_module_version": "1.1.0",
      "model_name": "HTMLModel",
      "state": {
       "layout": "IPY_MODEL_835a523124004e6ab511a6b213733f5a",
       "placeholder": "",
       "style": "IPY_MODEL_55d07732a502419a8863643f636b73c1",
       "value": "<b>Choose to view and compare by attributes<b>!!"
      }
     },
     "b9f92f86ec4347a992164374089033de": {
      "model_module": "@jupyter-widgets/base",
      "model_module_version": "1.0.0",
      "model_name": "LayoutModel",
      "state": {}
     },
     "ba25c378da3844dab0955b684c9da2dd": {
      "model_module": "@jupyter-widgets/controls",
      "model_module_version": "1.1.0",
      "model_name": "HBoxModel",
      "state": {
       "children": [
        "IPY_MODEL_950ddea25c8a4d998bc7e6980d009b96",
        "IPY_MODEL_6c561e1f4aac49fc8512fef4b7171c0e"
       ],
       "layout": "IPY_MODEL_36e184778c2b4c378e9f5a7052c3da4c"
      }
     },
     "ba28f866608a4f01a591d7ff80aebf06": {
      "model_module": "@jupyter-widgets/output",
      "model_module_version": "1.0.0",
      "model_name": "OutputModel",
      "state": {
       "layout": "IPY_MODEL_d65a97aae3934cc190c000d22d464d9e"
      }
     },
     "ba3b65a9051249f78171ae0e71777155": {
      "model_module": "@jupyter-widgets/controls",
      "model_module_version": "1.1.0",
      "model_name": "DescriptionStyleModel",
      "state": {
       "description_width": ""
      }
     },
     "ba618063ccf343ef9738ec005d2fe4c2": {
      "model_module": "@jupyter-widgets/controls",
      "model_module_version": "1.1.0",
      "model_name": "SelectMultipleModel",
      "state": {
       "_options_labels": [
        "Price",
        "Year",
        "Mileage"
       ],
       "description": "Filter by",
       "index": [
        0
       ],
       "layout": "IPY_MODEL_6d30afcf0d304716bada29ee0fbd8cd0",
       "rows": 3,
       "style": "IPY_MODEL_5ea6f63f88374e0ab9fc1d988cda1e1f"
      }
     },
     "ba7c47c0b22c4c87b57d0025331faa46": {
      "model_module": "@jupyter-widgets/controls",
      "model_module_version": "1.1.0",
      "model_name": "ButtonModel",
      "state": {
       "description": "Click Me",
       "icon": "check",
       "layout": "IPY_MODEL_bedf1742de2b496ba40829e090e7e313",
       "style": "IPY_MODEL_deead19a41aa4c19b4368f27fbe7089f",
       "tooltip": "Click me"
      }
     },
     "bac399e866224423b040048575cafdef": {
      "model_module": "@jupyter-widgets/controls",
      "model_module_version": "1.1.0",
      "model_name": "VBoxModel",
      "state": {
       "children": [
        "IPY_MODEL_eadd9737089643eca113f66e6e04869a",
        "IPY_MODEL_f78821cde68742da82c031497c08585c",
        "IPY_MODEL_833d249060ce44658b89fc99f4354e88",
        "IPY_MODEL_14374f0eed064d1598736c5d70d38f93"
       ],
       "layout": "IPY_MODEL_53ad4926068646dbb869ef12462a9ac5"
      }
     },
     "bad221f107f24655a7cc90a376855ea5": {
      "model_module": "@jupyter-widgets/controls",
      "model_module_version": "1.1.0",
      "model_name": "HBoxModel",
      "state": {
       "children": [
        "IPY_MODEL_21fb62e5b4b149e1b76ea581c6cd95b0",
        "IPY_MODEL_155d4b78586244cfbc5f768518545b9a"
       ],
       "layout": "IPY_MODEL_8e093193d46c43d5a5c434a8ec7165d7"
      }
     },
     "bae92aa8ae6141969865157c04f35226": {
      "model_module": "@jupyter-widgets/base",
      "model_module_version": "1.0.0",
      "model_name": "LayoutModel",
      "state": {}
     },
     "baedf48211b64a6483333343dabac731": {
      "model_module": "@jupyter-widgets/controls",
      "model_module_version": "1.1.0",
      "model_name": "VBoxModel",
      "state": {
       "children": [
        "IPY_MODEL_bba9e3584811481d801976797911dfa7",
        "IPY_MODEL_dd49c91cfdb94a6a89a185516577131d"
       ],
       "layout": "IPY_MODEL_34b93282438545d9bd868d3dbdb32527"
      }
     },
     "baf3e903ff524e07b41034fb20d68465": {
      "model_module": "@jupyter-widgets/controls",
      "model_module_version": "1.1.0",
      "model_name": "DescriptionStyleModel",
      "state": {
       "description_width": ""
      }
     },
     "bb137a0b31a24b9a8d075b99cbe4d18d": {
      "model_module": "@jupyter-widgets/base",
      "model_module_version": "1.0.0",
      "model_name": "LayoutModel",
      "state": {}
     },
     "bb27c81563d94b42a5cf19a4601871d8": {
      "model_module": "@jupyter-widgets/base",
      "model_module_version": "1.0.0",
      "model_name": "LayoutModel",
      "state": {}
     },
     "bb6eeb672d404159b5025598ced30c6f": {
      "model_module": "@jupyter-widgets/controls",
      "model_module_version": "1.1.0",
      "model_name": "TextModel",
      "state": {
       "description": "Link:",
       "layout": "IPY_MODEL_7f1b23f208604fbc986b0499b6f4f8db",
       "placeholder": "Paste your mudah.my link here",
       "style": "IPY_MODEL_7752568ceb9243fab544b225e660af11"
      }
     },
     "bb727ed9dd994528be70253f3323cf02": {
      "model_module": "@jupyter-widgets/controls",
      "model_module_version": "1.1.0",
      "model_name": "AccordionModel",
      "state": {
       "_titles": {
        "0": "Scrap"
       },
       "children": [
        "IPY_MODEL_4585d3ed2cc843609dfb4eeff3f0c9e6"
       ],
       "layout": "IPY_MODEL_a466e5de43fa4b73a0959891fe594d46"
      }
     },
     "bb8a1a2b848249e58aa8c2be3fd69c63": {
      "model_module": "@jupyter-widgets/controls",
      "model_module_version": "1.1.0",
      "model_name": "TextModel",
      "state": {
       "description": "CSV file:",
       "layout": "IPY_MODEL_f196b839cf764f64a658b14c2d221f5c",
       "placeholder": "Name your scrap csv file",
       "style": "IPY_MODEL_818174caa3a543ab826c503608883279"
      }
     },
     "bba9e3584811481d801976797911dfa7": {
      "model_module": "@jupyter-widgets/controls",
      "model_module_version": "1.1.0",
      "model_name": "HTMLModel",
      "state": {
       "description": "Sample Link:",
       "layout": "IPY_MODEL_f4ef6924a22040a69eda67c1a2ea031b",
       "placeholder": "",
       "style": "IPY_MODEL_6030f464f9684962be3729ea296484eb",
       "value": "<i><b>https://www.mudah.my/malaysia/cars-for-sale?o=1&q=&th=1</b><i>"
      }
     },
     "bbafef2846a34bf78f7dc072183956cd": {
      "model_module": "@jupyter-widgets/controls",
      "model_module_version": "1.1.0",
      "model_name": "ButtonStyleModel",
      "state": {
       "button_color": "lightblue"
      }
     },
     "bbe6e5f0d003414191693cad46aabe3f": {
      "model_module": "@jupyter-widgets/controls",
      "model_module_version": "1.1.0",
      "model_name": "TextModel",
      "state": {
       "description": "Link:",
       "layout": "IPY_MODEL_295034a33e844c8abc7bea0c3e1c3fb6",
       "placeholder": "Paste your mudah.my link here",
       "style": "IPY_MODEL_b5f9e27eddad4af38a41949ec6e09f81"
      }
     },
     "bbf1223846074a629d1d9fc90633eb53": {
      "model_module": "@jupyter-widgets/base",
      "model_module_version": "1.0.0",
      "model_name": "LayoutModel",
      "state": {}
     },
     "bbfd7247014a4005b2549c3a67142ed7": {
      "model_module": "@jupyter-widgets/controls",
      "model_module_version": "1.1.0",
      "model_name": "DescriptionStyleModel",
      "state": {
       "description_width": ""
      }
     },
     "bc07d51c7bd049b6b214422ef3b7ce70": {
      "model_module": "@jupyter-widgets/controls",
      "model_module_version": "1.1.0",
      "model_name": "TextModel",
      "state": {
       "description": "Folder Path:",
       "layout": "IPY_MODEL_a0498110ecf542a0a21e8c7b4f0e97bd",
       "placeholder": "Upload cleaned dataset",
       "style": "IPY_MODEL_6ca2164e821a48a2b3db63fcac478a2a"
      }
     },
     "bc5031fd704347b0acfaec1b56e5f913": {
      "model_module": "@jupyter-widgets/base",
      "model_module_version": "1.0.0",
      "model_name": "LayoutModel",
      "state": {}
     },
     "bc5707130da84f9591aee6ff697cd9cb": {
      "model_module": "@jupyter-widgets/controls",
      "model_module_version": "1.1.0",
      "model_name": "VBoxModel",
      "state": {
       "children": [
        "IPY_MODEL_0a2dbd6458f8459dabb1c3e865a41085",
        "IPY_MODEL_c55d802d0dec40b0b2ed40e39f14bb2e"
       ],
       "layout": "IPY_MODEL_ae16bfa2362f4d00b644d00af2a2a094"
      }
     },
     "bc6bbee9cfab42db9606b86bc78d3445": {
      "model_module": "@jupyter-widgets/base",
      "model_module_version": "1.0.0",
      "model_name": "LayoutModel",
      "state": {}
     },
     "bc6d2493aa5641e385fadacb7794f575": {
      "model_module": "@jupyter-widgets/controls",
      "model_module_version": "1.1.0",
      "model_name": "VBoxModel",
      "state": {
       "children": [
        "IPY_MODEL_db5eaa7a0c66490aa37b63f36ee264c0",
        "IPY_MODEL_17cb28b44aca474f8b49243527ed1be9"
       ],
       "layout": "IPY_MODEL_2cd7771f8ff64ba3927f6803844a6720"
      }
     },
     "bc8301d0bf33459ea8378859e8bb8a4a": {
      "model_module": "@jupyter-widgets/controls",
      "model_module_version": "1.1.0",
      "model_name": "HTMLModel",
      "state": {
       "layout": "IPY_MODEL_8ab0381f3af2470eb0fd41ee422f94ba",
       "placeholder": "",
       "style": "IPY_MODEL_c14424b68a804db78b0f43bd54946026",
       "value": "<b>Choose to view and compare by attributes<b>"
      }
     },
     "bcac3dd756a44448ab3d85ff0c8a831a": {
      "model_module": "@jupyter-widgets/controls",
      "model_module_version": "1.1.0",
      "model_name": "TextModel",
      "state": {
       "description": "Folder Path:",
       "layout": "IPY_MODEL_4dc6cb5c3f674fffb7d7e3499d648acc",
       "placeholder": "Paste folder path to upload dataset",
       "style": "IPY_MODEL_5660402b0924413c9b7ba747de832ad9"
      }
     },
     "bcfc4c6f86a44c9c901bdb29cd287a60": {
      "model_module": "@jupyter-widgets/controls",
      "model_module_version": "1.1.0",
      "model_name": "HTMLModel",
      "state": {
       "layout": "IPY_MODEL_32acb930aa1e43f4a7b3deed077fc685",
       "placeholder": "",
       "style": "IPY_MODEL_9128ebc960c64108a996bf13c63c3165",
       "value": "Apply <b>Data Mining<b> Method!!"
      }
     },
     "bd2439d47bef4f90a5830045806b7d24": {
      "model_module": "@jupyter-widgets/base",
      "model_module_version": "1.0.0",
      "model_name": "LayoutModel",
      "state": {}
     },
     "bd60008baaec4ab4a79fe871e57a5d80": {
      "model_module": "@jupyter-widgets/base",
      "model_module_version": "1.0.0",
      "model_name": "LayoutModel",
      "state": {}
     },
     "bd6174de829c4b3ba310227cddd66430": {
      "model_module": "@jupyter-widgets/base",
      "model_module_version": "1.0.0",
      "model_name": "LayoutModel",
      "state": {}
     },
     "bd714b377694431bb0b947c753a43a57": {
      "model_module": "@jupyter-widgets/controls",
      "model_module_version": "1.1.0",
      "model_name": "ButtonStyleModel",
      "state": {}
     },
     "bd8c3b18fe93480f8f69a78346cfa72c": {
      "model_module": "@jupyter-widgets/controls",
      "model_module_version": "1.1.0",
      "model_name": "ButtonStyleModel",
      "state": {}
     },
     "bda66ee46d524d5babf019f84c3dc3e5": {
      "model_module": "@jupyter-widgets/controls",
      "model_module_version": "1.1.0",
      "model_name": "DescriptionStyleModel",
      "state": {
       "description_width": ""
      }
     },
     "bdfad4a6e6604e67ad0630dff0dc0e45": {
      "model_module": "@jupyter-widgets/controls",
      "model_module_version": "1.1.0",
      "model_name": "DescriptionStyleModel",
      "state": {
       "description_width": ""
      }
     },
     "be18a13a1e024d98b428e1afbcfe4e9e": {
      "model_module": "@jupyter-widgets/controls",
      "model_module_version": "1.1.0",
      "model_name": "HTMLModel",
      "state": {
       "layout": "IPY_MODEL_905e3a7f0dba4867b2295303034d3732",
       "placeholder": "",
       "style": "IPY_MODEL_33b725cacd5a463297a668a8ab9d6ac1",
       "value": "<b>Choose how to view your data</b>"
      }
     },
     "be531467309840e98c50e8924b26e9af": {
      "model_module": "@jupyter-widgets/controls",
      "model_module_version": "1.1.0",
      "model_name": "VBoxModel",
      "state": {
       "children": [
        "IPY_MODEL_8f1ccdef41ef48c6bbf02a6c40669928",
        "IPY_MODEL_5824cb8c0f534c1b88689176c33a08b3"
       ],
       "layout": "IPY_MODEL_9a87c01726574cb38f1c89c470f32def"
      }
     },
     "be63eb08f15347659136c964fa73ff50": {
      "model_module": "@jupyter-widgets/controls",
      "model_module_version": "1.1.0",
      "model_name": "TabModel",
      "state": {
       "_titles": {
        "0": "1. Extaction",
        "1": "2. Data",
        "2": "3. Evaluation"
       },
       "children": [
        "IPY_MODEL_3457b6ca085f466488aa51be1b678d2a",
        "IPY_MODEL_28241c07c4b349b8aa330990766b359f",
        "IPY_MODEL_3be67767fb4e43e1b579af0795defe74"
       ],
       "layout": "IPY_MODEL_e0e1691b449c41f696417ad6ce118a9e"
      }
     },
     "be6445ad7cf64a24a024977ba301d259": {
      "model_module": "@jupyter-widgets/controls",
      "model_module_version": "1.1.0",
      "model_name": "VBoxModel",
      "state": {
       "children": [
        "IPY_MODEL_bff8addeabaf452cacb333c7148e6700",
        "IPY_MODEL_7493b78af798428cbb5ba18c8ae2de46",
        "IPY_MODEL_a86e40daeb0e40b7928dc081be52729e",
        "IPY_MODEL_30958a795177422c96cf2d9500b34d64"
       ],
       "layout": "IPY_MODEL_0b402432bc1a4f75bc6e033ab7a89969"
      }
     },
     "be9144e4480d4342b40d8aeb5064bf53": {
      "model_module": "@jupyter-widgets/base",
      "model_module_version": "1.0.0",
      "model_name": "LayoutModel",
      "state": {}
     },
     "be91601ba58447b9aef9bc597f941fd4": {
      "model_module": "@jupyter-widgets/base",
      "model_module_version": "1.0.0",
      "model_name": "LayoutModel",
      "state": {}
     },
     "bec9c03c55664adbb61cb471f4a6042c": {
      "model_module": "@jupyter-widgets/controls",
      "model_module_version": "1.1.0",
      "model_name": "SelectMultipleModel",
      "state": {
       "_options_labels": [
        "Apples",
        "Oranges",
        "Pears"
       ],
       "description": "Fruits",
       "index": [
        0
       ],
       "layout": "IPY_MODEL_ae02cd9dad5d41b99921ad60a98efc5f",
       "rows": 10,
       "style": "IPY_MODEL_8e01368b3ce14a8cb7160dab34b39bec"
      }
     },
     "bedf1742de2b496ba40829e090e7e313": {
      "model_module": "@jupyter-widgets/base",
      "model_module_version": "1.0.0",
      "model_name": "LayoutModel",
      "state": {}
     },
     "bf04f2d521e94a62ad004ff930796aa2": {
      "model_module": "@jupyter-widgets/controls",
      "model_module_version": "1.1.0",
      "model_name": "DescriptionStyleModel",
      "state": {
       "description_width": ""
      }
     },
     "bf1ab0cdad1a44988ac4af2def44a1d4": {
      "model_module": "@jupyter-widgets/base",
      "model_module_version": "1.0.0",
      "model_name": "LayoutModel",
      "state": {}
     },
     "bf2c380e4d114ddd85f1196db05148a1": {
      "model_module": "@jupyter-widgets/controls",
      "model_module_version": "1.1.0",
      "model_name": "TextModel",
      "state": {
       "description": "CSV file:",
       "layout": "IPY_MODEL_bfbf615c3ed0444ba0653141be466137",
       "placeholder": "Name of cleaned csv file",
       "style": "IPY_MODEL_c085f0cc8d964633bae4160fbe66c66e"
      }
     },
     "bf654ff5548e49ecada934627a1ac8b4": {
      "model_module": "@jupyter-widgets/controls",
      "model_module_version": "1.1.0",
      "model_name": "HTMLModel",
      "state": {
       "description": "Sample CSV:",
       "layout": "IPY_MODEL_d304e8c62d5b48589a408175ecf1ecce",
       "placeholder": "",
       "style": "IPY_MODEL_0ab356d8b034422899911e56eca4d15c",
       "value": "<i><b>kereta</b><i>"
      }
     },
     "bf771e36e52c4c5a90276286f6251f61": {
      "model_module": "@jupyter-widgets/controls",
      "model_module_version": "1.1.0",
      "model_name": "DescriptionStyleModel",
      "state": {
       "description_width": ""
      }
     },
     "bf7a5f1bde2c473dba4e01fae132bcd8": {
      "model_module": "@jupyter-widgets/controls",
      "model_module_version": "1.1.0",
      "model_name": "DescriptionStyleModel",
      "state": {
       "description_width": ""
      }
     },
     "bfbf615c3ed0444ba0653141be466137": {
      "model_module": "@jupyter-widgets/base",
      "model_module_version": "1.0.0",
      "model_name": "LayoutModel",
      "state": {}
     },
     "bfcafa02d7d7404698cd99cb12f087a0": {
      "model_module": "@jupyter-widgets/controls",
      "model_module_version": "1.1.0",
      "model_name": "TextModel",
      "state": {
       "description": "CSV file:",
       "layout": "IPY_MODEL_9bebc494103e4cf5871fc91b988e8b63",
       "placeholder": "Name your scrap csv file",
       "style": "IPY_MODEL_3d098d12f21642199bfe5e54280e783d"
      }
     },
     "bff8addeabaf452cacb333c7148e6700": {
      "model_module": "@jupyter-widgets/controls",
      "model_module_version": "1.1.0",
      "model_name": "HTMLModel",
      "state": {
       "description": "Sample Path:",
       "layout": "IPY_MODEL_6db44f301369489bb7f35099a1de2148",
       "placeholder": "",
       "style": "IPY_MODEL_1fe6d1a4707743498926306c550c317f",
       "value": "<i><b>C:\\Users\\LENOVO\\Documents</b><i>"
      }
     },
     "bffed4bfaa384ef1be9a7085f226524b": {
      "model_module": "@jupyter-widgets/controls",
      "model_module_version": "1.1.0",
      "model_name": "HTMLModel",
      "state": {
       "description": "Sample Link:",
       "layout": "IPY_MODEL_2de47e54cb7d45a29f4f07ed526c0203",
       "placeholder": "",
       "style": "IPY_MODEL_8fd24f1c5f8445c1844a33aa2a32f2c9",
       "value": "<i><b>https://www.mudah.my/malaysia/cars-for-sale?o=1&q=&th=1</b><i>"
      }
     },
     "c009b1be3dc14974a2d79056742c8c09": {
      "model_module": "@jupyter-widgets/controls",
      "model_module_version": "1.1.0",
      "model_name": "VBoxModel",
      "state": {
       "children": [
        "IPY_MODEL_142bba1411d04fc9adc1fe76ba5e2c20",
        "IPY_MODEL_b23de9e58b1b4777bc77ca7f26c42522",
        "IPY_MODEL_d0725ee65c4748b3bd20b080d5952007",
        "IPY_MODEL_471a86bf6a874b0094743671469fe375"
       ],
       "layout": "IPY_MODEL_289b40ba4bd848238994d35ff0884a84"
      }
     },
     "c0145027c8f242d2ab8c77197feeb090": {
      "model_module": "@jupyter-widgets/base",
      "model_module_version": "1.0.0",
      "model_name": "LayoutModel",
      "state": {}
     },
     "c0244e8a0f954e4da22a1ba05ccce602": {
      "model_module": "@jupyter-widgets/controls",
      "model_module_version": "1.1.0",
      "model_name": "VBoxModel",
      "state": {
       "children": [
        "IPY_MODEL_62680191192a49138b251b2882baf95d",
        "IPY_MODEL_03a21665b38741db96365e7b1e454f3e"
       ],
       "layout": "IPY_MODEL_cc4bc522e3064ead90b9e40a215df1f4"
      }
     },
     "c05b5f9f39904c03bc939b78121b7b8c": {
      "model_module": "@jupyter-widgets/controls",
      "model_module_version": "1.1.0",
      "model_name": "HTMLModel",
      "state": {
       "layout": "IPY_MODEL_bc6bbee9cfab42db9606b86bc78d3445",
       "placeholder": "",
       "style": "IPY_MODEL_f30175727e2e417ab7cd93c96a6e39e2",
       "value": "<b>Choose how to view your data</b>"
      }
     },
     "c085f0cc8d964633bae4160fbe66c66e": {
      "model_module": "@jupyter-widgets/controls",
      "model_module_version": "1.1.0",
      "model_name": "DescriptionStyleModel",
      "state": {
       "description_width": ""
      }
     },
     "c0ac9a84398e4854933073b124188007": {
      "model_module": "@jupyter-widgets/base",
      "model_module_version": "1.0.0",
      "model_name": "LayoutModel",
      "state": {}
     },
     "c0aec00a18e148348ff73d7c18e7f53e": {
      "model_module": "@jupyter-widgets/controls",
      "model_module_version": "1.1.0",
      "model_name": "ToggleButtonsModel",
      "state": {
       "_options_labels": [
        "Slow",
        "Regular",
        "Fast"
       ],
       "button_style": "",
       "description": "Speed:",
       "icons": [],
       "index": 0,
       "layout": "IPY_MODEL_11d12137f9ed48daa7ceaa63de9a68cc",
       "style": "IPY_MODEL_a5d7e128619942edb852017e26b8018c",
       "tooltips": [
        "Description of slow",
        "Description of regular",
        "Description of fast"
       ]
      }
     },
     "c0c962a955ec492795f4dfb069d38909": {
      "model_module": "@jupyter-widgets/controls",
      "model_module_version": "1.1.0",
      "model_name": "AccordionModel",
      "state": {
       "_titles": {
        "0": "Method",
        "1": "Analysis"
       },
       "children": [
        "IPY_MODEL_bc6d2493aa5641e385fadacb7794f575",
        "IPY_MODEL_0079a07bf6d44e02a238381380df57d7"
       ],
       "layout": "IPY_MODEL_7a659544e95043f18c6dee4e2e5c5c7e",
       "selected_index": null
      }
     },
     "c0cae2dca48648d78f04c87a81e603e4": {
      "model_module": "@jupyter-widgets/controls",
      "model_module_version": "1.1.0",
      "model_name": "DescriptionStyleModel",
      "state": {
       "description_width": ""
      }
     },
     "c0df1fc8c6194409b82f70b743e427d7": {
      "model_module": "@jupyter-widgets/base",
      "model_module_version": "1.0.0",
      "model_name": "LayoutModel",
      "state": {}
     },
     "c112f66068e44d9ab0150dcb4546280d": {
      "model_module": "@jupyter-widgets/controls",
      "model_module_version": "1.1.0",
      "model_name": "HTMLModel",
      "state": {
       "description": "Sample Path:",
       "layout": "IPY_MODEL_0ed9d45d482d4f1fb6b6f5e225e67044",
       "placeholder": "",
       "style": "IPY_MODEL_5e21350413244a51b0dfec052a86a9b1",
       "value": "<i><b>C:\\Users\\LENOVO\\Documents</b><i>"
      }
     },
     "c14424b68a804db78b0f43bd54946026": {
      "model_module": "@jupyter-widgets/controls",
      "model_module_version": "1.1.0",
      "model_name": "DescriptionStyleModel",
      "state": {
       "description_width": ""
      }
     },
     "c156f65e96d64f958c212f4c31d42a5d": {
      "model_module": "@jupyter-widgets/base",
      "model_module_version": "1.0.0",
      "model_name": "LayoutModel",
      "state": {}
     },
     "c1aed1dbd974447390e3105e74d28fa1": {
      "model_module": "@jupyter-widgets/controls",
      "model_module_version": "1.1.0",
      "model_name": "AccordionModel",
      "state": {
       "_titles": {
        "0": "Source",
        "1": "Save",
        "2": "Scrap"
       },
       "children": [
        "IPY_MODEL_05e64599de61464197c776e254148a84",
        "IPY_MODEL_b28d892466134cf6b69f03ad873116f0",
        "IPY_MODEL_35d2226f985047118ae534105052d9fe"
       ],
       "layout": "IPY_MODEL_59bf44adf6094b8fa53e2545d336d181",
       "selected_index": 2
      }
     },
     "c1b8d181441546f097227084d3877111": {
      "model_module": "@jupyter-widgets/controls",
      "model_module_version": "1.1.0",
      "model_name": "DescriptionStyleModel",
      "state": {
       "description_width": ""
      }
     },
     "c1ca2ec291844832a7a94f5006726b17": {
      "model_module": "@jupyter-widgets/base",
      "model_module_version": "1.0.0",
      "model_name": "LayoutModel",
      "state": {}
     },
     "c1eaef493d1746aeb107b1e68d2d3b1d": {
      "model_module": "@jupyter-widgets/controls",
      "model_module_version": "1.1.0",
      "model_name": "DescriptionStyleModel",
      "state": {
       "description_width": ""
      }
     },
     "c1f2a393df7547ca84bd31478aa4d749": {
      "model_module": "@jupyter-widgets/base",
      "model_module_version": "1.0.0",
      "model_name": "LayoutModel",
      "state": {}
     },
     "c21afa1d2aa74bb0ab7666ca1ee5a5aa": {
      "model_module": "@jupyter-widgets/controls",
      "model_module_version": "1.1.0",
      "model_name": "VBoxModel",
      "state": {
       "children": [
        "IPY_MODEL_db5eaa7a0c66490aa37b63f36ee264c0",
        "IPY_MODEL_17cb28b44aca474f8b49243527ed1be9"
       ],
       "layout": "IPY_MODEL_a378240bf862488b8662dd28e693f241"
      }
     },
     "c21b762f2e5c4cb896012479891d2c46": {
      "model_module": "@jupyter-widgets/base",
      "model_module_version": "1.0.0",
      "model_name": "LayoutModel",
      "state": {}
     },
     "c2422a6d5ac548878994c46bebc2b5ad": {
      "model_module": "@jupyter-widgets/controls",
      "model_module_version": "1.1.0",
      "model_name": "DescriptionStyleModel",
      "state": {
       "description_width": ""
      }
     },
     "c25a379f075c4272ae7be8a5efd2d8bd": {
      "model_module": "@jupyter-widgets/controls",
      "model_module_version": "1.1.0",
      "model_name": "DescriptionStyleModel",
      "state": {
       "description_width": ""
      }
     },
     "c277788803d94f98a50c95662b50d169": {
      "model_module": "@jupyter-widgets/controls",
      "model_module_version": "1.1.0",
      "model_name": "DropdownModel",
      "state": {
       "_options_labels": [
        "5",
        "6",
        "7",
        "8",
        "9",
        "10"
       ],
       "description": "Head:",
       "index": 0,
       "layout": "IPY_MODEL_fc1bb578c25f491cbcb68541b1ef230f",
       "style": "IPY_MODEL_5c30fdfe2c8743c2a1bbd637329ed421"
      }
     },
     "c2864a26440f44b8827740395f15de51": {
      "model_module": "@jupyter-widgets/controls",
      "model_module_version": "1.1.0",
      "model_name": "ButtonStyleModel",
      "state": {
       "button_color": "lightgreen"
      }
     },
     "c2892cfbe1e34d579de464709d8dc52c": {
      "model_module": "@jupyter-widgets/base",
      "model_module_version": "1.0.0",
      "model_name": "LayoutModel",
      "state": {}
     },
     "c297b392fccb4b6ba8e4ca8d1a720669": {
      "model_module": "@jupyter-widgets/controls",
      "model_module_version": "1.1.0",
      "model_name": "HTMLModel",
      "state": {
       "layout": "IPY_MODEL_bd2439d47bef4f90a5830045806b7d24",
       "placeholder": "",
       "style": "IPY_MODEL_51a67b45543e4852af2961571ef5f054",
       "value": "<b>Click to view Potential Scammers!!<b>"
      }
     },
     "c2a4d148db8d44cc92c50ff573a52d89": {
      "model_module": "@jupyter-widgets/controls",
      "model_module_version": "1.1.0",
      "model_name": "TabModel",
      "state": {
       "_titles": {
        "0": "1. Extaction",
        "1": "2. Data",
        "2": "3. Evaluation"
       },
       "children": [
        "IPY_MODEL_c1aed1dbd974447390e3105e74d28fa1",
        "IPY_MODEL_b4a4b72ad0324362bb982cdef43f5ca8",
        "IPY_MODEL_fc1e7c997c12448d936f0dacc5166473"
       ],
       "layout": "IPY_MODEL_6e274946859b41bf9d680e2193bf3644",
       "selected_index": 1
      }
     },
     "c2a766c3750c465a970c47c5cb79d792": {
      "model_module": "@jupyter-widgets/controls",
      "model_module_version": "1.1.0",
      "model_name": "VBoxModel",
      "state": {
       "children": [
        "IPY_MODEL_8d177eee05dc478f92c66698d8612381",
        "IPY_MODEL_bc07d51c7bd049b6b214422ef3b7ce70",
        "IPY_MODEL_e767bb4486b149b3a8c4721029779486",
        "IPY_MODEL_a56078b5fb524adba1559811a4f8be64"
       ],
       "layout": "IPY_MODEL_f143c31dbfa0462586073d124eb45078"
      }
     },
     "c2e486cb043d422fba34cae7a7367fdb": {
      "model_module": "@jupyter-widgets/base",
      "model_module_version": "1.0.0",
      "model_name": "LayoutModel",
      "state": {}
     },
     "c30e50e0b5b2403c9b8c3502f438da6f": {
      "model_module": "@jupyter-widgets/base",
      "model_module_version": "1.0.0",
      "model_name": "LayoutModel",
      "state": {}
     },
     "c32ad97c660d419ba942a949937235b3": {
      "model_module": "@jupyter-widgets/base",
      "model_module_version": "1.0.0",
      "model_name": "LayoutModel",
      "state": {}
     },
     "c36f82d72faf4fe491ae83a423e01702": {
      "model_module": "@jupyter-widgets/controls",
      "model_module_version": "1.1.0",
      "model_name": "DescriptionStyleModel",
      "state": {
       "description_width": ""
      }
     },
     "c36fc1432545495988868e283f7f4e2c": {
      "model_module": "@jupyter-widgets/controls",
      "model_module_version": "1.1.0",
      "model_name": "ButtonModel",
      "state": {
       "description": "PCA!",
       "icon": "check",
       "layout": "IPY_MODEL_5a11a9a499a64907b1cf7b0ff4aad21c",
       "style": "IPY_MODEL_1b056cc58aae458eb5eab8e8cb712f09",
       "tooltip": "Click me"
      }
     },
     "c37734a9bb66430b8d523c6304ef5563": {
      "model_module": "@jupyter-widgets/base",
      "model_module_version": "1.0.0",
      "model_name": "LayoutModel",
      "state": {}
     },
     "c38d97f4c11d44dc970e0c15d08ab5f8": {
      "model_module": "@jupyter-widgets/controls",
      "model_module_version": "1.1.0",
      "model_name": "ToggleButtonsStyleModel",
      "state": {
       "button_width": "",
       "description_width": ""
      }
     },
     "c3a3450bdd7a42179fa361cc38ac5bea": {
      "model_module": "@jupyter-widgets/controls",
      "model_module_version": "1.1.0",
      "model_name": "DescriptionStyleModel",
      "state": {
       "description_width": ""
      }
     },
     "c3a647c7b21b4277950ac388f3271e57": {
      "model_module": "@jupyter-widgets/controls",
      "model_module_version": "1.1.0",
      "model_name": "VBoxModel",
      "state": {
       "children": [
        "IPY_MODEL_04e1da4747b4457d98324b0fea38ee43",
        "IPY_MODEL_41a6f76fefa94a3796b4ac7a3d445596"
       ],
       "layout": "IPY_MODEL_f1c3adbfb39c4a2b818f28db648781a9"
      }
     },
     "c3ab26995a4c47699e6adb790597ba93": {
      "model_module": "@jupyter-widgets/base",
      "model_module_version": "1.0.0",
      "model_name": "LayoutModel",
      "state": {}
     },
     "c3abd926c22d4650b10176b18369befd": {
      "model_module": "@jupyter-widgets/controls",
      "model_module_version": "1.1.0",
      "model_name": "VBoxModel",
      "state": {
       "children": [
        "IPY_MODEL_d6803277523742d38def27f524338e02",
        "IPY_MODEL_4a220c59a76c4dbfb880badcea68253c"
       ],
       "layout": "IPY_MODEL_248e334970014a6b8c48f0f5c0b885e5"
      }
     },
     "c3d36a1efe3d40c3af63eb8114d973b7": {
      "model_module": "@jupyter-widgets/controls",
      "model_module_version": "1.1.0",
      "model_name": "AccordionModel",
      "state": {
       "_titles": {
        "0": "View"
       },
       "children": [
        "IPY_MODEL_ed290e66c6654befbd46c1202a36791d",
        "IPY_MODEL_06764c74d0fc4d9bb74f6786e6297cb6"
       ],
       "layout": "IPY_MODEL_32fc07a1ce8d41f485f9df97d407ac60"
      }
     },
     "c3d91194f1be4076937fa4012a5a78b8": {
      "model_module": "@jupyter-widgets/base",
      "model_module_version": "1.0.0",
      "model_name": "LayoutModel",
      "state": {}
     },
     "c3de5948e0bb4e2ead8d99e41e5ca099": {
      "model_module": "@jupyter-widgets/base",
      "model_module_version": "1.0.0",
      "model_name": "LayoutModel",
      "state": {}
     },
     "c3e14ac2a4674e5faeeeb150ec24c546": {
      "model_module": "@jupyter-widgets/base",
      "model_module_version": "1.0.0",
      "model_name": "LayoutModel",
      "state": {}
     },
     "c40c2f11afcb42f39e34556597e5eb68": {
      "model_module": "@jupyter-widgets/controls",
      "model_module_version": "1.1.0",
      "model_name": "HTMLModel",
      "state": {
       "layout": "IPY_MODEL_26bcbe9a873e4f12af135dba672b62db",
       "placeholder": "",
       "style": "IPY_MODEL_285c245cdafe4a8ba8dcb7cc171b6ffc",
       "value": "<b>Scammer Detector</b>"
      }
     },
     "c4130d3c04164f4b94d2e416173de5f7": {
      "model_module": "@jupyter-widgets/base",
      "model_module_version": "1.0.0",
      "model_name": "LayoutModel",
      "state": {}
     },
     "c4411c578ff34f4a960842497d9f6054": {
      "model_module": "@jupyter-widgets/base",
      "model_module_version": "1.0.0",
      "model_name": "LayoutModel",
      "state": {}
     },
     "c4578dc89a094a94b833f23c73d8d789": {
      "model_module": "@jupyter-widgets/base",
      "model_module_version": "1.0.0",
      "model_name": "LayoutModel",
      "state": {}
     },
     "c473c07fd1fe42d2bab9060de34bee5d": {
      "model_module": "@jupyter-widgets/controls",
      "model_module_version": "1.1.0",
      "model_name": "VBoxModel",
      "state": {
       "children": [
        "IPY_MODEL_f6788611c2ad43718aad19ae39da45f8",
        "IPY_MODEL_841c7a447a38402aaeffa8487a4d5cf8"
       ],
       "layout": "IPY_MODEL_c7a67cfbddcd4895bbbce2076640376e"
      }
     },
     "c48961283361492592bbbccb88b3d3c6": {
      "model_module": "@jupyter-widgets/base",
      "model_module_version": "1.0.0",
      "model_name": "LayoutModel",
      "state": {}
     },
     "c48f116147364a209a290fd3f6510a8f": {
      "model_module": "@jupyter-widgets/base",
      "model_module_version": "1.0.0",
      "model_name": "LayoutModel",
      "state": {}
     },
     "c4b77d06a74944a79cbe9d6318d31824": {
      "model_module": "@jupyter-widgets/controls",
      "model_module_version": "1.1.0",
      "model_name": "TextModel",
      "state": {
       "description": "CSV file:",
       "layout": "IPY_MODEL_7e15522d5e014f0e97458b5f6b8d4a63",
       "placeholder": "Name your scrap csv file",
       "style": "IPY_MODEL_ea61e8a6e5734c2aa164c68b1a5c0c27"
      }
     },
     "c4f7f36da73e4251910a884ccd08be48": {
      "model_module": "@jupyter-widgets/controls",
      "model_module_version": "1.1.0",
      "model_name": "ButtonModel",
      "state": {
       "description": "PCA!",
       "icon": "check",
       "layout": "IPY_MODEL_46e493f22f9a4fb38afb893fde66717d",
       "style": "IPY_MODEL_ee2c76f90f5947fdbaafe7195ac3ed29",
       "tooltip": "Click me"
      }
     },
     "c523bc0aa71849d9913b2c20ec74a6ed": {
      "model_module": "@jupyter-widgets/controls",
      "model_module_version": "1.1.0",
      "model_name": "DescriptionStyleModel",
      "state": {
       "description_width": ""
      }
     },
     "c52e5f11f080475597c90a18038791ca": {
      "model_module": "@jupyter-widgets/controls",
      "model_module_version": "1.1.0",
      "model_name": "AccordionModel",
      "state": {
       "_titles": {
        "0": "Method",
        "1": "Analysis",
        "2": "Result"
       },
       "children": [
        "IPY_MODEL_2c46aec423f94b75b05287be46a1fe5f",
        "IPY_MODEL_05b456de2c8341a6b2139b0b101f1389",
        "IPY_MODEL_9be00890b0fd4071ab46e041bfe2d081"
       ],
       "layout": "IPY_MODEL_56dc76b580f44916ac2ec35f0b5ef7aa",
       "selected_index": null
      }
     },
     "c5518b50d2c048159c586235378434f3": {
      "model_module": "@jupyter-widgets/controls",
      "model_module_version": "1.1.0",
      "model_name": "HBoxModel",
      "state": {
       "children": [
        "IPY_MODEL_377c02a87f604dc5915e5e20db8be8b3",
        "IPY_MODEL_189bfc24a3cb42e5a23629439dc99157"
       ],
       "layout": "IPY_MODEL_23005d79f0e24aea8d4b8714b705fa98"
      }
     },
     "c55d802d0dec40b0b2ed40e39f14bb2e": {
      "model_module": "@jupyter-widgets/controls",
      "model_module_version": "1.1.0",
      "model_name": "ButtonModel",
      "state": {
       "description": "Click Me",
       "icon": "check",
       "layout": "IPY_MODEL_9ca71a26fca54a5995affad3218db7db",
       "style": "IPY_MODEL_bd8c3b18fe93480f8f69a78346cfa72c",
       "tooltip": "Click me"
      }
     },
     "c56e7c122dee4f38b285ee851104b65c": {
      "model_module": "@jupyter-widgets/base",
      "model_module_version": "1.0.0",
      "model_name": "LayoutModel",
      "state": {}
     },
     "c65ad905c3e54ce19c2d9cd773de5429": {
      "model_module": "@jupyter-widgets/controls",
      "model_module_version": "1.1.0",
      "model_name": "DescriptionStyleModel",
      "state": {
       "description_width": ""
      }
     },
     "c66a85db421448b0bcf2f35421fdffa5": {
      "model_module": "@jupyter-widgets/base",
      "model_module_version": "1.0.0",
      "model_name": "LayoutModel",
      "state": {}
     },
     "c66ddf0fa5fa4b1688eacd27df21183f": {
      "model_module": "@jupyter-widgets/controls",
      "model_module_version": "1.1.0",
      "model_name": "TextModel",
      "state": {
       "description": "CSV file:",
       "layout": "IPY_MODEL_351aff43c8524612b22249931e10a588",
       "placeholder": "Name your scrap csv file",
       "style": "IPY_MODEL_087c69145a954d22b6c79df1000690bd"
      }
     },
     "c6793d93f2944aff915b0fe34f3d5845": {
      "model_module": "@jupyter-widgets/controls",
      "model_module_version": "1.1.0",
      "model_name": "HTMLModel",
      "state": {
       "layout": "IPY_MODEL_48d0816ce43141dd86f757bcc7a4481a",
       "placeholder": "",
       "style": "IPY_MODEL_177e5e3b0bf04b79a1b614e32c65513d",
       "value": "<b>Scammer Detector<b>"
      }
     },
     "c6a0521820c84650ae9ebc1a32c219a1": {
      "model_module": "@jupyter-widgets/controls",
      "model_module_version": "1.1.0",
      "model_name": "ButtonModel",
      "state": {
       "description": "PCA!",
       "icon": "check",
       "layout": "IPY_MODEL_97c7b5b9ad72474fad79cf7fd886c1c1",
       "style": "IPY_MODEL_bd714b377694431bb0b947c753a43a57",
       "tooltip": "Click me"
      }
     },
     "c6aafe73952e4b8aaca0a0094be33821": {
      "model_module": "@jupyter-widgets/base",
      "model_module_version": "1.0.0",
      "model_name": "LayoutModel",
      "state": {}
     },
     "c6c132dfe6974a2cb874fc0496946bd4": {
      "model_module": "@jupyter-widgets/controls",
      "model_module_version": "1.1.0",
      "model_name": "ButtonStyleModel",
      "state": {}
     },
     "c701c37efff442e3a35368fdbad2627b": {
      "model_module": "@jupyter-widgets/base",
      "model_module_version": "1.0.0",
      "model_name": "LayoutModel",
      "state": {}
     },
     "c7101b838bda4f538c0f70526dd0c799": {
      "model_module": "@jupyter-widgets/controls",
      "model_module_version": "1.1.0",
      "model_name": "ButtonStyleModel",
      "state": {
       "button_color": "orange"
      }
     },
     "c7126a290d0c4a9b9d3f2b0483e598b2": {
      "model_module": "@jupyter-widgets/base",
      "model_module_version": "1.0.0",
      "model_name": "LayoutModel",
      "state": {}
     },
     "c732092bb8bf442fb5c05f7db3c3760f": {
      "model_module": "@jupyter-widgets/base",
      "model_module_version": "1.0.0",
      "model_name": "LayoutModel",
      "state": {}
     },
     "c744a71d1f874e41a174a07381965810": {
      "model_module": "@jupyter-widgets/base",
      "model_module_version": "1.0.0",
      "model_name": "LayoutModel",
      "state": {}
     },
     "c75e4c3659ee4b91aa61d10ba8a56244": {
      "model_module": "@jupyter-widgets/controls",
      "model_module_version": "1.1.0",
      "model_name": "ButtonStyleModel",
      "state": {
       "button_color": "orange"
      }
     },
     "c771f12830f74f9f85a866bbdbb55053": {
      "model_module": "@jupyter-widgets/controls",
      "model_module_version": "1.1.0",
      "model_name": "DropdownModel",
      "state": {
       "_options_labels": [
        "-",
        "5",
        "6",
        "7",
        "8",
        "9",
        "10"
       ],
       "description": "Random:",
       "index": 0,
       "layout": "IPY_MODEL_07eb8fd7bb2441f58ce99f6761a63285",
       "style": "IPY_MODEL_4550f1bc674e4bf78e339612304a9210"
      }
     },
     "c77417e495854db59972459a8851ce07": {
      "model_module": "@jupyter-widgets/base",
      "model_module_version": "1.0.0",
      "model_name": "LayoutModel",
      "state": {}
     },
     "c77875fffee44c2fa42269e3e4ed8b8b": {
      "model_module": "@jupyter-widgets/controls",
      "model_module_version": "1.1.0",
      "model_name": "DescriptionStyleModel",
      "state": {
       "description_width": ""
      }
     },
     "c7a55114b11640c0bd66e9157609128b": {
      "model_module": "@jupyter-widgets/base",
      "model_module_version": "1.0.0",
      "model_name": "LayoutModel",
      "state": {}
     },
     "c7a67cfbddcd4895bbbce2076640376e": {
      "model_module": "@jupyter-widgets/base",
      "model_module_version": "1.0.0",
      "model_name": "LayoutModel",
      "state": {}
     },
     "c7bcfa3478574dd0b70e8be83c60081b": {
      "model_module": "@jupyter-widgets/base",
      "model_module_version": "1.0.0",
      "model_name": "LayoutModel",
      "state": {}
     },
     "c7c0dd933d434047a1c3ed99da05a8a5": {
      "model_module": "@jupyter-widgets/controls",
      "model_module_version": "1.1.0",
      "model_name": "VBoxModel",
      "state": {
       "children": [
        "IPY_MODEL_d2f8fd5183e24cb4a004eb7868df1905",
        "IPY_MODEL_4d20e172d5a84583ac9997ba1111fea4"
       ],
       "layout": "IPY_MODEL_04343ceff87a4c1aa3c83b022e2acb13"
      }
     },
     "c7d804ea2536490a84e9c6759e37c841": {
      "model_module": "@jupyter-widgets/controls",
      "model_module_version": "1.1.0",
      "model_name": "TextModel",
      "state": {
       "description": "P2",
       "layout": "IPY_MODEL_3d2fc07f9f8348e3a9919d925ba0f028",
       "style": "IPY_MODEL_171fb08161ce4952bf973ab192c9c7db"
      }
     },
     "c810005370e040f5b6e3c815b100f4b2": {
      "model_module": "@jupyter-widgets/base",
      "model_module_version": "1.0.0",
      "model_name": "LayoutModel",
      "state": {}
     },
     "c847a10eac574425b4737d2ab502df59": {
      "model_module": "@jupyter-widgets/controls",
      "model_module_version": "1.1.0",
      "model_name": "HBoxModel",
      "state": {
       "children": [
        "IPY_MODEL_7f48bb255da84ce59e252edf0a7b6f08",
        "IPY_MODEL_5824cb8c0f534c1b88689176c33a08b3"
       ],
       "layout": "IPY_MODEL_26c0ca3cfa0b4318baf162de17c11ed4"
      }
     },
     "c85f4feedfc54c2fa1fcdba7c5635466": {
      "model_module": "@jupyter-widgets/controls",
      "model_module_version": "1.1.0",
      "model_name": "ImageModel",
      "state": {
       "height": "100",
       "layout": "IPY_MODEL_c744a71d1f874e41a174a07381965810",
       "value": {},
       "width": "100"
      }
     },
     "c86915e5c50d41209d39114a87ca4aff": {
      "model_module": "@jupyter-widgets/controls",
      "model_module_version": "1.1.0",
      "model_name": "VBoxModel",
      "state": {
       "children": [
        "IPY_MODEL_8f1ccdef41ef48c6bbf02a6c40669928",
        "IPY_MODEL_65b5b2959ffb44e48c6e9d841aa90fda"
       ],
       "layout": "IPY_MODEL_f163571036e44f758e147b5adffe374e"
      }
     },
     "c8980fffa0fd4b18bc759f525d4dbfae": {
      "model_module": "@jupyter-widgets/controls",
      "model_module_version": "1.1.0",
      "model_name": "VBoxModel",
      "state": {
       "children": [
        "IPY_MODEL_f7a80fefb8ef4dfba303da2a753ebab9",
        "IPY_MODEL_83b016b314b2494581ea6b311bfd7b78"
       ],
       "layout": "IPY_MODEL_04e0046d6f5045f0b9b1951d2b11c41a"
      }
     },
     "c8c6534e59c64cf09645a3011f3de6fe": {
      "model_module": "@jupyter-widgets/base",
      "model_module_version": "1.0.0",
      "model_name": "LayoutModel",
      "state": {}
     },
     "c8d15c13917248d797fc2c29cdead5c4": {
      "model_module": "@jupyter-widgets/controls",
      "model_module_version": "1.1.0",
      "model_name": "AccordionModel",
      "state": {
       "_titles": {
        "0": "Upload"
       },
       "children": [
        "IPY_MODEL_525428188a274091a0d4e9f881b77465",
        "IPY_MODEL_06764c74d0fc4d9bb74f6786e6297cb6"
       ],
       "layout": "IPY_MODEL_84f0a864d5d04becab5faca83fccdcb2",
       "selected_index": null
      }
     },
     "c8f51cd2f4794b5abd6ffdec0660f04d": {
      "model_module": "@jupyter-widgets/controls",
      "model_module_version": "1.1.0",
      "model_name": "ButtonModel",
      "state": {
       "description": "Scrap Me",
       "layout": "IPY_MODEL_78f4920b8d99494dbcef4769a0439227",
       "style": "IPY_MODEL_b4a489f593f94f668f43e9789ee5f68d"
      }
     },
     "c94cf7890706421d9cf3df96fce2e7cb": {
      "model_module": "@jupyter-widgets/base",
      "model_module_version": "1.0.0",
      "model_name": "LayoutModel",
      "state": {}
     },
     "c999309851d34337af0c05eb31b992e0": {
      "model_module": "@jupyter-widgets/base",
      "model_module_version": "1.0.0",
      "model_name": "LayoutModel",
      "state": {}
     },
     "c9c2d8fcab594ded99877e35ca1bef5a": {
      "model_module": "@jupyter-widgets/controls",
      "model_module_version": "1.1.0",
      "model_name": "DescriptionStyleModel",
      "state": {
       "description_width": ""
      }
     },
     "c9cc336e049a4d4086cfd32125b8f751": {
      "model_module": "@jupyter-widgets/controls",
      "model_module_version": "1.1.0",
      "model_name": "DropdownModel",
      "state": {
       "_options_labels": [
        "-",
        "5",
        "6",
        "7",
        "8",
        "9",
        "10"
       ],
       "description": "Tail:",
       "index": 0,
       "layout": "IPY_MODEL_ddd03c8fa27d44a49f914f15db1a5506",
       "style": "IPY_MODEL_03500f75bbdd4cf98e44e60fed431dba"
      }
     },
     "c9cfba9dd4174caeba848ba83ce49010": {
      "model_module": "@jupyter-widgets/controls",
      "model_module_version": "1.1.0",
      "model_name": "DescriptionStyleModel",
      "state": {
       "description_width": ""
      }
     },
     "c9f838f1a97f43c6964a2f86ec08ab29": {
      "model_module": "@jupyter-widgets/controls",
      "model_module_version": "1.1.0",
      "model_name": "ButtonStyleModel",
      "state": {
       "button_color": "pink"
      }
     },
     "ca06eade225943d6ba13e517edb25dae": {
      "model_module": "@jupyter-widgets/controls",
      "model_module_version": "1.1.0",
      "model_name": "TextModel",
      "state": {
       "description": "P1",
       "layout": "IPY_MODEL_76d010e575454fb5883ff4ae7c235358",
       "style": "IPY_MODEL_892d5dbb0ba840db875e0197f8ed42b3"
      }
     },
     "ca0713e0397d4380b5bf31e63b5f6993": {
      "model_module": "@jupyter-widgets/base",
      "model_module_version": "1.0.0",
      "model_name": "LayoutModel",
      "state": {}
     },
     "ca1ba76218694e119c066fe7eecd55bd": {
      "model_module": "@jupyter-widgets/controls",
      "model_module_version": "1.1.0",
      "model_name": "ImageModel",
      "state": {
       "height": "300",
       "layout": "IPY_MODEL_01848beee0d3434ba0d707ccf9a341e3",
       "value": {},
       "width": "200"
      }
     },
     "ca34fe36ab0b4247a9ef0e308b699387": {
      "model_module": "@jupyter-widgets/base",
      "model_module_version": "1.0.0",
      "model_name": "LayoutModel",
      "state": {}
     },
     "ca5412db67fb4b089c840f6f21961271": {
      "model_module": "@jupyter-widgets/controls",
      "model_module_version": "1.1.0",
      "model_name": "DescriptionStyleModel",
      "state": {
       "description_width": ""
      }
     },
     "ca5ecf810bf34db98d61e7a8fe0b6b80": {
      "model_module": "@jupyter-widgets/controls",
      "model_module_version": "1.1.0",
      "model_name": "VBoxModel",
      "state": {
       "children": [
        "IPY_MODEL_e8f643b5e84b4805a08b4ab12d1e9d23",
        "IPY_MODEL_306d0b5422474dfd816ee34184256c36"
       ],
       "layout": "IPY_MODEL_547408b7d6be42b78402edc87a77a222"
      }
     },
     "ca8d351ae662469c909ed3421eeac550": {
      "model_module": "@jupyter-widgets/base",
      "model_module_version": "1.0.0",
      "model_name": "LayoutModel",
      "state": {}
     },
     "caa4e06876014c03a4154d95d5a12b1c": {
      "model_module": "@jupyter-widgets/controls",
      "model_module_version": "1.1.0",
      "model_name": "VBoxModel",
      "state": {
       "children": [
        "IPY_MODEL_8d177eee05dc478f92c66698d8612381",
        "IPY_MODEL_bc07d51c7bd049b6b214422ef3b7ce70",
        "IPY_MODEL_bcfc4c6f86a44c9c901bdb29cd287a60",
        "IPY_MODEL_a56078b5fb524adba1559811a4f8be64"
       ],
       "layout": "IPY_MODEL_c7bcfa3478574dd0b70e8be83c60081b"
      }
     },
     "cac1fd7a3b704a24a975f2df29c49155": {
      "model_module": "@jupyter-widgets/controls",
      "model_module_version": "1.1.0",
      "model_name": "TextModel",
      "state": {
       "description": "Folder Path:",
       "layout": "IPY_MODEL_b8d5b4fc79ed4ed382a29f9efa97296f",
       "placeholder": "Save Scraped Dataset",
       "style": "IPY_MODEL_20b29c6bc11345f491ca3b7a619142e2"
      }
     },
     "cb14920bfe1241afaf5026dc143d7da1": {
      "model_module": "@jupyter-widgets/controls",
      "model_module_version": "1.1.0",
      "model_name": "DescriptionStyleModel",
      "state": {
       "description_width": ""
      }
     },
     "cb5ac99c20ec4b5aa428c7655d278fd9": {
      "model_module": "@jupyter-widgets/controls",
      "model_module_version": "1.1.0",
      "model_name": "DescriptionStyleModel",
      "state": {
       "description_width": ""
      }
     },
     "cb6837c0d4794f9f95c87a95b4562023": {
      "model_module": "@jupyter-widgets/base",
      "model_module_version": "1.0.0",
      "model_name": "LayoutModel",
      "state": {}
     },
     "cb6b34713a894820b0a03a99217358f7": {
      "model_module": "@jupyter-widgets/controls",
      "model_module_version": "1.1.0",
      "model_name": "ButtonModel",
      "state": {
       "description": "PCA!",
       "icon": "check",
       "layout": "IPY_MODEL_c1ca2ec291844832a7a94f5006726b17",
       "style": "IPY_MODEL_634a67daa2544b9fa2365e6435f711a7",
       "tooltip": "Click me"
      }
     },
     "cba66c2d565249ca8594d3441be9eb08": {
      "model_module": "@jupyter-widgets/base",
      "model_module_version": "1.0.0",
      "model_name": "LayoutModel",
      "state": {}
     },
     "cbb8920d848e4a5f8731f4151a3baa1e": {
      "model_module": "@jupyter-widgets/base",
      "model_module_version": "1.0.0",
      "model_name": "LayoutModel",
      "state": {}
     },
     "cbe8392518d24b73a044acdf106db8c5": {
      "model_module": "@jupyter-widgets/controls",
      "model_module_version": "1.1.0",
      "model_name": "TabModel",
      "state": {
       "_titles": {
        "0": "0",
        "1": "1",
        "2": "2",
        "3": "3",
        "4": "4"
       },
       "children": [
        "IPY_MODEL_46ddcde60ead4692a26b6c4301e3019b",
        "IPY_MODEL_ca06eade225943d6ba13e517edb25dae",
        "IPY_MODEL_c7d804ea2536490a84e9c6759e37c841",
        "IPY_MODEL_2323a122ec3943d0bb69e8a30616abcc",
        "IPY_MODEL_70705bf3bc964084ab14730e50bc040b"
       ],
       "layout": "IPY_MODEL_a1bbfa94730a45e896af85895ab4f2cf"
      }
     },
     "cbff9fffeeeb4bd4aef2c21e1bbfcdf1": {
      "model_module": "@jupyter-widgets/base",
      "model_module_version": "1.0.0",
      "model_name": "LayoutModel",
      "state": {}
     },
     "cc4bc522e3064ead90b9e40a215df1f4": {
      "model_module": "@jupyter-widgets/base",
      "model_module_version": "1.0.0",
      "model_name": "LayoutModel",
      "state": {}
     },
     "cc6ac6d39b2544ba86b3a374d8b7618b": {
      "model_module": "@jupyter-widgets/controls",
      "model_module_version": "1.1.0",
      "model_name": "HTMLModel",
      "state": {
       "layout": "IPY_MODEL_217d8d2c7c944e13a2282bbc9dd72a80",
       "placeholder": "",
       "style": "IPY_MODEL_c36f82d72faf4fe491ae83a423e01702",
       "value": "<b>Scammer Detector<b>"
      }
     },
     "cc7c640f6c7e47c991cdf66f57a866aa": {
      "model_module": "@jupyter-widgets/base",
      "model_module_version": "1.0.0",
      "model_name": "LayoutModel",
      "state": {}
     },
     "cc95ee849ee942de90d921ff2ab3570f": {
      "model_module": "@jupyter-widgets/base",
      "model_module_version": "1.0.0",
      "model_name": "LayoutModel",
      "state": {}
     },
     "cce26becebab4d35aa1f952d8fd5958b": {
      "model_module": "@jupyter-widgets/base",
      "model_module_version": "1.0.0",
      "model_name": "LayoutModel",
      "state": {}
     },
     "cd06c66d18f44c7e8a8cc80f0159bedf": {
      "model_module": "@jupyter-widgets/controls",
      "model_module_version": "1.1.0",
      "model_name": "DropdownModel",
      "state": {
       "_options_labels": [
        "-",
        "5",
        "6",
        "7",
        "8",
        "9",
        "10"
       ],
       "description": "Head:",
       "index": 0,
       "layout": "IPY_MODEL_94af8c9adc8b463b97a4fcaf0d316768",
       "style": "IPY_MODEL_44a122783d50480cac16ada1f6219fc6"
      }
     },
     "cd0b523a9e9c40e299d54e8360ba050f": {
      "model_module": "@jupyter-widgets/controls",
      "model_module_version": "1.1.0",
      "model_name": "ButtonStyleModel",
      "state": {
       "button_color": "orange"
      }
     },
     "cd0cfb0dbed44ae0b8927e111effa39d": {
      "model_module": "@jupyter-widgets/controls",
      "model_module_version": "1.1.0",
      "model_name": "VBoxModel",
      "state": {
       "children": [
        "IPY_MODEL_0a2dbd6458f8459dabb1c3e865a41085",
        "IPY_MODEL_a5e8043353e14456bbf36398f2f5a7b2"
       ],
       "layout": "IPY_MODEL_633c84a647ed4c76a4a46501d3cb8f21"
      }
     },
     "cd37281fa3ce4f638c650cca288cd833": {
      "model_module": "@jupyter-widgets/controls",
      "model_module_version": "1.1.0",
      "model_name": "TextModel",
      "state": {
       "description": "CSV file:",
       "layout": "IPY_MODEL_110369f562b646629cb8f984ec91038b",
       "placeholder": "Name your scrap csv file",
       "style": "IPY_MODEL_ffc2c6d04c9d4bb096dec88a40778447"
      }
     },
     "cd42d9b421784b18a4c4517a874f7511": {
      "model_module": "@jupyter-widgets/base",
      "model_module_version": "1.0.0",
      "model_name": "LayoutModel",
      "state": {}
     },
     "cd45d438a2a84a2cb8b4f7cc112b5b42": {
      "model_module": "@jupyter-widgets/controls",
      "model_module_version": "1.1.0",
      "model_name": "VBoxModel",
      "state": {
       "children": [
        "IPY_MODEL_37ab7a829cd34ba99557bfdf4ab96971",
        "IPY_MODEL_7bd7f1d7bcd04e95bc5fa623df37ed89"
       ],
       "layout": "IPY_MODEL_bae92aa8ae6141969865157c04f35226"
      }
     },
     "cd4ef1c43de844349b08ac71e2c4b581": {
      "model_module": "@jupyter-widgets/controls",
      "model_module_version": "1.1.0",
      "model_name": "ButtonStyleModel",
      "state": {
       "button_color": "orange"
      }
     },
     "cd696d7e7c674b9594895515f15ddfc8": {
      "model_module": "@jupyter-widgets/base",
      "model_module_version": "1.0.0",
      "model_name": "LayoutModel",
      "state": {}
     },
     "cd7fcceeac8e457c9130d336993bc94a": {
      "model_module": "@jupyter-widgets/controls",
      "model_module_version": "1.1.0",
      "model_name": "DropdownModel",
      "state": {
       "_options_labels": [
        "-",
        "5",
        "6",
        "7",
        "8",
        "9",
        "10"
       ],
       "description": "Head:",
       "index": 0,
       "layout": "IPY_MODEL_0a73fdefe039400a9879e73ab12b04b3",
       "style": "IPY_MODEL_69c004833f2148c3bea2944dace91e1b"
      }
     },
     "cd80819a4ac047d9a09a3dcb2f0e8742": {
      "model_module": "@jupyter-widgets/controls",
      "model_module_version": "1.1.0",
      "model_name": "TabModel",
      "state": {
       "_titles": {
        "0": "Extaction",
        "1": "S"
       },
       "children": [
        "IPY_MODEL_402b094c795446abb8d52292715b0a1a",
        "IPY_MODEL_3f74d09c09564759b1a288346709309b"
       ],
       "layout": "IPY_MODEL_a3a91e793af44b628295606b21af0b1a"
      }
     },
     "cd93df0abb2045b1b0b942da07048171": {
      "model_module": "@jupyter-widgets/controls",
      "model_module_version": "1.1.0",
      "model_name": "TextModel",
      "state": {
       "description": "CSV file:",
       "layout": "IPY_MODEL_f464a66e0395489ab9d1e1a36ffa0bb5",
       "placeholder": "Name your scrap csv file",
       "style": "IPY_MODEL_b0a2a55b06e54859a6d8b088b631a2e0"
      }
     },
     "cda1a9a9ac744f3b842fc66a7760db74": {
      "model_module": "@jupyter-widgets/base",
      "model_module_version": "1.0.0",
      "model_name": "LayoutModel",
      "state": {}
     },
     "cdaf1e030ae04444b048e936f27c61c8": {
      "model_module": "@jupyter-widgets/base",
      "model_module_version": "1.0.0",
      "model_name": "LayoutModel",
      "state": {}
     },
     "ce311ad62bf54aac845d5e09241dadbd": {
      "model_module": "@jupyter-widgets/controls",
      "model_module_version": "1.1.0",
      "model_name": "HTMLModel",
      "state": {
       "description": "Sample CSV:",
       "layout": "IPY_MODEL_fbc017d8918b46f9b1b726bcf8ac0a4a",
       "placeholder": "",
       "style": "IPY_MODEL_75dc61c892c24398a0d6b02d7cb3668e",
       "value": "<i><b>kereta</b><i>"
      }
     },
     "ce46f8f7830544ea98cb4792af23a010": {
      "model_module": "@jupyter-widgets/controls",
      "model_module_version": "1.1.0",
      "model_name": "DescriptionStyleModel",
      "state": {
       "description_width": ""
      }
     },
     "ce47ae373c194111af85f16e4a18460d": {
      "model_module": "@jupyter-widgets/base",
      "model_module_version": "1.0.0",
      "model_name": "LayoutModel",
      "state": {}
     },
     "cea7213fb3074535ba9d89d83594e803": {
      "model_module": "@jupyter-widgets/controls",
      "model_module_version": "1.1.0",
      "model_name": "ButtonStyleModel",
      "state": {
       "button_color": "lightblue"
      }
     },
     "cecf2a47bd194e218744cf0f15bc5092": {
      "model_module": "@jupyter-widgets/base",
      "model_module_version": "1.0.0",
      "model_name": "LayoutModel",
      "state": {}
     },
     "cedd94bb1de74becb9ec2daa794de9b2": {
      "model_module": "@jupyter-widgets/base",
      "model_module_version": "1.0.0",
      "model_name": "LayoutModel",
      "state": {}
     },
     "cee91310aeec40b8bcfcb70635a77e99": {
      "model_module": "@jupyter-widgets/base",
      "model_module_version": "1.0.0",
      "model_name": "LayoutModel",
      "state": {}
     },
     "cf4774fd483f46abab9d229a89c5335a": {
      "model_module": "@jupyter-widgets/controls",
      "model_module_version": "1.1.0",
      "model_name": "DescriptionStyleModel",
      "state": {
       "description_width": ""
      }
     },
     "cf47d31211714015965ed119ecb96b14": {
      "model_module": "@jupyter-widgets/controls",
      "model_module_version": "1.1.0",
      "model_name": "TextModel",
      "state": {
       "description": "Folder Path:",
       "layout": "IPY_MODEL_531a513f1e784ca781d75f3323e6472b",
       "placeholder": "Paste folder path to save",
       "style": "IPY_MODEL_0d0c6dd078d64e3c96506a0baaf66b26"
      }
     },
     "cf91e582b6eb4ce7a1f98a3de8feb43c": {
      "model_module": "@jupyter-widgets/base",
      "model_module_version": "1.0.0",
      "model_name": "LayoutModel",
      "state": {}
     },
     "cf957438c7424c688c848bfdd8b192af": {
      "model_module": "@jupyter-widgets/controls",
      "model_module_version": "1.1.0",
      "model_name": "DescriptionStyleModel",
      "state": {
       "description_width": ""
      }
     },
     "cfa1943e04904fc4bb1a163c1a2cf71c": {
      "model_module": "@jupyter-widgets/controls",
      "model_module_version": "1.1.0",
      "model_name": "DescriptionStyleModel",
      "state": {
       "description_width": ""
      }
     },
     "cfda696e1da849c7ad2b5d16a9f3a06d": {
      "model_module": "@jupyter-widgets/base",
      "model_module_version": "1.0.0",
      "model_name": "LayoutModel",
      "state": {}
     },
     "cffaf482ef78401d94a1bec0b2fddd5a": {
      "model_module": "@jupyter-widgets/base",
      "model_module_version": "1.0.0",
      "model_name": "LayoutModel",
      "state": {}
     },
     "d0660bcad6784a98b7725932b5e2e001": {
      "model_module": "@jupyter-widgets/base",
      "model_module_version": "1.0.0",
      "model_name": "LayoutModel",
      "state": {}
     },
     "d0725ee65c4748b3bd20b080d5952007": {
      "model_module": "@jupyter-widgets/controls",
      "model_module_version": "1.1.0",
      "model_name": "HTMLModel",
      "state": {
       "description": "Sample CSV:",
       "layout": "IPY_MODEL_6b94b5a7329644b18adaae812fbc842c",
       "placeholder": "",
       "style": "IPY_MODEL_d5aaef1bdc66403ba5e720c6a4a32c39",
       "value": "<i><b>kereta</b><i>"
      }
     },
     "d0c6a75d6899449e86a34d540ff3e901": {
      "model_module": "@jupyter-widgets/controls",
      "model_module_version": "1.1.0",
      "model_name": "ToggleButtonsStyleModel",
      "state": {
       "button_width": "",
       "description_width": ""
      }
     },
     "d0c74e03b2d348dbb4221d1695e789ee": {
      "model_module": "@jupyter-widgets/controls",
      "model_module_version": "1.1.0",
      "model_name": "ButtonStyleModel",
      "state": {}
     },
     "d0fbc1d06e394c2c9ce4a1019f46ce4d": {
      "model_module": "@jupyter-widgets/controls",
      "model_module_version": "1.1.0",
      "model_name": "DescriptionStyleModel",
      "state": {
       "description_width": ""
      }
     },
     "d12eb7e6c4be42b08457deb9f2162c86": {
      "model_module": "@jupyter-widgets/controls",
      "model_module_version": "1.1.0",
      "model_name": "ButtonStyleModel",
      "state": {
       "button_color": "lightblue"
      }
     },
     "d135d62cec5b4318b2a280d1f7ad5cc2": {
      "model_module": "@jupyter-widgets/base",
      "model_module_version": "1.0.0",
      "model_name": "LayoutModel",
      "state": {}
     },
     "d1591a320d754f179124ef48f6eeb939": {
      "model_module": "@jupyter-widgets/controls",
      "model_module_version": "1.1.0",
      "model_name": "HTMLModel",
      "state": {
       "layout": "IPY_MODEL_471e625db7f64f8182ee19acc9b6460a",
       "placeholder": "",
       "style": "IPY_MODEL_f572f44dfd0f42eebfc4bceb2b58a114",
       "value": "<b>Choose how to view your data</b>"
      }
     },
     "d160c191618d4ebba6ab04e12db88510": {
      "model_module": "@jupyter-widgets/base",
      "model_module_version": "1.0.0",
      "model_name": "LayoutModel",
      "state": {}
     },
     "d1796ecdf2eb4042bdf92aecc8f84d22": {
      "model_module": "@jupyter-widgets/controls",
      "model_module_version": "1.1.0",
      "model_name": "HTMLModel",
      "state": {
       "layout": "IPY_MODEL_1ca7b12e576647a1b9480a774619cc92",
       "placeholder": "",
       "style": "IPY_MODEL_dfd2eed81d744b3ab749d9d0be5532a0",
       "value": "Apply <b>Data Mining<b> Method!!"
      }
     },
     "d1940aec8b164bddb1ad261f0111111e": {
      "model_module": "@jupyter-widgets/controls",
      "model_module_version": "1.1.0",
      "model_name": "HBoxModel",
      "state": {
       "children": [
        "IPY_MODEL_a7f69783bd594cd4b9e5df9d9ddbcecf",
        "IPY_MODEL_dc9904bcbad4484caa39bb78884843c6",
        "IPY_MODEL_0337c8406c1546f0a65780f937e892c0"
       ],
       "layout": "IPY_MODEL_3a30974bc026476187d1b6c22056a58c"
      }
     },
     "d1aa5fe6aeeb4582912fd65992ec46eb": {
      "model_module": "@jupyter-widgets/base",
      "model_module_version": "1.0.0",
      "model_name": "LayoutModel",
      "state": {}
     },
     "d1c2c5cd563c4ae1961ac3dab9f2b26f": {
      "model_module": "@jupyter-widgets/base",
      "model_module_version": "1.0.0",
      "model_name": "LayoutModel",
      "state": {}
     },
     "d1dfb51fab264eda851712fab6536bcd": {
      "model_module": "@jupyter-widgets/controls",
      "model_module_version": "1.1.0",
      "model_name": "HTMLModel",
      "state": {
       "layout": "IPY_MODEL_d46432153ccc45b58ff216a06a2fcfb4",
       "placeholder": "",
       "style": "IPY_MODEL_2708bec8e4ac4368a1995061b68a1baa",
       "value": "Apply <b>Data Mining<b> Method!!"
      }
     },
     "d216ad636665450689a07c658afbaf86": {
      "model_module": "@jupyter-widgets/controls",
      "model_module_version": "1.1.0",
      "model_name": "TextModel",
      "state": {
       "description": "Link:",
       "layout": "IPY_MODEL_0afd9f363bc140209fc14087de407a33",
       "placeholder": "Paste your mudah.my link here",
       "style": "IPY_MODEL_ce46f8f7830544ea98cb4792af23a010"
      }
     },
     "d23a722c123d4858a8037f6e8bd072bc": {
      "model_module": "@jupyter-widgets/base",
      "model_module_version": "1.0.0",
      "model_name": "LayoutModel",
      "state": {}
     },
     "d2514ee995ae4e4f92e13c5a6fd4aaf1": {
      "model_module": "@jupyter-widgets/controls",
      "model_module_version": "1.1.0",
      "model_name": "DescriptionStyleModel",
      "state": {
       "description_width": ""
      }
     },
     "d271a74565c04cdeb80cf6d10d301224": {
      "model_module": "@jupyter-widgets/controls",
      "model_module_version": "1.1.0",
      "model_name": "DescriptionStyleModel",
      "state": {
       "description_width": ""
      }
     },
     "d2b7c14479cf4c71803c6fc6f448b3d1": {
      "model_module": "@jupyter-widgets/controls",
      "model_module_version": "1.1.0",
      "model_name": "AccordionModel",
      "state": {
       "_titles": {
        "0": "Upload",
        "1": "View"
       },
       "children": [
        "IPY_MODEL_c009b1be3dc14974a2d79056742c8c09",
        "IPY_MODEL_9a700f617be9478bbc16b53e57368bf1"
       ],
       "layout": "IPY_MODEL_47a5851955464341a3e623cdcefed5ca"
      }
     },
     "d2c0dd0161284e59bdd208b1cbf37aa9": {
      "model_module": "@jupyter-widgets/base",
      "model_module_version": "1.0.0",
      "model_name": "LayoutModel",
      "state": {}
     },
     "d2f8fd5183e24cb4a004eb7868df1905": {
      "model_module": "@jupyter-widgets/controls",
      "model_module_version": "1.1.0",
      "model_name": "HBoxModel",
      "state": {
       "children": [
        "IPY_MODEL_5130b87030414d49bfc573c5d882e6de",
        "IPY_MODEL_e8b377e3305e40c99e3f1b3cd53274b6",
        "IPY_MODEL_28eb82340b0c4ff6a7adaab6f2f5b231",
        "IPY_MODEL_9029b86c26404ad0ac106190e3c7d72e"
       ],
       "layout": "IPY_MODEL_0beaeb640000438d9eec95360993d5e8"
      }
     },
     "d30290bfa1364c829470bcf319ca5fd8": {
      "model_module": "@jupyter-widgets/controls",
      "model_module_version": "1.1.0",
      "model_name": "HTMLModel",
      "state": {
       "layout": "IPY_MODEL_5402a9f5254c43dbb0fb652d4e0c5328",
       "placeholder": "",
       "style": "IPY_MODEL_c3a3450bdd7a42179fa361cc38ac5bea",
       "value": "<b>Choose to view and compare by attributes<b>"
      }
     },
     "d304e8c62d5b48589a408175ecf1ecce": {
      "model_module": "@jupyter-widgets/base",
      "model_module_version": "1.0.0",
      "model_name": "LayoutModel",
      "state": {}
     },
     "d3107afff19b4e95be522767c8a5f99a": {
      "model_module": "@jupyter-widgets/base",
      "model_module_version": "1.0.0",
      "model_name": "LayoutModel",
      "state": {}
     },
     "d315109becab47f7ab0fce4729bea98c": {
      "model_module": "@jupyter-widgets/controls",
      "model_module_version": "1.1.0",
      "model_name": "ToggleButtonsStyleModel",
      "state": {
       "button_width": "",
       "description_width": ""
      }
     },
     "d332a97de3cf463f9c11dd7d76ff8357": {
      "model_module": "@jupyter-widgets/controls",
      "model_module_version": "1.1.0",
      "model_name": "VBoxModel",
      "state": {
       "children": [
        "IPY_MODEL_f957f50faa70484e9f4c21b93182a3eb",
        "IPY_MODEL_d623f57561e44706ae3e175201833bce"
       ],
       "layout": "IPY_MODEL_7cf796c903fd4a839a560098a30b76a3"
      }
     },
     "d39d4d33c62f463e9421653dfab37d67": {
      "model_module": "@jupyter-widgets/controls",
      "model_module_version": "1.1.0",
      "model_name": "AccordionModel",
      "state": {
       "_titles": {
        "0": "Source",
        "1": "Save",
        "2": "Scrap"
       },
       "children": [
        "IPY_MODEL_baedf48211b64a6483333343dabac731",
        "IPY_MODEL_983b178655534337ad46bf2196faaeb9",
        "IPY_MODEL_97b3077e0e9542d9b12b58dff56220fa"
       ],
       "layout": "IPY_MODEL_049cff9418fc418bb98d4f9e34f84749",
       "selected_index": null
      }
     },
     "d3ad57d6aa424c6ab7f89f0a90ed62cf": {
      "model_module": "@jupyter-widgets/controls",
      "model_module_version": "1.1.0",
      "model_name": "VBoxModel",
      "state": {
       "children": [
        "IPY_MODEL_9edd47d5abc945229d4b3dcc98c2eb6c",
        "IPY_MODEL_aeaa7869d6414002aa636b1e839834ed"
       ],
       "layout": "IPY_MODEL_48fb07de96f944359fe982a28218cd7f"
      }
     },
     "d3cb629102404ff6b6cc49c884e75387": {
      "model_module": "@jupyter-widgets/controls",
      "model_module_version": "1.1.0",
      "model_name": "VBoxModel",
      "state": {
       "children": [
        "IPY_MODEL_454b53dc02e8454b903896a35064bba3",
        "IPY_MODEL_9192dd0e71d449b5804bf29a1ee87ba1"
       ],
       "layout": "IPY_MODEL_0c03e9cbbaa74a3ab012e982c23720e0"
      }
     },
     "d3e684a84de24f60b6e797f1c2575eaa": {
      "model_module": "@jupyter-widgets/controls",
      "model_module_version": "1.1.0",
      "model_name": "ButtonStyleModel",
      "state": {
       "button_color": "lightblue"
      }
     },
     "d45d33a1e2194a60a23b08e7edcc7354": {
      "model_module": "@jupyter-widgets/controls",
      "model_module_version": "1.1.0",
      "model_name": "TabModel",
      "state": {
       "_titles": {
        "0": "Extaction",
        "1": "Data",
        "2": "Evaluation"
       },
       "children": [
        "IPY_MODEL_c1aed1dbd974447390e3105e74d28fa1",
        "IPY_MODEL_d582e61083084dedbad12beaf8ce0014",
        "IPY_MODEL_fc1e7c997c12448d936f0dacc5166473"
       ],
       "layout": "IPY_MODEL_f1d9407bef4a47aeadb178bc3562c597",
       "selected_index": 2
      }
     },
     "d45ef708c8f846728065b405e73b0a0c": {
      "model_module": "@jupyter-widgets/controls",
      "model_module_version": "1.1.0",
      "model_name": "DescriptionStyleModel",
      "state": {
       "description_width": ""
      }
     },
     "d46172f35a3947f58466c67cf15c94db": {
      "model_module": "@jupyter-widgets/controls",
      "model_module_version": "1.1.0",
      "model_name": "ButtonModel",
      "state": {
       "description": "Help",
       "layout": "IPY_MODEL_571e2d62a7804f9ebe6891ccca6d93e2",
       "style": "IPY_MODEL_430dbc57d840467999e7a92f0e710a99"
      }
     },
     "d46432153ccc45b58ff216a06a2fcfb4": {
      "model_module": "@jupyter-widgets/base",
      "model_module_version": "1.0.0",
      "model_name": "LayoutModel",
      "state": {}
     },
     "d48590502e8149d6986da19798842f86": {
      "model_module": "@jupyter-widgets/controls",
      "model_module_version": "1.1.0",
      "model_name": "DescriptionStyleModel",
      "state": {
       "description_width": ""
      }
     },
     "d488c1abe0854b15afc06ff1c2292cc2": {
      "model_module": "@jupyter-widgets/base",
      "model_module_version": "1.0.0",
      "model_name": "LayoutModel",
      "state": {}
     },
     "d5307a475f0a45e6bbd0a87db65a2fbe": {
      "model_module": "@jupyter-widgets/controls",
      "model_module_version": "1.1.0",
      "model_name": "DescriptionStyleModel",
      "state": {
       "description_width": ""
      }
     },
     "d5501ed5eb574397ae4dcd12b3766bdb": {
      "model_module": "@jupyter-widgets/controls",
      "model_module_version": "1.1.0",
      "model_name": "VBoxModel",
      "state": {
       "children": [
        "IPY_MODEL_c05b5f9f39904c03bc939b78121b7b8c",
        "IPY_MODEL_48267622b0b84d0a83fd7fb4043a9ff8"
       ],
       "layout": "IPY_MODEL_8e78a695535b44a0980905a945204815"
      }
     },
     "d582e61083084dedbad12beaf8ce0014": {
      "model_module": "@jupyter-widgets/controls",
      "model_module_version": "1.1.0",
      "model_name": "AccordionModel",
      "state": {
       "_titles": {
        "0": "Upload",
        "1": "View"
       },
       "children": [
        "IPY_MODEL_32f656b48726451591581c80c47bee67",
        "IPY_MODEL_06764c74d0fc4d9bb74f6786e6297cb6"
       ],
       "layout": "IPY_MODEL_fc9e8660ec7d437da2ef932eff251a97",
       "selected_index": null
      }
     },
     "d59575575d2e4784924a4b0e43c62e3d": {
      "model_module": "@jupyter-widgets/controls",
      "model_module_version": "1.1.0",
      "model_name": "VBoxModel",
      "state": {
       "children": [
        "IPY_MODEL_db5eaa7a0c66490aa37b63f36ee264c0",
        "IPY_MODEL_17cb28b44aca474f8b49243527ed1be9"
       ],
       "layout": "IPY_MODEL_c3ab26995a4c47699e6adb790597ba93"
      }
     },
     "d59fabc042d046458d5bb8e554ecb89d": {
      "model_module": "@jupyter-widgets/controls",
      "model_module_version": "1.1.0",
      "model_name": "ButtonModel",
      "state": {
       "description": "PCA!",
       "icon": "check",
       "layout": "IPY_MODEL_b70df7fd4b904aae9f9ef5ee970b9334",
       "style": "IPY_MODEL_7ed03d4f80ec43e498e22f9a95e7244e",
       "tooltip": "Click me"
      }
     },
     "d5aaef1bdc66403ba5e720c6a4a32c39": {
      "model_module": "@jupyter-widgets/controls",
      "model_module_version": "1.1.0",
      "model_name": "DescriptionStyleModel",
      "state": {
       "description_width": ""
      }
     },
     "d6006e1b5a2e4e9ba6ed7546cfcc77a8": {
      "model_module": "@jupyter-widgets/controls",
      "model_module_version": "1.1.0",
      "model_name": "DescriptionStyleModel",
      "state": {
       "description_width": ""
      }
     },
     "d622119115af405e9a1ec8c3d0a55b11": {
      "model_module": "@jupyter-widgets/controls",
      "model_module_version": "1.1.0",
      "model_name": "VBoxModel",
      "state": {
       "children": [
        "IPY_MODEL_a751b7a956f249f3a9ca1aa15e36bd8b",
        "IPY_MODEL_035b153fceaa4a2695a615bf0d1aa5a8"
       ],
       "layout": "IPY_MODEL_aba97d5a9b22408db2c846d00d1e5311"
      }
     },
     "d623f57561e44706ae3e175201833bce": {
      "model_module": "@jupyter-widgets/controls",
      "model_module_version": "1.1.0",
      "model_name": "ButtonModel",
      "state": {
       "description": "PCA!",
       "icon": "check",
       "layout": "IPY_MODEL_e37d4990d9ad400c952bc2a530f762bb",
       "style": "IPY_MODEL_f10f9f15ae1a4ffab128939743775ecf",
       "tooltip": "Click me"
      }
     },
     "d634fd8df1d6485fa9619a948962fc9b": {
      "model_module": "@jupyter-widgets/controls",
      "model_module_version": "1.1.0",
      "model_name": "ButtonStyleModel",
      "state": {}
     },
     "d65a97aae3934cc190c000d22d464d9e": {
      "model_module": "@jupyter-widgets/base",
      "model_module_version": "1.0.0",
      "model_name": "LayoutModel",
      "state": {}
     },
     "d67fcada7fbc440aa898d4f739fe654b": {
      "model_module": "@jupyter-widgets/base",
      "model_module_version": "1.0.0",
      "model_name": "LayoutModel",
      "state": {}
     },
     "d6803277523742d38def27f524338e02": {
      "model_module": "@jupyter-widgets/controls",
      "model_module_version": "1.1.0",
      "model_name": "ButtonModel",
      "state": {
       "description": "Scrap Me",
       "layout": "IPY_MODEL_cf91e582b6eb4ce7a1f98a3de8feb43c",
       "style": "IPY_MODEL_a8d7c1f1bef548f195a313fc952bd55b"
      }
     },
     "d6ecbf657be94cb896bf841a17d21d5c": {
      "model_module": "@jupyter-widgets/base",
      "model_module_version": "1.0.0",
      "model_name": "LayoutModel",
      "state": {}
     },
     "d6f021010b184fa29be84bc9d9b7153d": {
      "model_module": "@jupyter-widgets/base",
      "model_module_version": "1.0.0",
      "model_name": "LayoutModel",
      "state": {}
     },
     "d7037094a79a4532bb700988643adbaa": {
      "model_module": "@jupyter-widgets/base",
      "model_module_version": "1.0.0",
      "model_name": "LayoutModel",
      "state": {}
     },
     "d71059830ab24c03915c921ab83279e6": {
      "model_module": "@jupyter-widgets/controls",
      "model_module_version": "1.1.0",
      "model_name": "ButtonStyleModel",
      "state": {
       "button_color": "orange"
      }
     },
     "d73ac656c234408293642a472527e31f": {
      "model_module": "@jupyter-widgets/base",
      "model_module_version": "1.0.0",
      "model_name": "LayoutModel",
      "state": {}
     },
     "d73dea79c9ec4531bd205d534b43d202": {
      "model_module": "@jupyter-widgets/base",
      "model_module_version": "1.0.0",
      "model_name": "LayoutModel",
      "state": {}
     },
     "d74e2ce7a86649d582112567ce26cfd2": {
      "model_module": "@jupyter-widgets/controls",
      "model_module_version": "1.1.0",
      "model_name": "DescriptionStyleModel",
      "state": {
       "description_width": ""
      }
     },
     "d766b1802ba948a4aac39e2d8b0a7da9": {
      "model_module": "@jupyter-widgets/controls",
      "model_module_version": "1.1.0",
      "model_name": "BoxModel",
      "state": {
       "children": [
        "IPY_MODEL_a8af41bd0d884c84bf5ad4d6ec633067"
       ],
       "layout": "IPY_MODEL_8818af4869314ec893af70b92f61abdf"
      }
     },
     "d77a537410b748479a43b3c5db3c48e4": {
      "model_module": "@jupyter-widgets/base",
      "model_module_version": "1.0.0",
      "model_name": "LayoutModel",
      "state": {}
     },
     "d85cd7113be3440fbf3f15f5b35f0196": {
      "model_module": "@jupyter-widgets/controls",
      "model_module_version": "1.1.0",
      "model_name": "ButtonModel",
      "state": {
       "description": "PCA!",
       "icon": "check",
       "layout": "IPY_MODEL_428f2571f56b46b7850b08ff19bf5266",
       "style": "IPY_MODEL_1e6b6dee8b0a48e28dbf52e27201e709",
       "tooltip": "Click me"
      }
     },
     "d8891604d5684823a08bae2ee79f2d29": {
      "model_module": "@jupyter-widgets/base",
      "model_module_version": "1.0.0",
      "model_name": "LayoutModel",
      "state": {}
     },
     "d92dccbb55f4405e89b13afbc44daed1": {
      "model_module": "@jupyter-widgets/controls",
      "model_module_version": "1.1.0",
      "model_name": "ButtonModel",
      "state": {
       "description": "PCA!",
       "icon": "check",
       "layout": "IPY_MODEL_507f59a303454a1d9cdbe4c0dc2b2ab4",
       "style": "IPY_MODEL_8631cb320bf64ec9a0d7c874b7b5457e",
       "tooltip": "Click me"
      }
     },
     "d949de49c29a455e8483752ea1f9e34f": {
      "model_module": "@jupyter-widgets/controls",
      "model_module_version": "1.1.0",
      "model_name": "HTMLModel",
      "state": {
       "layout": "IPY_MODEL_84f4c954684847748458ae1996c6426f",
       "placeholder": "",
       "style": "IPY_MODEL_3a54d77a92db466c82eabdc0980d8bca",
       "value": "<b>Click to view Potential Scammers!!<b>"
      }
     },
     "d964727a84ba42adb85e065505f62fac": {
      "model_module": "@jupyter-widgets/controls",
      "model_module_version": "1.1.0",
      "model_name": "ButtonStyleModel",
      "state": {
       "button_color": "green"
      }
     },
     "d98c6bfe8c4d46018ba67ae625b5a6b6": {
      "model_module": "@jupyter-widgets/controls",
      "model_module_version": "1.1.0",
      "model_name": "TextModel",
      "state": {
       "description": "CSV file:",
       "layout": "IPY_MODEL_a250b9b0b948409ba63ad0f6a8c6b998",
       "placeholder": "Name of cleaned csv file",
       "style": "IPY_MODEL_6d95af5dcc714e99afc6b0b653e4df5d"
      }
     },
     "d9a37ea185a54d639995c3f58fbb2f65": {
      "model_module": "@jupyter-widgets/controls",
      "model_module_version": "1.1.0",
      "model_name": "VBoxModel",
      "state": {
       "children": [
        "IPY_MODEL_8f1ccdef41ef48c6bbf02a6c40669928",
        "IPY_MODEL_65b5b2959ffb44e48c6e9d841aa90fda"
       ],
       "layout": "IPY_MODEL_ad039356f5e545f6b57395093ebd7e0d"
      }
     },
     "d9b1744adb05487ca4faa52381132c79": {
      "model_module": "@jupyter-widgets/base",
      "model_module_version": "1.0.0",
      "model_name": "LayoutModel",
      "state": {}
     },
     "d9cc06d522674169806c81b152464211": {
      "model_module": "@jupyter-widgets/base",
      "model_module_version": "1.0.0",
      "model_name": "LayoutModel",
      "state": {}
     },
     "d9d113aad17f450180af4d65e959f5f1": {
      "model_module": "@jupyter-widgets/controls",
      "model_module_version": "1.1.0",
      "model_name": "TextModel",
      "state": {
       "description": "Folder Path:",
       "layout": "IPY_MODEL_3f20bb61786946c48e6ea66326fa5c13",
       "placeholder": "Upload cleaned dataset",
       "style": "IPY_MODEL_5277f61e41cd479fb538eea03744c633"
      }
     },
     "d9f101de1c924e8da99b4c27e8b56625": {
      "model_module": "@jupyter-widgets/base",
      "model_module_version": "1.0.0",
      "model_name": "LayoutModel",
      "state": {}
     },
     "d9f37631a29a4d2ba66cedd99991215d": {
      "model_module": "@jupyter-widgets/base",
      "model_module_version": "1.0.0",
      "model_name": "LayoutModel",
      "state": {}
     },
     "da5d87357f1e49d48ac1a7284fb106c6": {
      "model_module": "@jupyter-widgets/controls",
      "model_module_version": "1.1.0",
      "model_name": "VBoxModel",
      "state": {
       "children": [
        "IPY_MODEL_bc07d51c7bd049b6b214422ef3b7ce70",
        "IPY_MODEL_a56078b5fb524adba1559811a4f8be64"
       ],
       "layout": "IPY_MODEL_b9f92f86ec4347a992164374089033de"
      }
     },
     "dad161cc6adb4ac38310334f465e3176": {
      "model_module": "@jupyter-widgets/base",
      "model_module_version": "1.0.0",
      "model_name": "LayoutModel",
      "state": {}
     },
     "daf762296713474cb782e3c21f4406d4": {
      "model_module": "@jupyter-widgets/base",
      "model_module_version": "1.0.0",
      "model_name": "LayoutModel",
      "state": {}
     },
     "db0490ae9c514233a16eaf5df9736d7b": {
      "model_module": "@jupyter-widgets/base",
      "model_module_version": "1.0.0",
      "model_name": "LayoutModel",
      "state": {}
     },
     "db0a51fc3c92432e8a6dfc49ee7474d0": {
      "model_module": "@jupyter-widgets/controls",
      "model_module_version": "1.1.0",
      "model_name": "HBoxModel",
      "state": {
       "children": [
        "IPY_MODEL_5f28162556e543bd979eecd790330571",
        "IPY_MODEL_3169f2ef82ee4932b442f19efebacf69"
       ],
       "layout": "IPY_MODEL_2dd029e3f9d345d1a0f99532e263d851"
      }
     },
     "db5eaa7a0c66490aa37b63f36ee264c0": {
      "model_module": "@jupyter-widgets/controls",
      "model_module_version": "1.1.0",
      "model_name": "HTMLModel",
      "state": {
       "layout": "IPY_MODEL_756b08578b9f4f7e8a49db76a9b0ac1a",
       "placeholder": "",
       "style": "IPY_MODEL_e2b976a9df4343fc974a7cdb60323845",
       "value": "Apply <b>Data Mining<b> Method!!"
      }
     },
     "dbc92373c2fe4d5fbc1b387dbab91b5f": {
      "model_module": "@jupyter-widgets/base",
      "model_module_version": "1.0.0",
      "model_name": "LayoutModel",
      "state": {}
     },
     "dbd87e67fb2b4933a9e77ec25634ceb6": {
      "model_module": "@jupyter-widgets/base",
      "model_module_version": "1.0.0",
      "model_name": "LayoutModel",
      "state": {}
     },
     "dc2607dc969842e2bbc08bea62add4ec": {
      "model_module": "@jupyter-widgets/controls",
      "model_module_version": "1.1.0",
      "model_name": "HBoxModel",
      "state": {
       "children": [
        "IPY_MODEL_4b41f665491240d7bff7cc98dfd8b49c",
        "IPY_MODEL_a8df6611c3064608b6468816ee57069b",
        "IPY_MODEL_f832d734df284dbf9d3bae6b4675154e"
       ],
       "layout": "IPY_MODEL_69c90ac2b4874106b79ab08c74e914e9"
      }
     },
     "dc4ea464dc0249568ba578d225cac7fc": {
      "model_module": "@jupyter-widgets/base",
      "model_module_version": "1.0.0",
      "model_name": "LayoutModel",
      "state": {}
     },
     "dc7b34f552c6403b985f9e60036448a9": {
      "model_module": "@jupyter-widgets/base",
      "model_module_version": "1.0.0",
      "model_name": "LayoutModel",
      "state": {}
     },
     "dc9904bcbad4484caa39bb78884843c6": {
      "model_module": "@jupyter-widgets/controls",
      "model_module_version": "1.1.0",
      "model_name": "ButtonModel",
      "state": {
       "description": "Help",
       "layout": "IPY_MODEL_1a0cbf84b7a8455d82ebb18859d4f60c",
       "style": "IPY_MODEL_de2d8cca2147406ba8a6d5be1fb564b2"
      }
     },
     "dc9f45431c2e4e908bfbe479ad0f1be2": {
      "model_module": "@jupyter-widgets/controls",
      "model_module_version": "1.1.0",
      "model_name": "ButtonModel",
      "state": {
       "description": "PCA!",
       "icon": "check",
       "layout": "IPY_MODEL_0d9e19a2362f4f16a98a5d9b08c98995",
       "style": "IPY_MODEL_d964727a84ba42adb85e065505f62fac",
       "tooltip": "Click me"
      }
     },
     "dca93d78983446f68afa8c5f8fdd4168": {
      "model_module": "@jupyter-widgets/base",
      "model_module_version": "1.0.0",
      "model_name": "LayoutModel",
      "state": {}
     },
     "dcb0e02e6f524a6d8328af186842efa8": {
      "model_module": "@jupyter-widgets/base",
      "model_module_version": "1.0.0",
      "model_name": "LayoutModel",
      "state": {}
     },
     "dd49c91cfdb94a6a89a185516577131d": {
      "model_module": "@jupyter-widgets/controls",
      "model_module_version": "1.1.0",
      "model_name": "TextModel",
      "state": {
       "description": "Link:",
       "layout": "IPY_MODEL_cd696d7e7c674b9594895515f15ddfc8",
       "placeholder": "Paste your mudah.my link here",
       "style": "IPY_MODEL_16627c7a464546539073d30ac61eaf00"
      }
     },
     "dd4f5d9d8c5f40afb1ee2e4970e4e810": {
      "model_module": "@jupyter-widgets/base",
      "model_module_version": "1.0.0",
      "model_name": "LayoutModel",
      "state": {}
     },
     "dd6068bcfd2b4b309d9546a6bbb8044e": {
      "model_module": "@jupyter-widgets/base",
      "model_module_version": "1.0.0",
      "model_name": "LayoutModel",
      "state": {}
     },
     "dd6f7422a4b34c13b0807ccf7f579c22": {
      "model_module": "@jupyter-widgets/controls",
      "model_module_version": "1.1.0",
      "model_name": "AccordionModel",
      "state": {
       "_titles": {
        "0": "Upload",
        "1": "View"
       },
       "children": [
        "IPY_MODEL_a558090a62fb408ba2bb3225ce9c7cb8",
        "IPY_MODEL_2cbb5b4031204e0a85471ca30b6b00ec"
       ],
       "layout": "IPY_MODEL_608fd62f85404765b13e5fccc1297058",
       "selected_index": null
      }
     },
     "dd8b09bcff94478d83721e9b04272af2": {
      "model_module": "@jupyter-widgets/controls",
      "model_module_version": "1.1.0",
      "model_name": "TextModel",
      "state": {
       "description": "CSV file:",
       "layout": "IPY_MODEL_f6f7e27e303841938ba07494d9fa36c2",
       "placeholder": "Name of cleaned csv file",
       "style": "IPY_MODEL_a70a8ad8c6ea4247a6c4e2956fa17b62"
      }
     },
     "dd9b7f39192447f7881258943d2426a5": {
      "model_module": "@jupyter-widgets/controls",
      "model_module_version": "1.1.0",
      "model_name": "HBoxModel",
      "state": {
       "children": [
        "IPY_MODEL_a20a76dfb9254de087ff93d261eee980",
        "IPY_MODEL_dc9904bcbad4484caa39bb78884843c6",
        "IPY_MODEL_0337c8406c1546f0a65780f937e892c0"
       ],
       "layout": "IPY_MODEL_0383e3f187d94edf8e75f8877b541079"
      }
     },
     "ddb7736d09204ae8b9bf6be194381ca3": {
      "model_module": "@jupyter-widgets/base",
      "model_module_version": "1.0.0",
      "model_name": "LayoutModel",
      "state": {}
     },
     "ddc160e16bc649c1b531c6840b593c47": {
      "model_module": "@jupyter-widgets/controls",
      "model_module_version": "1.1.0",
      "model_name": "DescriptionStyleModel",
      "state": {
       "description_width": ""
      }
     },
     "ddd03c8fa27d44a49f914f15db1a5506": {
      "model_module": "@jupyter-widgets/base",
      "model_module_version": "1.0.0",
      "model_name": "LayoutModel",
      "state": {}
     },
     "de0b18e4d3154bdcbfc4162b9edc2959": {
      "model_module": "@jupyter-widgets/base",
      "model_module_version": "1.0.0",
      "model_name": "LayoutModel",
      "state": {}
     },
     "de2d8cca2147406ba8a6d5be1fb564b2": {
      "model_module": "@jupyter-widgets/controls",
      "model_module_version": "1.1.0",
      "model_name": "ButtonStyleModel",
      "state": {
       "button_color": "lightblue"
      }
     },
     "de534021b022444e9618b2dc8daa390e": {
      "model_module": "@jupyter-widgets/controls",
      "model_module_version": "1.1.0",
      "model_name": "HTMLModel",
      "state": {
       "layout": "IPY_MODEL_e505492fe5574a42813100942783a098",
       "placeholder": "",
       "style": "IPY_MODEL_ddc160e16bc649c1b531c6840b593c47",
       "value": "Beware of <b>SCAMMER</b>, buy from the <b>TRUSTED<b> one"
      }
     },
     "deead19a41aa4c19b4368f27fbe7089f": {
      "model_module": "@jupyter-widgets/controls",
      "model_module_version": "1.1.0",
      "model_name": "ButtonStyleModel",
      "state": {
       "button_color": "red"
      }
     },
     "df067f18ec954517a00b7f402294485a": {
      "model_module": "@jupyter-widgets/controls",
      "model_module_version": "1.1.0",
      "model_name": "ButtonModel",
      "state": {
       "description": "PCA!",
       "icon": "check",
       "layout": "IPY_MODEL_f04570696d864e24a0c38284fa4192dd",
       "style": "IPY_MODEL_7e3d1d4071eb4f728dc92ba8d8470dd8",
       "tooltip": "Click me"
      }
     },
     "df158f705f84454e9255949f44e07973": {
      "model_module": "@jupyter-widgets/base",
      "model_module_version": "1.0.0",
      "model_name": "LayoutModel",
      "state": {}
     },
     "df30a10f658345e7ab8d0723d4cedaf6": {
      "model_module": "@jupyter-widgets/base",
      "model_module_version": "1.0.0",
      "model_name": "LayoutModel",
      "state": {}
     },
     "df33d4e885ee458586d5071ae8f8f300": {
      "model_module": "@jupyter-widgets/base",
      "model_module_version": "1.0.0",
      "model_name": "LayoutModel",
      "state": {}
     },
     "df4b673510ed4f6cac5bf2e7a4f6a5d6": {
      "model_module": "@jupyter-widgets/controls",
      "model_module_version": "1.1.0",
      "model_name": "VBoxModel",
      "state": {
       "children": [
        "IPY_MODEL_db5eaa7a0c66490aa37b63f36ee264c0",
        "IPY_MODEL_17cb28b44aca474f8b49243527ed1be9"
       ],
       "layout": "IPY_MODEL_52b72e357f1e4a7589fd6f542761b646"
      }
     },
     "df7c4d4181914b74a3cd1039cbd5abe0": {
      "model_module": "@jupyter-widgets/base",
      "model_module_version": "1.0.0",
      "model_name": "LayoutModel",
      "state": {}
     },
     "dfd2eed81d744b3ab749d9d0be5532a0": {
      "model_module": "@jupyter-widgets/controls",
      "model_module_version": "1.1.0",
      "model_name": "DescriptionStyleModel",
      "state": {
       "description_width": ""
      }
     },
     "dfd933b9c5234458861e026d4df8ff62": {
      "model_module": "@jupyter-widgets/controls",
      "model_module_version": "1.1.0",
      "model_name": "ButtonModel",
      "state": {
       "description": "Click Me",
       "icon": "check",
       "layout": "IPY_MODEL_5c3e8310a89c4a23978c75c28b633289",
       "style": "IPY_MODEL_7bd8a2be408d4bb7bf2ad594427b6870",
       "tooltip": "Click me"
      }
     },
     "dfdfc25ec755478f9d84275505aef9ee": {
      "model_module": "@jupyter-widgets/base",
      "model_module_version": "1.0.0",
      "model_name": "LayoutModel",
      "state": {}
     },
     "e01aa9663207427f84d1419ceb5087a0": {
      "model_module": "@jupyter-widgets/controls",
      "model_module_version": "1.1.0",
      "model_name": "HTMLModel",
      "state": {
       "description": "Sample Path:",
       "layout": "IPY_MODEL_8ddd2b0250e54823a0ea021eb029fded",
       "placeholder": "",
       "style": "IPY_MODEL_c1b8d181441546f097227084d3877111",
       "value": "<i><b>C:\\Users\\LENOVO\\Documents</b><i>"
      }
     },
     "e05da0f2a0324036ba8a33b53bd97b9c": {
      "model_module": "@jupyter-widgets/controls",
      "model_module_version": "1.1.0",
      "model_name": "ButtonModel",
      "state": {
       "description": "Help",
       "layout": "IPY_MODEL_9dec17bd24054f8cbac6937190ddfd61",
       "style": "IPY_MODEL_b663bfdb3a244fdbaedb87f066d899af"
      }
     },
     "e06dfe1d7987472b92677d6e1a9e0ff0": {
      "model_module": "@jupyter-widgets/base",
      "model_module_version": "1.0.0",
      "model_name": "LayoutModel",
      "state": {}
     },
     "e0ab2be2c6f242e4868bdd6ea2cacf91": {
      "model_module": "@jupyter-widgets/controls",
      "model_module_version": "1.1.0",
      "model_name": "ButtonModel",
      "state": {
       "description": "Help",
       "layout": "IPY_MODEL_0d61514b756449f3a3f9d0f603e1b8f8",
       "style": "IPY_MODEL_9ec6dabc94b74024b5b62b59f219cac9"
      }
     },
     "e0e1691b449c41f696417ad6ce118a9e": {
      "model_module": "@jupyter-widgets/base",
      "model_module_version": "1.0.0",
      "model_name": "LayoutModel",
      "state": {}
     },
     "e151641293de403ea0b93b400dc58233": {
      "model_module": "@jupyter-widgets/controls",
      "model_module_version": "1.1.0",
      "model_name": "VBoxModel",
      "state": {
       "children": [
        "IPY_MODEL_4ce2a7d18c0f497185f95c5cfe07adb8",
        "IPY_MODEL_970f93befb9241e28a9cb794d3590b7f",
        "IPY_MODEL_ce311ad62bf54aac845d5e09241dadbd",
        "IPY_MODEL_bfcafa02d7d7404698cd99cb12f087a0"
       ],
       "layout": "IPY_MODEL_2a8476c49f984b32822aaccefb5ac13b"
      }
     },
     "e1b24232e66d467687e01e3c0aad8d88": {
      "model_module": "@jupyter-widgets/controls",
      "model_module_version": "1.1.0",
      "model_name": "TabModel",
      "state": {
       "_titles": {
        "0": "1. Extaction",
        "1": "2. Data",
        "2": "3. Evaluation"
       },
       "children": [
        "IPY_MODEL_53faedbd1dcc425281549aceabc3443f",
        "IPY_MODEL_0da6203bdffb48909955e4dd9446a8ee",
        "IPY_MODEL_e5f1528be6c744159b0409ee54bb5b1d"
       ],
       "layout": "IPY_MODEL_e3bb8e6c10914452984d17e5316372fd"
      }
     },
     "e1e1d929a00841ec83debade74616966": {
      "model_module": "@jupyter-widgets/base",
      "model_module_version": "1.0.0",
      "model_name": "LayoutModel",
      "state": {}
     },
     "e220d81064f345d28fa8aa6e56e1c8ef": {
      "model_module": "@jupyter-widgets/base",
      "model_module_version": "1.0.0",
      "model_name": "LayoutModel",
      "state": {}
     },
     "e222e6cd72694a0798d3cf6e341d4ad3": {
      "model_module": "@jupyter-widgets/controls",
      "model_module_version": "1.1.0",
      "model_name": "SelectMultipleModel",
      "state": {
       "_options_labels": [
        "Apples",
        "Oranges",
        "Pears"
       ],
       "description": "Fruits",
       "index": [
        1
       ],
       "layout": "IPY_MODEL_09f465edb6214800b95fd051688dad09",
       "rows": 5,
       "style": "IPY_MODEL_282a2334a55d4625aecf7867d1dcfacf"
      }
     },
     "e27ece5d7472465aa16384cb7c4ce29d": {
      "model_module": "@jupyter-widgets/controls",
      "model_module_version": "1.1.0",
      "model_name": "DescriptionStyleModel",
      "state": {
       "description_width": ""
      }
     },
     "e29ef41d57134551b38a93fe1ce4644b": {
      "model_module": "@jupyter-widgets/controls",
      "model_module_version": "1.1.0",
      "model_name": "DescriptionStyleModel",
      "state": {
       "description_width": ""
      }
     },
     "e2b976a9df4343fc974a7cdb60323845": {
      "model_module": "@jupyter-widgets/controls",
      "model_module_version": "1.1.0",
      "model_name": "DescriptionStyleModel",
      "state": {
       "description_width": ""
      }
     },
     "e2c44ebdb5604ba4a170c4c22e6b6e42": {
      "model_module": "@jupyter-widgets/controls",
      "model_module_version": "1.1.0",
      "model_name": "TabModel",
      "state": {
       "_titles": {
        "0": "1. Extaction",
        "1": "2. Data",
        "2": "3. Evaluation"
       },
       "children": [
        "IPY_MODEL_4c474dedac9b4b2c88a8e8cc7578e43a",
        "IPY_MODEL_071ee458b94a45c59a12b475eaf57b5d",
        "IPY_MODEL_36730152050c4b7c987213daecf79499"
       ],
       "layout": "IPY_MODEL_3a30f65675954b44802be3cd28adc441"
      }
     },
     "e2ce0b96425f4fce920de8827302de54": {
      "model_module": "@jupyter-widgets/controls",
      "model_module_version": "1.1.0",
      "model_name": "DescriptionStyleModel",
      "state": {
       "description_width": ""
      }
     },
     "e315c1f390274d9792ccf15750607220": {
      "model_module": "@jupyter-widgets/controls",
      "model_module_version": "1.1.0",
      "model_name": "DescriptionStyleModel",
      "state": {
       "description_width": ""
      }
     },
     "e37d4990d9ad400c952bc2a530f762bb": {
      "model_module": "@jupyter-widgets/base",
      "model_module_version": "1.0.0",
      "model_name": "LayoutModel",
      "state": {}
     },
     "e3a682cdc74e454a8e632a873dce3567": {
      "model_module": "@jupyter-widgets/controls",
      "model_module_version": "1.1.0",
      "model_name": "SelectMultipleModel",
      "state": {
       "_options_labels": [
        "Price",
        "Year",
        "Mileage"
       ],
       "description": "Filter by",
       "index": [
        0
       ],
       "layout": "IPY_MODEL_5c7fdd962e214b46b691b3bdc8f00188",
       "rows": 3,
       "style": "IPY_MODEL_2bf3b0972f4f433abbab2034e271fd9d"
      }
     },
     "e3bb8e6c10914452984d17e5316372fd": {
      "model_module": "@jupyter-widgets/base",
      "model_module_version": "1.0.0",
      "model_name": "LayoutModel",
      "state": {}
     },
     "e3c53de0a6ae4131856a9db0469cd2ed": {
      "model_module": "@jupyter-widgets/controls",
      "model_module_version": "1.1.0",
      "model_name": "DescriptionStyleModel",
      "state": {
       "description_width": ""
      }
     },
     "e3e32ac25b434b4789000b5b77970f4d": {
      "model_module": "@jupyter-widgets/base",
      "model_module_version": "1.0.0",
      "model_name": "LayoutModel",
      "state": {}
     },
     "e42954b004b7468a8fb8bf5184fb717f": {
      "model_module": "@jupyter-widgets/controls",
      "model_module_version": "1.1.0",
      "model_name": "AccordionModel",
      "state": {
       "_titles": {
        "0": "Upload",
        "1": "View"
       },
       "children": [
        "IPY_MODEL_8eecbd5bf78b492dbacc2dbac315a9c1",
        "IPY_MODEL_4fd5949fc65246058a452df3fe0b81d8"
       ],
       "layout": "IPY_MODEL_2da1c1dd0282445289c76c48873c582a"
      }
     },
     "e4313c650e10489eb7a62a4d7308ee27": {
      "model_module": "@jupyter-widgets/base",
      "model_module_version": "1.0.0",
      "model_name": "LayoutModel",
      "state": {}
     },
     "e487e553d7f94e1b9b568936df1b83ee": {
      "model_module": "@jupyter-widgets/controls",
      "model_module_version": "1.1.0",
      "model_name": "ButtonStyleModel",
      "state": {
       "button_color": "red"
      }
     },
     "e49448c873b244e18ca355d1fe382dea": {
      "model_module": "@jupyter-widgets/base",
      "model_module_version": "1.0.0",
      "model_name": "LayoutModel",
      "state": {}
     },
     "e49eb088621d4d18a01f86abc3de0186": {
      "model_module": "@jupyter-widgets/base",
      "model_module_version": "1.0.0",
      "model_name": "LayoutModel",
      "state": {}
     },
     "e4daf710153141f9af5066988a7e3282": {
      "model_module": "@jupyter-widgets/controls",
      "model_module_version": "1.1.0",
      "model_name": "ButtonStyleModel",
      "state": {
       "button_color": "orange"
      }
     },
     "e4ee2762fe924306a20d1a76966c5b78": {
      "model_module": "@jupyter-widgets/controls",
      "model_module_version": "1.1.0",
      "model_name": "TabModel",
      "state": {
       "_titles": {
        "0": "1. Extaction",
        "1": "2. Data",
        "2": "3. Evaluation"
       },
       "children": [
        "IPY_MODEL_53faedbd1dcc425281549aceabc3443f",
        "IPY_MODEL_0da6203bdffb48909955e4dd9446a8ee",
        "IPY_MODEL_1ea55175cd0c4fe79a478408502695cd"
       ],
       "layout": "IPY_MODEL_be91601ba58447b9aef9bc597f941fd4",
       "selected_index": 2
      }
     },
     "e505492fe5574a42813100942783a098": {
      "model_module": "@jupyter-widgets/base",
      "model_module_version": "1.0.0",
      "model_name": "LayoutModel",
      "state": {}
     },
     "e51154120122431cb004772af26b1d95": {
      "model_module": "@jupyter-widgets/controls",
      "model_module_version": "1.1.0",
      "model_name": "HTMLModel",
      "state": {
       "description": "Some HTML",
       "layout": "IPY_MODEL_0833c0aa4ded48b3a6db349c065383b5",
       "placeholder": "Some HTML",
       "style": "IPY_MODEL_a1b027a80cb94f0b801855c3856d59c1",
       "value": "Hello <b>World</b>"
      }
     },
     "e52437327e044d62a98223d3d376524e": {
      "model_module": "@jupyter-widgets/controls",
      "model_module_version": "1.1.0",
      "model_name": "HTMLModel",
      "state": {
       "layout": "IPY_MODEL_57b85c6ef36b4f2999b7baf6cb119935",
       "placeholder": "",
       "style": "IPY_MODEL_52e0c3f9a37b4fd5821621f3b855e758",
       "value": "<b>Scammer Detector</b>"
      }
     },
     "e5461ed1fedb42138aba8e9421614fc3": {
      "model_module": "@jupyter-widgets/controls",
      "model_module_version": "1.1.0",
      "model_name": "AccordionModel",
      "state": {
       "_titles": {
        "0": "Method",
        "1": "Analysis",
        "2": "Result"
       },
       "children": [
        "IPY_MODEL_ca5ecf810bf34db98d61e7a8fe0b6b80",
        "IPY_MODEL_d9a37ea185a54d639995c3f58fbb2f65",
        "IPY_MODEL_cd0cfb0dbed44ae0b8927e111effa39d"
       ],
       "layout": "IPY_MODEL_8de17cabfba44da4bc742a27113961a1",
       "selected_index": 1
      }
     },
     "e551b072c6dc4ed3b1a5d772664ae339": {
      "model_module": "@jupyter-widgets/controls",
      "model_module_version": "1.1.0",
      "model_name": "DropdownModel",
      "state": {
       "_options_labels": [
        "-",
        "5",
        "6",
        "7",
        "8",
        "9",
        "10"
       ],
       "description": "Head:",
       "index": 0,
       "layout": "IPY_MODEL_d6ecbf657be94cb896bf841a17d21d5c",
       "style": "IPY_MODEL_080019426bc140f7ac24b7b86145bde6"
      }
     },
     "e581ccc594c84264a4f3aff5d36be706": {
      "model_module": "@jupyter-widgets/base",
      "model_module_version": "1.0.0",
      "model_name": "LayoutModel",
      "state": {}
     },
     "e5a4d346b3e747499de19f302dd6c454": {
      "model_module": "@jupyter-widgets/controls",
      "model_module_version": "1.1.0",
      "model_name": "HTMLModel",
      "state": {
       "layout": "IPY_MODEL_3c2dbbcbd8a34e159803170f886874b9",
       "placeholder": "",
       "style": "IPY_MODEL_81d0ae1c156b4fb3b952d9bae5035ae6",
       "value": "<b>Scammer Detector</b>"
      }
     },
     "e5f1528be6c744159b0409ee54bb5b1d": {
      "model_module": "@jupyter-widgets/controls",
      "model_module_version": "1.1.0",
      "model_name": "AccordionModel",
      "state": {
       "_titles": {
        "0": "Method",
        "1": "Analysis",
        "2": "Result"
       },
       "children": [
        "IPY_MODEL_6ece7fe3d07c44508192f84261b89f2f",
        "IPY_MODEL_9d14581473ed43188b89a62019692aab",
        "IPY_MODEL_763affa9d0db47f09c94b6fff2b4e40f"
       ],
       "layout": "IPY_MODEL_dc4ea464dc0249568ba578d225cac7fc"
      }
     },
     "e5f27b0bbf8d4527a5dc0c268a6ae486": {
      "model_module": "@jupyter-widgets/controls",
      "model_module_version": "1.1.0",
      "model_name": "TextModel",
      "state": {
       "description": "Link:",
       "layout": "IPY_MODEL_19c580ec9e364aeb89d22b5f793cd39b",
       "placeholder": "Paste your mudah.my link here",
       "style": "IPY_MODEL_2c493d03c1d944e3bbac425221a9a49f"
      }
     },
     "e632bfda6f454887b03fa2883a84b4fc": {
      "model_module": "@jupyter-widgets/controls",
      "model_module_version": "1.1.0",
      "model_name": "DescriptionStyleModel",
      "state": {
       "description_width": ""
      }
     },
     "e63c4c80926641eb998cd675f3070588": {
      "model_module": "@jupyter-widgets/controls",
      "model_module_version": "1.1.0",
      "model_name": "HTMLModel",
      "state": {
       "layout": "IPY_MODEL_f4c2d4b0dfa2412091b9441b66acd6ee",
       "placeholder": "",
       "style": "IPY_MODEL_b54f6a99ee86436391ec49bbbf606cbd",
       "value": "<b>Scammer Detector</b>"
      }
     },
     "e64c0607a8e7422993cc7e5b32842d2f": {
      "model_module": "@jupyter-widgets/base",
      "model_module_version": "1.0.0",
      "model_name": "LayoutModel",
      "state": {}
     },
     "e655357e180c4973ba299d22816f4648": {
      "model_module": "@jupyter-widgets/controls",
      "model_module_version": "1.1.0",
      "model_name": "SelectMultipleModel",
      "state": {
       "_options_labels": [
        "Apples",
        "Oranges",
        "Pears"
       ],
       "description": "Fruits",
       "index": [
        1
       ],
       "layout": "IPY_MODEL_656640e192554550860cd60bfc5fc3b8",
       "rows": 5,
       "style": "IPY_MODEL_cb5ac99c20ec4b5aa428c7655d278fd9"
      }
     },
     "e6609b3a74804c1199ef7bff9051168a": {
      "model_module": "@jupyter-widgets/base",
      "model_module_version": "1.0.0",
      "model_name": "LayoutModel",
      "state": {}
     },
     "e66f59ad8efe4d5cbe6169cff9318aaf": {
      "model_module": "@jupyter-widgets/controls",
      "model_module_version": "1.1.0",
      "model_name": "TextModel",
      "state": {
       "description": "Folder Path:",
       "layout": "IPY_MODEL_76bc8578377546659e6c9024b76f1808",
       "placeholder": "Save Scraped Dataset",
       "style": "IPY_MODEL_d48590502e8149d6986da19798842f86"
      }
     },
     "e6bfb93c3e5e43b994f543800e84c430": {
      "model_module": "@jupyter-widgets/controls",
      "model_module_version": "1.1.0",
      "model_name": "DescriptionStyleModel",
      "state": {
       "description_width": ""
      }
     },
     "e6d95bfc2e404d38aee25efea9f8f7b3": {
      "model_module": "@jupyter-widgets/base",
      "model_module_version": "1.0.0",
      "model_name": "LayoutModel",
      "state": {}
     },
     "e6de7fbefef74c63a909f6b15114aec7": {
      "model_module": "@jupyter-widgets/controls",
      "model_module_version": "1.1.0",
      "model_name": "AccordionModel",
      "state": {
       "_titles": {
        "0": "Source",
        "1": "Save",
        "2": "Scrap"
       },
       "children": [
        "IPY_MODEL_4e2b59ccd0c947d584c70e03f8f02771",
        "IPY_MODEL_0e26bed75d0c418eb910d7df7b9b35a2",
        "IPY_MODEL_2c7ceb88e02448e6a2fcf42397682470"
       ],
       "layout": "IPY_MODEL_c37734a9bb66430b8d523c6304ef5563",
       "selected_index": 1
      }
     },
     "e6ecf4d7cbcc4517988a66b6cd92819c": {
      "model_module": "@jupyter-widgets/base",
      "model_module_version": "1.0.0",
      "model_name": "LayoutModel",
      "state": {}
     },
     "e718f68ac4754c93b95d093ac4e91e3a": {
      "model_module": "@jupyter-widgets/controls",
      "model_module_version": "1.1.0",
      "model_name": "TextModel",
      "state": {
       "description": "CSV file:",
       "layout": "IPY_MODEL_9b84b453ee0544c1a64d28fd88a67b75",
       "placeholder": "Name your scrap csv file",
       "style": "IPY_MODEL_24e77c448d57443ea17a534f8817d44e"
      }
     },
     "e750ffd28f224ce6b06c5ee7121bdfd1": {
      "model_module": "@jupyter-widgets/base",
      "model_module_version": "1.0.0",
      "model_name": "LayoutModel",
      "state": {}
     },
     "e75543073948403f945850184d41a787": {
      "model_module": "@jupyter-widgets/controls",
      "model_module_version": "1.1.0",
      "model_name": "AccordionModel",
      "state": {
       "_titles": {
        "0": "Method",
        "1": "Analysis",
        "2": "Result"
       },
       "children": [
        "IPY_MODEL_26fc0c1de9484a939adf1d8ef2d5e3ce",
        "IPY_MODEL_a5093d86daf64949b4b527d046f99541",
        "IPY_MODEL_fd6b7fb415484919a8d0ea2941f7afcd"
       ],
       "layout": "IPY_MODEL_2981bdbd01f5464e8166c440ac45d67f",
       "selected_index": 2
      }
     },
     "e767bb4486b149b3a8c4721029779486": {
      "model_module": "@jupyter-widgets/controls",
      "model_module_version": "1.1.0",
      "model_name": "HTMLModel",
      "state": {
       "description": "Sample CSV:",
       "layout": "IPY_MODEL_2765c150d91845ddb7cb2fe9fd3c481c",
       "placeholder": "",
       "style": "IPY_MODEL_6234813ad6d9426d9550736b1b919854",
       "value": "<i><b>kereta</b><i>"
      }
     },
     "e7e72a269222441fa6864627de76b54b": {
      "model_module": "@jupyter-widgets/controls",
      "model_module_version": "1.1.0",
      "model_name": "DescriptionStyleModel",
      "state": {
       "description_width": ""
      }
     },
     "e8079ce22d81405e8b573fe4d9bc340c": {
      "model_module": "@jupyter-widgets/base",
      "model_module_version": "1.0.0",
      "model_name": "LayoutModel",
      "state": {}
     },
     "e83c2becff8c4814afd182982100d002": {
      "model_module": "@jupyter-widgets/controls",
      "model_module_version": "1.1.0",
      "model_name": "HBoxModel",
      "state": {
       "children": [
        "IPY_MODEL_75287c3b79b34ebbbd3be6cba1675ba5",
        "IPY_MODEL_1434001ed198435db47980dc0df40c2b",
        "IPY_MODEL_c9cc336e049a4d4086cfd32125b8f751"
       ],
       "layout": "IPY_MODEL_34a8b587a9c543219b83c8b78e68b3c9"
      }
     },
     "e8b377e3305e40c99e3f1b3cd53274b6": {
      "model_module": "@jupyter-widgets/controls",
      "model_module_version": "1.1.0",
      "model_name": "HTMLModel",
      "state": {
       "layout": "IPY_MODEL_f64c9a1052d54417942b3c77d11469de",
       "placeholder": "",
       "style": "IPY_MODEL_8cd8e9b82fa74fa4b29be97755541af0",
       "value": "<b>Scammer Detector<b>"
      }
     },
     "e8c20ae6b79840cd80ef5c22a002a054": {
      "model_module": "@jupyter-widgets/controls",
      "model_module_version": "1.1.0",
      "model_name": "DescriptionStyleModel",
      "state": {
       "description_width": ""
      }
     },
     "e8ce6b397b1a4516b68b58cecda43905": {
      "model_module": "@jupyter-widgets/controls",
      "model_module_version": "1.1.0",
      "model_name": "DescriptionStyleModel",
      "state": {
       "description_width": ""
      }
     },
     "e8f643b5e84b4805a08b4ab12d1e9d23": {
      "model_module": "@jupyter-widgets/controls",
      "model_module_version": "1.1.0",
      "model_name": "HTMLModel",
      "state": {
       "layout": "IPY_MODEL_f1d833efef024ac282ddee6c3cbdfde5",
       "placeholder": "",
       "style": "IPY_MODEL_6fbe9c4761d54078ba291e138b64fb6c",
       "value": "Apply <b>Data Mining<b> Method!!"
      }
     },
     "e929a9b7c44a4190ab5545ad20a2f199": {
      "model_module": "@jupyter-widgets/controls",
      "model_module_version": "1.1.0",
      "model_name": "TextModel",
      "state": {
       "description": "Folder Path:",
       "layout": "IPY_MODEL_2697f4eb8c6047788122effaab4348f6",
       "placeholder": "Upload cleaned dataset",
       "style": "IPY_MODEL_6ce624cf6cfa46ca9d2a7e12f36b2406"
      }
     },
     "e92cb9ad856544c1886aaa1bb34ee0d6": {
      "model_module": "@jupyter-widgets/controls",
      "model_module_version": "1.1.0",
      "model_name": "DescriptionStyleModel",
      "state": {
       "description_width": ""
      }
     },
     "e942c843fd2a4b06bfb96d23fed2e00f": {
      "model_module": "@jupyter-widgets/base",
      "model_module_version": "1.0.0",
      "model_name": "LayoutModel",
      "state": {}
     },
     "e955422a5fbc4096a68eb111efdcbfda": {
      "model_module": "@jupyter-widgets/controls",
      "model_module_version": "1.1.0",
      "model_name": "DropdownModel",
      "state": {
       "_options_labels": [
        "-",
        "5",
        "6",
        "7",
        "8",
        "9",
        "10"
       ],
       "description": "Random:",
       "index": 0,
       "layout": "IPY_MODEL_daf762296713474cb782e3c21f4406d4",
       "style": "IPY_MODEL_d271a74565c04cdeb80cf6d10d301224"
      }
     },
     "e97fb55c1ca642188de68e08f99c9ae5": {
      "model_module": "@jupyter-widgets/controls",
      "model_module_version": "1.1.0",
      "model_name": "HTMLModel",
      "state": {
       "layout": "IPY_MODEL_61df298746224ec6900b3f0f4aa24d74",
       "placeholder": "",
       "style": "IPY_MODEL_073c56d14c50478bb893e9577f119b60",
       "value": "<b>Choose to view and compare by attributes<b>"
      }
     },
     "e9843a215694483cbec45cd700c452ee": {
      "model_module": "@jupyter-widgets/base",
      "model_module_version": "1.0.0",
      "model_name": "LayoutModel",
      "state": {}
     },
     "e9f7551bd7d94ebd8b522cfe39dd75dd": {
      "model_module": "@jupyter-widgets/base",
      "model_module_version": "1.0.0",
      "model_name": "LayoutModel",
      "state": {}
     },
     "ea23db6acb1f44a58ac57828aa825178": {
      "model_module": "@jupyter-widgets/base",
      "model_module_version": "1.0.0",
      "model_name": "LayoutModel",
      "state": {}
     },
     "ea61e8a6e5734c2aa164c68b1a5c0c27": {
      "model_module": "@jupyter-widgets/controls",
      "model_module_version": "1.1.0",
      "model_name": "DescriptionStyleModel",
      "state": {
       "description_width": ""
      }
     },
     "ea7f015faa344128b799c328e06ccc85": {
      "model_module": "@jupyter-widgets/controls",
      "model_module_version": "1.1.0",
      "model_name": "DescriptionStyleModel",
      "state": {
       "description_width": ""
      }
     },
     "eadd9737089643eca113f66e6e04869a": {
      "model_module": "@jupyter-widgets/controls",
      "model_module_version": "1.1.0",
      "model_name": "HTMLModel",
      "state": {
       "description": "Sample Path:",
       "layout": "IPY_MODEL_202d749657524f8ab4c18d6fb115f936",
       "placeholder": "",
       "style": "IPY_MODEL_8b70299e2e874efb9eb29ff1ca7ec117",
       "value": "<i><b>C:\\Users\\LENOVO\\Documents</b><i>"
      }
     },
     "eadebdb5911344328504ea327029b529": {
      "model_module": "@jupyter-widgets/base",
      "model_module_version": "1.0.0",
      "model_name": "LayoutModel",
      "state": {}
     },
     "eaeddeec14064ccf83aa38b80714f333": {
      "model_module": "@jupyter-widgets/controls",
      "model_module_version": "1.1.0",
      "model_name": "DescriptionStyleModel",
      "state": {
       "description_width": ""
      }
     },
     "eaf02c94cddf43488b97d9121db4753f": {
      "model_module": "@jupyter-widgets/base",
      "model_module_version": "1.0.0",
      "model_name": "LayoutModel",
      "state": {}
     },
     "eaf87e9fcfa4450d95dc751d636b6e09": {
      "model_module": "@jupyter-widgets/controls",
      "model_module_version": "1.1.0",
      "model_name": "ButtonStyleModel",
      "state": {}
     },
     "eaf8d28096384f6c8d5c3efc42bddb22": {
      "model_module": "@jupyter-widgets/base",
      "model_module_version": "1.0.0",
      "model_name": "LayoutModel",
      "state": {}
     },
     "eb1693c7b5f34c6497ecdbd64967b6cb": {
      "model_module": "@jupyter-widgets/controls",
      "model_module_version": "1.1.0",
      "model_name": "ButtonModel",
      "state": {
       "description": "Help",
       "layout": "IPY_MODEL_297105f258ad4cf7a6b15a7989804665",
       "style": "IPY_MODEL_44429b50b3f84e718746a384aa51ac0f"
      }
     },
     "eb20257c798a48eca3a80e69d258ca3c": {
      "model_module": "@jupyter-widgets/controls",
      "model_module_version": "1.1.0",
      "model_name": "HBoxModel",
      "state": {
       "children": [
        "IPY_MODEL_4b41f665491240d7bff7cc98dfd8b49c",
        "IPY_MODEL_a8df6611c3064608b6468816ee57069b",
        "IPY_MODEL_f832d734df284dbf9d3bae6b4675154e"
       ],
       "layout": "IPY_MODEL_0cada8e23c074ee3a974cf0cc7bc4d02"
      }
     },
     "eb32d3513b40477fbc077243cb81f470": {
      "model_module": "@jupyter-widgets/controls",
      "model_module_version": "1.1.0",
      "model_name": "HTMLModel",
      "state": {
       "layout": "IPY_MODEL_9093bbc4608d482eb86349ec109c7906",
       "placeholder": "",
       "style": "IPY_MODEL_3596160be2ca474c8d2cf2eb8310da68",
       "value": "<b>Choose how to view your data</b>"
      }
     },
     "eb517722935541c2b5374f3df108e975": {
      "model_module": "@jupyter-widgets/controls",
      "model_module_version": "1.1.0",
      "model_name": "VBoxModel",
      "state": {
       "children": [
        "IPY_MODEL_40665e10b81c41ee8f71187baf2e3315",
        "IPY_MODEL_1254efcc32ca484dadb555c803692b12"
       ],
       "layout": "IPY_MODEL_cdaf1e030ae04444b048e936f27c61c8"
      }
     },
     "eb5c4e2d21454caf85f56a335b818345": {
      "model_module": "@jupyter-widgets/controls",
      "model_module_version": "1.1.0",
      "model_name": "VBoxModel",
      "state": {
       "children": [
        "IPY_MODEL_b35eb12214874da0b529fa1f4978bfce",
        "IPY_MODEL_e3a682cdc74e454a8e632a873dce3567"
       ],
       "layout": "IPY_MODEL_eea8bae60af4403e9f6519b25fec9d6f"
      }
     },
     "eb64524e7bf94efa8be09d39348130d2": {
      "model_module": "@jupyter-widgets/base",
      "model_module_version": "1.0.0",
      "model_name": "LayoutModel",
      "state": {}
     },
     "eb7224388b2d453ca498c0a51e6cb72b": {
      "model_module": "@jupyter-widgets/controls",
      "model_module_version": "1.1.0",
      "model_name": "ButtonStyleModel",
      "state": {}
     },
     "ec14d9096a4f4a7484ffd5751ea53aff": {
      "model_module": "@jupyter-widgets/base",
      "model_module_version": "1.0.0",
      "model_name": "LayoutModel",
      "state": {}
     },
     "ec1d211044904184acf39bd535b44d54": {
      "model_module": "@jupyter-widgets/controls",
      "model_module_version": "1.1.0",
      "model_name": "HBoxModel",
      "state": {
       "children": [
        "IPY_MODEL_fc32d82cc4ba495d95fa291255dc2024",
        "IPY_MODEL_3f3a9cdf4d714e188e9306ff234e361c"
       ],
       "layout": "IPY_MODEL_48805c4c9366412f9d34903b2ae6111d"
      }
     },
     "ec2190ae20ea4a1eb6511a360bd3c59d": {
      "model_module": "@jupyter-widgets/controls",
      "model_module_version": "1.1.0",
      "model_name": "DescriptionStyleModel",
      "state": {
       "description_width": ""
      }
     },
     "ec415747ab7f4909ab6ebbf1df132197": {
      "model_module": "@jupyter-widgets/base",
      "model_module_version": "1.0.0",
      "model_name": "LayoutModel",
      "state": {}
     },
     "ec72898a58a64c9caacde57daab4386c": {
      "model_module": "@jupyter-widgets/controls",
      "model_module_version": "1.1.0",
      "model_name": "TabModel",
      "state": {
       "_titles": {
        "0": "1. Extaction",
        "1": "2. Data",
        "2": "3. Evaluation"
       },
       "children": [
        "IPY_MODEL_3457b6ca085f466488aa51be1b678d2a",
        "IPY_MODEL_28241c07c4b349b8aa330990766b359f",
        "IPY_MODEL_3be67767fb4e43e1b579af0795defe74"
       ],
       "layout": "IPY_MODEL_513f3646500a478f90096c497c5c7727",
       "selected_index": 2
      }
     },
     "ec884e7bc15b47349f61ee5af41429a4": {
      "model_module": "@jupyter-widgets/controls",
      "model_module_version": "1.1.0",
      "model_name": "ButtonModel",
      "state": {
       "description": "Help",
       "layout": "IPY_MODEL_7619bdbba54e40aeb5158501f4bb191a",
       "style": "IPY_MODEL_c2864a26440f44b8827740395f15de51"
      }
     },
     "ec8ffe1d6fb848f5ad25a154522deb5f": {
      "model_module": "@jupyter-widgets/base",
      "model_module_version": "1.0.0",
      "model_name": "LayoutModel",
      "state": {}
     },
     "eca60ededb14473cbd1e37bb5f1ff250": {
      "model_module": "@jupyter-widgets/base",
      "model_module_version": "1.0.0",
      "model_name": "LayoutModel",
      "state": {}
     },
     "ecae7b1833434580a9b4ac790ad2f0e6": {
      "model_module": "@jupyter-widgets/controls",
      "model_module_version": "1.1.0",
      "model_name": "ButtonModel",
      "state": {
       "description": "Click Me",
       "icon": "check",
       "layout": "IPY_MODEL_c2e486cb043d422fba34cae7a7367fdb",
       "style": "IPY_MODEL_e487e553d7f94e1b9b568936df1b83ee",
       "tooltip": "Click me"
      }
     },
     "ed290e66c6654befbd46c1202a36791d": {
      "model_module": "@jupyter-widgets/controls",
      "model_module_version": "1.1.0",
      "model_name": "VBoxModel",
      "state": {
       "children": [
        "IPY_MODEL_bc07d51c7bd049b6b214422ef3b7ce70",
        "IPY_MODEL_a56078b5fb524adba1559811a4f8be64"
       ],
       "layout": "IPY_MODEL_b4de0c4539d04725a69a5a45ca891d65"
      }
     },
     "ed3db36fd2564522b1326cbf816462a8": {
      "model_module": "@jupyter-widgets/controls",
      "model_module_version": "1.1.0",
      "model_name": "HTMLModel",
      "state": {
       "layout": "IPY_MODEL_09c1aef034ff4767b98a14c473d001c4",
       "placeholder": "",
       "style": "IPY_MODEL_55d3790ce9cc4d76b550739ee72156d4",
       "value": "<b>Scammer Detector</b>"
      }
     },
     "ed4f99848eb64ac7b6eacc5d02a5c89d": {
      "model_module": "@jupyter-widgets/base",
      "model_module_version": "1.0.0",
      "model_name": "LayoutModel",
      "state": {}
     },
     "ed6be43a1bfd4cbea52b46ca566dfa8e": {
      "model_module": "@jupyter-widgets/controls",
      "model_module_version": "1.1.0",
      "model_name": "DescriptionStyleModel",
      "state": {
       "description_width": ""
      }
     },
     "edbc31a4529f40b8903fdccd53db74eb": {
      "model_module": "@jupyter-widgets/base",
      "model_module_version": "1.0.0",
      "model_name": "LayoutModel",
      "state": {}
     },
     "ede6491b817848d0894cc26f13b37447": {
      "model_module": "@jupyter-widgets/controls",
      "model_module_version": "1.1.0",
      "model_name": "TextModel",
      "state": {
       "description": "Folder Path:",
       "layout": "IPY_MODEL_072535dc361c4ff484567a11c87fb1ee",
       "placeholder": "Save Scraped Dataset",
       "style": "IPY_MODEL_c0cae2dca48648d78f04c87a81e603e4"
      }
     },
     "ee003447177442d9bc7aa6589e9f2c69": {
      "model_module": "@jupyter-widgets/controls",
      "model_module_version": "1.1.0",
      "model_name": "DescriptionStyleModel",
      "state": {
       "description_width": ""
      }
     },
     "ee0f9143b1cd42b5849a28c316c75556": {
      "model_module": "@jupyter-widgets/controls",
      "model_module_version": "1.1.0",
      "model_name": "ButtonStyleModel",
      "state": {}
     },
     "ee2b7feb894f4ce3b45f4a239ede122b": {
      "model_module": "@jupyter-widgets/base",
      "model_module_version": "1.0.0",
      "model_name": "LayoutModel",
      "state": {}
     },
     "ee2c76f90f5947fdbaafe7195ac3ed29": {
      "model_module": "@jupyter-widgets/controls",
      "model_module_version": "1.1.0",
      "model_name": "ButtonStyleModel",
      "state": {
       "button_color": "orange"
      }
     },
     "ee4cdbfba38e4623ab63a672778861b9": {
      "model_module": "@jupyter-widgets/controls",
      "model_module_version": "1.1.0",
      "model_name": "AccordionModel",
      "state": {
       "_titles": {
        "0": "Source",
        "1": "Save",
        "2": "Scrap"
       },
       "children": [
        "IPY_MODEL_4e2b59ccd0c947d584c70e03f8f02771",
        "IPY_MODEL_2fc025f7400a46398ba857478599df51",
        "IPY_MODEL_18b2dbdd338b4d23bfdff93633479890"
       ],
       "layout": "IPY_MODEL_dbd87e67fb2b4933a9e77ec25634ceb6",
       "selected_index": 1
      }
     },
     "ee4e9f5ebc2e4c558e318e2c999b0776": {
      "model_module": "@jupyter-widgets/controls",
      "model_module_version": "1.1.0",
      "model_name": "ImageModel",
      "state": {
       "height": "250",
       "layout": "IPY_MODEL_dd4f5d9d8c5f40afb1ee2e4970e4e810",
       "value": {},
       "width": "200"
      }
     },
     "ee6b1e1681da4e9f96a15508ab22a40d": {
      "model_module": "@jupyter-widgets/controls",
      "model_module_version": "1.1.0",
      "model_name": "TextModel",
      "state": {
       "description": "CSV file:",
       "layout": "IPY_MODEL_8ed9e2c2bdb64dbfa8697561bacb5f3c",
       "placeholder": "Name of cleaned csv file",
       "style": "IPY_MODEL_05586a907a3e4937a3bdb6d8edcc7c2c"
      }
     },
     "ee6e1244090247d9b5278fcd535526d8": {
      "model_module": "@jupyter-widgets/controls",
      "model_module_version": "1.1.0",
      "model_name": "ButtonModel",
      "state": {
       "description": "PCA!",
       "icon": "check",
       "layout": "IPY_MODEL_bd60008baaec4ab4a79fe871e57a5d80",
       "style": "IPY_MODEL_5d0c51d54fd040ffb291a39169cb8e00",
       "tooltip": "Click me"
      }
     },
     "eea8bae60af4403e9f6519b25fec9d6f": {
      "model_module": "@jupyter-widgets/base",
      "model_module_version": "1.0.0",
      "model_name": "LayoutModel",
      "state": {}
     },
     "ef17d008745b426e9cb7e161814b0912": {
      "model_module": "@jupyter-widgets/controls",
      "model_module_version": "1.1.0",
      "model_name": "ButtonModel",
      "state": {
       "description": "Scrap Me",
       "layout": "IPY_MODEL_f7e0ea87d7bb46ec8c12e0858acacfba",
       "style": "IPY_MODEL_b539b75593784c3abad56cd0ce0f1c69"
      }
     },
     "ef3909a61f474f0987d84d19fd65e4b7": {
      "model_module": "@jupyter-widgets/controls",
      "model_module_version": "1.1.0",
      "model_name": "BoxModel",
      "state": {
       "children": [
        "IPY_MODEL_21047df8bb4f4d80b1088559f4dd3100"
       ],
       "layout": "IPY_MODEL_07f25f1c37914dbaa486b0ec9848873d"
      }
     },
     "ef43085abecd452386f3246a67b32b43": {
      "model_module": "@jupyter-widgets/base",
      "model_module_version": "1.0.0",
      "model_name": "LayoutModel",
      "state": {}
     },
     "efa6bae0f60a482abca8007d0039fd2e": {
      "model_module": "@jupyter-widgets/base",
      "model_module_version": "1.0.0",
      "model_name": "LayoutModel",
      "state": {}
     },
     "eff78c3e02f14f25aade52e2de3160f6": {
      "model_module": "@jupyter-widgets/controls",
      "model_module_version": "1.1.0",
      "model_name": "DescriptionStyleModel",
      "state": {
       "description_width": ""
      }
     },
     "f04570696d864e24a0c38284fa4192dd": {
      "model_module": "@jupyter-widgets/base",
      "model_module_version": "1.0.0",
      "model_name": "LayoutModel",
      "state": {}
     },
     "f04a4bb703f8419c9b4160920042c28d": {
      "model_module": "@jupyter-widgets/controls",
      "model_module_version": "1.1.0",
      "model_name": "DescriptionStyleModel",
      "state": {
       "description_width": ""
      }
     },
     "f0703dcad54c4b83a104e4e22fe9094d": {
      "model_module": "@jupyter-widgets/base",
      "model_module_version": "1.0.0",
      "model_name": "LayoutModel",
      "state": {}
     },
     "f09eb6e2eedb4805a68c349cc4b4f48a": {
      "model_module": "@jupyter-widgets/controls",
      "model_module_version": "1.1.0",
      "model_name": "ButtonStyleModel",
      "state": {
       "button_color": "yellow"
      }
     },
     "f0cd74729d1446a7af8427af52f68c10": {
      "model_module": "@jupyter-widgets/controls",
      "model_module_version": "1.1.0",
      "model_name": "DescriptionStyleModel",
      "state": {
       "description_width": ""
      }
     },
     "f0e7f876d6de48c887e28e12aca33e72": {
      "model_module": "@jupyter-widgets/controls",
      "model_module_version": "1.1.0",
      "model_name": "ButtonModel",
      "state": {
       "description": "Scrap Me",
       "layout": "IPY_MODEL_98f7529d31154cfc8477634278914428",
       "style": "IPY_MODEL_a60b50459d2a44d8951bb37c457a4a8d"
      }
     },
     "f0eed62c1e014b3c89f152a33f889df3": {
      "model_module": "@jupyter-widgets/base",
      "model_module_version": "1.0.0",
      "model_name": "LayoutModel",
      "state": {}
     },
     "f0f4d30339af4f93a09f88b384b602ad": {
      "model_module": "@jupyter-widgets/controls",
      "model_module_version": "1.1.0",
      "model_name": "HTMLModel",
      "state": {
       "layout": "IPY_MODEL_5fc903f81dff43ea9ad23e10ab2fb322",
       "placeholder": "",
       "style": "IPY_MODEL_5a8fb430da09436ba046cddbc4297740",
       "value": "<b>Choose to view and compare by attributes<b>"
      }
     },
     "f10f9f15ae1a4ffab128939743775ecf": {
      "model_module": "@jupyter-widgets/controls",
      "model_module_version": "1.1.0",
      "model_name": "ButtonStyleModel",
      "state": {
       "button_color": "orange"
      }
     },
     "f1115519689f45a2bdf161febc5a9684": {
      "model_module": "@jupyter-widgets/base",
      "model_module_version": "1.0.0",
      "model_name": "LayoutModel",
      "state": {}
     },
     "f143c31dbfa0462586073d124eb45078": {
      "model_module": "@jupyter-widgets/base",
      "model_module_version": "1.0.0",
      "model_name": "LayoutModel",
      "state": {}
     },
     "f163571036e44f758e147b5adffe374e": {
      "model_module": "@jupyter-widgets/base",
      "model_module_version": "1.0.0",
      "model_name": "LayoutModel",
      "state": {}
     },
     "f1879dd84baf4931844c45c075dfa4ee": {
      "model_module": "@jupyter-widgets/controls",
      "model_module_version": "1.1.0",
      "model_name": "DescriptionStyleModel",
      "state": {
       "description_width": ""
      }
     },
     "f196b839cf764f64a658b14c2d221f5c": {
      "model_module": "@jupyter-widgets/base",
      "model_module_version": "1.0.0",
      "model_name": "LayoutModel",
      "state": {}
     },
     "f1a703fe34ad493187ec6bbb4d1ba4b8": {
      "model_module": "@jupyter-widgets/base",
      "model_module_version": "1.0.0",
      "model_name": "LayoutModel",
      "state": {}
     },
     "f1c3adbfb39c4a2b818f28db648781a9": {
      "model_module": "@jupyter-widgets/base",
      "model_module_version": "1.0.0",
      "model_name": "LayoutModel",
      "state": {}
     },
     "f1cc9a5a7f804e1e998068180c3d69c9": {
      "model_module": "@jupyter-widgets/base",
      "model_module_version": "1.0.0",
      "model_name": "LayoutModel",
      "state": {}
     },
     "f1d81af51c544a7b82d65ed69ea80c96": {
      "model_module": "@jupyter-widgets/base",
      "model_module_version": "1.0.0",
      "model_name": "LayoutModel",
      "state": {}
     },
     "f1d833efef024ac282ddee6c3cbdfde5": {
      "model_module": "@jupyter-widgets/base",
      "model_module_version": "1.0.0",
      "model_name": "LayoutModel",
      "state": {}
     },
     "f1d9407bef4a47aeadb178bc3562c597": {
      "model_module": "@jupyter-widgets/base",
      "model_module_version": "1.0.0",
      "model_name": "LayoutModel",
      "state": {}
     },
     "f1fc599329e542c09b7de3ee6f89f41d": {
      "model_module": "@jupyter-widgets/base",
      "model_module_version": "1.0.0",
      "model_name": "LayoutModel",
      "state": {}
     },
     "f21debc35e1c4768bb606d31d2487d06": {
      "model_module": "@jupyter-widgets/controls",
      "model_module_version": "1.1.0",
      "model_name": "AccordionModel",
      "state": {
       "_titles": {
        "0": "Scrap"
       },
       "children": [
        "IPY_MODEL_40850d171ab54173ae730dc62865ae21"
       ],
       "layout": "IPY_MODEL_c6aafe73952e4b8aaca0a0094be33821"
      }
     },
     "f225e0cf3512455dbab56844e14d007d": {
      "model_module": "@jupyter-widgets/controls",
      "model_module_version": "1.1.0",
      "model_name": "DescriptionStyleModel",
      "state": {
       "description_width": ""
      }
     },
     "f2461ff1740e4f489b2d7cdc03885fa3": {
      "model_module": "@jupyter-widgets/base",
      "model_module_version": "1.0.0",
      "model_name": "LayoutModel",
      "state": {}
     },
     "f260f990f4c14374ae65ccfc5373b324": {
      "model_module": "@jupyter-widgets/controls",
      "model_module_version": "1.1.0",
      "model_name": "DescriptionStyleModel",
      "state": {
       "description_width": ""
      }
     },
     "f26cd9c8f82d4c54af39031b398e52e0": {
      "model_module": "@jupyter-widgets/controls",
      "model_module_version": "1.1.0",
      "model_name": "TextModel",
      "state": {
       "description": "Folder Path:",
       "layout": "IPY_MODEL_58cad3aee84a4e008d13e97e8aea8e70",
       "placeholder": "Paste folder path to load dataset",
       "style": "IPY_MODEL_24c8e7cc727340c59108088e145cee00"
      }
     },
     "f28b88b4f70b494a9f276ee398b3374a": {
      "model_module": "@jupyter-widgets/base",
      "model_module_version": "1.0.0",
      "model_name": "LayoutModel",
      "state": {}
     },
     "f2a9cffdd6ed4e13b30bbc80cb6534ba": {
      "model_module": "@jupyter-widgets/controls",
      "model_module_version": "1.1.0",
      "model_name": "ButtonModel",
      "state": {
       "description": "Scrap Me",
       "layout": "IPY_MODEL_54074b4c8d9a4d2199ddb9ae364b073c",
       "style": "IPY_MODEL_97801fd6946f4be082121649b85bab4b"
      }
     },
     "f2b1af11251547c1b930eac9631c97b5": {
      "model_module": "@jupyter-widgets/base",
      "model_module_version": "1.0.0",
      "model_name": "LayoutModel",
      "state": {}
     },
     "f30175727e2e417ab7cd93c96a6e39e2": {
      "model_module": "@jupyter-widgets/controls",
      "model_module_version": "1.1.0",
      "model_name": "DescriptionStyleModel",
      "state": {
       "description_width": ""
      }
     },
     "f30231d6dae64ac1b10ec90c3ea794be": {
      "model_module": "@jupyter-widgets/controls",
      "model_module_version": "1.1.0",
      "model_name": "ButtonModel",
      "state": {
       "description": "PCA!",
       "icon": "check",
       "layout": "IPY_MODEL_9c114ff6106b430385b3beb53058617a",
       "style": "IPY_MODEL_3c9df8c12ad44b70a962dae6cf3e5168",
       "tooltip": "Click me"
      }
     },
     "f31d7ead7b3446b586dfbd85d9b7d71f": {
      "model_module": "@jupyter-widgets/base",
      "model_module_version": "1.0.0",
      "model_name": "LayoutModel",
      "state": {}
     },
     "f34e271c72524878bfa79144e1a12fc6": {
      "model_module": "@jupyter-widgets/controls",
      "model_module_version": "1.1.0",
      "model_name": "DescriptionStyleModel",
      "state": {
       "description_width": ""
      }
     },
     "f36330070d06419483c93f3b1d14f544": {
      "model_module": "@jupyter-widgets/base",
      "model_module_version": "1.0.0",
      "model_name": "LayoutModel",
      "state": {}
     },
     "f3743121217f41508f07463fb1b23087": {
      "model_module": "@jupyter-widgets/base",
      "model_module_version": "1.0.0",
      "model_name": "LayoutModel",
      "state": {}
     },
     "f395de224c974250bc85eca8142acd2d": {
      "model_module": "@jupyter-widgets/controls",
      "model_module_version": "1.1.0",
      "model_name": "DescriptionStyleModel",
      "state": {
       "description_width": ""
      }
     },
     "f3b05a2bd5784272a1c671f6a9d7cf47": {
      "model_module": "@jupyter-widgets/controls",
      "model_module_version": "1.1.0",
      "model_name": "ButtonModel",
      "state": {
       "description": "PCA!",
       "icon": "check",
       "layout": "IPY_MODEL_c4130d3c04164f4b94d2e416173de5f7",
       "style": "IPY_MODEL_a380388bb4ae412a841b08bfc1564153",
       "tooltip": "Click me"
      }
     },
     "f3e256df2a9048be8e5045049c85af1d": {
      "model_module": "@jupyter-widgets/controls",
      "model_module_version": "1.1.0",
      "model_name": "VBoxModel",
      "state": {
       "children": [
        "IPY_MODEL_823f006e17cc4828af49aaf5b365f0d9",
        "IPY_MODEL_a19472d2bf1c4ed781871ef76a20a01f"
       ],
       "layout": "IPY_MODEL_3743246cf322407b88abc63a1c34f0c6"
      }
     },
     "f4043f4230b64bc981573c394078188f": {
      "model_module": "@jupyter-widgets/base",
      "model_module_version": "1.0.0",
      "model_name": "LayoutModel",
      "state": {}
     },
     "f464a66e0395489ab9d1e1a36ffa0bb5": {
      "model_module": "@jupyter-widgets/base",
      "model_module_version": "1.0.0",
      "model_name": "LayoutModel",
      "state": {}
     },
     "f475302fe1f84cb1b3abba00b2e24bf5": {
      "model_module": "@jupyter-widgets/controls",
      "model_module_version": "1.1.0",
      "model_name": "VBoxModel",
      "state": {
       "children": [
        "IPY_MODEL_f0e7f876d6de48c887e28e12aca33e72",
        "IPY_MODEL_9e6b2fb55acd4f4684c4f41d150fda76"
       ],
       "layout": "IPY_MODEL_0e966ef4552842b2af53069ad3f5c90c"
      }
     },
     "f490d86c593a43188f95bf49e721f5a5": {
      "model_module": "@jupyter-widgets/controls",
      "model_module_version": "1.1.0",
      "model_name": "DescriptionStyleModel",
      "state": {
       "description_width": ""
      }
     },
     "f4b16dd260cf4a688580fab0f91b6bbb": {
      "model_module": "@jupyter-widgets/controls",
      "model_module_version": "1.1.0",
      "model_name": "VBoxModel",
      "state": {
       "children": [
        "IPY_MODEL_34d9c9d70a1c466e8163e265eb384a5c",
        "IPY_MODEL_06764c74d0fc4d9bb74f6786e6297cb6"
       ],
       "layout": "IPY_MODEL_ca8d351ae662469c909ed3421eeac550"
      }
     },
     "f4bcad481eaa4393991f4eb0e90b715e": {
      "model_module": "@jupyter-widgets/controls",
      "model_module_version": "1.1.0",
      "model_name": "HTMLModel",
      "state": {
       "layout": "IPY_MODEL_4a7dda581bc3407b97d8f32dcf14ca98",
       "placeholder": "",
       "style": "IPY_MODEL_0d6890c0b47c40d198e6b7b8e2b912d3",
       "value": "<b>Choose how to view your data</b>"
      }
     },
     "f4c07a8cd81849bab95235e8d9cf6312": {
      "model_module": "@jupyter-widgets/base",
      "model_module_version": "1.0.0",
      "model_name": "LayoutModel",
      "state": {}
     },
     "f4c2d4b0dfa2412091b9441b66acd6ee": {
      "model_module": "@jupyter-widgets/base",
      "model_module_version": "1.0.0",
      "model_name": "LayoutModel",
      "state": {}
     },
     "f4e1155336644e23bf2e4ec271c3409c": {
      "model_module": "@jupyter-widgets/controls",
      "model_module_version": "1.1.0",
      "model_name": "ButtonModel",
      "state": {
       "description": "Boxplot",
       "icon": "check",
       "layout": "IPY_MODEL_8f970e952ebb436689867a958d80edd7",
       "style": "IPY_MODEL_cd0b523a9e9c40e299d54e8360ba050f",
       "tooltip": "Click me"
      }
     },
     "f4ef6924a22040a69eda67c1a2ea031b": {
      "model_module": "@jupyter-widgets/base",
      "model_module_version": "1.0.0",
      "model_name": "LayoutModel",
      "state": {}
     },
     "f572f44dfd0f42eebfc4bceb2b58a114": {
      "model_module": "@jupyter-widgets/controls",
      "model_module_version": "1.1.0",
      "model_name": "DescriptionStyleModel",
      "state": {
       "description_width": ""
      }
     },
     "f601581343994d9b92c7de1d2d9e1202": {
      "model_module": "@jupyter-widgets/base",
      "model_module_version": "1.0.0",
      "model_name": "LayoutModel",
      "state": {}
     },
     "f608019651f6449997e5d65214986203": {
      "model_module": "@jupyter-widgets/controls",
      "model_module_version": "1.1.0",
      "model_name": "HBoxModel",
      "state": {
       "children": [
        "IPY_MODEL_a92e654c7f604f5fa2b9a3427f87dfa9",
        "IPY_MODEL_b4b755197fb34e70981d120c690d7275",
        "IPY_MODEL_276e6632f752496d87bdad40dcbc3bbd"
       ],
       "layout": "IPY_MODEL_30d9dc5d7acc43a49f1e3dbd00d6d82e"
      }
     },
     "f64c9a1052d54417942b3c77d11469de": {
      "model_module": "@jupyter-widgets/base",
      "model_module_version": "1.0.0",
      "model_name": "LayoutModel",
      "state": {}
     },
     "f66a485ca04e401fbeafe55fb080aec6": {
      "model_module": "@jupyter-widgets/base",
      "model_module_version": "1.0.0",
      "model_name": "LayoutModel",
      "state": {}
     },
     "f6788611c2ad43718aad19ae39da45f8": {
      "model_module": "@jupyter-widgets/controls",
      "model_module_version": "1.1.0",
      "model_name": "ButtonModel",
      "state": {
       "description": "Scrap Me",
       "layout": "IPY_MODEL_bf1ab0cdad1a44988ac4af2def44a1d4",
       "style": "IPY_MODEL_03d21083838a4bb0a1470090404918e9"
      }
     },
     "f69a42dc34704225b935caf5b9594a07": {
      "model_module": "@jupyter-widgets/controls",
      "model_module_version": "1.1.0",
      "model_name": "AccordionModel",
      "state": {
       "_titles": {
        "0": "Method",
        "1": "Analysis",
        "2": "Result"
       },
       "children": [
        "IPY_MODEL_a018cb45601c4dbc83663a8be2396e28",
        "IPY_MODEL_88031e77dd994353b04f77bf42357df0",
        "IPY_MODEL_55e715f737304f018be24ed55baacff8"
       ],
       "layout": "IPY_MODEL_cd42d9b421784b18a4c4517a874f7511"
      }
     },
     "f69fc1bec7174f8682e85036660d089b": {
      "model_module": "@jupyter-widgets/controls",
      "model_module_version": "1.1.0",
      "model_name": "VBoxModel",
      "state": {
       "children": [
        "IPY_MODEL_31368ab133314513af074d788abc47c1",
        "IPY_MODEL_81c741b7df4545b7b02aa778648df3f4"
       ],
       "layout": "IPY_MODEL_0765a01b743142d79cbcae96c66d28d0"
      }
     },
     "f6c1614bb9e44d73b0f047bc496d42b1": {
      "model_module": "@jupyter-widgets/controls",
      "model_module_version": "1.1.0",
      "model_name": "TextModel",
      "state": {
       "description": "Folder Path:",
       "layout": "IPY_MODEL_06041eb9085d46ab81192dec43eeb9f1",
       "placeholder": "Upload cleaned dataset",
       "style": "IPY_MODEL_cf957438c7424c688c848bfdd8b192af"
      }
     },
     "f6cae69f30794a948e3610f643671eb2": {
      "model_module": "@jupyter-widgets/base",
      "model_module_version": "1.0.0",
      "model_name": "LayoutModel",
      "state": {}
     },
     "f6f7e27e303841938ba07494d9fa36c2": {
      "model_module": "@jupyter-widgets/base",
      "model_module_version": "1.0.0",
      "model_name": "LayoutModel",
      "state": {}
     },
     "f75131090c6c420bb5f05b5384a54224": {
      "model_module": "@jupyter-widgets/controls",
      "model_module_version": "1.1.0",
      "model_name": "DescriptionStyleModel",
      "state": {
       "description_width": ""
      }
     },
     "f78821cde68742da82c031497c08585c": {
      "model_module": "@jupyter-widgets/controls",
      "model_module_version": "1.1.0",
      "model_name": "TextModel",
      "state": {
       "description": "Folder Path:",
       "layout": "IPY_MODEL_c8c6534e59c64cf09645a3011f3de6fe",
       "placeholder": "Upload cleaned dataset",
       "style": "IPY_MODEL_ca5412db67fb4b089c840f6f21961271"
      }
     },
     "f7a80fefb8ef4dfba303da2a753ebab9": {
      "model_module": "@jupyter-widgets/controls",
      "model_module_version": "1.1.0",
      "model_name": "HTMLModel",
      "state": {
       "description": "Sample Link:",
       "layout": "IPY_MODEL_5cb85540dbce4808bb1e93db3aded854",
       "placeholder": "",
       "style": "IPY_MODEL_c9cfba9dd4174caeba848ba83ce49010",
       "value": "<i><b>https://www.mudah.my/malaysia/cars-for-sale?o=1&q=&th=1</b><i>"
      }
     },
     "f7b185b1bc1942768e29d411c1b9281b": {
      "model_module": "@jupyter-widgets/base",
      "model_module_version": "1.0.0",
      "model_name": "LayoutModel",
      "state": {}
     },
     "f7b58be567d94c78867287dea4d99cd9": {
      "model_module": "@jupyter-widgets/controls",
      "model_module_version": "1.1.0",
      "model_name": "HBoxModel",
      "state": {
       "children": [
        "IPY_MODEL_377c02a87f604dc5915e5e20db8be8b3",
        "IPY_MODEL_189bfc24a3cb42e5a23629439dc99157"
       ],
       "layout": "IPY_MODEL_2563b3e87ff34683bf76b02abece03c7"
      }
     },
     "f7dbf369e2814d8b94085551bd3f3d1f": {
      "model_module": "@jupyter-widgets/controls",
      "model_module_version": "1.1.0",
      "model_name": "HBoxModel",
      "state": {
       "children": [
        "IPY_MODEL_ee4e9f5ebc2e4c558e318e2c999b0776",
        "IPY_MODEL_a8df6611c3064608b6468816ee57069b",
        "IPY_MODEL_f832d734df284dbf9d3bae6b4675154e"
       ],
       "layout": "IPY_MODEL_cfda696e1da849c7ad2b5d16a9f3a06d"
      }
     },
     "f7e0ea87d7bb46ec8c12e0858acacfba": {
      "model_module": "@jupyter-widgets/base",
      "model_module_version": "1.0.0",
      "model_name": "LayoutModel",
      "state": {}
     },
     "f7e686c0d7f247d68795e173791e03b7": {
      "model_module": "@jupyter-widgets/base",
      "model_module_version": "1.0.0",
      "model_name": "LayoutModel",
      "state": {}
     },
     "f7f008b462ae43ee8461a6b131a3138a": {
      "model_module": "@jupyter-widgets/controls",
      "model_module_version": "1.1.0",
      "model_name": "VBoxModel",
      "state": {
       "children": [
        "IPY_MODEL_9db576467d3e4c9fb6cf3fb158a77457",
        "IPY_MODEL_e929a9b7c44a4190ab5545ad20a2f199",
        "IPY_MODEL_bf654ff5548e49ecada934627a1ac8b4",
        "IPY_MODEL_dd8b09bcff94478d83721e9b04272af2"
       ],
       "layout": "IPY_MODEL_cc7c640f6c7e47c991cdf66f57a866aa"
      }
     },
     "f8029f4eb07e47ef9f17cd984c7f6d54": {
      "model_module": "@jupyter-widgets/base",
      "model_module_version": "1.0.0",
      "model_name": "LayoutModel",
      "state": {}
     },
     "f832d734df284dbf9d3bae6b4675154e": {
      "model_module": "@jupyter-widgets/controls",
      "model_module_version": "1.1.0",
      "model_name": "ButtonModel",
      "state": {
       "description": "About Us",
       "layout": "IPY_MODEL_efa6bae0f60a482abca8007d0039fd2e",
       "style": "IPY_MODEL_fab9752636ef4a1b9b1e50eafe472056"
      }
     },
     "f85ba48888c247e5801502d64aa266dc": {
      "model_module": "@jupyter-widgets/controls",
      "model_module_version": "1.1.0",
      "model_name": "VBoxModel",
      "state": {
       "children": [
        "IPY_MODEL_f0e7f876d6de48c887e28e12aca33e72",
        "IPY_MODEL_9e6b2fb55acd4f4684c4f41d150fda76"
       ],
       "layout": "IPY_MODEL_f1fc599329e542c09b7de3ee6f89f41d"
      }
     },
     "f86795a7642b48478f999c952a561451": {
      "model_module": "@jupyter-widgets/controls",
      "model_module_version": "1.1.0",
      "model_name": "DescriptionStyleModel",
      "state": {
       "description_width": ""
      }
     },
     "f86e44498b9e4751935e5d003a40c9e1": {
      "model_module": "@jupyter-widgets/base",
      "model_module_version": "1.0.0",
      "model_name": "LayoutModel",
      "state": {}
     },
     "f8aeb875926c4facb8aaa0fa4152351a": {
      "model_module": "@jupyter-widgets/controls",
      "model_module_version": "1.1.0",
      "model_name": "HTMLModel",
      "state": {
       "description": "Sample CSV:",
       "layout": "IPY_MODEL_8924a79eefe749779dacba834154dd26",
       "placeholder": "",
       "style": "IPY_MODEL_f04a4bb703f8419c9b4160920042c28d",
       "value": "<i><b>kereta</b><i>"
      }
     },
     "f91d568c99cf4654a7eaab04d7053ccf": {
      "model_module": "@jupyter-widgets/base",
      "model_module_version": "1.0.0",
      "model_name": "LayoutModel",
      "state": {}
     },
     "f93445bd74fe4ab1a9da77052a9d96ff": {
      "model_module": "@jupyter-widgets/base",
      "model_module_version": "1.0.0",
      "model_name": "LayoutModel",
      "state": {}
     },
     "f957f50faa70484e9f4c21b93182a3eb": {
      "model_module": "@jupyter-widgets/controls",
      "model_module_version": "1.1.0",
      "model_name": "HTMLModel",
      "state": {
       "layout": "IPY_MODEL_d0660bcad6784a98b7725932b5e2e001",
       "placeholder": "",
       "style": "IPY_MODEL_447f04bdba0d4eebb3b53ae772300ed4",
       "value": "Apply <b>Data Mining<b> Method!!"
      }
     },
     "f96682b78602466f83d573ae8d37047e": {
      "model_module": "@jupyter-widgets/controls",
      "model_module_version": "1.1.0",
      "model_name": "AccordionModel",
      "state": {
       "_titles": {
        "0": "Method",
        "1": "Analysis",
        "2": "Result"
       },
       "children": [
        "IPY_MODEL_c21afa1d2aa74bb0ab7666ca1ee5a5aa",
        "IPY_MODEL_908f776206db443bbbd17906bd21079a",
        "IPY_MODEL_77a051b1b7ff40efab0ce9a05cfd6345"
       ],
       "layout": "IPY_MODEL_c30e50e0b5b2403c9b8c3502f438da6f",
       "selected_index": null
      }
     },
     "f9ef741163674fba86161cc3d52e2479": {
      "model_module": "@jupyter-widgets/base",
      "model_module_version": "1.0.0",
      "model_name": "LayoutModel",
      "state": {}
     },
     "fa21bd1ea0454a4e9bc9973b23741ae4": {
      "model_module": "@jupyter-widgets/output",
      "model_module_version": "1.0.0",
      "model_name": "OutputModel",
      "state": {
       "layout": "IPY_MODEL_3b94b31c322a4ce1ac1c59ad8d2492bd"
      }
     },
     "fa5d8641fa354a1f8a309d0921fc139a": {
      "model_module": "@jupyter-widgets/controls",
      "model_module_version": "1.1.0",
      "model_name": "DescriptionStyleModel",
      "state": {
       "description_width": ""
      }
     },
     "fa67e536e28c4a23be7662f95e68f9d9": {
      "model_module": "@jupyter-widgets/controls",
      "model_module_version": "1.1.0",
      "model_name": "HTMLModel",
      "state": {
       "description": "Sample:",
       "layout": "IPY_MODEL_8e62db69dc3b4f289cf2752d60482f4c",
       "placeholder": "",
       "style": "IPY_MODEL_704959aeeb97493bb2e3ec2bffb70d98",
       "value": "<i><b>kereta</b><i>"
      }
     },
     "fa6fece613d240d1ac61a00d262b16c2": {
      "model_module": "@jupyter-widgets/controls",
      "model_module_version": "1.1.0",
      "model_name": "DescriptionStyleModel",
      "state": {
       "description_width": ""
      }
     },
     "fa7cf810cd4c4e0db4ef2ad7ac0141a2": {
      "model_module": "@jupyter-widgets/controls",
      "model_module_version": "1.1.0",
      "model_name": "HTMLModel",
      "state": {
       "description": "Sample CSV filename:",
       "layout": "IPY_MODEL_7836d71b12464ea2a83d08d217713dcb",
       "placeholder": "",
       "style": "IPY_MODEL_e27ece5d7472465aa16384cb7c4ce29d",
       "value": "<i><b>kereta</b><i>"
      }
     },
     "fa9f9a1877a64090aaf776fa7e938d78": {
      "model_module": "@jupyter-widgets/controls",
      "model_module_version": "1.1.0",
      "model_name": "TabModel",
      "state": {
       "_titles": {
        "0": "Extaction",
        "1": "Data"
       },
       "children": [
        "IPY_MODEL_ee4cdbfba38e4623ab63a672778861b9",
        "IPY_MODEL_661ab29ede1945cf8af898be1eed654e"
       ],
       "layout": "IPY_MODEL_be9144e4480d4342b40d8aeb5064bf53",
       "selected_index": 1
      }
     },
     "fab9752636ef4a1b9b1e50eafe472056": {
      "model_module": "@jupyter-widgets/controls",
      "model_module_version": "1.1.0",
      "model_name": "ButtonStyleModel",
      "state": {
       "button_color": "lightblue"
      }
     },
     "faeafe9a84924f26ae2f5889ebc53778": {
      "model_module": "@jupyter-widgets/base",
      "model_module_version": "1.0.0",
      "model_name": "LayoutModel",
      "state": {}
     },
     "faf850037c834624a2c23eaa500fa8a8": {
      "model_module": "@jupyter-widgets/controls",
      "model_module_version": "1.1.0",
      "model_name": "ButtonStyleModel",
      "state": {}
     },
     "fb1a031b7b9c4c48bba6e2049c9813e2": {
      "model_module": "@jupyter-widgets/controls",
      "model_module_version": "1.1.0",
      "model_name": "ButtonStyleModel",
      "state": {
       "button_color": "lightblue"
      }
     },
     "fb325d29d305405aadb15c9c620194dc": {
      "model_module": "@jupyter-widgets/base",
      "model_module_version": "1.0.0",
      "model_name": "LayoutModel",
      "state": {}
     },
     "fb385d32db7841c4bebfecd1f4a665c2": {
      "model_module": "@jupyter-widgets/controls",
      "model_module_version": "1.1.0",
      "model_name": "VBoxModel",
      "state": {
       "children": [
        "IPY_MODEL_8d177eee05dc478f92c66698d8612381",
        "IPY_MODEL_bc07d51c7bd049b6b214422ef3b7ce70",
        "IPY_MODEL_e767bb4486b149b3a8c4721029779486",
        "IPY_MODEL_a56078b5fb524adba1559811a4f8be64"
       ],
       "layout": "IPY_MODEL_378b14c3eca846dcac50623783da0326"
      }
     },
     "fb3b541217f344dd867b2a234f4bd1b9": {
      "model_module": "@jupyter-widgets/base",
      "model_module_version": "1.0.0",
      "model_name": "LayoutModel",
      "state": {}
     },
     "fb5274d393ea40a88f1d0e070093d40a": {
      "model_module": "@jupyter-widgets/controls",
      "model_module_version": "1.1.0",
      "model_name": "DescriptionStyleModel",
      "state": {
       "description_width": ""
      }
     },
     "fbc017d8918b46f9b1b726bcf8ac0a4a": {
      "model_module": "@jupyter-widgets/base",
      "model_module_version": "1.0.0",
      "model_name": "LayoutModel",
      "state": {}
     },
     "fc1bb578c25f491cbcb68541b1ef230f": {
      "model_module": "@jupyter-widgets/base",
      "model_module_version": "1.0.0",
      "model_name": "LayoutModel",
      "state": {}
     },
     "fc1e7c997c12448d936f0dacc5166473": {
      "model_module": "@jupyter-widgets/controls",
      "model_module_version": "1.1.0",
      "model_name": "AccordionModel",
      "state": {
       "_titles": {
        "0": "Method"
       },
       "children": [
        "IPY_MODEL_d59575575d2e4784924a4b0e43c62e3d"
       ],
       "layout": "IPY_MODEL_8afb69e5f6054d4da2e80b52df9bf94b",
       "selected_index": null
      }
     },
     "fc32d82cc4ba495d95fa291255dc2024": {
      "model_module": "@jupyter-widgets/controls",
      "model_module_version": "1.1.0",
      "model_name": "ButtonModel",
      "state": {
       "description": "Boxplot",
       "icon": "check",
       "layout": "IPY_MODEL_b2ef681a3194455b993f4a3000745eac",
       "style": "IPY_MODEL_517c69f7c6674ee7ab0c9cf93a6b5c04",
       "tooltip": "Click me"
      }
     },
     "fc525f00bd7349f7ab25439e427102c6": {
      "model_module": "@jupyter-widgets/controls",
      "model_module_version": "1.1.0",
      "model_name": "AccordionModel",
      "state": {
       "_titles": {
        "0": "Source",
        "1": "Save",
        "2": "Scrap"
       },
       "children": [
        "IPY_MODEL_bbe6e5f0d003414191693cad46aabe3f",
        "IPY_MODEL_2367675f42aa4336ae210ab5d0fc0724",
        "IPY_MODEL_a218bd58ad774cf5be216dc8e558af62"
       ],
       "layout": "IPY_MODEL_f0eed62c1e014b3c89f152a33f889df3",
       "selected_index": null
      }
     },
     "fc7d973d232f4b4b873d7fd8daab6412": {
      "model_module": "@jupyter-widgets/controls",
      "model_module_version": "1.1.0",
      "model_name": "DescriptionStyleModel",
      "state": {
       "description_width": ""
      }
     },
     "fc9e8660ec7d437da2ef932eff251a97": {
      "model_module": "@jupyter-widgets/base",
      "model_module_version": "1.0.0",
      "model_name": "LayoutModel",
      "state": {}
     },
     "fcbc15c9df1641d49974f44e67371bc2": {
      "model_module": "@jupyter-widgets/base",
      "model_module_version": "1.0.0",
      "model_name": "LayoutModel",
      "state": {}
     },
     "fd6b144b8dc1467593c1e6169a798e39": {
      "model_module": "@jupyter-widgets/controls",
      "model_module_version": "1.1.0",
      "model_name": "VBoxModel",
      "state": {
       "children": [
        "IPY_MODEL_e8f643b5e84b4805a08b4ab12d1e9d23",
        "IPY_MODEL_d85cd7113be3440fbf3f15f5b35f0196"
       ],
       "layout": "IPY_MODEL_e6ecf4d7cbcc4517988a66b6cd92819c"
      }
     },
     "fd6b7fb415484919a8d0ea2941f7afcd": {
      "model_module": "@jupyter-widgets/controls",
      "model_module_version": "1.1.0",
      "model_name": "VBoxModel",
      "state": {
       "children": [
        "IPY_MODEL_0a6c567344ea480ba364f853d3bdc0e1",
        "IPY_MODEL_ba7c47c0b22c4c87b57d0025331faa46"
       ],
       "layout": "IPY_MODEL_d1c2c5cd563c4ae1961ac3dab9f2b26f"
      }
     },
     "fd98570206a4411a9ffa867285962310": {
      "model_module": "@jupyter-widgets/controls",
      "model_module_version": "1.1.0",
      "model_name": "ButtonModel",
      "state": {
       "description": "PCA!",
       "icon": "check",
       "layout": "IPY_MODEL_293f02317c3143dc96b66fc0b66259d5",
       "style": "IPY_MODEL_1e95daab28ce4d1ba0009edc95d36b16",
       "tooltip": "Click me"
      }
     },
     "fd9e765964ff491ebf30cebc38f53cd0": {
      "model_module": "@jupyter-widgets/controls",
      "model_module_version": "1.1.0",
      "model_name": "DescriptionStyleModel",
      "state": {
       "description_width": ""
      }
     },
     "fdd0a0df2e434538a3ec207ed3b291db": {
      "model_module": "@jupyter-widgets/base",
      "model_module_version": "1.0.0",
      "model_name": "LayoutModel",
      "state": {}
     },
     "fdeaee2d50654c399b7fd66e9c83743e": {
      "model_module": "@jupyter-widgets/base",
      "model_module_version": "1.0.0",
      "model_name": "LayoutModel",
      "state": {}
     },
     "fe3ba6266ef648beb6a8c526a9490158": {
      "model_module": "@jupyter-widgets/controls",
      "model_module_version": "1.1.0",
      "model_name": "AccordionModel",
      "state": {
       "_titles": {
        "0": "Source",
        "1": "Save",
        "2": "Scrap"
       },
       "children": [
        "IPY_MODEL_afcc3ea7f0134ec8840550508f25ff00",
        "IPY_MODEL_8ebeede552c349998883a5a760ab788c",
        "IPY_MODEL_c3abd926c22d4650b10176b18369befd"
       ],
       "layout": "IPY_MODEL_408bd90e53634282b7d357012670e7f1",
       "selected_index": null
      }
     },
     "fe52ab5aaaeb43eb8c06857075740661": {
      "model_module": "@jupyter-widgets/base",
      "model_module_version": "1.0.0",
      "model_name": "LayoutModel",
      "state": {}
     },
     "fe6a81a00ef84074977eeb0ce3482b5e": {
      "model_module": "@jupyter-widgets/controls",
      "model_module_version": "1.1.0",
      "model_name": "ButtonModel",
      "state": {
       "description": "Scrap Me",
       "layout": "IPY_MODEL_db0490ae9c514233a16eaf5df9736d7b",
       "style": "IPY_MODEL_ae3929f71b3a48b699108d46ceea52f5"
      }
     },
     "febe6096e404405e8f1141184df62a65": {
      "model_module": "@jupyter-widgets/controls",
      "model_module_version": "1.1.0",
      "model_name": "ImageModel",
      "state": {
       "height": "100",
       "layout": "IPY_MODEL_6a93493afd57405a9ec5695967decfec",
       "value": {},
       "width": "100"
      }
     },
     "fef375eb12ca4bc7b3aab36e755f5c62": {
      "model_module": "@jupyter-widgets/controls",
      "model_module_version": "1.1.0",
      "model_name": "DescriptionStyleModel",
      "state": {
       "description_width": ""
      }
     },
     "ff179a189f214a658085a0c4b312c801": {
      "model_module": "@jupyter-widgets/controls",
      "model_module_version": "1.1.0",
      "model_name": "ButtonModel",
      "state": {
       "description": "About Us",
       "layout": "IPY_MODEL_8d2db062f7164e82846ecc56dd135569",
       "style": "IPY_MODEL_cea7213fb3074535ba9d89d83594e803"
      }
     },
     "ff6010c52bc44d27b99c80d0f068ae57": {
      "model_module": "@jupyter-widgets/base",
      "model_module_version": "1.0.0",
      "model_name": "LayoutModel",
      "state": {}
     },
     "ff615ced92f3493c8a8a2795523f7c06": {
      "model_module": "@jupyter-widgets/controls",
      "model_module_version": "1.1.0",
      "model_name": "HBoxModel",
      "state": {
       "children": [
        "IPY_MODEL_cd7fcceeac8e457c9130d336993bc94a",
        "IPY_MODEL_4eed7e2b35d14498bea2677c24b1defa",
        "IPY_MODEL_81a1d24e817e4c4fa2853c7cb3f2cabc"
       ],
       "layout": "IPY_MODEL_2c2a8bb3b87d4c119c9041c697db8ad0"
      }
     },
     "ff6499bae858429ab9d6b37ef2a159fd": {
      "model_module": "@jupyter-widgets/base",
      "model_module_version": "1.0.0",
      "model_name": "LayoutModel",
      "state": {}
     },
     "ff70dc736f4744dd806b077ed5a897b4": {
      "model_module": "@jupyter-widgets/base",
      "model_module_version": "1.0.0",
      "model_name": "LayoutModel",
      "state": {}
     },
     "ff72073238884fe1ba3668f3d23433b0": {
      "model_module": "@jupyter-widgets/base",
      "model_module_version": "1.0.0",
      "model_name": "LayoutModel",
      "state": {}
     },
     "ffa9383df0114466b88807a9e29d9595": {
      "model_module": "@jupyter-widgets/base",
      "model_module_version": "1.0.0",
      "model_name": "LayoutModel",
      "state": {}
     },
     "ffc2c6d04c9d4bb096dec88a40778447": {
      "model_module": "@jupyter-widgets/controls",
      "model_module_version": "1.1.0",
      "model_name": "DescriptionStyleModel",
      "state": {
       "description_width": ""
      }
     },
     "ffd357582ba041d4a6f291e157128c30": {
      "model_module": "@jupyter-widgets/controls",
      "model_module_version": "1.1.0",
      "model_name": "ToggleButtonsStyleModel",
      "state": {
       "button_width": "",
       "description_width": ""
      }
     },
     "ffead06096f6492a8dfd599422fee0bf": {
      "model_module": "@jupyter-widgets/controls",
      "model_module_version": "1.1.0",
      "model_name": "ToggleButtonsStyleModel",
      "state": {
       "button_width": "",
       "description_width": ""
      }
     }
    },
    "version_major": 2,
    "version_minor": 0
   }
  }
 },
 "nbformat": 4,
 "nbformat_minor": 2
}
